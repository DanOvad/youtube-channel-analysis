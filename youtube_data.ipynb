{
 "cells": [
  {
   "cell_type": "code",
   "execution_count": null,
   "metadata": {},
   "outputs": [],
   "source": [
    "import requests\n",
    "import json\n",
    "\n",
    "import pandas as pd\n",
    "\n",
    "# api_key is stored in config.py\n",
    "import config"
   ]
  },
  {
   "cell_type": "code",
   "execution_count": null,
   "metadata": {},
   "outputs": [],
   "source": [
    "# Search for channels by a specific query\n",
    "def request_youtube_search(query):\n",
    "    '''Search for channels'''\n",
    "    # Create request object\n",
    "    resp = requests.get(\n",
    "        'https://www.googleapis.com/youtube/v3/search',\n",
    "        params=dict(part='snippet', \n",
    "                    type='channel',\n",
    "                    maxResults=50,\n",
    "                    q=query,\n",
    "                    key=config.api_key)\n",
    "    )\n",
    "    return resp\n",
    "\n",
    "RESP = request_youtube_search('Corridor')\n",
    "json.loads(RESP.content)['items'][0]#['snippet']['publishedAt']"
   ]
  },
  {
   "cell_type": "code",
   "execution_count": null,
   "metadata": {
    "scrolled": true
   },
   "outputs": [],
   "source": [
    "def extract_youtube_search():\n",
    "    \n",
    "    # Select keys to use from searchResult object\n",
    "    keys_list = ['publishedAt','channelId','title','description','channelTitle','publishTime']\n",
    "    \n",
    "    # create df of each item from JSON\n",
    "    df = pd.DataFrame(json.loads(RESP.content)['items'])\n",
    "    \n",
    "    # empty channel list\n",
    "    channel_list = list()\n",
    "    \n",
    "    # loop over the list of dictionaries and extract \n",
    "    for entry in df.index:\n",
    "        channel_list.append({key:df['snippet'][entry][key] for key in keys_list})\n",
    "    # create a dataframe of each snippet\n",
    "    df = pd.DataFrame(channel_list)\n",
    "    return df\n",
    "\n",
    "CHANNEL_DF = extract_youtube_search()\n",
    "CHANNEL_DF"
   ]
  },
  {
   "cell_type": "code",
   "execution_count": null,
   "metadata": {},
   "outputs": [],
   "source": [
    "# Get channel details and snippet\n",
    "def run_channel_list(channelId):\n",
    "    resp = requests.get(\n",
    "        'https://www.googleapis.com/youtube/v3/channels',\n",
    "        params=dict(part='contentDetails, snippet, statistics, brandingSettings, topicDetails, status, id, contentOwnerDetails',\n",
    "                id=channelId,\n",
    "                key=config.api_key),\n",
    "    )\n",
    "    return resp\n",
    "RESP = run_channel_list('UCsn6cjffsvyOZCZxvGoJxGg') # spaceX UCtI0Hodo5o5dUb67FeUjDeA # James Hoffman UCMb0O2CdPBNi-QqPk5T3gsQ"
   ]
  },
  {
   "cell_type": "code",
   "execution_count": null,
   "metadata": {},
   "outputs": [],
   "source": [
    "RESP = run_channel_list('UCsn6cjffsvyOZCZxvGoJxGg')\n",
    "json.loads(RESP.content)['items'][0]['brandingSettings']['channel']['featuredChannelsUrls']"
   ]
  },
  {
   "cell_type": "code",
   "execution_count": null,
   "metadata": {},
   "outputs": [],
   "source": [
    "# Get back featured Channels list (might be empty/non-existent)\n",
    "json.loads(RESP.content)['items'][0]['brandingSettings']['channel']['featuredChannelsUrls']"
   ]
  },
  {
   "cell_type": "code",
   "execution_count": null,
   "metadata": {},
   "outputs": [],
   "source": [
    "search_keys = ['title', 'description', 'publishedAt', 'country']\n",
    "{key:json.loads(RESP.content)['items'][0]['snippet'][key] for key in search_keys}"
   ]
  },
  {
   "cell_type": "code",
   "execution_count": null,
   "metadata": {},
   "outputs": [],
   "source": [
    "assert RESP.ok\n",
    "RESP.status_code\n"
   ]
  }
 ],
 "metadata": {
  "kernelspec": {
   "display_name": "Python 3",
   "language": "python",
   "name": "python3"
  },
  "language_info": {
   "codemirror_mode": {
    "name": "ipython",
    "version": 3
   },
   "file_extension": ".py",
   "mimetype": "text/x-python",
   "name": "python",
   "nbconvert_exporter": "python",
   "pygments_lexer": "ipython3",
   "version": "3.7.7"
  }
 },
 "nbformat": 4,
 "nbformat_minor": 4
}
