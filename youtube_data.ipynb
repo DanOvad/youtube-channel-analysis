{
 "cells": [
  {
   "cell_type": "markdown",
   "metadata": {},
   "source": [
    "# YouTube Data API v3"
   ]
  },
  {
   "cell_type": "markdown",
   "metadata": {},
   "source": [
    "### Python Libraries"
   ]
  },
  {
   "cell_type": "code",
   "execution_count": 1,
   "metadata": {},
   "outputs": [],
   "source": [
    "import requests\n",
    "import json\n",
    "\n",
    "import pandas as pd\n",
    "import numpy as np\n",
    "import matplotlib.pyplot as plt\n",
    "import seaborn as sns\n",
    "\n",
    "import networkx as nx\n",
    "\n",
    "import collections"
   ]
  },
  {
   "cell_type": "markdown",
   "metadata": {},
   "source": [
    "### Imported Scripts"
   ]
  },
  {
   "cell_type": "code",
   "execution_count": null,
   "metadata": {},
   "outputs": [],
   "source": [
    "    # api_key is stored in config.py\n",
    "import config\n",
    "\n",
    "    # Functions for making youtube_requests\n",
    "import youtube_requests\n",
    "\n",
    "    # Functions for data processing\n",
    "import data_processing\n",
    "\n",
    "    # Functions for creating a network graph    \n",
    "import network_graphs\n",
    "\n",
    "import importlib\n",
    "#importlib.reload(network_graphs)"
   ]
  },
  {
   "cell_type": "code",
   "execution_count": 3,
   "metadata": {},
   "outputs": [],
   "source": [
    "%load_ext autoreload"
   ]
  },
  {
   "cell_type": "code",
   "execution_count": 4,
   "metadata": {},
   "outputs": [],
   "source": [
    "%autoreload 1"
   ]
  },
  {
   "cell_type": "code",
   "execution_count": 5,
   "metadata": {},
   "outputs": [],
   "source": [
    "%aimport network_graphs\n",
    "%aimport youtube_requests"
   ]
  },
  {
   "cell_type": "markdown",
   "metadata": {},
   "source": [
    "# YouTube Channel Details by Search\n",
    "\n",
    "Returns a details list of channels for a specific search query and number of requested results."
   ]
  },
  {
   "cell_type": "markdown",
   "metadata": {},
   "source": [
    "Lets search the top 10 results for Corridor Crew. They are a YouTube channel that is part of a known community."
   ]
  },
  {
   "cell_type": "code",
   "execution_count": 158,
   "metadata": {},
   "outputs": [],
   "source": [
    "a = ['test']"
   ]
  },
  {
   "cell_type": "code",
   "execution_count": 153,
   "metadata": {},
   "outputs": [],
   "source": [
    "del a"
   ]
  },
  {
   "cell_type": "code",
   "execution_count": 159,
   "metadata": {},
   "outputs": [
    {
     "name": "stdout",
     "output_type": "stream",
     "text": [
      "list exists ['test']\n"
     ]
    }
   ],
   "source": [
    "    try:\n",
    "        a[0]\n",
    "    except NameError:\n",
    "        var_exists = False\n",
    "        print(f\"list DOES NOT exists\")\n",
    "    else:\n",
    "        var_exists = True\n",
    "        print(f\"list exists {a}\")"
   ]
  },
  {
   "cell_type": "code",
   "execution_count": 142,
   "metadata": {},
   "outputs": [],
   "source": [
    "import dash_table"
   ]
  },
  {
   "cell_type": "code",
   "execution_count": 165,
   "metadata": {},
   "outputs": [
    {
     "data": {
      "text/plain": [
       "'UCNSeDrWRGxx5p2l3tj7RWQw'"
      ]
     },
     "execution_count": 165,
     "metadata": {},
     "output_type": "execute_result"
    }
   ],
   "source": [
    "CHANNELS_DETAILS_ITEMS_LIST[0]['id']"
   ]
  },
  {
   "cell_type": "code",
   "execution_count": 189,
   "metadata": {},
   "outputs": [
    {
     "data": {
      "text/plain": [
       "dict_keys(['query', 'response_items', 'corridor'])"
      ]
     },
     "execution_count": 189,
     "metadata": {},
     "output_type": "execute_result"
    }
   ],
   "source": [
    "query_cache_dict.keys()"
   ]
  },
  {
   "cell_type": "code",
   "execution_count": 197,
   "metadata": {},
   "outputs": [
    {
     "name": "stdout",
     "output_type": "stream",
     "text": [
      "yes\n"
     ]
    }
   ],
   "source": [
    "if 'coffee' in query_cache_dict:\n",
    "    print(\"yes\")"
   ]
  },
  {
   "cell_type": "code",
   "execution_count": 196,
   "metadata": {},
   "outputs": [],
   "source": [
    "with open('data/query_cache.json','r') as query_cache:\n",
    "    query_cache_dict = json.load(query_cache)\n"
   ]
  },
  {
   "cell_type": "code",
   "execution_count": null,
   "metadata": {},
   "outputs": [],
   "source": [
    "youtube_requests.youtube_channel_details_by_search(\"coffee\",10)"
   ]
  },
  {
   "cell_type": "code",
   "execution_count": 172,
   "metadata": {},
   "outputs": [
    {
     "data": {
      "text/plain": [
       "{'privacyStatus': 'public',\n",
       " 'isLinked': True,\n",
       " 'longUploadsStatus': 'longUploadsUnspecified',\n",
       " 'madeForKids': False}"
      ]
     },
     "execution_count": 172,
     "metadata": {},
     "output_type": "execute_result"
    }
   ],
   "source": [
    "CHANNELS_DETAILS_ITEMS_LIST[0]['status']"
   ]
  },
  {
   "cell_type": "code",
   "execution_count": 177,
   "metadata": {},
   "outputs": [
    {
     "data": {
      "text/plain": [
       "{'query': 'corridor'}"
      ]
     },
     "execution_count": 177,
     "metadata": {},
     "output_type": "execute_result"
    }
   ],
   "source": [
    "dict(query='corridor')"
   ]
  },
  {
   "cell_type": "code",
   "execution_count": null,
   "metadata": {},
   "outputs": [],
   "source": []
  },
  {
   "cell_type": "code",
   "execution_count": 191,
   "metadata": {},
   "outputs": [],
   "source": [
    "with open('data/query_cache.json','w') as query_json:\n",
    "    json.dump(query_cache_dict, query_json)"
   ]
  },
  {
   "cell_type": "code",
   "execution_count": null,
   "metadata": {},
   "outputs": [],
   "source": [
    "query_cache_dict"
   ]
  },
  {
   "cell_type": "code",
   "execution_count": 190,
   "metadata": {},
   "outputs": [],
   "source": [
    "query_cache_dict = dict(corridor=CHANNELS_DETAILS_ITEMS_LIST)"
   ]
  },
  {
   "cell_type": "code",
   "execution_count": 173,
   "metadata": {},
   "outputs": [
    {
     "data": {
      "text/plain": [
       "{'kind': 'youtube#channel',\n",
       " 'etag': 'EC3QtiHvR71cN_UyF2rCTBHOdnc',\n",
       " 'id': 'UCNSeDrWRGxx5p2l3tj7RWQw',\n",
       " 'snippet': {'title': 'Corridor Cast',\n",
       "  'description': 'The official podcast of the Corridor Crew!',\n",
       "  'customUrl': 'corridorcast',\n",
       "  'publishedAt': '2018-09-11T01:37:13Z',\n",
       "  'thumbnails': {'default': {'url': 'https://yt3.ggpht.com/a/AATXAJy6aZpNu4wJ-A-5vo5778LTqxfDowy5n-ixhtc4=s88-c-k-c0xffffffff-no-rj-mo',\n",
       "    'width': 88,\n",
       "    'height': 88},\n",
       "   'medium': {'url': 'https://yt3.ggpht.com/a/AATXAJy6aZpNu4wJ-A-5vo5778LTqxfDowy5n-ixhtc4=s240-c-k-c0xffffffff-no-rj-mo',\n",
       "    'width': 240,\n",
       "    'height': 240},\n",
       "   'high': {'url': 'https://yt3.ggpht.com/a/AATXAJy6aZpNu4wJ-A-5vo5778LTqxfDowy5n-ixhtc4=s800-c-k-c0xffffffff-no-rj-mo',\n",
       "    'width': 800,\n",
       "    'height': 800}},\n",
       "  'localized': {'title': 'Corridor Cast',\n",
       "   'description': 'The official podcast of the Corridor Crew!'},\n",
       "  'country': 'US'},\n",
       " 'contentDetails': {'relatedPlaylists': {'likes': '',\n",
       "   'favorites': '',\n",
       "   'uploads': 'UUNSeDrWRGxx5p2l3tj7RWQw',\n",
       "   'watchHistory': 'HL',\n",
       "   'watchLater': 'WL'}},\n",
       " 'statistics': {'viewCount': '4990381',\n",
       "  'commentCount': '0',\n",
       "  'subscriberCount': '110000',\n",
       "  'hiddenSubscriberCount': False,\n",
       "  'videoCount': '93'},\n",
       " 'topicDetails': {'topicIds': ['/m/02jjt', '/m/02jjt', '/m/04rlf'],\n",
       "  'topicCategories': ['https://en.wikipedia.org/wiki/Music',\n",
       "   'https://en.wikipedia.org/wiki/Entertainment']},\n",
       " 'status': {'privacyStatus': 'public',\n",
       "  'isLinked': True,\n",
       "  'longUploadsStatus': 'longUploadsUnspecified',\n",
       "  'madeForKids': False},\n",
       " 'brandingSettings': {'channel': {'title': 'Corridor Cast',\n",
       "   'description': 'The official podcast of the Corridor Crew!',\n",
       "   'keywords': 'podcast film creative entertainment',\n",
       "   'defaultTab': 'Featured',\n",
       "   'showRelatedChannels': True,\n",
       "   'showBrowseView': True,\n",
       "   'featuredChannelsTitle': 'GREAT CHANNELS',\n",
       "   'featuredChannelsUrls': ['UCsn6cjffsvyOZCZxvGoJxGg',\n",
       "    'UCSpFnDQr88xCZ80N-X7t0nQ',\n",
       "    'UCI4Wh0EQPjGx2jJLjmTsFBQ',\n",
       "    'UCb8ewylk7d2M_1dLGEiFmuQ',\n",
       "    'UCLtREJY21xRfCuEKvdki1Kw',\n",
       "    'UCzQUP1qoWDoEbmsQxvdjxgQ',\n",
       "    'UCLK5icWTfKgw6I2HIku84vg',\n",
       "    'UCAp990eMLzmei84WNR4ptgA',\n",
       "    'UCzH3iADRIq1IJlIXjfNgTpA',\n",
       "    'UC4PooiX37Pld1T8J5SYT-SQ'],\n",
       "   'unsubscribedTrailer': 'RdbvgP1DQN0',\n",
       "   'profileColor': '#000000',\n",
       "   'country': 'US'},\n",
       "  'image': {'bannerImageUrl': 'https://yt3.ggpht.com/aqCHwiCZVNGiCm_Vv4lQvQgJAA-yRGxNdxDHpSYbPPstoV5k6_5o2fOQWnCMFRLLsD-X_f6D5SI=w1060-fcrop64=1,00005a57ffffa5a8-k-c0xffffffff-no-nd-rj',\n",
       "   'bannerMobileImageUrl': 'https://yt3.ggpht.com/aqCHwiCZVNGiCm_Vv4lQvQgJAA-yRGxNdxDHpSYbPPstoV5k6_5o2fOQWnCMFRLLsD-X_f6D5SI=w640-fcrop64=1,32b75a57cd48a5a8-k-c0xffffffff-no-nd-rj',\n",
       "   'bannerTabletLowImageUrl': 'https://yt3.ggpht.com/aqCHwiCZVNGiCm_Vv4lQvQgJAA-yRGxNdxDHpSYbPPstoV5k6_5o2fOQWnCMFRLLsD-X_f6D5SI=w1138-fcrop64=1,00005a57ffffa5a8-k-c0xffffffff-no-nd-rj',\n",
       "   'bannerTabletImageUrl': 'https://yt3.ggpht.com/aqCHwiCZVNGiCm_Vv4lQvQgJAA-yRGxNdxDHpSYbPPstoV5k6_5o2fOQWnCMFRLLsD-X_f6D5SI=w1707-fcrop64=1,00005a57ffffa5a8-k-c0xffffffff-no-nd-rj',\n",
       "   'bannerTabletHdImageUrl': 'https://yt3.ggpht.com/aqCHwiCZVNGiCm_Vv4lQvQgJAA-yRGxNdxDHpSYbPPstoV5k6_5o2fOQWnCMFRLLsD-X_f6D5SI=w2276-fcrop64=1,00005a57ffffa5a8-k-c0xffffffff-no-nd-rj',\n",
       "   'bannerTabletExtraHdImageUrl': 'https://yt3.ggpht.com/aqCHwiCZVNGiCm_Vv4lQvQgJAA-yRGxNdxDHpSYbPPstoV5k6_5o2fOQWnCMFRLLsD-X_f6D5SI=w2560-fcrop64=1,00005a57ffffa5a8-k-c0xffffffff-no-nd-rj',\n",
       "   'bannerMobileLowImageUrl': 'https://yt3.ggpht.com/aqCHwiCZVNGiCm_Vv4lQvQgJAA-yRGxNdxDHpSYbPPstoV5k6_5o2fOQWnCMFRLLsD-X_f6D5SI=w320-fcrop64=1,32b75a57cd48a5a8-k-c0xffffffff-no-nd-rj',\n",
       "   'bannerMobileMediumHdImageUrl': 'https://yt3.ggpht.com/aqCHwiCZVNGiCm_Vv4lQvQgJAA-yRGxNdxDHpSYbPPstoV5k6_5o2fOQWnCMFRLLsD-X_f6D5SI=w960-fcrop64=1,32b75a57cd48a5a8-k-c0xffffffff-no-nd-rj',\n",
       "   'bannerMobileHdImageUrl': 'https://yt3.ggpht.com/aqCHwiCZVNGiCm_Vv4lQvQgJAA-yRGxNdxDHpSYbPPstoV5k6_5o2fOQWnCMFRLLsD-X_f6D5SI=w1280-fcrop64=1,32b75a57cd48a5a8-k-c0xffffffff-no-nd-rj',\n",
       "   'bannerMobileExtraHdImageUrl': 'https://yt3.ggpht.com/aqCHwiCZVNGiCm_Vv4lQvQgJAA-yRGxNdxDHpSYbPPstoV5k6_5o2fOQWnCMFRLLsD-X_f6D5SI=w1440-fcrop64=1,32b75a57cd48a5a8-k-c0xffffffff-no-nd-rj',\n",
       "   'bannerTvImageUrl': 'https://yt3.ggpht.com/aqCHwiCZVNGiCm_Vv4lQvQgJAA-yRGxNdxDHpSYbPPstoV5k6_5o2fOQWnCMFRLLsD-X_f6D5SI=w2120-fcrop64=1,00000000ffffffff-k-c0xffffffff-no-nd-rj',\n",
       "   'bannerTvLowImageUrl': 'https://yt3.ggpht.com/aqCHwiCZVNGiCm_Vv4lQvQgJAA-yRGxNdxDHpSYbPPstoV5k6_5o2fOQWnCMFRLLsD-X_f6D5SI=w854-fcrop64=1,00000000ffffffff-k-c0xffffffff-no-nd-rj',\n",
       "   'bannerTvMediumImageUrl': 'https://yt3.ggpht.com/aqCHwiCZVNGiCm_Vv4lQvQgJAA-yRGxNdxDHpSYbPPstoV5k6_5o2fOQWnCMFRLLsD-X_f6D5SI=w1280-fcrop64=1,00000000ffffffff-k-c0xffffffff-no-nd-rj',\n",
       "   'bannerTvHighImageUrl': 'https://yt3.ggpht.com/aqCHwiCZVNGiCm_Vv4lQvQgJAA-yRGxNdxDHpSYbPPstoV5k6_5o2fOQWnCMFRLLsD-X_f6D5SI=w1920-fcrop64=1,00000000ffffffff-k-c0xffffffff-no-nd-rj'},\n",
       "  'hints': [{'property': 'channel.banner.mobile.medium.image.url',\n",
       "    'value': 'https://yt3.ggpht.com/aqCHwiCZVNGiCm_Vv4lQvQgJAA-yRGxNdxDHpSYbPPstoV5k6_5o2fOQWnCMFRLLsD-X_f6D5SI=w640-fcrop64=1,32b75a57cd48a5a8-k-c0xffffffff-no-nd-rj'},\n",
       "   {'property': 'channel.modules.show_comments.bool', 'value': 'True'},\n",
       "   {'property': 'channel.featured_tab.template.string',\n",
       "    'value': 'Everything'}]},\n",
       " 'contentOwnerDetails': {}}"
      ]
     },
     "execution_count": 173,
     "metadata": {},
     "output_type": "execute_result"
    }
   ],
   "source": [
    "CHANNELS_DETAILS_ITEMS_LIST"
   ]
  },
  {
   "cell_type": "code",
   "execution_count": 166,
   "metadata": {},
   "outputs": [],
   "source": [
    "del CHANNELS_DETAILS_ITEMS_LIST\n",
    "with open('data/corridor_five.json','r') as json_file:\n",
    "    CHANNELS_DETAILS_ITEMS_LIST = json.load(json_file)"
   ]
  },
  {
   "cell_type": "code",
   "execution_count": 111,
   "metadata": {},
   "outputs": [],
   "source": [
    "with open('data/corridor_network.json','w') as fout:\n",
    "    json.dump(CHANNELS_DETAILS_ITEMS_LIST, fout)"
   ]
  },
  {
   "cell_type": "code",
   "execution_count": 147,
   "metadata": {},
   "outputs": [],
   "source": [
    "with open('data/corridor_search.json','w') as fout:\n",
    "    json.dump(CHANNELS_DETAILS_ITEMS_LIST, fout)"
   ]
  },
  {
   "cell_type": "code",
   "execution_count": 146,
   "metadata": {},
   "outputs": [],
   "source": [
    "# Get a list of dictionaries, where each dictionary represents details for a specific channel\n",
    "CHANNELS_DETAILS_ITEMS_LIST = youtube_requests.youtube_channel_details_by_search('corridor crew',10)\n",
    "\n",
    "# Graph the network of channels\n",
    "#G= network_graphs.create_nx_graph(CHANNELS_DETAILS_ITEMS_LIST, directed=True)\n",
    "\n",
    "# Extract a columnar list of channel details\n",
    "#CHANNELS_DETAILS_LIST = data_processing.extract_channel_details(CHANNELS_DETAILS_ITEMS_LIST)\n",
    "\n",
    "# Create a dataframe\n",
    "#DF = data_processing.create_df_from_details_list(CHANNELS_DETAILS_LIST)\n",
    "\n",
    "# Graph G\n",
    "#fig = network_graphs.graph_nx_graph(G)\n",
    "#plt.close()\n"
   ]
  },
  {
   "cell_type": "markdown",
   "metadata": {},
   "source": [
    "# Youtube Channel Details by Network"
   ]
  },
  {
   "cell_type": "code",
   "execution_count": 26,
   "metadata": {},
   "outputs": [
    {
     "data": {
      "text/plain": [
       "['Corridor Cast',\n",
       " 'pwnisher',\n",
       " 'Cerberusarms',\n",
       " 'Corridor',\n",
       " 'Corridor Crew',\n",
       " 'SoKrispyMedia',\n",
       " 'Peter France',\n",
       " 'SirWrender',\n",
       " 'Node',\n",
       " 'Guillotine Channel']"
      ]
     },
     "execution_count": 26,
     "metadata": {},
     "output_type": "execute_result"
    }
   ],
   "source": [
    "[channel['snippet']['title'] for channel in CHANNELS_DETAILS_ITEMS_LIST]"
   ]
  },
  {
   "cell_type": "code",
   "execution_count": 27,
   "metadata": {},
   "outputs": [],
   "source": [
    "indices = [0,3,4,8,9]\n",
    "[channel['snippet']['title'] for channel in CHANNELS_DETAILS_ITEMS_LIST]\n",
    "CORRIDOR_FULL = [CHANNELS_DETAILS_ITEMS_LIST[i] for i in indices]\n"
   ]
  },
  {
   "cell_type": "markdown",
   "metadata": {},
   "source": [
    "-------"
   ]
  },
  {
   "cell_type": "code",
   "execution_count": 110,
   "metadata": {},
   "outputs": [
    {
     "name": "stdout",
     "output_type": "stream",
     "text": [
      "25 total neighbors; 0 out of 5 channels do not feature channels\n"
     ]
    },
    {
     "data": {
      "image/png": "[encoded data removed]",
      "text/plain": [
       "<Figure size 864x864 with 1 Axes>"
      ]
     },
     "metadata": {},
     "output_type": "display_data"
    },
    {
     "data": {
      "image/png": "[encoded data removed]",
      "text/plain": [
       "<Figure size 864x864 with 1 Axes>"
      ]
     },
     "execution_count": 110,
     "metadata": {},
     "output_type": "execute_result"
    }
   ],
   "source": [
    "# Get a list of dictionaries, where each dictionary represents details for a specific channel\n",
    "CHANNELS_DETAILS_ITEMS_LIST = youtube_requests.youtube_channel_details_by_network(CORRIDOR_FULL, 1)\n",
    "\n",
    "# Graph the network of channels\n",
    "G = network_graphs.create_nx_graph(CHANNELS_DETAILS_ITEMS_LIST, True)\n",
    "\n",
    "# Extract a columnar list of channel details\n",
    "CHANNELS_DETAILS_LIST = data_processing.extract_channel_details(CHANNELS_DETAILS_ITEMS_LIST)\n",
    "\n",
    "# Create a dataframe\n",
    "DF = data_processing.create_df_from_details_list(CHANNELS_DETAILS_LIST)\n",
    "\n",
    "# Graph G\n",
    "network_graphs.graph_nx_graph(G)"
   ]
  },
  {
   "cell_type": "code",
   "execution_count": 44,
   "metadata": {},
   "outputs": [
    {
     "data": {
      "application/vnd.plotly.v1+json": {
       "config": {
        "plotlyServerURL": "https://plot.ly"
       },
       "data": [
        {
         "hoverinfo": "none",
         "line": {
          "color": "#888",
          "width": 0.5
         },
         "mode": "lines",
         "type": "scatter",
         "x": [
          -0.413124715212293,
          -0.4569129978410683,
          null,
          -0.3594497056759339,
          -0.22099495886888088,
          null,
          -0.3594497056759339,
          -0.3912062371649625,
          null,
          0.38331301780835025,
          0.3388483827299959,
          null,
          0.38331301780835025,
          0.07047727834570942,
          null,
          0.38331301780835025,
          0.5355919541811115,
          null,
          0.38331301780835025,
          0.30287694671163146,
          null,
          0.38331301780835025,
          0.5381455754292878,
          null,
          0.38331301780835025,
          0.3409893182958833,
          null,
          0.38331301780835025,
          0.42512096577374936,
          null,
          0.38331301780835025,
          0.36152164406124565,
          null,
          0.38331301780835025,
          0.1782181079858652,
          null,
          0.38331301780835025,
          0.3454925043310181,
          null,
          0.6912916592688455,
          0.4411563605142947,
          null,
          0.6912916592688455,
          0.2586086966556305,
          null,
          0.5116135283696239,
          0.9687170149109836,
          null,
          0.5116135283696239,
          0.27120419128094286,
          null,
          0.04660155619428619,
          -0.0860653131518218,
          null,
          0.04660155619428619,
          -0.05884479669558018,
          null,
          0.04660155619428619,
          0.04152840625139912,
          null,
          0.04660155619428619,
          0.2838188165935465,
          null,
          0.04660155619428619,
          -0.04692163813436806,
          null,
          0.04660155619428619,
          -0.14348417597232138,
          null,
          -0.48236428470578685,
          -0.29126960153356735,
          null,
          -0.48236428470578685,
          -0.45174085553161986,
          null,
          0.7702315032497361,
          1,
          null,
          0.7211038890787325,
          0.6944145782513022,
          null,
          0.7211038890787325,
          0.696778805928539,
          null,
          0.7211038890787325,
          0.7186446658218892,
          null,
          0.7211038890787325,
          0.680172278647154,
          null,
          0.4411563605142947,
          -0.05884479669558018,
          null,
          0.4411563605142947,
          0.21393256800607882,
          null,
          0.4411563605142947,
          0.733896730077924,
          null,
          0.4411563605142947,
          0.7048681534862284,
          null,
          0.4411563605142947,
          -0.618675470220727,
          null,
          0.4411563605142947,
          0.2586086966556305,
          null,
          0.4411563605142947,
          0.6912916592688455,
          null,
          -0.20490179879769047,
          -0.23631501570084534,
          null,
          -0.20490179879769047,
          -0.24491857856637247,
          null,
          -0.20490179879769047,
          -0.15817121619443947,
          null,
          0.7048681534862284,
          0.4411563605142947,
          null,
          0.2586086966556305,
          0.22937156593953723,
          null,
          -0.14348417597232138,
          -0.05884479669558018,
          null,
          -0.14348417597232138,
          0.04152840625139912,
          null,
          -0.14348417597232138,
          -0.04692163813436806,
          null,
          0.24811423100177857,
          0.1864201950100204,
          null,
          0.733896730077924,
          0.4411563605142947,
          null,
          -0.49498014391686873,
          -0.4888528098526013,
          null,
          -0.49498014391686873,
          -0.22099495886888088,
          null,
          -0.49498014391686873,
          -0.29974229673651087,
          null,
          -0.49498014391686873,
          0.2586086966556305,
          null,
          -0.0860653131518218,
          0.04660155619428619,
          null,
          -0.0860653131518218,
          -0.05884479669558018,
          null,
          -0.0860653131518218,
          -0.20490179879769047,
          null,
          0.27120419128094286,
          0.40791890144087073,
          null,
          0.27120419128094286,
          0.24136807044844294,
          null,
          0.27120419128094286,
          0.35510784374732374,
          null,
          0.27120419128094286,
          0.42125144801916714,
          null,
          0.27120419128094286,
          0.9687170149109836,
          null,
          0.27120419128094286,
          0.2571042916622946,
          null,
          0.27120419128094286,
          0.04152840625139912,
          null,
          0.27120419128094286,
          0.5116135283696239,
          null,
          0.27120419128094286,
          -0.15454969762830045,
          null,
          0.27120419128094286,
          -0.02615329045407808,
          null,
          0.27120419128094286,
          0.10094004013459702,
          null,
          0.27120419128094286,
          -0.013517873262397067,
          null,
          0.27120419128094286,
          0.8458085937586403,
          null,
          0.35510784374732374,
          0.27120419128094286,
          null,
          0.35510784374732374,
          0.40791890144087073,
          null,
          0.08714265999546487,
          -0.05884479669558018,
          null,
          0.08714265999546487,
          0.4411563605142947,
          null,
          0.08714265999546487,
          -0.29126960153356735,
          null,
          0.7070096263668171,
          0.6944145782513022,
          null,
          0.7070096263668171,
          0.696778805928539,
          null,
          0.7070096263668171,
          0.7186446658218892,
          null,
          0.7070096263668171,
          0.7211038890787325,
          null,
          0.7070096263668171,
          0.680172278647154,
          null,
          0.7070096263668171,
          0.6826730084714511,
          null,
          0.2838188165935465,
          0.04660155619428619,
          null,
          0.1782181079858652,
          0.07047727834570942,
          null,
          0.1782181079858652,
          0.5381455754292878,
          null,
          0.1782181079858652,
          0.38331301780835025,
          null,
          0.1782181079858652,
          0.3409893182958833,
          null,
          0.1782181079858652,
          0.30287694671163146,
          null,
          0.1782181079858652,
          0.42512096577374936,
          null,
          0.1782181079858652,
          0.3454925043310181,
          null,
          0.1782181079858652,
          -0.6167956869590948,
          null,
          0.1782181079858652,
          0.3388483827299959,
          null,
          0.3060864974564021,
          0.3285451003449617,
          null,
          -0.5992949630895995,
          -0.595590002377774,
          null,
          -0.5992949630895995,
          -0.6236004288457091,
          null,
          -0.5992949630895995,
          -0.6177001959503939,
          null,
          0.30287694671163146,
          0.07047727834570942,
          null,
          0.30287694671163146,
          0.5381455754292878,
          null,
          0.30287694671163146,
          0.3409893182958833,
          null,
          -0.22099495886888088,
          -0.3912062371649625,
          null,
          -0.22099495886888088,
          -0.3594497056759339,
          null,
          -0.22099495886888088,
          -0.6434008680480571,
          null,
          -0.22099495886888088,
          -0.05884479669558018,
          null,
          -0.22099495886888088,
          -0.4888528098526013,
          null,
          -0.22099495886888088,
          -0.2444419456488583,
          null,
          -0.22099495886888088,
          0.13908375126663033,
          null,
          -0.22099495886888088,
          -0.49498014391686873,
          null,
          -0.22099495886888088,
          0.30156411611657347,
          null,
          -0.22099495886888088,
          0.1864201950100204,
          null,
          0.42512096577374936,
          0.44343229491108777,
          null,
          -0.4301037131909245,
          -0.4569129978410683,
          null,
          -0.1465585842924227,
          -0.29126960153356735,
          null,
          -0.1465585842924227,
          -0.05884479669558018,
          null,
          -0.1465585842924227,
          0.04152840625139912,
          null,
          -0.1465585842924227,
          -0.20490179879769047,
          null,
          -0.4888528098526013,
          -0.22099495886888088,
          null,
          -0.4888528098526013,
          -0.49498014391686873,
          null,
          0.04152840625139912,
          -0.05884479669558018,
          null,
          0.04152840625139912,
          -0.04692163813436806,
          null,
          0.04152840625139912,
          0.04660155619428619,
          null,
          0.04152840625139912,
          -0.14348417597232138,
          null,
          0.04152840625139912,
          0.1864201950100204,
          null,
          0.04152840625139912,
          0.21393256800607882,
          null,
          0.04152840625139912,
          0.4411563605142947,
          null,
          0.04152840625139912,
          0.27120419128094286,
          null,
          0.04152840625139912,
          -0.45174085553161986,
          null,
          0.04152840625139912,
          0.42512096577374936,
          null,
          0.04152840625139912,
          0.6944145782513022,
          null,
          0.04152840625139912,
          0.8743744896282886,
          null,
          0.1864201950100204,
          0.37520049621115864,
          null,
          0.1864201950100204,
          1,
          null,
          0.1864201950100204,
          0.7702315032497361,
          null,
          0.1864201950100204,
          -0.8966181298822992,
          null,
          0.1864201950100204,
          -0.41439061688637296,
          null,
          0.1864201950100204,
          0.5505611612880209,
          null,
          0.1864201950100204,
          0.24811423100177857,
          null,
          0.1864201950100204,
          0.04152840625139912,
          null,
          0.1864201950100204,
          0.09659454856938517,
          null,
          0.1864201950100204,
          -0.22099495886888088,
          null,
          0.5505611612880209,
          -0.8966181298822992,
          null,
          0.5505611612880209,
          0.37520049621115864,
          null,
          0.21393256800607882,
          -0.29974229673651087,
          null,
          0.21393256800607882,
          -0.05884479669558018,
          null,
          0.21393256800607882,
          0.4411563605142947,
          null,
          0.21393256800607882,
          0.9813367974473564,
          null,
          0.21393256800607882,
          -0.8657916146074277,
          null,
          0.21393256800607882,
          0.04660155619428619,
          null,
          0.21393256800607882,
          0.22937156593953723,
          null,
          0.21393256800607882,
          -0.5269697739287841,
          null,
          -0.23631501570084534,
          -0.20490179879769047,
          null,
          -0.23631501570084534,
          -0.24491857856637247,
          null,
          0.42125144801916714,
          0.27120419128094286,
          null,
          0.42125144801916714,
          0.2571042916622946,
          null,
          0.42125144801916714,
          -0.013517873262397067,
          null,
          -0.45174085553161986,
          -0.3125727375706795,
          null,
          -0.45174085553161986,
          0.6818910840910616,
          null,
          -0.45174085553161986,
          -0.8135536556746302,
          null,
          -0.45174085553161986,
          -0.29126960153356735,
          null,
          -0.45174085553161986,
          -0.6632186732514179,
          null,
          -0.45174085553161986,
          -0.05884479669558018,
          null,
          -0.45174085553161986,
          0.9832190416310278,
          null,
          -0.45174085553161986,
          -0.20490179879769047,
          null,
          -0.45174085553161986,
          -0.2930021505497675,
          null,
          -0.45174085553161986,
          -0.48236428470578685,
          null,
          -0.3912062371649625,
          -0.22099495886888088,
          null,
          -0.3912062371649625,
          -0.3594497056759339,
          null,
          0.6826730084714511,
          0.6944145782513022,
          null,
          0.6826730084714511,
          0.7186446658218892,
          null,
          0.6826730084714511,
          0.7070096263668171,
          null,
          0.6826730084714511,
          0.696778805928539,
          null,
          0.6826730084714511,
          0.7211038890787325,
          null,
          0.6826730084714511,
          0.680172278647154,
          null,
          -0.8135536556746302,
          -0.6632186732514179,
          null,
          -0.04692163813436806,
          -0.05884479669558018,
          null,
          -0.04692163813436806,
          0.04152840625139912,
          null,
          -0.04692163813436806,
          0.04660155619428619,
          null,
          -0.04692163813436806,
          -0.14348417597232138,
          null,
          -0.04692163813436806,
          -0.595590002377774,
          null,
          -0.04692163813436806,
          -0.75384003123771,
          null,
          -0.04692163813436806,
          -0.4399600194065376,
          null,
          -0.04692163813436806,
          -0.8180737377095322,
          null,
          -0.04692163813436806,
          0.07047727834570942,
          null,
          -0.04692163813436806,
          -0.43438627113631395,
          null,
          -0.29126960153356735,
          -0.9547223302206788,
          null,
          -0.29126960153356735,
          -0.1465585842924227,
          null,
          -0.29126960153356735,
          -0.05884479669558018,
          null,
          -0.29126960153356735,
          -0.5675991063061935,
          null,
          -0.29126960153356735,
          -0.45174085553161986,
          null,
          -0.29126960153356735,
          0.08714265999546487,
          null,
          -0.29126960153356735,
          -0.35027005132696104,
          null,
          -0.29126960153356735,
          -0.5566520337268325,
          null,
          -0.24491857856637247,
          -0.20490179879769047,
          null,
          -0.24491857856637247,
          -0.23631501570084534,
          null,
          -0.45042676271745896,
          -0.43438627113631395,
          null,
          -0.45042676271745896,
          -0.457857575933319,
          null,
          -0.45042676271745896,
          -0.43167080746725806,
          null,
          -0.45042676271745896,
          -0.41747512495753786,
          null,
          0.36152164406124565,
          0.07047727834570942,
          null,
          0.36152164406124565,
          0.5355919541811115,
          null,
          0.36152164406124565,
          0.5381455754292878,
          null,
          0.36152164406124565,
          0.30287694671163146,
          null,
          0.36152164406124565,
          0.3388483827299959,
          null,
          0.36152164406124565,
          0.38331301780835025,
          null,
          0.36152164406124565,
          0.3409893182958833,
          null,
          0.696778805928539,
          0.6944145782513022,
          null,
          0.696778805928539,
          0.7211038890787325,
          null,
          0.696778805928539,
          0.7186446658218892,
          null,
          0.696778805928539,
          0.680172278647154,
          null,
          0.696778805928539,
          0.7070096263668171,
          null,
          0.696778805928539,
          0.6826730084714511,
          null,
          0.3388483827299959,
          0.07047727834570942,
          null,
          0.3388483827299959,
          0.5381455754292878,
          null,
          0.3388483827299959,
          0.5355919541811115,
          null,
          0.3388483827299959,
          0.30287694671163146,
          null,
          0.3388483827299959,
          0.3409893182958833,
          null,
          -0.05884479669558018,
          0.04152840625139912,
          null,
          -0.05884479669558018,
          -0.04692163813436806,
          null,
          -0.05884479669558018,
          0.04660155619428619,
          null,
          -0.05884479669558018,
          -0.14348417597232138,
          null,
          -0.05884479669558018,
          0.1864201950100204,
          null,
          -0.05884479669558018,
          -0.29126960153356735,
          null,
          -0.05884479669558018,
          -0.20490179879769047,
          null,
          -0.05884479669558018,
          0.4411563605142947,
          null,
          -0.05884479669558018,
          0.3060864974564021,
          null,
          -0.05884479669558018,
          -0.22099495886888088,
          null,
          -0.05884479669558018,
          -0.45174085553161986,
          null,
          0.680172278647154,
          0.6944145782513022,
          null,
          0.680172278647154,
          0.696778805928539,
          null,
          0.680172278647154,
          0.7186446658218892,
          null,
          0.680172278647154,
          0.7211038890787325,
          null,
          0.680172278647154,
          0.7070096263668171,
          null,
          0.680172278647154,
          0.6826730084714511,
          null,
          -0.35027005132696104,
          -0.05884479669558018,
          null,
          -0.35027005132696104,
          0.30156411611657347,
          null,
          -0.35027005132696104,
          -0.5675991063061935,
          null,
          -0.35027005132696104,
          -0.29126960153356735,
          null,
          -0.35027005132696104,
          -0.45174085553161986,
          null,
          0.3409893182958833,
          0.07047727834570942,
          null,
          0.3409893182958833,
          0.5381455754292878,
          null,
          0.3409893182958833,
          0.5355919541811115,
          null,
          0.3409893182958833,
          0.30287694671163146,
          null,
          0.3409893182958833,
          0.3388483827299959,
          null,
          -0.7625799738580944,
          -0.75384003123771,
          null,
          -0.7625799738580944,
          -0.8704492105576002,
          null,
          -0.595590002377774,
          -0.6236004288457091,
          null,
          -0.595590002377774,
          -0.5992949630895995,
          null,
          -0.595590002377774,
          -0.6177001959503939,
          null,
          -0.6236004288457091,
          -0.595590002377774,
          null,
          -0.6236004288457091,
          -0.5992949630895995,
          null,
          -0.6236004288457091,
          -0.6177001959503939,
          null,
          -0.5675991063061935,
          -0.29126960153356735,
          null,
          -0.3125727375706795,
          -0.45174085553161986,
          null,
          -0.4399600194065376,
          -0.413124715212293,
          null,
          -0.4399600194065376,
          -0.4569129978410683,
          null,
          -0.4399600194065376,
          -0.4301037131909245,
          null,
          -0.4399600194065376,
          -0.8277454917332191,
          null,
          -0.6177001959503939,
          -0.6236004288457091,
          null,
          -0.6177001959503939,
          -0.595590002377774,
          null,
          -0.6177001959503939,
          -0.5992949630895995,
          null,
          0.5355919541811115,
          0.5381455754292878,
          null,
          0.2571042916622946,
          0.42125144801916714,
          null,
          0.2571042916622946,
          0.27120419128094286,
          null,
          0.2571042916622946,
          0.04152840625139912,
          null,
          0.2571042916622946,
          -0.41439061688637296,
          null,
          0.7186446658218892,
          0.6944145782513022,
          null,
          0.7186446658218892,
          0.696778805928539,
          null,
          0.7186446658218892,
          0.7211038890787325,
          null,
          0.7186446658218892,
          0.680172278647154,
          null,
          0.7186446658218892,
          0.7070096263668171,
          null,
          0.7186446658218892,
          0.6826730084714511,
          null,
          -0.41747512495753786,
          -0.43438627113631395,
          null,
          -0.41747512495753786,
          -0.457857575933319,
          null,
          -0.41747512495753786,
          -0.45042676271745896,
          null,
          -0.41747512495753786,
          -0.43167080746725806,
          null,
          -0.43438627113631395,
          -0.41747512495753786,
          null,
          -0.43438627113631395,
          -0.457857575933319,
          null,
          -0.43438627113631395,
          -0.45042676271745896,
          null,
          -0.43438627113631395,
          -0.43167080746725806,
          null,
          0.40791890144087073,
          0.27120419128094286,
          null,
          0.40791890144087073,
          0.24136807044844294,
          null,
          0.40791890144087073,
          0.9687170149109836,
          null,
          0.40791890144087073,
          0.5116135283696239,
          null,
          0.6944145782513022,
          0.696778805928539,
          null,
          0.6944145782513022,
          0.7186446658218892,
          null,
          0.6944145782513022,
          0.7070096263668171,
          null,
          0.6944145782513022,
          0.7211038890787325,
          null,
          0.6944145782513022,
          0.680172278647154,
          null,
          0.6944145782513022,
          0.6826730084714511,
          null,
          -0.43167080746725806,
          -0.43438627113631395,
          null,
          -0.43167080746725806,
          -0.457857575933319,
          null,
          -0.43167080746725806,
          -0.45042676271745896,
          null,
          -0.43167080746725806,
          -0.41747512495753786,
          null,
          -0.6632186732514179,
          -0.8135536556746302,
          null,
          -0.6632186732514179,
          -0.45174085553161986,
          null,
          0.3285451003449617,
          0.3060864974564021,
          null,
          0.44343229491108777,
          0.42512096577374936,
          null,
          0.22937156593953723,
          0.9832190416310278,
          null,
          0.22937156593953723,
          -0.5269697739287841,
          null,
          0.22937156593953723,
          0.2586086966556305,
          null,
          -0.4569129978410683,
          -0.4301037131909245,
          null,
          -0.457857575933319,
          -0.43438627113631395,
          null,
          -0.457857575933319,
          -0.45042676271745896,
          null,
          -0.457857575933319,
          -0.43167080746725806,
          null,
          -0.457857575933319,
          -0.41747512495753786,
          null,
          -0.2444419456488583,
          -0.22099495886888088,
          null,
          0.5381455754292878,
          0.5355919541811115,
          null,
          0.3454925043310181,
          0.07047727834570942,
          null,
          0.3454925043310181,
          0.5381455754292878,
          null,
          0.3454925043310181,
          0.5355919541811115,
          null,
          0.3454925043310181,
          0.30287694671163146,
          null,
          0.3454925043310181,
          0.3388483827299959,
          null,
          0.07047727834570942,
          0.5355919541811115,
          null,
          0.07047727834570942,
          0.38331301780835025,
          null,
          0.07047727834570942,
          0.36152164406124565,
          null,
          0.07047727834570942,
          0.5381455754292878,
          null,
          0.07047727834570942,
          0.3409893182958833,
          null,
          0.07047727834570942,
          0.30287694671163146,
          null,
          0.07047727834570942,
          0.42512096577374936,
          null,
          0.07047727834570942,
          0.1782181079858652,
          null,
          0.07047727834570942,
          0.3454925043310181,
          null,
          0.07047727834570942,
          -0.6167956869590948,
          null,
          0.07047727834570942,
          0.3388483827299959,
          null,
          0.07047727834570942,
          -0.9523765776665964,
          null,
          -0.75384003123771,
          -0.8704492105576002,
          null,
          -0.75384003123771,
          -0.7625799738580944,
          null,
          0.37520049621115864,
          0.1864201950100204,
          null,
          0.10094004013459702,
          -0.05884479669558018,
          null,
          0.10094004013459702,
          0.27120419128094286,
          null,
          0.10094004013459702,
          -0.20490179879769047,
          null,
          0.10094004013459702,
          -0.24491857856637247,
          null,
          0.24136807044844294,
          0.27120419128094286,
          null,
          -0.5566520337268325,
          -0.29126960153356735,
          null,
          -0.6434008680480571,
          -0.8966181298822992,
          null
         ],
         "y": [
          0.7130314151724471,
          0.8045822585095429,
          null,
          0.5097409929547759,
          0.21092462266947737,
          null,
          0.5097409929547759,
          0.43223298318922165,
          null,
          -0.25462417459229697,
          -0.5851524637521247,
          null,
          -0.25462417459229697,
          -0.28911111146535673,
          null,
          -0.25462417459229697,
          -0.7692799111452867,
          null,
          -0.25462417459229697,
          -0.5463061338734339,
          null,
          -0.25462417459229697,
          -0.8002925119686415,
          null,
          -0.25462417459229697,
          -0.5793092210172476,
          null,
          -0.25462417459229697,
          0.7859822477185523,
          null,
          -0.25462417459229697,
          -0.5284687748147914,
          null,
          -0.25462417459229697,
          -0.2758034054589482,
          null,
          -0.25462417459229697,
          -0.5745048623208008,
          null,
          -0.18024095045639288,
          -0.05948718960776983,
          null,
          -0.18024095045639288,
          -0.38684645392540673,
          null,
          0.6725672691471027,
          0.34883326372045814,
          null,
          0.6725672691471027,
          0.4839473379773205,
          null,
          0.08757202135935493,
          0.13276497232960938,
          null,
          0.08757202135935493,
          -0.13001080825450487,
          null,
          0.08757202135935493,
          -0.052704681787323925,
          null,
          0.08757202135935493,
          0.18328425282352206,
          null,
          0.08757202135935493,
          0.02620488184858333,
          null,
          0.08757202135935493,
          -0.0010721474844605982,
          null,
          -0.4492373499940553,
          -0.25551400681572,
          null,
          -0.4492373499940553,
          -0.5668947271752139,
          null,
          0.1467553461166268,
          0.18346101455899497,
          null,
          -0.018532969216124035,
          0.012734286688046853,
          null,
          -0.018532969216124035,
          -0.008279942288303836,
          null,
          -0.018532969216124035,
          0.008483669108230693,
          null,
          -0.018532969216124035,
          -0.001445716162289143,
          null,
          -0.05948718960776983,
          -0.13001080825450487,
          null,
          -0.05948718960776983,
          -0.037961457542743555,
          null,
          -0.05948718960776983,
          -0.06868044137734938,
          null,
          -0.05948718960776983,
          0.043951619027471495,
          null,
          -0.05948718960776983,
          0.6775441881563282,
          null,
          -0.05948718960776983,
          -0.38684645392540673,
          null,
          -0.05948718960776983,
          -0.18024095045639288,
          null,
          -0.775147940640685,
          -0.7343171198974205,
          null,
          -0.775147940640685,
          -0.7661421004477821,
          null,
          -0.775147940640685,
          -0.8314932449658827,
          null,
          0.043951619027471495,
          -0.05948718960776983,
          null,
          -0.38684645392540673,
          -0.34610373592239063,
          null,
          -0.0010721474844605982,
          -0.13001080825450487,
          null,
          -0.0010721474844605982,
          -0.052704681787323925,
          null,
          -0.0010721474844605982,
          0.02620488184858333,
          null,
          -0.5207652726198264,
          -0.2646814764711363,
          null,
          -0.06868044137734938,
          -0.05948718960776983,
          null,
          0.3000770497556341,
          0.38856417313020375,
          null,
          0.3000770497556341,
          0.21092462266947737,
          null,
          0.3000770497556341,
          0.9564529170002428,
          null,
          0.3000770497556341,
          -0.38684645392540673,
          null,
          0.13276497232960938,
          0.08757202135935493,
          null,
          0.13276497232960938,
          -0.13001080825450487,
          null,
          0.13276497232960938,
          -0.775147940640685,
          null,
          0.4839473379773205,
          0.7852622032086971,
          null,
          0.4839473379773205,
          0.7839537920686427,
          null,
          0.4839473379773205,
          0.7234397340768005,
          null,
          0.4839473379773205,
          0.4948970810898283,
          null,
          0.4839473379773205,
          0.34883326372045814,
          null,
          0.4839473379773205,
          0.301287028237845,
          null,
          0.4839473379773205,
          -0.052704681787323925,
          null,
          0.4839473379773205,
          0.6725672691471027,
          null,
          0.4839473379773205,
          0.9972400551977464,
          null,
          0.4839473379773205,
          -0.8686913655599163,
          null,
          0.4839473379773205,
          0.25141005452082577,
          null,
          0.4839473379773205,
          0.9203712723805298,
          null,
          0.4839473379773205,
          0.6233077564162479,
          null,
          0.7234397340768005,
          0.4839473379773205,
          null,
          0.7234397340768005,
          0.7852622032086971,
          null,
          -0.16747103432386162,
          -0.13001080825450487,
          null,
          -0.16747103432386162,
          -0.05948718960776983,
          null,
          -0.16747103432386162,
          -0.25551400681572,
          null,
          0.025876960125765874,
          0.012734286688046853,
          null,
          0.025876960125765874,
          -0.008279942288303836,
          null,
          0.025876960125765874,
          0.008483669108230693,
          null,
          0.025876960125765874,
          -0.018532969216124035,
          null,
          0.025876960125765874,
          -0.001445716162289143,
          null,
          0.025876960125765874,
          0.021528122878007427,
          null,
          0.18328425282352206,
          0.08757202135935493,
          null,
          -0.2758034054589482,
          -0.28911111146535673,
          null,
          -0.2758034054589482,
          -0.8002925119686415,
          null,
          -0.2758034054589482,
          -0.25462417459229697,
          null,
          -0.2758034054589482,
          -0.5793092210172476,
          null,
          -0.2758034054589482,
          -0.5463061338734339,
          null,
          -0.2758034054589482,
          0.7859822477185523,
          null,
          -0.2758034054589482,
          -0.5745048623208008,
          null,
          -0.2758034054589482,
          -0.744169627524291,
          null,
          -0.2758034054589482,
          -0.5851524637521247,
          null,
          -0.8317244144904526,
          -0.853006678227478,
          null,
          0.5257324890031286,
          0.5020690560311065,
          null,
          0.5257324890031286,
          0.5162105325604991,
          null,
          0.5257324890031286,
          0.49134411500527914,
          null,
          -0.5463061338734339,
          -0.28911111146535673,
          null,
          -0.5463061338734339,
          -0.8002925119686415,
          null,
          -0.5463061338734339,
          -0.5793092210172476,
          null,
          0.21092462266947737,
          0.43223298318922165,
          null,
          0.21092462266947737,
          0.5097409929547759,
          null,
          0.21092462266947737,
          -0.23583267680193598,
          null,
          0.21092462266947737,
          -0.13001080825450487,
          null,
          0.21092462266947737,
          0.38856417313020375,
          null,
          0.21092462266947737,
          0.4862642734731538,
          null,
          0.21092462266947737,
          0.9478194952920238,
          null,
          0.21092462266947737,
          0.3000770497556341,
          null,
          0.21092462266947737,
          0.8833828371374344,
          null,
          0.21092462266947737,
          -0.2646814764711363,
          null,
          0.7859822477185523,
          0.8168186043641564,
          null,
          0.7582038639770757,
          0.8045822585095429,
          null,
          -0.18661440082449907,
          -0.25551400681572,
          null,
          -0.18661440082449907,
          -0.13001080825450487,
          null,
          -0.18661440082449907,
          -0.052704681787323925,
          null,
          -0.18661440082449907,
          -0.775147940640685,
          null,
          0.38856417313020375,
          0.21092462266947737,
          null,
          0.38856417313020375,
          0.3000770497556341,
          null,
          -0.052704681787323925,
          -0.13001080825450487,
          null,
          -0.052704681787323925,
          0.02620488184858333,
          null,
          -0.052704681787323925,
          0.08757202135935493,
          null,
          -0.052704681787323925,
          -0.0010721474844605982,
          null,
          -0.052704681787323925,
          -0.2646814764711363,
          null,
          -0.052704681787323925,
          -0.037961457542743555,
          null,
          -0.052704681787323925,
          -0.05948718960776983,
          null,
          -0.052704681787323925,
          0.4839473379773205,
          null,
          -0.052704681787323925,
          -0.5668947271752139,
          null,
          -0.052704681787323925,
          0.7859822477185523,
          null,
          -0.052704681787323925,
          0.012734286688046853,
          null,
          -0.052704681787323925,
          0.4964675459443337,
          null,
          -0.2646814764711363,
          -0.44721456029203976,
          null,
          -0.2646814764711363,
          0.18346101455899497,
          null,
          -0.2646814764711363,
          0.1467553461166268,
          null,
          -0.2646814764711363,
          -0.318904864292472,
          null,
          -0.2646814764711363,
          0.8905534793061419,
          null,
          -0.2646814764711363,
          -0.6343889758388948,
          null,
          -0.2646814764711363,
          -0.5207652726198264,
          null,
          -0.2646814764711363,
          -0.052704681787323925,
          null,
          -0.2646814764711363,
          -0.9300756348570551,
          null,
          -0.2646814764711363,
          0.21092462266947737,
          null,
          -0.6343889758388948,
          -0.318904864292472,
          null,
          -0.6343889758388948,
          -0.44721456029203976,
          null,
          -0.037961457542743555,
          0.9564529170002428,
          null,
          -0.037961457542743555,
          -0.13001080825450487,
          null,
          -0.037961457542743555,
          -0.05948718960776983,
          null,
          -0.037961457542743555,
          -0.15617822756850233,
          null,
          -0.037961457542743555,
          0.3738126036567702,
          null,
          -0.037961457542743555,
          0.08757202135935493,
          null,
          -0.037961457542743555,
          -0.34610373592239063,
          null,
          -0.037961457542743555,
          -0.723348116106338,
          null,
          -0.7343171198974205,
          -0.775147940640685,
          null,
          -0.7343171198974205,
          -0.7661421004477821,
          null,
          0.4948970810898283,
          0.4839473379773205,
          null,
          0.4948970810898283,
          0.301287028237845,
          null,
          0.4948970810898283,
          0.9203712723805298,
          null,
          -0.5668947271752139,
          -0.6369127252955518,
          null,
          -0.5668947271752139,
          0.7825406042171217,
          null,
          -0.5668947271752139,
          -1,
          null,
          -0.5668947271752139,
          -0.25551400681572,
          null,
          -0.5668947271752139,
          -0.8219941328018214,
          null,
          -0.5668947271752139,
          -0.13001080825450487,
          null,
          -0.5668947271752139,
          0.03385354058503885,
          null,
          -0.5668947271752139,
          -0.775147940640685,
          null,
          -0.5668947271752139,
          -0.9100793133820841,
          null,
          -0.5668947271752139,
          -0.4492373499940553,
          null,
          0.43223298318922165,
          0.21092462266947737,
          null,
          0.43223298318922165,
          0.5097409929547759,
          null,
          0.021528122878007427,
          0.012734286688046853,
          null,
          0.021528122878007427,
          0.008483669108230693,
          null,
          0.021528122878007427,
          0.025876960125765874,
          null,
          0.021528122878007427,
          -0.008279942288303836,
          null,
          0.021528122878007427,
          -0.018532969216124035,
          null,
          0.021528122878007427,
          -0.001445716162289143,
          null,
          -1,
          -0.8219941328018214,
          null,
          0.02620488184858333,
          -0.13001080825450487,
          null,
          0.02620488184858333,
          -0.052704681787323925,
          null,
          0.02620488184858333,
          0.08757202135935493,
          null,
          0.02620488184858333,
          -0.0010721474844605982,
          null,
          0.02620488184858333,
          0.5020690560311065,
          null,
          0.02620488184858333,
          0.15959711697985784,
          null,
          0.02620488184858333,
          0.5194875891500568,
          null,
          0.02620488184858333,
          -0.4691351271347512,
          null,
          0.02620488184858333,
          -0.28911111146535673,
          null,
          0.02620488184858333,
          -0.5835246757106499,
          null,
          -0.25551400681572,
          -0.16128701120936806,
          null,
          -0.25551400681572,
          -0.18661440082449907,
          null,
          -0.25551400681572,
          -0.13001080825450487,
          null,
          -0.25551400681572,
          -0.3052022459704267,
          null,
          -0.25551400681572,
          -0.5668947271752139,
          null,
          -0.25551400681572,
          -0.16747103432386162,
          null,
          -0.25551400681572,
          -0.3317435348469645,
          null,
          -0.25551400681572,
          -0.17955422310751623,
          null,
          -0.7661421004477821,
          -0.775147940640685,
          null,
          -0.7661421004477821,
          -0.7343171198974205,
          null,
          -0.5523010180430449,
          -0.5835246757106499,
          null,
          -0.5523010180430449,
          -0.5795655820733954,
          null,
          -0.5523010180430449,
          -0.5510983408754915,
          null,
          -0.5523010180430449,
          -0.5664331281160925,
          null,
          -0.5284687748147914,
          -0.28911111146535673,
          null,
          -0.5284687748147914,
          -0.7692799111452867,
          null,
          -0.5284687748147914,
          -0.8002925119686415,
          null,
          -0.5284687748147914,
          -0.5463061338734339,
          null,
          -0.5284687748147914,
          -0.5851524637521247,
          null,
          -0.5284687748147914,
          -0.25462417459229697,
          null,
          -0.5284687748147914,
          -0.5793092210172476,
          null,
          -0.008279942288303836,
          0.012734286688046853,
          null,
          -0.008279942288303836,
          -0.018532969216124035,
          null,
          -0.008279942288303836,
          0.008483669108230693,
          null,
          -0.008279942288303836,
          -0.001445716162289143,
          null,
          -0.008279942288303836,
          0.025876960125765874,
          null,
          -0.008279942288303836,
          0.021528122878007427,
          null,
          -0.5851524637521247,
          -0.28911111146535673,
          null,
          -0.5851524637521247,
          -0.8002925119686415,
          null,
          -0.5851524637521247,
          -0.7692799111452867,
          null,
          -0.5851524637521247,
          -0.5463061338734339,
          null,
          -0.5851524637521247,
          -0.5793092210172476,
          null,
          -0.13001080825450487,
          -0.052704681787323925,
          null,
          -0.13001080825450487,
          0.02620488184858333,
          null,
          -0.13001080825450487,
          0.08757202135935493,
          null,
          -0.13001080825450487,
          -0.0010721474844605982,
          null,
          -0.13001080825450487,
          -0.2646814764711363,
          null,
          -0.13001080825450487,
          -0.25551400681572,
          null,
          -0.13001080825450487,
          -0.775147940640685,
          null,
          -0.13001080825450487,
          -0.05948718960776983,
          null,
          -0.13001080825450487,
          -0.8317244144904526,
          null,
          -0.13001080825450487,
          0.21092462266947737,
          null,
          -0.13001080825450487,
          -0.5668947271752139,
          null,
          -0.001445716162289143,
          0.012734286688046853,
          null,
          -0.001445716162289143,
          -0.008279942288303836,
          null,
          -0.001445716162289143,
          0.008483669108230693,
          null,
          -0.001445716162289143,
          -0.018532969216124035,
          null,
          -0.001445716162289143,
          0.025876960125765874,
          null,
          -0.001445716162289143,
          0.021528122878007427,
          null,
          -0.3317435348469645,
          -0.13001080825450487,
          null,
          -0.3317435348469645,
          0.8833828371374344,
          null,
          -0.3317435348469645,
          -0.3052022459704267,
          null,
          -0.3317435348469645,
          -0.25551400681572,
          null,
          -0.3317435348469645,
          -0.5668947271752139,
          null,
          -0.5793092210172476,
          -0.28911111146535673,
          null,
          -0.5793092210172476,
          -0.8002925119686415,
          null,
          -0.5793092210172476,
          -0.7692799111452867,
          null,
          -0.5793092210172476,
          -0.5463061338734339,
          null,
          -0.5793092210172476,
          -0.5851524637521247,
          null,
          0.17695003997075334,
          0.15959711697985784,
          null,
          0.17695003997075334,
          0.18540906356487505,
          null,
          0.5020690560311065,
          0.5162105325604991,
          null,
          0.5020690560311065,
          0.5257324890031286,
          null,
          0.5020690560311065,
          0.49134411500527914,
          null,
          0.5162105325604991,
          0.5020690560311065,
          null,
          0.5162105325604991,
          0.5257324890031286,
          null,
          0.5162105325604991,
          0.49134411500527914,
          null,
          -0.3052022459704267,
          -0.25551400681572,
          null,
          -0.6369127252955518,
          -0.5668947271752139,
          null,
          0.5194875891500568,
          0.7130314151724471,
          null,
          0.5194875891500568,
          0.8045822585095429,
          null,
          0.5194875891500568,
          0.7582038639770757,
          null,
          0.5194875891500568,
          0.5596109892614878,
          null,
          0.49134411500527914,
          0.5162105325604991,
          null,
          0.49134411500527914,
          0.5020690560311065,
          null,
          0.49134411500527914,
          0.5257324890031286,
          null,
          -0.7692799111452867,
          -0.8002925119686415,
          null,
          0.301287028237845,
          0.4948970810898283,
          null,
          0.301287028237845,
          0.4839473379773205,
          null,
          0.301287028237845,
          -0.052704681787323925,
          null,
          0.301287028237845,
          0.8905534793061419,
          null,
          0.008483669108230693,
          0.012734286688046853,
          null,
          0.008483669108230693,
          -0.008279942288303836,
          null,
          0.008483669108230693,
          -0.018532969216124035,
          null,
          0.008483669108230693,
          -0.001445716162289143,
          null,
          0.008483669108230693,
          0.025876960125765874,
          null,
          0.008483669108230693,
          0.021528122878007427,
          null,
          -0.5664331281160925,
          -0.5835246757106499,
          null,
          -0.5664331281160925,
          -0.5795655820733954,
          null,
          -0.5664331281160925,
          -0.5523010180430449,
          null,
          -0.5664331281160925,
          -0.5510983408754915,
          null,
          -0.5835246757106499,
          -0.5664331281160925,
          null,
          -0.5835246757106499,
          -0.5795655820733954,
          null,
          -0.5835246757106499,
          -0.5523010180430449,
          null,
          -0.5835246757106499,
          -0.5510983408754915,
          null,
          0.7852622032086971,
          0.4839473379773205,
          null,
          0.7852622032086971,
          0.7839537920686427,
          null,
          0.7852622032086971,
          0.34883326372045814,
          null,
          0.7852622032086971,
          0.6725672691471027,
          null,
          0.012734286688046853,
          -0.008279942288303836,
          null,
          0.012734286688046853,
          0.008483669108230693,
          null,
          0.012734286688046853,
          0.025876960125765874,
          null,
          0.012734286688046853,
          -0.018532969216124035,
          null,
          0.012734286688046853,
          -0.001445716162289143,
          null,
          0.012734286688046853,
          0.021528122878007427,
          null,
          -0.5510983408754915,
          -0.5835246757106499,
          null,
          -0.5510983408754915,
          -0.5795655820733954,
          null,
          -0.5510983408754915,
          -0.5523010180430449,
          null,
          -0.5510983408754915,
          -0.5664331281160925,
          null,
          -0.8219941328018214,
          -1,
          null,
          -0.8219941328018214,
          -0.5668947271752139,
          null,
          -0.853006678227478,
          -0.8317244144904526,
          null,
          0.8168186043641564,
          0.7859822477185523,
          null,
          -0.34610373592239063,
          0.03385354058503885,
          null,
          -0.34610373592239063,
          -0.723348116106338,
          null,
          -0.34610373592239063,
          -0.38684645392540673,
          null,
          0.8045822585095429,
          0.7582038639770757,
          null,
          -0.5795655820733954,
          -0.5835246757106499,
          null,
          -0.5795655820733954,
          -0.5523010180430449,
          null,
          -0.5795655820733954,
          -0.5510983408754915,
          null,
          -0.5795655820733954,
          -0.5664331281160925,
          null,
          0.4862642734731538,
          0.21092462266947737,
          null,
          -0.8002925119686415,
          -0.7692799111452867,
          null,
          -0.5745048623208008,
          -0.28911111146535673,
          null,
          -0.5745048623208008,
          -0.8002925119686415,
          null,
          -0.5745048623208008,
          -0.7692799111452867,
          null,
          -0.5745048623208008,
          -0.5463061338734339,
          null,
          -0.5745048623208008,
          -0.5851524637521247,
          null,
          -0.28911111146535673,
          -0.7692799111452867,
          null,
          -0.28911111146535673,
          -0.25462417459229697,
          null,
          -0.28911111146535673,
          -0.5284687748147914,
          null,
          -0.28911111146535673,
          -0.8002925119686415,
          null,
          -0.28911111146535673,
          -0.5793092210172476,
          null,
          -0.28911111146535673,
          -0.5463061338734339,
          null,
          -0.28911111146535673,
          0.7859822477185523,
          null,
          -0.28911111146535673,
          -0.2758034054589482,
          null,
          -0.28911111146535673,
          -0.5745048623208008,
          null,
          -0.28911111146535673,
          -0.744169627524291,
          null,
          -0.28911111146535673,
          -0.5851524637521247,
          null,
          -0.28911111146535673,
          0.036799245686394415,
          null,
          0.15959711697985784,
          0.18540906356487505,
          null,
          0.15959711697985784,
          0.17695003997075334,
          null,
          -0.44721456029203976,
          -0.2646814764711363,
          null,
          0.25141005452082577,
          -0.13001080825450487,
          null,
          0.25141005452082577,
          0.4839473379773205,
          null,
          0.25141005452082577,
          -0.775147940640685,
          null,
          0.25141005452082577,
          -0.7661421004477821,
          null,
          0.7839537920686427,
          0.4839473379773205,
          null,
          -0.17955422310751623,
          -0.25551400681572,
          null,
          -0.23583267680193598,
          -0.318904864292472,
          null
         ]
        },
        {
         "hoverinfo": "text",
         "marker": {
          "color": [
           0,
           1,
           0,
           2,
           10,
           2,
           0,
           2,
           6,
           2,
           1,
           4,
           7,
           3,
           0,
           1,
           1,
           0,
           3,
           0,
           1,
           0,
           1,
           4,
           0,
           0,
           3,
           13,
           2,
           3,
           6,
           1,
           9,
           1,
           3,
           0,
           0,
           3,
           10,
           1,
           1,
           4,
           2,
           12,
           10,
           2,
           8,
           2,
           0,
           3,
           10,
           0,
           2,
           6,
           0,
           1,
           10,
           8,
           2,
           4,
           7,
           6,
           5,
           11,
           6,
           0,
           5,
           0,
           5,
           2,
           3,
           3,
           1,
           1,
           4,
           0,
           0,
           3,
           1,
           4,
           6,
           0,
           4,
           4,
           0,
           0,
           4,
           6,
           4,
           2,
           1,
           1,
           3,
           1,
           4,
           1,
           0,
           1,
           0,
           5,
           0,
           0,
           12,
           2,
           1,
           4,
           0,
           1,
           1,
           1,
           0
          ],
          "colorbar": {
           "thickness": 15,
           "title": {
            "side": "right",
            "text": "Node Connections"
           },
           "xanchor": "left"
          },
          "colorscale": [
           [
            0,
            "rgb(255,255,217)"
           ],
           [
            0.125,
            "rgb(237,248,177)"
           ],
           [
            0.25,
            "rgb(199,233,180)"
           ],
           [
            0.375,
            "rgb(127,205,187)"
           ],
           [
            0.5,
            "rgb(65,182,196)"
           ],
           [
            0.625,
            "rgb(29,145,192)"
           ],
           [
            0.75,
            "rgb(34,94,168)"
           ],
           [
            0.875,
            "rgb(37,52,148)"
           ],
           [
            1,
            "rgb(8,29,88)"
           ]
          ],
          "line": {
           "width": 2
          },
          "reversescale": true,
          "showscale": true,
          "size": [
           20.08212954562423,
           15.723367640546225,
           15.415378672514095,
           19.871172794053823,
           19.988153484896646,
           24.274976462690706,
           15.833705452125447,
           17.52803434217006,
           21.636440976324952,
           15.55377926689288,
           23.282065957848992,
           19.495216791032952,
           19.31008241210703,
           23.099889845541647,
           20.747144817899606,
           17.42522410040701,
           21.364528510931677,
           18.010183868764134,
           17.773145647308176,
           17.09507760653483,
           16.70726475413145,
           20.79550781243751,
           15.910666150653569,
           21.276397634311678,
           24.581184085865473,
           16.31453014056421,
           17.931574340092798,
           20.67141753591249,
           13.598168841844732,
           13.666334975076676,
           19.836150545585525,
           20.133203685010706,
           18.881666650441023,
           22.570800964145672,
           20.573115523215915,
           15.836173665488403,
           5.169925001442312,
           20.680030661075,
           22.497165988876866,
           23.728581650951327,
           15.707278237073663,
           11.56081046872794,
           23.575424874514496,
           21.963669765228328,
           21.218450308380675,
           15.402112722708882,
           21.364528510931677,
           17.278676313471625,
           25.648559491156774,
           20.2065768091335,
           20.107892618685348,
           22.23315650856324,
           13.154976290625738,
           15.330391733402912,
           19.32333848850874,
           14.638266201800386,
           16.747157113536595,
           21.10149421196414,
           19.192198885954774,
           22.23315650856324,
           14.385390590256906,
           21.747144408043233,
           22.136335632927786,
           22.942348587071827,
           17.42522410040701,
           15.59225262541687,
           20.582334047354824,
           16.720685145051128,
           20.416996426990504,
           22.259256220889643,
           21.035905900159705,
           22.647462159460048,
           22.61414209139059,
           14.54478336030191,
           15.70187497972916,
           17.23258019347619,
           19.868160906665654,
           21.042600549627135,
           20.64526526385936,
           17.609647687893982,
           20.25349781836711,
           20.73892431577871,
           21.90242259169906,
           23.97596277611869,
           20.75531874471416,
           20.241909853399598,
           15.666251746671813,
           23.455130650832924,
           17.960143379137463,
           20.321136482380403,
           17.375183707216244,
           19.645266143550657,
           24.357833391128366,
           19.255805436217532,
           20.416996426990504,
           18.988154872101415,
           19.271848253227713,
           21.87642738985765,
           12.49460561567122,
           18.591496780114436,
           18.120607455793174,
           22.218450012746533,
           23.174933147361546,
           23.139461577101326,
           21.062500097915333,
           17.848433447125558,
           21.649656591793754,
           20.981200034002732,
           9.411510988012072,
           22.730656082681932,
           17.213721289489193
          ]
         },
         "mode": "markers",
         "text": [
          "The Bucket List Family has 0 connections and 1110000 subscribers",
          "Free Range American Podcast has 1 connections and 54100 subscribers",
          "Daniel James has 0 connections and 43700 subscribers",
          "TEAMSUPERTRAMP has 2 connections and 959000 subscribers",
          "Rooster Teeth Animation has 10 connections and 1040000 subscribers",
          "JennaMarbles has 2 connections and 20300000 subscribers",
          "mike diva 2 has 0 connections and 58400 subscribers",
          "Red Giant has 2 connections and 189000 subscribers",
          "Node has 6 connections and 3260000 subscribers",
          "Fury Fingers - GOONS INC - Out Now! has 2 connections and 48100 subscribers",
          "Tanner Fox has 1 connections and 10200000 subscribers",
          "Channel Super Fun has 4 connections and 739000 subscribers",
          "Mike Diva has 7 connections and 650000 subscribers",
          "RocketJump has 3 connections and 8990000 subscribers",
          "Tessa Violet has 0 connections and 1760000 subscribers",
          "Adi Shankar's BOOTLEG UNIVERSE has 1 connections and 176000 subscribers",
          "Joe Penna / MysteryGuitarMan has 1 connections and 2700000 subscribers",
          "Cinematography Database has 0 connections and 264000 subscribers",
          "Guillotine Channel has 3 connections and 224000 subscribers",
          "Spacestation Gaming has 0 connections and 140000 subscribers",
          "Spacestation Stuff has 1 connections and 107000 subscribers",
          "communitychannel has 0 connections and 1820000 subscribers",
          "Megasteakman has 1 connections and 61600 subscribers",
          "Peter Hollens has 4 connections and 2540000 subscribers",
          "Smosh has 0 connections and 25100000 subscribers",
          "Game Kids has 0 connections and 81500 subscribers",
          "Cerberusarms has 3 connections and 250000 subscribers",
          "Film Riot has 13 connections and 1670000 subscribers",
          "VFX Productions has 2 connections and 12400 subscribers",
          "Atomic Punch has 3 connections and 13000 subscribers",
          "ShortCircuit has 6 connections and 936000 subscribers",
          "BrandonJLa has 1 connections and 1150000 subscribers",
          "GameFails has 9 connections and 483000 subscribers",
          "RackaRacka has 1 connections and 6230000 subscribers",
          "H3 Podcast Highlights has 3 connections and 1560000 subscribers",
          "RampantMedia has 0 connections and 58500 subscribers",
          "Lemacks Media has 0 connections and 35 subscribers",
          "Funhaus has 3 connections and 1680000 subscribers",
          "devinsupertramp has 10 connections and 5920000 subscribers",
          "The Slow Mo Guys has 1 connections and 13900000 subscribers",
          "Coffee or Die has 1 connections and 53500 subscribers",
          "johnyboz has 4 connections and 3020 subscribers",
          "Lindsey Stirling has 2 connections and 12500000 subscribers",
          "Corridor Crew has 12 connections and 4090000 subscribers",
          "Shonduras has 10 connections and 2440000 subscribers",
          "Dorothy Gee has 2 connections and 43300 subscribers",
          "Anna Akana has 8 connections and 2700000 subscribers",
          "RocketJump 2 has 2 connections and 159000 subscribers",
          "Dude Perfect has 0 connections and 52600000 subscribers",
          "Indy Mogul has 3 connections and 1210000 subscribers",
          "SoKrispyMedia has 10 connections and 1130000 subscribers",
          "Peter McKinnon has 0 connections and 4930000 subscribers",
          "Visual Escape has 2 connections and 9120 subscribers",
          "Carpool Critics has 6 connections and 41200 subscribers",
          "Bill Burr has 0 connections and 656000 subscribers",
          "Andrew Gerlicher Music has 1 connections and 25500 subscribers",
          "Corridor Cast has 10 connections and 110000 subscribers",
          "Nukazooka has 8 connections and 2250000 subscribers",
          "RocketJump Film School has 2 connections and 599000 subscribers",
          "Rhett & Link has 4 connections and 4930000 subscribers",
          "Rooster Teeth Trailers has 7 connections and 21400 subscribers",
          "Techquickie has 6 connections and 3520000 subscribers",
          "DEATH BATTLE! has 5 connections and 4610000 subscribers",
          "Corridor has 11 connections and 8060000 subscribers",
          "LMG Clips has 6 connections and 176000 subscribers",
          "The Film Look has 0 connections and 49400 subscribers",
          "Mr.TVCow has 5 connections and 1570000 subscribers",
          "Game Attack has 0 connections and 108000 subscribers",
          "Inside Gaming has 5 connections and 1400000 subscribers",
          "JRE Clips has 2 connections and 5020000 subscribers",
          "H3 Podcast has 3 connections and 2150000 subscribers",
          "h3h3Productions has 3 connections and 6570000 subscribers",
          "TomSka has 1 connections and 6420000 subscribers",
          "SamWickert has 1 connections and 23900 subscribers",
          "Drinkin' Bros Podcast has 4 connections and 53300 subscribers",
          "Pyrobot has 0 connections and 154000 subscribers",
          "WATSKY! has 0 connections and 957000 subscribers",
          "Ethan and Hila has 3 connections and 2160000 subscribers",
          "Achievement Hunter has 1 connections and 1640000 subscribers",
          "Aputure has 4 connections and 200000 subscribers",
          "TechLinked has 6 connections and 1250000 subscribers",
          "ScottDW has 0 connections and 1750000 subscribers",
          "Good Mythical MORE has 4 connections and 3920000 subscribers",
          "Good Mythical Morning has 4 connections and 16500000 subscribers",
          "Hulu has 0 connections and 1770000 subscribers",
          "The Modern Rogue has 0 connections and 1240000 subscribers",
          "Film Riot Extras has 4 connections and 52000 subscribers",
          "Linus Tech Tips has 6 connections and 11500000 subscribers",
          "Ear Biscuits has 4 connections and 255000 subscribers",
          "FinalCutKing has 2 connections and 1310000 subscribers",
          "Left On Red has 1 connections and 170000 subscribers",
          "The Slow Mo Guys 2 has 1 connections and 820000 subscribers",
          "nigahiga has 3 connections and 21500000 subscribers",
          "Black Rifle Coffee Company has 1 connections and 626000 subscribers",
          "Mythical Kitchen has 4 connections and 1400000 subscribers",
          "Jacob + Katie Schwarz has 1 connections and 520000 subscribers",
          "Video Copilot has 0 connections and 633000 subscribers",
          "LetsPlay has 1 connections and 3850000 subscribers",
          "Justin Robinson has 0 connections and 5770 subscribers",
          "LetsPlay Community has 5 connections and 395000 subscribers",
          "Joe Rogan has 0 connections and 285000 subscribers",
          "Shot of The Yeagers has 0 connections and 4880000 subscribers",
          "Rooster Teeth has 12 connections and 9470000 subscribers",
          "PowerfulJRE has 2 connections and 9240000 subscribers",
          "A for Adley - Learning & Fun has 1 connections and 2190000 subscribers",
          "FXhome has 4 connections and 236000 subscribers",
          "Wong Fu Productions has 0 connections and 3290000 subscribers",
          "Variant Comics has 1 connections and 2070000 subscribers",
          "Lane Carter has 1 connections and 680 subscribers",
          "What's Inside? has 1 connections and 6960000 subscribers",
          "ColinandConnor has 0 connections and 152000 subscribers"
         ],
         "type": "scatter",
         "x": [
          -0.8966181298822992,
          -0.413124715212293,
          -0.15454969762830045,
          -0.3594497056759339,
          0.38331301780835025,
          0.6912916592688455,
          -0.618675470220727,
          0.5116135283696239,
          0.04660155619428619,
          -0.48236428470578685,
          0.7702315032497361,
          0.7211038890787325,
          0.4411563605142947,
          -0.20490179879769047,
          0.9813367974473564,
          0.7048681534862284,
          0.2586086966556305,
          -0.013517873262397067,
          -0.14348417597232138,
          1,
          0.24811423100177857,
          -0.8657916146074277,
          0.733896730077924,
          -0.49498014391686873,
          0.9832190416310278,
          -0.6167956869590948,
          -0.0860653131518218,
          0.27120419128094286,
          0.35510784374732374,
          0.08714265999546487,
          0.7070096263668171,
          0.2838188165935465,
          0.1782181079858652,
          0.3060864974564021,
          -0.5992949630895995,
          0.8458085937586403,
          -0.8277454917332191,
          0.30287694671163146,
          -0.22099495886888088,
          0.42512096577374936,
          -0.4301037131909245,
          -0.1465585842924227,
          -0.4888528098526013,
          0.04152840625139912,
          0.1864201950100204,
          0.5505611612880209,
          0.21393256800607882,
          -0.23631501570084534,
          0.13908375126663033,
          0.42125144801916714,
          -0.45174085553161986,
          -0.41439061688637296,
          -0.3912062371649625,
          0.6826730084714511,
          -0.8180737377095322,
          -0.8135536556746302,
          -0.04692163813436806,
          -0.29126960153356735,
          -0.24491857856637247,
          -0.45042676271745896,
          0.36152164406124565,
          0.696778805928539,
          0.3388483827299959,
          -0.05884479669558018,
          0.680172278647154,
          0.8743744896282886,
          -0.35027005132696104,
          -0.9523765776665964,
          0.3409893182958833,
          -0.7625799738580944,
          -0.595590002377774,
          -0.6236004288457091,
          -0.5675991063061935,
          -0.3125727375706795,
          -0.4399600194065376,
          -0.9547223302206788,
          -0.29974229673651087,
          -0.6177001959503939,
          0.5355919541811115,
          0.2571042916622946,
          0.7186446658218892,
          0.30156411611657347,
          -0.41747512495753786,
          -0.43438627113631395,
          -0.15817121619443947,
          -0.02615329045407808,
          0.40791890144087073,
          0.6944145782513022,
          -0.43167080746725806,
          -0.6632186732514179,
          0.3285451003449617,
          0.44343229491108777,
          0.22937156593953723,
          -0.4569129978410683,
          -0.457857575933319,
          -0.2444419456488583,
          0.9687170149109836,
          0.5381455754292878,
          -0.2930021505497675,
          0.3454925043310181,
          -0.8704492105576002,
          0.09659454856938517,
          0.07047727834570942,
          -0.75384003123771,
          0.37520049621115864,
          0.10094004013459702,
          -0.5269697739287841,
          0.24136807044844294,
          -0.5566520337268325,
          -0.6434008680480571,
          0.6818910840910616
         ],
         "y": [
          -0.318904864292472,
          0.7130314151724471,
          0.9972400551977464,
          0.5097409929547759,
          -0.25462417459229697,
          -0.18024095045639288,
          0.6775441881563282,
          0.6725672691471027,
          0.08757202135935493,
          -0.4492373499940553,
          0.1467553461166268,
          -0.018532969216124035,
          -0.05948718960776983,
          -0.775147940640685,
          -0.15617822756850233,
          0.043951619027471495,
          -0.38684645392540673,
          0.9203712723805298,
          -0.0010721474844605982,
          0.18346101455899497,
          -0.5207652726198264,
          0.3738126036567702,
          -0.06868044137734938,
          0.3000770497556341,
          0.03385354058503885,
          -0.744169627524291,
          0.13276497232960938,
          0.4839473379773205,
          0.7234397340768005,
          -0.16747103432386162,
          0.025876960125765874,
          0.18328425282352206,
          -0.2758034054589482,
          -0.8317244144904526,
          0.5257324890031286,
          0.6233077564162479,
          0.5596109892614878,
          -0.5463061338734339,
          0.21092462266947737,
          0.7859822477185523,
          0.7582038639770757,
          -0.18661440082449907,
          0.38856417313020375,
          -0.052704681787323925,
          -0.2646814764711363,
          -0.6343889758388948,
          -0.037961457542743555,
          -0.7343171198974205,
          0.9478194952920238,
          0.4948970810898283,
          -0.5668947271752139,
          0.8905534793061419,
          0.43223298318922165,
          0.021528122878007427,
          -0.4691351271347512,
          -1,
          0.02620488184858333,
          -0.25551400681572,
          -0.7661421004477821,
          -0.5523010180430449,
          -0.5284687748147914,
          -0.008279942288303836,
          -0.5851524637521247,
          -0.13001080825450487,
          -0.001445716162289143,
          0.4964675459443337,
          -0.3317435348469645,
          0.036799245686394415,
          -0.5793092210172476,
          0.17695003997075334,
          0.5020690560311065,
          0.5162105325604991,
          -0.3052022459704267,
          -0.6369127252955518,
          0.5194875891500568,
          -0.16128701120936806,
          0.9564529170002428,
          0.49134411500527914,
          -0.7692799111452867,
          0.301287028237845,
          0.008483669108230693,
          0.8833828371374344,
          -0.5664331281160925,
          -0.5835246757106499,
          -0.8314932449658827,
          -0.8686913655599163,
          0.7852622032086971,
          0.012734286688046853,
          -0.5510983408754915,
          -0.8219941328018214,
          -0.853006678227478,
          0.8168186043641564,
          -0.34610373592239063,
          0.8045822585095429,
          -0.5795655820733954,
          0.4862642734731538,
          0.34883326372045814,
          -0.8002925119686415,
          -0.9100793133820841,
          -0.5745048623208008,
          0.18540906356487505,
          -0.9300756348570551,
          -0.28911111146535673,
          0.15959711697985784,
          -0.44721456029203976,
          0.25141005452082577,
          -0.723348116106338,
          0.7839537920686427,
          -0.17955422310751623,
          -0.23583267680193598,
          0.7825406042171217
         ]
        }
       ],
       "layout": {
        "annotations": [
         {
          "showarrow": false,
          "text": "Graph of connected channels",
          "x": 0.005,
          "xref": "paper",
          "y": -0.002,
          "yref": "paper"
         }
        ],
        "autosize": true,
        "hovermode": "closest",
        "margin": {
         "b": 20,
         "l": 5,
         "r": 5,
         "t": 40
        },
        "showlegend": false,
        "template": {
         "data": {
          "bar": [
           {
            "error_x": {
             "color": "#2a3f5f"
            },
            "error_y": {
             "color": "#2a3f5f"
            },
            "marker": {
             "line": {
              "color": "#E5ECF6",
              "width": 0.5
             }
            },
            "type": "bar"
           }
          ],
          "barpolar": [
           {
            "marker": {
             "line": {
              "color": "#E5ECF6",
              "width": 0.5
             }
            },
            "type": "barpolar"
           }
          ],
          "carpet": [
           {
            "aaxis": {
             "endlinecolor": "#2a3f5f",
             "gridcolor": "white",
             "linecolor": "white",
             "minorgridcolor": "white",
             "startlinecolor": "#2a3f5f"
            },
            "baxis": {
             "endlinecolor": "#2a3f5f",
             "gridcolor": "white",
             "linecolor": "white",
             "minorgridcolor": "white",
             "startlinecolor": "#2a3f5f"
            },
            "type": "carpet"
           }
          ],
          "choropleth": [
           {
            "colorbar": {
             "outlinewidth": 0,
             "ticks": ""
            },
            "type": "choropleth"
           }
          ],
          "contour": [
           {
            "colorbar": {
             "outlinewidth": 0,
             "ticks": ""
            },
            "colorscale": [
             [
              0,
              "#0d0887"
             ],
             [
              0.1111111111111111,
              "#46039f"
             ],
             [
              0.2222222222222222,
              "#7201a8"
             ],
             [
              0.3333333333333333,
              "#9c179e"
             ],
             [
              0.4444444444444444,
              "#bd3786"
             ],
             [
              0.5555555555555556,
              "#d8576b"
             ],
             [
              0.6666666666666666,
              "#ed7953"
             ],
             [
              0.7777777777777778,
              "#fb9f3a"
             ],
             [
              0.8888888888888888,
              "#fdca26"
             ],
             [
              1,
              "#f0f921"
             ]
            ],
            "type": "contour"
           }
          ],
          "contourcarpet": [
           {
            "colorbar": {
             "outlinewidth": 0,
             "ticks": ""
            },
            "type": "contourcarpet"
           }
          ],
          "heatmap": [
           {
            "colorbar": {
             "outlinewidth": 0,
             "ticks": ""
            },
            "colorscale": [
             [
              0,
              "#0d0887"
             ],
             [
              0.1111111111111111,
              "#46039f"
             ],
             [
              0.2222222222222222,
              "#7201a8"
             ],
             [
              0.3333333333333333,
              "#9c179e"
             ],
             [
              0.4444444444444444,
              "#bd3786"
             ],
             [
              0.5555555555555556,
              "#d8576b"
             ],
             [
              0.6666666666666666,
              "#ed7953"
             ],
             [
              0.7777777777777778,
              "#fb9f3a"
             ],
             [
              0.8888888888888888,
              "#fdca26"
             ],
             [
              1,
              "#f0f921"
             ]
            ],
            "type": "heatmap"
           }
          ],
          "heatmapgl": [
           {
            "colorbar": {
             "outlinewidth": 0,
             "ticks": ""
            },
            "colorscale": [
             [
              0,
              "#0d0887"
             ],
             [
              0.1111111111111111,
              "#46039f"
             ],
             [
              0.2222222222222222,
              "#7201a8"
             ],
             [
              0.3333333333333333,
              "#9c179e"
             ],
             [
              0.4444444444444444,
              "#bd3786"
             ],
             [
              0.5555555555555556,
              "#d8576b"
             ],
             [
              0.6666666666666666,
              "#ed7953"
             ],
             [
              0.7777777777777778,
              "#fb9f3a"
             ],
             [
              0.8888888888888888,
              "#fdca26"
             ],
             [
              1,
              "#f0f921"
             ]
            ],
            "type": "heatmapgl"
           }
          ],
          "histogram": [
           {
            "marker": {
             "colorbar": {
              "outlinewidth": 0,
              "ticks": ""
             }
            },
            "type": "histogram"
           }
          ],
          "histogram2d": [
           {
            "colorbar": {
             "outlinewidth": 0,
             "ticks": ""
            },
            "colorscale": [
             [
              0,
              "#0d0887"
             ],
             [
              0.1111111111111111,
              "#46039f"
             ],
             [
              0.2222222222222222,
              "#7201a8"
             ],
             [
              0.3333333333333333,
              "#9c179e"
             ],
             [
              0.4444444444444444,
              "#bd3786"
             ],
             [
              0.5555555555555556,
              "#d8576b"
             ],
             [
              0.6666666666666666,
              "#ed7953"
             ],
             [
              0.7777777777777778,
              "#fb9f3a"
             ],
             [
              0.8888888888888888,
              "#fdca26"
             ],
             [
              1,
              "#f0f921"
             ]
            ],
            "type": "histogram2d"
           }
          ],
          "histogram2dcontour": [
           {
            "colorbar": {
             "outlinewidth": 0,
             "ticks": ""
            },
            "colorscale": [
             [
              0,
              "#0d0887"
             ],
             [
              0.1111111111111111,
              "#46039f"
             ],
             [
              0.2222222222222222,
              "#7201a8"
             ],
             [
              0.3333333333333333,
              "#9c179e"
             ],
             [
              0.4444444444444444,
              "#bd3786"
             ],
             [
              0.5555555555555556,
              "#d8576b"
             ],
             [
              0.6666666666666666,
              "#ed7953"
             ],
             [
              0.7777777777777778,
              "#fb9f3a"
             ],
             [
              0.8888888888888888,
              "#fdca26"
             ],
             [
              1,
              "#f0f921"
             ]
            ],
            "type": "histogram2dcontour"
           }
          ],
          "mesh3d": [
           {
            "colorbar": {
             "outlinewidth": 0,
             "ticks": ""
            },
            "type": "mesh3d"
           }
          ],
          "parcoords": [
           {
            "line": {
             "colorbar": {
              "outlinewidth": 0,
              "ticks": ""
             }
            },
            "type": "parcoords"
           }
          ],
          "pie": [
           {
            "automargin": true,
            "type": "pie"
           }
          ],
          "scatter": [
           {
            "marker": {
             "colorbar": {
              "outlinewidth": 0,
              "ticks": ""
             }
            },
            "type": "scatter"
           }
          ],
          "scatter3d": [
           {
            "line": {
             "colorbar": {
              "outlinewidth": 0,
              "ticks": ""
             }
            },
            "marker": {
             "colorbar": {
              "outlinewidth": 0,
              "ticks": ""
             }
            },
            "type": "scatter3d"
           }
          ],
          "scattercarpet": [
           {
            "marker": {
             "colorbar": {
              "outlinewidth": 0,
              "ticks": ""
             }
            },
            "type": "scattercarpet"
           }
          ],
          "scattergeo": [
           {
            "marker": {
             "colorbar": {
              "outlinewidth": 0,
              "ticks": ""
             }
            },
            "type": "scattergeo"
           }
          ],
          "scattergl": [
           {
            "marker": {
             "colorbar": {
              "outlinewidth": 0,
              "ticks": ""
             }
            },
            "type": "scattergl"
           }
          ],
          "scattermapbox": [
           {
            "marker": {
             "colorbar": {
              "outlinewidth": 0,
              "ticks": ""
             }
            },
            "type": "scattermapbox"
           }
          ],
          "scatterpolar": [
           {
            "marker": {
             "colorbar": {
              "outlinewidth": 0,
              "ticks": ""
             }
            },
            "type": "scatterpolar"
           }
          ],
          "scatterpolargl": [
           {
            "marker": {
             "colorbar": {
              "outlinewidth": 0,
              "ticks": ""
             }
            },
            "type": "scatterpolargl"
           }
          ],
          "scatterternary": [
           {
            "marker": {
             "colorbar": {
              "outlinewidth": 0,
              "ticks": ""
             }
            },
            "type": "scatterternary"
           }
          ],
          "surface": [
           {
            "colorbar": {
             "outlinewidth": 0,
             "ticks": ""
            },
            "colorscale": [
             [
              0,
              "#0d0887"
             ],
             [
              0.1111111111111111,
              "#46039f"
             ],
             [
              0.2222222222222222,
              "#7201a8"
             ],
             [
              0.3333333333333333,
              "#9c179e"
             ],
             [
              0.4444444444444444,
              "#bd3786"
             ],
             [
              0.5555555555555556,
              "#d8576b"
             ],
             [
              0.6666666666666666,
              "#ed7953"
             ],
             [
              0.7777777777777778,
              "#fb9f3a"
             ],
             [
              0.8888888888888888,
              "#fdca26"
             ],
             [
              1,
              "#f0f921"
             ]
            ],
            "type": "surface"
           }
          ],
          "table": [
           {
            "cells": {
             "fill": {
              "color": "#EBF0F8"
             },
             "line": {
              "color": "white"
             }
            },
            "header": {
             "fill": {
              "color": "#C8D4E3"
             },
             "line": {
              "color": "white"
             }
            },
            "type": "table"
           }
          ]
         },
         "layout": {
          "annotationdefaults": {
           "arrowcolor": "#2a3f5f",
           "arrowhead": 0,
           "arrowwidth": 1
          },
          "coloraxis": {
           "colorbar": {
            "outlinewidth": 0,
            "ticks": ""
           }
          },
          "colorscale": {
           "diverging": [
            [
             0,
             "#8e0152"
            ],
            [
             0.1,
             "#c51b7d"
            ],
            [
             0.2,
             "#de77ae"
            ],
            [
             0.3,
             "#f1b6da"
            ],
            [
             0.4,
             "#fde0ef"
            ],
            [
             0.5,
             "#f7f7f7"
            ],
            [
             0.6,
             "#e6f5d0"
            ],
            [
             0.7,
             "#b8e186"
            ],
            [
             0.8,
             "#7fbc41"
            ],
            [
             0.9,
             "#4d9221"
            ],
            [
             1,
             "#276419"
            ]
           ],
           "sequential": [
            [
             0,
             "#0d0887"
            ],
            [
             0.1111111111111111,
             "#46039f"
            ],
            [
             0.2222222222222222,
             "#7201a8"
            ],
            [
             0.3333333333333333,
             "#9c179e"
            ],
            [
             0.4444444444444444,
             "#bd3786"
            ],
            [
             0.5555555555555556,
             "#d8576b"
            ],
            [
             0.6666666666666666,
             "#ed7953"
            ],
            [
             0.7777777777777778,
             "#fb9f3a"
            ],
            [
             0.8888888888888888,
             "#fdca26"
            ],
            [
             1,
             "#f0f921"
            ]
           ],
           "sequentialminus": [
            [
             0,
             "#0d0887"
            ],
            [
             0.1111111111111111,
             "#46039f"
            ],
            [
             0.2222222222222222,
             "#7201a8"
            ],
            [
             0.3333333333333333,
             "#9c179e"
            ],
            [
             0.4444444444444444,
             "#bd3786"
            ],
            [
             0.5555555555555556,
             "#d8576b"
            ],
            [
             0.6666666666666666,
             "#ed7953"
            ],
            [
             0.7777777777777778,
             "#fb9f3a"
            ],
            [
             0.8888888888888888,
             "#fdca26"
            ],
            [
             1,
             "#f0f921"
            ]
           ]
          },
          "colorway": [
           "#636efa",
           "#EF553B",
           "#00cc96",
           "#ab63fa",
           "#FFA15A",
           "#19d3f3",
           "#FF6692",
           "#B6E880",
           "#FF97FF",
           "#FECB52"
          ],
          "font": {
           "color": "#2a3f5f"
          },
          "geo": {
           "bgcolor": "white",
           "lakecolor": "white",
           "landcolor": "#E5ECF6",
           "showlakes": true,
           "showland": true,
           "subunitcolor": "white"
          },
          "hoverlabel": {
           "align": "left"
          },
          "hovermode": "closest",
          "mapbox": {
           "style": "light"
          },
          "paper_bgcolor": "white",
          "plot_bgcolor": "#E5ECF6",
          "polar": {
           "angularaxis": {
            "gridcolor": "white",
            "linecolor": "white",
            "ticks": ""
           },
           "bgcolor": "#E5ECF6",
           "radialaxis": {
            "gridcolor": "white",
            "linecolor": "white",
            "ticks": ""
           }
          },
          "scene": {
           "xaxis": {
            "backgroundcolor": "#E5ECF6",
            "gridcolor": "white",
            "gridwidth": 2,
            "linecolor": "white",
            "showbackground": true,
            "ticks": "",
            "zerolinecolor": "white"
           },
           "yaxis": {
            "backgroundcolor": "#E5ECF6",
            "gridcolor": "white",
            "gridwidth": 2,
            "linecolor": "white",
            "showbackground": true,
            "ticks": "",
            "zerolinecolor": "white"
           },
           "zaxis": {
            "backgroundcolor": "#E5ECF6",
            "gridcolor": "white",
            "gridwidth": 2,
            "linecolor": "white",
            "showbackground": true,
            "ticks": "",
            "zerolinecolor": "white"
           }
          },
          "shapedefaults": {
           "line": {
            "color": "#2a3f5f"
           }
          },
          "ternary": {
           "aaxis": {
            "gridcolor": "white",
            "linecolor": "white",
            "ticks": ""
           },
           "baxis": {
            "gridcolor": "white",
            "linecolor": "white",
            "ticks": ""
           },
           "bgcolor": "#E5ECF6",
           "caxis": {
            "gridcolor": "white",
            "linecolor": "white",
            "ticks": ""
           }
          },
          "title": {
           "x": 0.05
          },
          "xaxis": {
           "automargin": true,
           "gridcolor": "white",
           "linecolor": "white",
           "ticks": "",
           "title": {
            "standoff": 15
           },
           "zerolinecolor": "white",
           "zerolinewidth": 2
          },
          "yaxis": {
           "automargin": true,
           "gridcolor": "white",
           "linecolor": "white",
           "ticks": "",
           "title": {
            "standoff": 15
           },
           "zerolinecolor": "white",
           "zerolinewidth": 2
          }
         }
        },
        "title": {
         "font": {
          "size": 16
         },
         "text": "<br>Network graph made with Python"
        },
        "xaxis": {
         "autorange": true,
         "range": [
          -1.137802798970578,
          1.1946397825926498
         ],
         "showgrid": false,
         "showticklabels": false,
         "type": "linear",
         "zeroline": false
        },
        "yaxis": {
         "autorange": true,
         "range": [
          -1.1921313172713388,
          1.1947002193348615
         ],
         "showgrid": false,
         "showticklabels": false,
         "type": "linear",
         "zeroline": false
        }
       }
      },
      "image/png": "[encoded data removed]",
      "text/html": [
       "<div>\n",
       "        \n",
       "        \n",
       "            <div id=\"27ff2470-a4a5-460c-829b-dbadfe6a20e3\" class=\"plotly-graph-div\" style=\"height:525px; width:100%;\"></div>\n",
       "            <script type=\"text/javascript\">\n",
       "                require([\"plotly\"], function(Plotly) {\n",
       "                    window.PLOTLYENV=window.PLOTLYENV || {};\n",
       "                    \n",
       "                if (document.getElementById(\"27ff2470-a4a5-460c-829b-dbadfe6a20e3\")) {\n",
       "                    Plotly.newPlot(\n",
       "                        '27ff2470-a4a5-460c-829b-dbadfe6a20e3',\n",
       "                        [{\"hoverinfo\": \"none\", \"line\": {\"color\": \"#888\", \"width\": 0.5}, \"mode\": \"lines\", \"type\": \"scatter\", \"x\": [-0.413124715212293, -0.4569129978410683, null, -0.3594497056759339, -0.22099495886888088, null, -0.3594497056759339, -0.3912062371649625, null, 0.38331301780835025, 0.3388483827299959, null, 0.38331301780835025, 0.07047727834570942, null, 0.38331301780835025, 0.5355919541811115, null, 0.38331301780835025, 0.30287694671163146, null, 0.38331301780835025, 0.5381455754292878, null, 0.38331301780835025, 0.3409893182958833, null, 0.38331301780835025, 0.42512096577374936, null, 0.38331301780835025, 0.36152164406124565, null, 0.38331301780835025, 0.1782181079858652, null, 0.38331301780835025, 0.3454925043310181, null, 0.6912916592688455, 0.4411563605142947, null, 0.6912916592688455, 0.2586086966556305, null, 0.5116135283696239, 0.9687170149109836, null, 0.5116135283696239, 0.27120419128094286, null, 0.04660155619428619, -0.0860653131518218, null, 0.04660155619428619, -0.05884479669558018, null, 0.04660155619428619, 0.04152840625139912, null, 0.04660155619428619, 0.2838188165935465, null, 0.04660155619428619, -0.04692163813436806, null, 0.04660155619428619, -0.14348417597232138, null, -0.48236428470578685, -0.29126960153356735, null, -0.48236428470578685, -0.45174085553161986, null, 0.7702315032497361, 1.0, null, 0.7211038890787325, 0.6944145782513022, null, 0.7211038890787325, 0.696778805928539, null, 0.7211038890787325, 0.7186446658218892, null, 0.7211038890787325, 0.680172278647154, null, 0.4411563605142947, -0.05884479669558018, null, 0.4411563605142947, 0.21393256800607882, null, 0.4411563605142947, 0.733896730077924, null, 0.4411563605142947, 0.7048681534862284, null, 0.4411563605142947, -0.618675470220727, null, 0.4411563605142947, 0.2586086966556305, null, 0.4411563605142947, 0.6912916592688455, null, -0.20490179879769047, -0.23631501570084534, null, -0.20490179879769047, -0.24491857856637247, null, -0.20490179879769047, -0.15817121619443947, null, 0.7048681534862284, 0.4411563605142947, null, 0.2586086966556305, 0.22937156593953723, null, -0.14348417597232138, -0.05884479669558018, null, -0.14348417597232138, 0.04152840625139912, null, -0.14348417597232138, -0.04692163813436806, null, 0.24811423100177857, 0.1864201950100204, null, 0.733896730077924, 0.4411563605142947, null, -0.49498014391686873, -0.4888528098526013, null, -0.49498014391686873, -0.22099495886888088, null, -0.49498014391686873, -0.29974229673651087, null, -0.49498014391686873, 0.2586086966556305, null, -0.0860653131518218, 0.04660155619428619, null, -0.0860653131518218, -0.05884479669558018, null, -0.0860653131518218, -0.20490179879769047, null, 0.27120419128094286, 0.40791890144087073, null, 0.27120419128094286, 0.24136807044844294, null, 0.27120419128094286, 0.35510784374732374, null, 0.27120419128094286, 0.42125144801916714, null, 0.27120419128094286, 0.9687170149109836, null, 0.27120419128094286, 0.2571042916622946, null, 0.27120419128094286, 0.04152840625139912, null, 0.27120419128094286, 0.5116135283696239, null, 0.27120419128094286, -0.15454969762830045, null, 0.27120419128094286, -0.02615329045407808, null, 0.27120419128094286, 0.10094004013459702, null, 0.27120419128094286, -0.013517873262397067, null, 0.27120419128094286, 0.8458085937586403, null, 0.35510784374732374, 0.27120419128094286, null, 0.35510784374732374, 0.40791890144087073, null, 0.08714265999546487, -0.05884479669558018, null, 0.08714265999546487, 0.4411563605142947, null, 0.08714265999546487, -0.29126960153356735, null, 0.7070096263668171, 0.6944145782513022, null, 0.7070096263668171, 0.696778805928539, null, 0.7070096263668171, 0.7186446658218892, null, 0.7070096263668171, 0.7211038890787325, null, 0.7070096263668171, 0.680172278647154, null, 0.7070096263668171, 0.6826730084714511, null, 0.2838188165935465, 0.04660155619428619, null, 0.1782181079858652, 0.07047727834570942, null, 0.1782181079858652, 0.5381455754292878, null, 0.1782181079858652, 0.38331301780835025, null, 0.1782181079858652, 0.3409893182958833, null, 0.1782181079858652, 0.30287694671163146, null, 0.1782181079858652, 0.42512096577374936, null, 0.1782181079858652, 0.3454925043310181, null, 0.1782181079858652, -0.6167956869590948, null, 0.1782181079858652, 0.3388483827299959, null, 0.3060864974564021, 0.3285451003449617, null, -0.5992949630895995, -0.595590002377774, null, -0.5992949630895995, -0.6236004288457091, null, -0.5992949630895995, -0.6177001959503939, null, 0.30287694671163146, 0.07047727834570942, null, 0.30287694671163146, 0.5381455754292878, null, 0.30287694671163146, 0.3409893182958833, null, -0.22099495886888088, -0.3912062371649625, null, -0.22099495886888088, -0.3594497056759339, null, -0.22099495886888088, -0.6434008680480571, null, -0.22099495886888088, -0.05884479669558018, null, -0.22099495886888088, -0.4888528098526013, null, -0.22099495886888088, -0.2444419456488583, null, -0.22099495886888088, 0.13908375126663033, null, -0.22099495886888088, -0.49498014391686873, null, -0.22099495886888088, 0.30156411611657347, null, -0.22099495886888088, 0.1864201950100204, null, 0.42512096577374936, 0.44343229491108777, null, -0.4301037131909245, -0.4569129978410683, null, -0.1465585842924227, -0.29126960153356735, null, -0.1465585842924227, -0.05884479669558018, null, -0.1465585842924227, 0.04152840625139912, null, -0.1465585842924227, -0.20490179879769047, null, -0.4888528098526013, -0.22099495886888088, null, -0.4888528098526013, -0.49498014391686873, null, 0.04152840625139912, -0.05884479669558018, null, 0.04152840625139912, -0.04692163813436806, null, 0.04152840625139912, 0.04660155619428619, null, 0.04152840625139912, -0.14348417597232138, null, 0.04152840625139912, 0.1864201950100204, null, 0.04152840625139912, 0.21393256800607882, null, 0.04152840625139912, 0.4411563605142947, null, 0.04152840625139912, 0.27120419128094286, null, 0.04152840625139912, -0.45174085553161986, null, 0.04152840625139912, 0.42512096577374936, null, 0.04152840625139912, 0.6944145782513022, null, 0.04152840625139912, 0.8743744896282886, null, 0.1864201950100204, 0.37520049621115864, null, 0.1864201950100204, 1.0, null, 0.1864201950100204, 0.7702315032497361, null, 0.1864201950100204, -0.8966181298822992, null, 0.1864201950100204, -0.41439061688637296, null, 0.1864201950100204, 0.5505611612880209, null, 0.1864201950100204, 0.24811423100177857, null, 0.1864201950100204, 0.04152840625139912, null, 0.1864201950100204, 0.09659454856938517, null, 0.1864201950100204, -0.22099495886888088, null, 0.5505611612880209, -0.8966181298822992, null, 0.5505611612880209, 0.37520049621115864, null, 0.21393256800607882, -0.29974229673651087, null, 0.21393256800607882, -0.05884479669558018, null, 0.21393256800607882, 0.4411563605142947, null, 0.21393256800607882, 0.9813367974473564, null, 0.21393256800607882, -0.8657916146074277, null, 0.21393256800607882, 0.04660155619428619, null, 0.21393256800607882, 0.22937156593953723, null, 0.21393256800607882, -0.5269697739287841, null, -0.23631501570084534, -0.20490179879769047, null, -0.23631501570084534, -0.24491857856637247, null, 0.42125144801916714, 0.27120419128094286, null, 0.42125144801916714, 0.2571042916622946, null, 0.42125144801916714, -0.013517873262397067, null, -0.45174085553161986, -0.3125727375706795, null, -0.45174085553161986, 0.6818910840910616, null, -0.45174085553161986, -0.8135536556746302, null, -0.45174085553161986, -0.29126960153356735, null, -0.45174085553161986, -0.6632186732514179, null, -0.45174085553161986, -0.05884479669558018, null, -0.45174085553161986, 0.9832190416310278, null, -0.45174085553161986, -0.20490179879769047, null, -0.45174085553161986, -0.2930021505497675, null, -0.45174085553161986, -0.48236428470578685, null, -0.3912062371649625, -0.22099495886888088, null, -0.3912062371649625, -0.3594497056759339, null, 0.6826730084714511, 0.6944145782513022, null, 0.6826730084714511, 0.7186446658218892, null, 0.6826730084714511, 0.7070096263668171, null, 0.6826730084714511, 0.696778805928539, null, 0.6826730084714511, 0.7211038890787325, null, 0.6826730084714511, 0.680172278647154, null, -0.8135536556746302, -0.6632186732514179, null, -0.04692163813436806, -0.05884479669558018, null, -0.04692163813436806, 0.04152840625139912, null, -0.04692163813436806, 0.04660155619428619, null, -0.04692163813436806, -0.14348417597232138, null, -0.04692163813436806, -0.595590002377774, null, -0.04692163813436806, -0.75384003123771, null, -0.04692163813436806, -0.4399600194065376, null, -0.04692163813436806, -0.8180737377095322, null, -0.04692163813436806, 0.07047727834570942, null, -0.04692163813436806, -0.43438627113631395, null, -0.29126960153356735, -0.9547223302206788, null, -0.29126960153356735, -0.1465585842924227, null, -0.29126960153356735, -0.05884479669558018, null, -0.29126960153356735, -0.5675991063061935, null, -0.29126960153356735, -0.45174085553161986, null, -0.29126960153356735, 0.08714265999546487, null, -0.29126960153356735, -0.35027005132696104, null, -0.29126960153356735, -0.5566520337268325, null, -0.24491857856637247, -0.20490179879769047, null, -0.24491857856637247, -0.23631501570084534, null, -0.45042676271745896, -0.43438627113631395, null, -0.45042676271745896, -0.457857575933319, null, -0.45042676271745896, -0.43167080746725806, null, -0.45042676271745896, -0.41747512495753786, null, 0.36152164406124565, 0.07047727834570942, null, 0.36152164406124565, 0.5355919541811115, null, 0.36152164406124565, 0.5381455754292878, null, 0.36152164406124565, 0.30287694671163146, null, 0.36152164406124565, 0.3388483827299959, null, 0.36152164406124565, 0.38331301780835025, null, 0.36152164406124565, 0.3409893182958833, null, 0.696778805928539, 0.6944145782513022, null, 0.696778805928539, 0.7211038890787325, null, 0.696778805928539, 0.7186446658218892, null, 0.696778805928539, 0.680172278647154, null, 0.696778805928539, 0.7070096263668171, null, 0.696778805928539, 0.6826730084714511, null, 0.3388483827299959, 0.07047727834570942, null, 0.3388483827299959, 0.5381455754292878, null, 0.3388483827299959, 0.5355919541811115, null, 0.3388483827299959, 0.30287694671163146, null, 0.3388483827299959, 0.3409893182958833, null, -0.05884479669558018, 0.04152840625139912, null, -0.05884479669558018, -0.04692163813436806, null, -0.05884479669558018, 0.04660155619428619, null, -0.05884479669558018, -0.14348417597232138, null, -0.05884479669558018, 0.1864201950100204, null, -0.05884479669558018, -0.29126960153356735, null, -0.05884479669558018, -0.20490179879769047, null, -0.05884479669558018, 0.4411563605142947, null, -0.05884479669558018, 0.3060864974564021, null, -0.05884479669558018, -0.22099495886888088, null, -0.05884479669558018, -0.45174085553161986, null, 0.680172278647154, 0.6944145782513022, null, 0.680172278647154, 0.696778805928539, null, 0.680172278647154, 0.7186446658218892, null, 0.680172278647154, 0.7211038890787325, null, 0.680172278647154, 0.7070096263668171, null, 0.680172278647154, 0.6826730084714511, null, -0.35027005132696104, -0.05884479669558018, null, -0.35027005132696104, 0.30156411611657347, null, -0.35027005132696104, -0.5675991063061935, null, -0.35027005132696104, -0.29126960153356735, null, -0.35027005132696104, -0.45174085553161986, null, 0.3409893182958833, 0.07047727834570942, null, 0.3409893182958833, 0.5381455754292878, null, 0.3409893182958833, 0.5355919541811115, null, 0.3409893182958833, 0.30287694671163146, null, 0.3409893182958833, 0.3388483827299959, null, -0.7625799738580944, -0.75384003123771, null, -0.7625799738580944, -0.8704492105576002, null, -0.595590002377774, -0.6236004288457091, null, -0.595590002377774, -0.5992949630895995, null, -0.595590002377774, -0.6177001959503939, null, -0.6236004288457091, -0.595590002377774, null, -0.6236004288457091, -0.5992949630895995, null, -0.6236004288457091, -0.6177001959503939, null, -0.5675991063061935, -0.29126960153356735, null, -0.3125727375706795, -0.45174085553161986, null, -0.4399600194065376, -0.413124715212293, null, -0.4399600194065376, -0.4569129978410683, null, -0.4399600194065376, -0.4301037131909245, null, -0.4399600194065376, -0.8277454917332191, null, -0.6177001959503939, -0.6236004288457091, null, -0.6177001959503939, -0.595590002377774, null, -0.6177001959503939, -0.5992949630895995, null, 0.5355919541811115, 0.5381455754292878, null, 0.2571042916622946, 0.42125144801916714, null, 0.2571042916622946, 0.27120419128094286, null, 0.2571042916622946, 0.04152840625139912, null, 0.2571042916622946, -0.41439061688637296, null, 0.7186446658218892, 0.6944145782513022, null, 0.7186446658218892, 0.696778805928539, null, 0.7186446658218892, 0.7211038890787325, null, 0.7186446658218892, 0.680172278647154, null, 0.7186446658218892, 0.7070096263668171, null, 0.7186446658218892, 0.6826730084714511, null, -0.41747512495753786, -0.43438627113631395, null, -0.41747512495753786, -0.457857575933319, null, -0.41747512495753786, -0.45042676271745896, null, -0.41747512495753786, -0.43167080746725806, null, -0.43438627113631395, -0.41747512495753786, null, -0.43438627113631395, -0.457857575933319, null, -0.43438627113631395, -0.45042676271745896, null, -0.43438627113631395, -0.43167080746725806, null, 0.40791890144087073, 0.27120419128094286, null, 0.40791890144087073, 0.24136807044844294, null, 0.40791890144087073, 0.9687170149109836, null, 0.40791890144087073, 0.5116135283696239, null, 0.6944145782513022, 0.696778805928539, null, 0.6944145782513022, 0.7186446658218892, null, 0.6944145782513022, 0.7070096263668171, null, 0.6944145782513022, 0.7211038890787325, null, 0.6944145782513022, 0.680172278647154, null, 0.6944145782513022, 0.6826730084714511, null, -0.43167080746725806, -0.43438627113631395, null, -0.43167080746725806, -0.457857575933319, null, -0.43167080746725806, -0.45042676271745896, null, -0.43167080746725806, -0.41747512495753786, null, -0.6632186732514179, -0.8135536556746302, null, -0.6632186732514179, -0.45174085553161986, null, 0.3285451003449617, 0.3060864974564021, null, 0.44343229491108777, 0.42512096577374936, null, 0.22937156593953723, 0.9832190416310278, null, 0.22937156593953723, -0.5269697739287841, null, 0.22937156593953723, 0.2586086966556305, null, -0.4569129978410683, -0.4301037131909245, null, -0.457857575933319, -0.43438627113631395, null, -0.457857575933319, -0.45042676271745896, null, -0.457857575933319, -0.43167080746725806, null, -0.457857575933319, -0.41747512495753786, null, -0.2444419456488583, -0.22099495886888088, null, 0.5381455754292878, 0.5355919541811115, null, 0.3454925043310181, 0.07047727834570942, null, 0.3454925043310181, 0.5381455754292878, null, 0.3454925043310181, 0.5355919541811115, null, 0.3454925043310181, 0.30287694671163146, null, 0.3454925043310181, 0.3388483827299959, null, 0.07047727834570942, 0.5355919541811115, null, 0.07047727834570942, 0.38331301780835025, null, 0.07047727834570942, 0.36152164406124565, null, 0.07047727834570942, 0.5381455754292878, null, 0.07047727834570942, 0.3409893182958833, null, 0.07047727834570942, 0.30287694671163146, null, 0.07047727834570942, 0.42512096577374936, null, 0.07047727834570942, 0.1782181079858652, null, 0.07047727834570942, 0.3454925043310181, null, 0.07047727834570942, -0.6167956869590948, null, 0.07047727834570942, 0.3388483827299959, null, 0.07047727834570942, -0.9523765776665964, null, -0.75384003123771, -0.8704492105576002, null, -0.75384003123771, -0.7625799738580944, null, 0.37520049621115864, 0.1864201950100204, null, 0.10094004013459702, -0.05884479669558018, null, 0.10094004013459702, 0.27120419128094286, null, 0.10094004013459702, -0.20490179879769047, null, 0.10094004013459702, -0.24491857856637247, null, 0.24136807044844294, 0.27120419128094286, null, -0.5566520337268325, -0.29126960153356735, null, -0.6434008680480571, -0.8966181298822992, null], \"y\": [0.7130314151724471, 0.8045822585095429, null, 0.5097409929547759, 0.21092462266947737, null, 0.5097409929547759, 0.43223298318922165, null, -0.25462417459229697, -0.5851524637521247, null, -0.25462417459229697, -0.28911111146535673, null, -0.25462417459229697, -0.7692799111452867, null, -0.25462417459229697, -0.5463061338734339, null, -0.25462417459229697, -0.8002925119686415, null, -0.25462417459229697, -0.5793092210172476, null, -0.25462417459229697, 0.7859822477185523, null, -0.25462417459229697, -0.5284687748147914, null, -0.25462417459229697, -0.2758034054589482, null, -0.25462417459229697, -0.5745048623208008, null, -0.18024095045639288, -0.05948718960776983, null, -0.18024095045639288, -0.38684645392540673, null, 0.6725672691471027, 0.34883326372045814, null, 0.6725672691471027, 0.4839473379773205, null, 0.08757202135935493, 0.13276497232960938, null, 0.08757202135935493, -0.13001080825450487, null, 0.08757202135935493, -0.052704681787323925, null, 0.08757202135935493, 0.18328425282352206, null, 0.08757202135935493, 0.02620488184858333, null, 0.08757202135935493, -0.0010721474844605982, null, -0.4492373499940553, -0.25551400681572, null, -0.4492373499940553, -0.5668947271752139, null, 0.1467553461166268, 0.18346101455899497, null, -0.018532969216124035, 0.012734286688046853, null, -0.018532969216124035, -0.008279942288303836, null, -0.018532969216124035, 0.008483669108230693, null, -0.018532969216124035, -0.001445716162289143, null, -0.05948718960776983, -0.13001080825450487, null, -0.05948718960776983, -0.037961457542743555, null, -0.05948718960776983, -0.06868044137734938, null, -0.05948718960776983, 0.043951619027471495, null, -0.05948718960776983, 0.6775441881563282, null, -0.05948718960776983, -0.38684645392540673, null, -0.05948718960776983, -0.18024095045639288, null, -0.775147940640685, -0.7343171198974205, null, -0.775147940640685, -0.7661421004477821, null, -0.775147940640685, -0.8314932449658827, null, 0.043951619027471495, -0.05948718960776983, null, -0.38684645392540673, -0.34610373592239063, null, -0.0010721474844605982, -0.13001080825450487, null, -0.0010721474844605982, -0.052704681787323925, null, -0.0010721474844605982, 0.02620488184858333, null, -0.5207652726198264, -0.2646814764711363, null, -0.06868044137734938, -0.05948718960776983, null, 0.3000770497556341, 0.38856417313020375, null, 0.3000770497556341, 0.21092462266947737, null, 0.3000770497556341, 0.9564529170002428, null, 0.3000770497556341, -0.38684645392540673, null, 0.13276497232960938, 0.08757202135935493, null, 0.13276497232960938, -0.13001080825450487, null, 0.13276497232960938, -0.775147940640685, null, 0.4839473379773205, 0.7852622032086971, null, 0.4839473379773205, 0.7839537920686427, null, 0.4839473379773205, 0.7234397340768005, null, 0.4839473379773205, 0.4948970810898283, null, 0.4839473379773205, 0.34883326372045814, null, 0.4839473379773205, 0.301287028237845, null, 0.4839473379773205, -0.052704681787323925, null, 0.4839473379773205, 0.6725672691471027, null, 0.4839473379773205, 0.9972400551977464, null, 0.4839473379773205, -0.8686913655599163, null, 0.4839473379773205, 0.25141005452082577, null, 0.4839473379773205, 0.9203712723805298, null, 0.4839473379773205, 0.6233077564162479, null, 0.7234397340768005, 0.4839473379773205, null, 0.7234397340768005, 0.7852622032086971, null, -0.16747103432386162, -0.13001080825450487, null, -0.16747103432386162, -0.05948718960776983, null, -0.16747103432386162, -0.25551400681572, null, 0.025876960125765874, 0.012734286688046853, null, 0.025876960125765874, -0.008279942288303836, null, 0.025876960125765874, 0.008483669108230693, null, 0.025876960125765874, -0.018532969216124035, null, 0.025876960125765874, -0.001445716162289143, null, 0.025876960125765874, 0.021528122878007427, null, 0.18328425282352206, 0.08757202135935493, null, -0.2758034054589482, -0.28911111146535673, null, -0.2758034054589482, -0.8002925119686415, null, -0.2758034054589482, -0.25462417459229697, null, -0.2758034054589482, -0.5793092210172476, null, -0.2758034054589482, -0.5463061338734339, null, -0.2758034054589482, 0.7859822477185523, null, -0.2758034054589482, -0.5745048623208008, null, -0.2758034054589482, -0.744169627524291, null, -0.2758034054589482, -0.5851524637521247, null, -0.8317244144904526, -0.853006678227478, null, 0.5257324890031286, 0.5020690560311065, null, 0.5257324890031286, 0.5162105325604991, null, 0.5257324890031286, 0.49134411500527914, null, -0.5463061338734339, -0.28911111146535673, null, -0.5463061338734339, -0.8002925119686415, null, -0.5463061338734339, -0.5793092210172476, null, 0.21092462266947737, 0.43223298318922165, null, 0.21092462266947737, 0.5097409929547759, null, 0.21092462266947737, -0.23583267680193598, null, 0.21092462266947737, -0.13001080825450487, null, 0.21092462266947737, 0.38856417313020375, null, 0.21092462266947737, 0.4862642734731538, null, 0.21092462266947737, 0.9478194952920238, null, 0.21092462266947737, 0.3000770497556341, null, 0.21092462266947737, 0.8833828371374344, null, 0.21092462266947737, -0.2646814764711363, null, 0.7859822477185523, 0.8168186043641564, null, 0.7582038639770757, 0.8045822585095429, null, -0.18661440082449907, -0.25551400681572, null, -0.18661440082449907, -0.13001080825450487, null, -0.18661440082449907, -0.052704681787323925, null, -0.18661440082449907, -0.775147940640685, null, 0.38856417313020375, 0.21092462266947737, null, 0.38856417313020375, 0.3000770497556341, null, -0.052704681787323925, -0.13001080825450487, null, -0.052704681787323925, 0.02620488184858333, null, -0.052704681787323925, 0.08757202135935493, null, -0.052704681787323925, -0.0010721474844605982, null, -0.052704681787323925, -0.2646814764711363, null, -0.052704681787323925, -0.037961457542743555, null, -0.052704681787323925, -0.05948718960776983, null, -0.052704681787323925, 0.4839473379773205, null, -0.052704681787323925, -0.5668947271752139, null, -0.052704681787323925, 0.7859822477185523, null, -0.052704681787323925, 0.012734286688046853, null, -0.052704681787323925, 0.4964675459443337, null, -0.2646814764711363, -0.44721456029203976, null, -0.2646814764711363, 0.18346101455899497, null, -0.2646814764711363, 0.1467553461166268, null, -0.2646814764711363, -0.318904864292472, null, -0.2646814764711363, 0.8905534793061419, null, -0.2646814764711363, -0.6343889758388948, null, -0.2646814764711363, -0.5207652726198264, null, -0.2646814764711363, -0.052704681787323925, null, -0.2646814764711363, -0.9300756348570551, null, -0.2646814764711363, 0.21092462266947737, null, -0.6343889758388948, -0.318904864292472, null, -0.6343889758388948, -0.44721456029203976, null, -0.037961457542743555, 0.9564529170002428, null, -0.037961457542743555, -0.13001080825450487, null, -0.037961457542743555, -0.05948718960776983, null, -0.037961457542743555, -0.15617822756850233, null, -0.037961457542743555, 0.3738126036567702, null, -0.037961457542743555, 0.08757202135935493, null, -0.037961457542743555, -0.34610373592239063, null, -0.037961457542743555, -0.723348116106338, null, -0.7343171198974205, -0.775147940640685, null, -0.7343171198974205, -0.7661421004477821, null, 0.4948970810898283, 0.4839473379773205, null, 0.4948970810898283, 0.301287028237845, null, 0.4948970810898283, 0.9203712723805298, null, -0.5668947271752139, -0.6369127252955518, null, -0.5668947271752139, 0.7825406042171217, null, -0.5668947271752139, -1.0, null, -0.5668947271752139, -0.25551400681572, null, -0.5668947271752139, -0.8219941328018214, null, -0.5668947271752139, -0.13001080825450487, null, -0.5668947271752139, 0.03385354058503885, null, -0.5668947271752139, -0.775147940640685, null, -0.5668947271752139, -0.9100793133820841, null, -0.5668947271752139, -0.4492373499940553, null, 0.43223298318922165, 0.21092462266947737, null, 0.43223298318922165, 0.5097409929547759, null, 0.021528122878007427, 0.012734286688046853, null, 0.021528122878007427, 0.008483669108230693, null, 0.021528122878007427, 0.025876960125765874, null, 0.021528122878007427, -0.008279942288303836, null, 0.021528122878007427, -0.018532969216124035, null, 0.021528122878007427, -0.001445716162289143, null, -1.0, -0.8219941328018214, null, 0.02620488184858333, -0.13001080825450487, null, 0.02620488184858333, -0.052704681787323925, null, 0.02620488184858333, 0.08757202135935493, null, 0.02620488184858333, -0.0010721474844605982, null, 0.02620488184858333, 0.5020690560311065, null, 0.02620488184858333, 0.15959711697985784, null, 0.02620488184858333, 0.5194875891500568, null, 0.02620488184858333, -0.4691351271347512, null, 0.02620488184858333, -0.28911111146535673, null, 0.02620488184858333, -0.5835246757106499, null, -0.25551400681572, -0.16128701120936806, null, -0.25551400681572, -0.18661440082449907, null, -0.25551400681572, -0.13001080825450487, null, -0.25551400681572, -0.3052022459704267, null, -0.25551400681572, -0.5668947271752139, null, -0.25551400681572, -0.16747103432386162, null, -0.25551400681572, -0.3317435348469645, null, -0.25551400681572, -0.17955422310751623, null, -0.7661421004477821, -0.775147940640685, null, -0.7661421004477821, -0.7343171198974205, null, -0.5523010180430449, -0.5835246757106499, null, -0.5523010180430449, -0.5795655820733954, null, -0.5523010180430449, -0.5510983408754915, null, -0.5523010180430449, -0.5664331281160925, null, -0.5284687748147914, -0.28911111146535673, null, -0.5284687748147914, -0.7692799111452867, null, -0.5284687748147914, -0.8002925119686415, null, -0.5284687748147914, -0.5463061338734339, null, -0.5284687748147914, -0.5851524637521247, null, -0.5284687748147914, -0.25462417459229697, null, -0.5284687748147914, -0.5793092210172476, null, -0.008279942288303836, 0.012734286688046853, null, -0.008279942288303836, -0.018532969216124035, null, -0.008279942288303836, 0.008483669108230693, null, -0.008279942288303836, -0.001445716162289143, null, -0.008279942288303836, 0.025876960125765874, null, -0.008279942288303836, 0.021528122878007427, null, -0.5851524637521247, -0.28911111146535673, null, -0.5851524637521247, -0.8002925119686415, null, -0.5851524637521247, -0.7692799111452867, null, -0.5851524637521247, -0.5463061338734339, null, -0.5851524637521247, -0.5793092210172476, null, -0.13001080825450487, -0.052704681787323925, null, -0.13001080825450487, 0.02620488184858333, null, -0.13001080825450487, 0.08757202135935493, null, -0.13001080825450487, -0.0010721474844605982, null, -0.13001080825450487, -0.2646814764711363, null, -0.13001080825450487, -0.25551400681572, null, -0.13001080825450487, -0.775147940640685, null, -0.13001080825450487, -0.05948718960776983, null, -0.13001080825450487, -0.8317244144904526, null, -0.13001080825450487, 0.21092462266947737, null, -0.13001080825450487, -0.5668947271752139, null, -0.001445716162289143, 0.012734286688046853, null, -0.001445716162289143, -0.008279942288303836, null, -0.001445716162289143, 0.008483669108230693, null, -0.001445716162289143, -0.018532969216124035, null, -0.001445716162289143, 0.025876960125765874, null, -0.001445716162289143, 0.021528122878007427, null, -0.3317435348469645, -0.13001080825450487, null, -0.3317435348469645, 0.8833828371374344, null, -0.3317435348469645, -0.3052022459704267, null, -0.3317435348469645, -0.25551400681572, null, -0.3317435348469645, -0.5668947271752139, null, -0.5793092210172476, -0.28911111146535673, null, -0.5793092210172476, -0.8002925119686415, null, -0.5793092210172476, -0.7692799111452867, null, -0.5793092210172476, -0.5463061338734339, null, -0.5793092210172476, -0.5851524637521247, null, 0.17695003997075334, 0.15959711697985784, null, 0.17695003997075334, 0.18540906356487505, null, 0.5020690560311065, 0.5162105325604991, null, 0.5020690560311065, 0.5257324890031286, null, 0.5020690560311065, 0.49134411500527914, null, 0.5162105325604991, 0.5020690560311065, null, 0.5162105325604991, 0.5257324890031286, null, 0.5162105325604991, 0.49134411500527914, null, -0.3052022459704267, -0.25551400681572, null, -0.6369127252955518, -0.5668947271752139, null, 0.5194875891500568, 0.7130314151724471, null, 0.5194875891500568, 0.8045822585095429, null, 0.5194875891500568, 0.7582038639770757, null, 0.5194875891500568, 0.5596109892614878, null, 0.49134411500527914, 0.5162105325604991, null, 0.49134411500527914, 0.5020690560311065, null, 0.49134411500527914, 0.5257324890031286, null, -0.7692799111452867, -0.8002925119686415, null, 0.301287028237845, 0.4948970810898283, null, 0.301287028237845, 0.4839473379773205, null, 0.301287028237845, -0.052704681787323925, null, 0.301287028237845, 0.8905534793061419, null, 0.008483669108230693, 0.012734286688046853, null, 0.008483669108230693, -0.008279942288303836, null, 0.008483669108230693, -0.018532969216124035, null, 0.008483669108230693, -0.001445716162289143, null, 0.008483669108230693, 0.025876960125765874, null, 0.008483669108230693, 0.021528122878007427, null, -0.5664331281160925, -0.5835246757106499, null, -0.5664331281160925, -0.5795655820733954, null, -0.5664331281160925, -0.5523010180430449, null, -0.5664331281160925, -0.5510983408754915, null, -0.5835246757106499, -0.5664331281160925, null, -0.5835246757106499, -0.5795655820733954, null, -0.5835246757106499, -0.5523010180430449, null, -0.5835246757106499, -0.5510983408754915, null, 0.7852622032086971, 0.4839473379773205, null, 0.7852622032086971, 0.7839537920686427, null, 0.7852622032086971, 0.34883326372045814, null, 0.7852622032086971, 0.6725672691471027, null, 0.012734286688046853, -0.008279942288303836, null, 0.012734286688046853, 0.008483669108230693, null, 0.012734286688046853, 0.025876960125765874, null, 0.012734286688046853, -0.018532969216124035, null, 0.012734286688046853, -0.001445716162289143, null, 0.012734286688046853, 0.021528122878007427, null, -0.5510983408754915, -0.5835246757106499, null, -0.5510983408754915, -0.5795655820733954, null, -0.5510983408754915, -0.5523010180430449, null, -0.5510983408754915, -0.5664331281160925, null, -0.8219941328018214, -1.0, null, -0.8219941328018214, -0.5668947271752139, null, -0.853006678227478, -0.8317244144904526, null, 0.8168186043641564, 0.7859822477185523, null, -0.34610373592239063, 0.03385354058503885, null, -0.34610373592239063, -0.723348116106338, null, -0.34610373592239063, -0.38684645392540673, null, 0.8045822585095429, 0.7582038639770757, null, -0.5795655820733954, -0.5835246757106499, null, -0.5795655820733954, -0.5523010180430449, null, -0.5795655820733954, -0.5510983408754915, null, -0.5795655820733954, -0.5664331281160925, null, 0.4862642734731538, 0.21092462266947737, null, -0.8002925119686415, -0.7692799111452867, null, -0.5745048623208008, -0.28911111146535673, null, -0.5745048623208008, -0.8002925119686415, null, -0.5745048623208008, -0.7692799111452867, null, -0.5745048623208008, -0.5463061338734339, null, -0.5745048623208008, -0.5851524637521247, null, -0.28911111146535673, -0.7692799111452867, null, -0.28911111146535673, -0.25462417459229697, null, -0.28911111146535673, -0.5284687748147914, null, -0.28911111146535673, -0.8002925119686415, null, -0.28911111146535673, -0.5793092210172476, null, -0.28911111146535673, -0.5463061338734339, null, -0.28911111146535673, 0.7859822477185523, null, -0.28911111146535673, -0.2758034054589482, null, -0.28911111146535673, -0.5745048623208008, null, -0.28911111146535673, -0.744169627524291, null, -0.28911111146535673, -0.5851524637521247, null, -0.28911111146535673, 0.036799245686394415, null, 0.15959711697985784, 0.18540906356487505, null, 0.15959711697985784, 0.17695003997075334, null, -0.44721456029203976, -0.2646814764711363, null, 0.25141005452082577, -0.13001080825450487, null, 0.25141005452082577, 0.4839473379773205, null, 0.25141005452082577, -0.775147940640685, null, 0.25141005452082577, -0.7661421004477821, null, 0.7839537920686427, 0.4839473379773205, null, -0.17955422310751623, -0.25551400681572, null, -0.23583267680193598, -0.318904864292472, null]}, {\"hoverinfo\": \"text\", \"marker\": {\"color\": [0, 1, 0, 2, 10, 2, 0, 2, 6, 2, 1, 4, 7, 3, 0, 1, 1, 0, 3, 0, 1, 0, 1, 4, 0, 0, 3, 13, 2, 3, 6, 1, 9, 1, 3, 0, 0, 3, 10, 1, 1, 4, 2, 12, 10, 2, 8, 2, 0, 3, 10, 0, 2, 6, 0, 1, 10, 8, 2, 4, 7, 6, 5, 11, 6, 0, 5, 0, 5, 2, 3, 3, 1, 1, 4, 0, 0, 3, 1, 4, 6, 0, 4, 4, 0, 0, 4, 6, 4, 2, 1, 1, 3, 1, 4, 1, 0, 1, 0, 5, 0, 0, 12, 2, 1, 4, 0, 1, 1, 1, 0], \"colorbar\": {\"thickness\": 15, \"title\": {\"side\": \"right\", \"text\": \"Node Connections\"}, \"xanchor\": \"left\"}, \"colorscale\": [[0.0, \"rgb(255,255,217)\"], [0.125, \"rgb(237,248,177)\"], [0.25, \"rgb(199,233,180)\"], [0.375, \"rgb(127,205,187)\"], [0.5, \"rgb(65,182,196)\"], [0.625, \"rgb(29,145,192)\"], [0.75, \"rgb(34,94,168)\"], [0.875, \"rgb(37,52,148)\"], [1.0, \"rgb(8,29,88)\"]], \"line\": {\"width\": 2}, \"reversescale\": true, \"showscale\": true, \"size\": [20.08212954562423, 15.723367640546225, 15.415378672514095, 19.871172794053823, 19.988153484896646, 24.274976462690706, 15.833705452125447, 17.52803434217006, 21.636440976324952, 15.55377926689288, 23.282065957848992, 19.495216791032952, 19.31008241210703, 23.099889845541647, 20.747144817899606, 17.42522410040701, 21.364528510931677, 18.010183868764134, 17.773145647308176, 17.09507760653483, 16.70726475413145, 20.79550781243751, 15.910666150653569, 21.276397634311678, 24.581184085865473, 16.31453014056421, 17.931574340092798, 20.67141753591249, 13.598168841844732, 13.666334975076676, 19.836150545585525, 20.133203685010706, 18.881666650441023, 22.570800964145672, 20.573115523215915, 15.836173665488403, 5.169925001442312, 20.680030661075, 22.497165988876866, 23.728581650951327, 15.707278237073663, 11.56081046872794, 23.575424874514496, 21.963669765228328, 21.218450308380675, 15.402112722708882, 21.364528510931677, 17.278676313471625, 25.648559491156774, 20.2065768091335, 20.107892618685348, 22.23315650856324, 13.154976290625738, 15.330391733402912, 19.32333848850874, 14.638266201800386, 16.747157113536595, 21.10149421196414, 19.192198885954774, 22.23315650856324, 14.385390590256906, 21.747144408043233, 22.136335632927786, 22.942348587071827, 17.42522410040701, 15.59225262541687, 20.582334047354824, 16.720685145051128, 20.416996426990504, 22.259256220889643, 21.035905900159705, 22.647462159460048, 22.61414209139059, 14.54478336030191, 15.70187497972916, 17.23258019347619, 19.868160906665654, 21.042600549627135, 20.64526526385936, 17.609647687893982, 20.25349781836711, 20.73892431577871, 21.90242259169906, 23.97596277611869, 20.75531874471416, 20.241909853399598, 15.666251746671813, 23.455130650832924, 17.960143379137463, 20.321136482380403, 17.375183707216244, 19.645266143550657, 24.357833391128366, 19.255805436217532, 20.416996426990504, 18.988154872101415, 19.271848253227713, 21.87642738985765, 12.49460561567122, 18.591496780114436, 18.120607455793174, 22.218450012746533, 23.174933147361546, 23.139461577101326, 21.062500097915333, 17.848433447125558, 21.649656591793754, 20.981200034002732, 9.411510988012072, 22.730656082681932, 17.213721289489193]}, \"mode\": \"markers\", \"text\": [\"The Bucket List Family has 0 connections and 1110000 subscribers\", \"Free Range American Podcast has 1 connections and 54100 subscribers\", \"Daniel James has 0 connections and 43700 subscribers\", \"TEAMSUPERTRAMP has 2 connections and 959000 subscribers\", \"Rooster Teeth Animation has 10 connections and 1040000 subscribers\", \"JennaMarbles has 2 connections and 20300000 subscribers\", \"mike diva 2 has 0 connections and 58400 subscribers\", \"Red Giant has 2 connections and 189000 subscribers\", \"Node has 6 connections and 3260000 subscribers\", \"Fury Fingers - GOONS INC - Out Now! has 2 connections and 48100 subscribers\", \"Tanner Fox has 1 connections and 10200000 subscribers\", \"Channel Super Fun has 4 connections and 739000 subscribers\", \"Mike Diva has 7 connections and 650000 subscribers\", \"RocketJump has 3 connections and 8990000 subscribers\", \"Tessa Violet has 0 connections and 1760000 subscribers\", \"Adi Shankar's BOOTLEG UNIVERSE has 1 connections and 176000 subscribers\", \"Joe Penna / MysteryGuitarMan has 1 connections and 2700000 subscribers\", \"Cinematography Database has 0 connections and 264000 subscribers\", \"Guillotine Channel has 3 connections and 224000 subscribers\", \"Spacestation Gaming has 0 connections and 140000 subscribers\", \"Spacestation Stuff has 1 connections and 107000 subscribers\", \"communitychannel has 0 connections and 1820000 subscribers\", \"Megasteakman has 1 connections and 61600 subscribers\", \"Peter Hollens has 4 connections and 2540000 subscribers\", \"Smosh has 0 connections and 25100000 subscribers\", \"Game Kids has 0 connections and 81500 subscribers\", \"Cerberusarms has 3 connections and 250000 subscribers\", \"Film Riot has 13 connections and 1670000 subscribers\", \"VFX Productions has 2 connections and 12400 subscribers\", \"Atomic Punch has 3 connections and 13000 subscribers\", \"ShortCircuit has 6 connections and 936000 subscribers\", \"BrandonJLa has 1 connections and 1150000 subscribers\", \"GameFails has 9 connections and 483000 subscribers\", \"RackaRacka has 1 connections and 6230000 subscribers\", \"H3 Podcast Highlights has 3 connections and 1560000 subscribers\", \"RampantMedia has 0 connections and 58500 subscribers\", \"Lemacks Media has 0 connections and 35 subscribers\", \"Funhaus has 3 connections and 1680000 subscribers\", \"devinsupertramp has 10 connections and 5920000 subscribers\", \"The Slow Mo Guys has 1 connections and 13900000 subscribers\", \"Coffee or Die has 1 connections and 53500 subscribers\", \"johnyboz has 4 connections and 3020 subscribers\", \"Lindsey Stirling has 2 connections and 12500000 subscribers\", \"Corridor Crew has 12 connections and 4090000 subscribers\", \"Shonduras has 10 connections and 2440000 subscribers\", \"Dorothy Gee has 2 connections and 43300 subscribers\", \"Anna Akana has 8 connections and 2700000 subscribers\", \"RocketJump 2 has 2 connections and 159000 subscribers\", \"Dude Perfect has 0 connections and 52600000 subscribers\", \"Indy Mogul has 3 connections and 1210000 subscribers\", \"SoKrispyMedia has 10 connections and 1130000 subscribers\", \"Peter McKinnon has 0 connections and 4930000 subscribers\", \"Visual Escape has 2 connections and 9120 subscribers\", \"Carpool Critics has 6 connections and 41200 subscribers\", \"Bill Burr has 0 connections and 656000 subscribers\", \"Andrew Gerlicher Music has 1 connections and 25500 subscribers\", \"Corridor Cast has 10 connections and 110000 subscribers\", \"Nukazooka has 8 connections and 2250000 subscribers\", \"RocketJump Film School has 2 connections and 599000 subscribers\", \"Rhett & Link has 4 connections and 4930000 subscribers\", \"Rooster Teeth Trailers has 7 connections and 21400 subscribers\", \"Techquickie has 6 connections and 3520000 subscribers\", \"DEATH BATTLE! has 5 connections and 4610000 subscribers\", \"Corridor has 11 connections and 8060000 subscribers\", \"LMG Clips has 6 connections and 176000 subscribers\", \"The Film Look has 0 connections and 49400 subscribers\", \"Mr.TVCow has 5 connections and 1570000 subscribers\", \"Game Attack has 0 connections and 108000 subscribers\", \"Inside Gaming has 5 connections and 1400000 subscribers\", \"JRE Clips has 2 connections and 5020000 subscribers\", \"H3 Podcast has 3 connections and 2150000 subscribers\", \"h3h3Productions has 3 connections and 6570000 subscribers\", \"TomSka has 1 connections and 6420000 subscribers\", \"SamWickert has 1 connections and 23900 subscribers\", \"Drinkin' Bros Podcast has 4 connections and 53300 subscribers\", \"Pyrobot has 0 connections and 154000 subscribers\", \"WATSKY! has 0 connections and 957000 subscribers\", \"Ethan and Hila has 3 connections and 2160000 subscribers\", \"Achievement Hunter has 1 connections and 1640000 subscribers\", \"Aputure has 4 connections and 200000 subscribers\", \"TechLinked has 6 connections and 1250000 subscribers\", \"ScottDW has 0 connections and 1750000 subscribers\", \"Good Mythical MORE has 4 connections and 3920000 subscribers\", \"Good Mythical Morning has 4 connections and 16500000 subscribers\", \"Hulu has 0 connections and 1770000 subscribers\", \"The Modern Rogue has 0 connections and 1240000 subscribers\", \"Film Riot Extras has 4 connections and 52000 subscribers\", \"Linus Tech Tips has 6 connections and 11500000 subscribers\", \"Ear Biscuits has 4 connections and 255000 subscribers\", \"FinalCutKing has 2 connections and 1310000 subscribers\", \"Left On Red has 1 connections and 170000 subscribers\", \"The Slow Mo Guys 2 has 1 connections and 820000 subscribers\", \"nigahiga has 3 connections and 21500000 subscribers\", \"Black Rifle Coffee Company has 1 connections and 626000 subscribers\", \"Mythical Kitchen has 4 connections and 1400000 subscribers\", \"Jacob + Katie Schwarz has 1 connections and 520000 subscribers\", \"Video Copilot has 0 connections and 633000 subscribers\", \"LetsPlay has 1 connections and 3850000 subscribers\", \"Justin Robinson has 0 connections and 5770 subscribers\", \"LetsPlay Community has 5 connections and 395000 subscribers\", \"Joe Rogan has 0 connections and 285000 subscribers\", \"Shot of The Yeagers has 0 connections and 4880000 subscribers\", \"Rooster Teeth has 12 connections and 9470000 subscribers\", \"PowerfulJRE has 2 connections and 9240000 subscribers\", \"A for Adley - Learning & Fun has 1 connections and 2190000 subscribers\", \"FXhome has 4 connections and 236000 subscribers\", \"Wong Fu Productions has 0 connections and 3290000 subscribers\", \"Variant Comics has 1 connections and 2070000 subscribers\", \"Lane Carter has 1 connections and 680 subscribers\", \"What's Inside? has 1 connections and 6960000 subscribers\", \"ColinandConnor has 0 connections and 152000 subscribers\"], \"type\": \"scatter\", \"x\": [-0.8966181298822992, -0.413124715212293, -0.15454969762830045, -0.3594497056759339, 0.38331301780835025, 0.6912916592688455, -0.618675470220727, 0.5116135283696239, 0.04660155619428619, -0.48236428470578685, 0.7702315032497361, 0.7211038890787325, 0.4411563605142947, -0.20490179879769047, 0.9813367974473564, 0.7048681534862284, 0.2586086966556305, -0.013517873262397067, -0.14348417597232138, 1.0, 0.24811423100177857, -0.8657916146074277, 0.733896730077924, -0.49498014391686873, 0.9832190416310278, -0.6167956869590948, -0.0860653131518218, 0.27120419128094286, 0.35510784374732374, 0.08714265999546487, 0.7070096263668171, 0.2838188165935465, 0.1782181079858652, 0.3060864974564021, -0.5992949630895995, 0.8458085937586403, -0.8277454917332191, 0.30287694671163146, -0.22099495886888088, 0.42512096577374936, -0.4301037131909245, -0.1465585842924227, -0.4888528098526013, 0.04152840625139912, 0.1864201950100204, 0.5505611612880209, 0.21393256800607882, -0.23631501570084534, 0.13908375126663033, 0.42125144801916714, -0.45174085553161986, -0.41439061688637296, -0.3912062371649625, 0.6826730084714511, -0.8180737377095322, -0.8135536556746302, -0.04692163813436806, -0.29126960153356735, -0.24491857856637247, -0.45042676271745896, 0.36152164406124565, 0.696778805928539, 0.3388483827299959, -0.05884479669558018, 0.680172278647154, 0.8743744896282886, -0.35027005132696104, -0.9523765776665964, 0.3409893182958833, -0.7625799738580944, -0.595590002377774, -0.6236004288457091, -0.5675991063061935, -0.3125727375706795, -0.4399600194065376, -0.9547223302206788, -0.29974229673651087, -0.6177001959503939, 0.5355919541811115, 0.2571042916622946, 0.7186446658218892, 0.30156411611657347, -0.41747512495753786, -0.43438627113631395, -0.15817121619443947, -0.02615329045407808, 0.40791890144087073, 0.6944145782513022, -0.43167080746725806, -0.6632186732514179, 0.3285451003449617, 0.44343229491108777, 0.22937156593953723, -0.4569129978410683, -0.457857575933319, -0.2444419456488583, 0.9687170149109836, 0.5381455754292878, -0.2930021505497675, 0.3454925043310181, -0.8704492105576002, 0.09659454856938517, 0.07047727834570942, -0.75384003123771, 0.37520049621115864, 0.10094004013459702, -0.5269697739287841, 0.24136807044844294, -0.5566520337268325, -0.6434008680480571, 0.6818910840910616], \"y\": [-0.318904864292472, 0.7130314151724471, 0.9972400551977464, 0.5097409929547759, -0.25462417459229697, -0.18024095045639288, 0.6775441881563282, 0.6725672691471027, 0.08757202135935493, -0.4492373499940553, 0.1467553461166268, -0.018532969216124035, -0.05948718960776983, -0.775147940640685, -0.15617822756850233, 0.043951619027471495, -0.38684645392540673, 0.9203712723805298, -0.0010721474844605982, 0.18346101455899497, -0.5207652726198264, 0.3738126036567702, -0.06868044137734938, 0.3000770497556341, 0.03385354058503885, -0.744169627524291, 0.13276497232960938, 0.4839473379773205, 0.7234397340768005, -0.16747103432386162, 0.025876960125765874, 0.18328425282352206, -0.2758034054589482, -0.8317244144904526, 0.5257324890031286, 0.6233077564162479, 0.5596109892614878, -0.5463061338734339, 0.21092462266947737, 0.7859822477185523, 0.7582038639770757, -0.18661440082449907, 0.38856417313020375, -0.052704681787323925, -0.2646814764711363, -0.6343889758388948, -0.037961457542743555, -0.7343171198974205, 0.9478194952920238, 0.4948970810898283, -0.5668947271752139, 0.8905534793061419, 0.43223298318922165, 0.021528122878007427, -0.4691351271347512, -1.0, 0.02620488184858333, -0.25551400681572, -0.7661421004477821, -0.5523010180430449, -0.5284687748147914, -0.008279942288303836, -0.5851524637521247, -0.13001080825450487, -0.001445716162289143, 0.4964675459443337, -0.3317435348469645, 0.036799245686394415, -0.5793092210172476, 0.17695003997075334, 0.5020690560311065, 0.5162105325604991, -0.3052022459704267, -0.6369127252955518, 0.5194875891500568, -0.16128701120936806, 0.9564529170002428, 0.49134411500527914, -0.7692799111452867, 0.301287028237845, 0.008483669108230693, 0.8833828371374344, -0.5664331281160925, -0.5835246757106499, -0.8314932449658827, -0.8686913655599163, 0.7852622032086971, 0.012734286688046853, -0.5510983408754915, -0.8219941328018214, -0.853006678227478, 0.8168186043641564, -0.34610373592239063, 0.8045822585095429, -0.5795655820733954, 0.4862642734731538, 0.34883326372045814, -0.8002925119686415, -0.9100793133820841, -0.5745048623208008, 0.18540906356487505, -0.9300756348570551, -0.28911111146535673, 0.15959711697985784, -0.44721456029203976, 0.25141005452082577, -0.723348116106338, 0.7839537920686427, -0.17955422310751623, -0.23583267680193598, 0.7825406042171217]}],\n",
       "                        {\"annotations\": [{\"showarrow\": false, \"text\": \"Graph of connected channels\", \"x\": 0.005, \"xref\": \"paper\", \"y\": -0.002, \"yref\": \"paper\"}], \"hovermode\": \"closest\", \"margin\": {\"b\": 20, \"l\": 5, \"r\": 5, \"t\": 40}, \"showlegend\": false, \"template\": {\"data\": {\"bar\": [{\"error_x\": {\"color\": \"#2a3f5f\"}, \"error_y\": {\"color\": \"#2a3f5f\"}, \"marker\": {\"line\": {\"color\": \"#E5ECF6\", \"width\": 0.5}}, \"type\": \"bar\"}], \"barpolar\": [{\"marker\": {\"line\": {\"color\": \"#E5ECF6\", \"width\": 0.5}}, \"type\": \"barpolar\"}], \"carpet\": [{\"aaxis\": {\"endlinecolor\": \"#2a3f5f\", \"gridcolor\": \"white\", \"linecolor\": \"white\", \"minorgridcolor\": \"white\", \"startlinecolor\": \"#2a3f5f\"}, \"baxis\": {\"endlinecolor\": \"#2a3f5f\", \"gridcolor\": \"white\", \"linecolor\": \"white\", \"minorgridcolor\": \"white\", \"startlinecolor\": \"#2a3f5f\"}, \"type\": \"carpet\"}], \"choropleth\": [{\"colorbar\": {\"outlinewidth\": 0, \"ticks\": \"\"}, \"type\": \"choropleth\"}], \"contour\": [{\"colorbar\": {\"outlinewidth\": 0, \"ticks\": \"\"}, \"colorscale\": [[0.0, \"#0d0887\"], [0.1111111111111111, \"#46039f\"], [0.2222222222222222, \"#7201a8\"], [0.3333333333333333, \"#9c179e\"], [0.4444444444444444, \"#bd3786\"], [0.5555555555555556, \"#d8576b\"], [0.6666666666666666, \"#ed7953\"], [0.7777777777777778, \"#fb9f3a\"], [0.8888888888888888, \"#fdca26\"], [1.0, \"#f0f921\"]], \"type\": \"contour\"}], \"contourcarpet\": [{\"colorbar\": {\"outlinewidth\": 0, \"ticks\": \"\"}, \"type\": \"contourcarpet\"}], \"heatmap\": [{\"colorbar\": {\"outlinewidth\": 0, \"ticks\": \"\"}, \"colorscale\": [[0.0, \"#0d0887\"], [0.1111111111111111, \"#46039f\"], [0.2222222222222222, \"#7201a8\"], [0.3333333333333333, \"#9c179e\"], [0.4444444444444444, \"#bd3786\"], [0.5555555555555556, \"#d8576b\"], [0.6666666666666666, \"#ed7953\"], [0.7777777777777778, \"#fb9f3a\"], [0.8888888888888888, \"#fdca26\"], [1.0, \"#f0f921\"]], \"type\": \"heatmap\"}], \"heatmapgl\": [{\"colorbar\": {\"outlinewidth\": 0, \"ticks\": \"\"}, \"colorscale\": [[0.0, \"#0d0887\"], [0.1111111111111111, \"#46039f\"], [0.2222222222222222, \"#7201a8\"], [0.3333333333333333, \"#9c179e\"], [0.4444444444444444, \"#bd3786\"], [0.5555555555555556, \"#d8576b\"], [0.6666666666666666, \"#ed7953\"], [0.7777777777777778, \"#fb9f3a\"], [0.8888888888888888, \"#fdca26\"], [1.0, \"#f0f921\"]], \"type\": \"heatmapgl\"}], \"histogram\": [{\"marker\": {\"colorbar\": {\"outlinewidth\": 0, \"ticks\": \"\"}}, \"type\": \"histogram\"}], \"histogram2d\": [{\"colorbar\": {\"outlinewidth\": 0, \"ticks\": \"\"}, \"colorscale\": [[0.0, \"#0d0887\"], [0.1111111111111111, \"#46039f\"], [0.2222222222222222, \"#7201a8\"], [0.3333333333333333, \"#9c179e\"], [0.4444444444444444, \"#bd3786\"], [0.5555555555555556, \"#d8576b\"], [0.6666666666666666, \"#ed7953\"], [0.7777777777777778, \"#fb9f3a\"], [0.8888888888888888, \"#fdca26\"], [1.0, \"#f0f921\"]], \"type\": \"histogram2d\"}], \"histogram2dcontour\": [{\"colorbar\": {\"outlinewidth\": 0, \"ticks\": \"\"}, \"colorscale\": [[0.0, \"#0d0887\"], [0.1111111111111111, \"#46039f\"], [0.2222222222222222, \"#7201a8\"], [0.3333333333333333, \"#9c179e\"], [0.4444444444444444, \"#bd3786\"], [0.5555555555555556, \"#d8576b\"], [0.6666666666666666, \"#ed7953\"], [0.7777777777777778, \"#fb9f3a\"], [0.8888888888888888, \"#fdca26\"], [1.0, \"#f0f921\"]], \"type\": \"histogram2dcontour\"}], \"mesh3d\": [{\"colorbar\": {\"outlinewidth\": 0, \"ticks\": \"\"}, \"type\": \"mesh3d\"}], \"parcoords\": [{\"line\": {\"colorbar\": {\"outlinewidth\": 0, \"ticks\": \"\"}}, \"type\": \"parcoords\"}], \"pie\": [{\"automargin\": true, \"type\": \"pie\"}], \"scatter\": [{\"marker\": {\"colorbar\": {\"outlinewidth\": 0, \"ticks\": \"\"}}, \"type\": \"scatter\"}], \"scatter3d\": [{\"line\": {\"colorbar\": {\"outlinewidth\": 0, \"ticks\": \"\"}}, \"marker\": {\"colorbar\": {\"outlinewidth\": 0, \"ticks\": \"\"}}, \"type\": \"scatter3d\"}], \"scattercarpet\": [{\"marker\": {\"colorbar\": {\"outlinewidth\": 0, \"ticks\": \"\"}}, \"type\": \"scattercarpet\"}], \"scattergeo\": [{\"marker\": {\"colorbar\": {\"outlinewidth\": 0, \"ticks\": \"\"}}, \"type\": \"scattergeo\"}], \"scattergl\": [{\"marker\": {\"colorbar\": {\"outlinewidth\": 0, \"ticks\": \"\"}}, \"type\": \"scattergl\"}], \"scattermapbox\": [{\"marker\": {\"colorbar\": {\"outlinewidth\": 0, \"ticks\": \"\"}}, \"type\": \"scattermapbox\"}], \"scatterpolar\": [{\"marker\": {\"colorbar\": {\"outlinewidth\": 0, \"ticks\": \"\"}}, \"type\": \"scatterpolar\"}], \"scatterpolargl\": [{\"marker\": {\"colorbar\": {\"outlinewidth\": 0, \"ticks\": \"\"}}, \"type\": \"scatterpolargl\"}], \"scatterternary\": [{\"marker\": {\"colorbar\": {\"outlinewidth\": 0, \"ticks\": \"\"}}, \"type\": \"scatterternary\"}], \"surface\": [{\"colorbar\": {\"outlinewidth\": 0, \"ticks\": \"\"}, \"colorscale\": [[0.0, \"#0d0887\"], [0.1111111111111111, \"#46039f\"], [0.2222222222222222, \"#7201a8\"], [0.3333333333333333, \"#9c179e\"], [0.4444444444444444, \"#bd3786\"], [0.5555555555555556, \"#d8576b\"], [0.6666666666666666, \"#ed7953\"], [0.7777777777777778, \"#fb9f3a\"], [0.8888888888888888, \"#fdca26\"], [1.0, \"#f0f921\"]], \"type\": \"surface\"}], \"table\": [{\"cells\": {\"fill\": {\"color\": \"#EBF0F8\"}, \"line\": {\"color\": \"white\"}}, \"header\": {\"fill\": {\"color\": \"#C8D4E3\"}, \"line\": {\"color\": \"white\"}}, \"type\": \"table\"}]}, \"layout\": {\"annotationdefaults\": {\"arrowcolor\": \"#2a3f5f\", \"arrowhead\": 0, \"arrowwidth\": 1}, \"coloraxis\": {\"colorbar\": {\"outlinewidth\": 0, \"ticks\": \"\"}}, \"colorscale\": {\"diverging\": [[0, \"#8e0152\"], [0.1, \"#c51b7d\"], [0.2, \"#de77ae\"], [0.3, \"#f1b6da\"], [0.4, \"#fde0ef\"], [0.5, \"#f7f7f7\"], [0.6, \"#e6f5d0\"], [0.7, \"#b8e186\"], [0.8, \"#7fbc41\"], [0.9, \"#4d9221\"], [1, \"#276419\"]], \"sequential\": [[0.0, \"#0d0887\"], [0.1111111111111111, \"#46039f\"], [0.2222222222222222, \"#7201a8\"], [0.3333333333333333, \"#9c179e\"], [0.4444444444444444, \"#bd3786\"], [0.5555555555555556, \"#d8576b\"], [0.6666666666666666, \"#ed7953\"], [0.7777777777777778, \"#fb9f3a\"], [0.8888888888888888, \"#fdca26\"], [1.0, \"#f0f921\"]], \"sequentialminus\": [[0.0, \"#0d0887\"], [0.1111111111111111, \"#46039f\"], [0.2222222222222222, \"#7201a8\"], [0.3333333333333333, \"#9c179e\"], [0.4444444444444444, \"#bd3786\"], [0.5555555555555556, \"#d8576b\"], [0.6666666666666666, \"#ed7953\"], [0.7777777777777778, \"#fb9f3a\"], [0.8888888888888888, \"#fdca26\"], [1.0, \"#f0f921\"]]}, \"colorway\": [\"#636efa\", \"#EF553B\", \"#00cc96\", \"#ab63fa\", \"#FFA15A\", \"#19d3f3\", \"#FF6692\", \"#B6E880\", \"#FF97FF\", \"#FECB52\"], \"font\": {\"color\": \"#2a3f5f\"}, \"geo\": {\"bgcolor\": \"white\", \"lakecolor\": \"white\", \"landcolor\": \"#E5ECF6\", \"showlakes\": true, \"showland\": true, \"subunitcolor\": \"white\"}, \"hoverlabel\": {\"align\": \"left\"}, \"hovermode\": \"closest\", \"mapbox\": {\"style\": \"light\"}, \"paper_bgcolor\": \"white\", \"plot_bgcolor\": \"#E5ECF6\", \"polar\": {\"angularaxis\": {\"gridcolor\": \"white\", \"linecolor\": \"white\", \"ticks\": \"\"}, \"bgcolor\": \"#E5ECF6\", \"radialaxis\": {\"gridcolor\": \"white\", \"linecolor\": \"white\", \"ticks\": \"\"}}, \"scene\": {\"xaxis\": {\"backgroundcolor\": \"#E5ECF6\", \"gridcolor\": \"white\", \"gridwidth\": 2, \"linecolor\": \"white\", \"showbackground\": true, \"ticks\": \"\", \"zerolinecolor\": \"white\"}, \"yaxis\": {\"backgroundcolor\": \"#E5ECF6\", \"gridcolor\": \"white\", \"gridwidth\": 2, \"linecolor\": \"white\", \"showbackground\": true, \"ticks\": \"\", \"zerolinecolor\": \"white\"}, \"zaxis\": {\"backgroundcolor\": \"#E5ECF6\", \"gridcolor\": \"white\", \"gridwidth\": 2, \"linecolor\": \"white\", \"showbackground\": true, \"ticks\": \"\", \"zerolinecolor\": \"white\"}}, \"shapedefaults\": {\"line\": {\"color\": \"#2a3f5f\"}}, \"ternary\": {\"aaxis\": {\"gridcolor\": \"white\", \"linecolor\": \"white\", \"ticks\": \"\"}, \"baxis\": {\"gridcolor\": \"white\", \"linecolor\": \"white\", \"ticks\": \"\"}, \"bgcolor\": \"#E5ECF6\", \"caxis\": {\"gridcolor\": \"white\", \"linecolor\": \"white\", \"ticks\": \"\"}}, \"title\": {\"x\": 0.05}, \"xaxis\": {\"automargin\": true, \"gridcolor\": \"white\", \"linecolor\": \"white\", \"ticks\": \"\", \"title\": {\"standoff\": 15}, \"zerolinecolor\": \"white\", \"zerolinewidth\": 2}, \"yaxis\": {\"automargin\": true, \"gridcolor\": \"white\", \"linecolor\": \"white\", \"ticks\": \"\", \"title\": {\"standoff\": 15}, \"zerolinecolor\": \"white\", \"zerolinewidth\": 2}}}, \"title\": {\"font\": {\"size\": 16}, \"text\": \"<br>Network graph made with Python\"}, \"xaxis\": {\"showgrid\": false, \"showticklabels\": false, \"zeroline\": false}, \"yaxis\": {\"showgrid\": false, \"showticklabels\": false, \"zeroline\": false}},\n",
       "                        {\"responsive\": true}\n",
       "                    ).then(function(){\n",
       "                            \n",
       "var gd = document.getElementById('27ff2470-a4a5-460c-829b-dbadfe6a20e3');\n",
       "var x = new MutationObserver(function (mutations, observer) {{\n",
       "        var display = window.getComputedStyle(gd).display;\n",
       "        if (!display || display === 'none') {{\n",
       "            console.log([gd, 'removed!']);\n",
       "            Plotly.purge(gd);\n",
       "            observer.disconnect();\n",
       "        }}\n",
       "}});\n",
       "\n",
       "// Listen for the removal of the full notebook cells\n",
       "var notebookContainer = gd.closest('#notebook-container');\n",
       "if (notebookContainer) {{\n",
       "    x.observe(notebookContainer, {childList: true});\n",
       "}}\n",
       "\n",
       "// Listen for the clearing of the current output cell\n",
       "var outputEl = gd.closest('.output');\n",
       "if (outputEl) {{\n",
       "    x.observe(outputEl, {childList: true});\n",
       "}}\n",
       "\n",
       "                        })\n",
       "                };\n",
       "                });\n",
       "            </script>\n",
       "        </div>"
      ]
     },
     "metadata": {},
     "output_type": "display_data"
    }
   ],
   "source": [
    "network_graphs.plotly_network_graph(G)"
   ]
  },
  {
   "cell_type": "markdown",
   "metadata": {},
   "source": [
    "## Page Rank, In-Degree centrality, betweeness centrality, and indegree value"
   ]
  },
  {
   "cell_type": "code",
   "execution_count": 30,
   "metadata": {},
   "outputs": [],
   "source": [
    "page_rank_series = pd.Series(data = network_graphs.simple_page_rank(G), index = list(G.nodes().keys()))\n",
    "DF['page_rank'] = DF['id'].map(lambda x:page_rank_series[x])\n",
    "\n",
    "betweenness_dict = nx.betweenness_centrality(G)\n",
    "DF['betweenness_centrality'] = DF['id'].map(lambda x:betweenness_dict[x])\n",
    "\n",
    "in_degree_centrality_dict = nx.in_degree_centrality(G)\n",
    "DF['in_degree_centrality'] = DF['id'].map(lambda x:in_degree_centrality_dict[x])\n",
    "\n",
    "in_degree_dict = {node:G.in_degree()[node] for node in G.nodes()}\n",
    "DF['in_degree'] = DF['id'].map(lambda x:in_degree_dict[x])\n",
    "\n",
    "degree_dict = {node:G.degree()[node] for node in G.nodes()}\n",
    "DF['degree'] = DF['id'].map(lambda x:degree_dict[x])"
   ]
  },
  {
   "cell_type": "markdown",
   "metadata": {},
   "source": [
    "Sort channels by page rank"
   ]
  },
  {
   "cell_type": "code",
   "execution_count": null,
   "metadata": {},
   "outputs": [],
   "source": []
  },
  {
   "cell_type": "code",
   "execution_count": 145,
   "metadata": {},
   "outputs": [],
   "source": [
    "features = ['title','subscriberCount','viewCount','page_rank','featuredChannelsCount','degree','in_degree','betweenness_centrality','in_degree_centrality']"
   ]
  },
  {
   "cell_type": "code",
   "execution_count": 41,
   "metadata": {},
   "outputs": [
    {
     "data": {
      "text/html": [
       "<div>\n",
       "<style scoped>\n",
       "    .dataframe tbody tr th:only-of-type {\n",
       "        vertical-align: middle;\n",
       "    }\n",
       "\n",
       "    .dataframe tbody tr th {\n",
       "        vertical-align: top;\n",
       "    }\n",
       "\n",
       "    .dataframe thead th {\n",
       "        text-align: right;\n",
       "    }\n",
       "</style>\n",
       "<table border=\"1\" class=\"dataframe\">\n",
       "  <thead>\n",
       "    <tr style=\"text-align: right;\">\n",
       "      <th></th>\n",
       "      <th>title</th>\n",
       "      <th>subscriberCount</th>\n",
       "      <th>viewCount</th>\n",
       "      <th>page_rank</th>\n",
       "      <th>featuredChannelsCount</th>\n",
       "      <th>degree</th>\n",
       "      <th>in_degree</th>\n",
       "      <th>betweenness_centrality</th>\n",
       "      <th>in_degree_centrality</th>\n",
       "    </tr>\n",
       "  </thead>\n",
       "  <tbody>\n",
       "    <tr>\n",
       "      <th>32</th>\n",
       "      <td>Carpool Critics</td>\n",
       "      <td>41200</td>\n",
       "      <td>400367</td>\n",
       "      <td>0.091585</td>\n",
       "      <td>6</td>\n",
       "      <td>11</td>\n",
       "      <td>5</td>\n",
       "      <td>0.000000</td>\n",
       "      <td>0.045455</td>\n",
       "    </tr>\n",
       "    <tr>\n",
       "      <th>17</th>\n",
       "      <td>Linus Tech Tips</td>\n",
       "      <td>11500000</td>\n",
       "      <td>3899734482</td>\n",
       "      <td>0.091585</td>\n",
       "      <td>6</td>\n",
       "      <td>13</td>\n",
       "      <td>7</td>\n",
       "      <td>0.020559</td>\n",
       "      <td>0.063636</td>\n",
       "    </tr>\n",
       "    <tr>\n",
       "      <th>29</th>\n",
       "      <td>ShortCircuit</td>\n",
       "      <td>936000</td>\n",
       "      <td>54203278</td>\n",
       "      <td>0.091585</td>\n",
       "      <td>6</td>\n",
       "      <td>11</td>\n",
       "      <td>5</td>\n",
       "      <td>0.000000</td>\n",
       "      <td>0.045455</td>\n",
       "    </tr>\n",
       "    <tr>\n",
       "      <th>36</th>\n",
       "      <td>TechLinked</td>\n",
       "      <td>1250000</td>\n",
       "      <td>181059678</td>\n",
       "      <td>0.091585</td>\n",
       "      <td>6</td>\n",
       "      <td>12</td>\n",
       "      <td>6</td>\n",
       "      <td>0.000042</td>\n",
       "      <td>0.054545</td>\n",
       "    </tr>\n",
       "    <tr>\n",
       "      <th>43</th>\n",
       "      <td>Techquickie</td>\n",
       "      <td>3520000</td>\n",
       "      <td>524324015</td>\n",
       "      <td>0.091585</td>\n",
       "      <td>6</td>\n",
       "      <td>12</td>\n",
       "      <td>6</td>\n",
       "      <td>0.000042</td>\n",
       "      <td>0.054545</td>\n",
       "    </tr>\n",
       "    <tr>\n",
       "      <th>54</th>\n",
       "      <td>LMG Clips</td>\n",
       "      <td>176000</td>\n",
       "      <td>19612357</td>\n",
       "      <td>0.091585</td>\n",
       "      <td>6</td>\n",
       "      <td>12</td>\n",
       "      <td>6</td>\n",
       "      <td>0.000042</td>\n",
       "      <td>0.054545</td>\n",
       "    </tr>\n",
       "    <tr>\n",
       "      <th>71</th>\n",
       "      <td>Channel Super Fun</td>\n",
       "      <td>739000</td>\n",
       "      <td>97590782</td>\n",
       "      <td>0.064253</td>\n",
       "      <td>4</td>\n",
       "      <td>10</td>\n",
       "      <td>6</td>\n",
       "      <td>0.000000</td>\n",
       "      <td>0.054545</td>\n",
       "    </tr>\n",
       "    <tr>\n",
       "      <th>2</th>\n",
       "      <td>Corridor Crew</td>\n",
       "      <td>4090000</td>\n",
       "      <td>706493568</td>\n",
       "      <td>0.047295</td>\n",
       "      <td>12</td>\n",
       "      <td>20</td>\n",
       "      <td>8</td>\n",
       "      <td>0.146542</td>\n",
       "      <td>0.072727</td>\n",
       "    </tr>\n",
       "  </tbody>\n",
       "</table>\n",
       "</div>"
      ],
      "text/plain": [
       "                title  subscriberCount   viewCount  page_rank  \\\n",
       "32    Carpool Critics            41200      400367   0.091585   \n",
       "17    Linus Tech Tips         11500000  3899734482   0.091585   \n",
       "29       ShortCircuit           936000    54203278   0.091585   \n",
       "36         TechLinked          1250000   181059678   0.091585   \n",
       "43        Techquickie          3520000   524324015   0.091585   \n",
       "54          LMG Clips           176000    19612357   0.091585   \n",
       "71  Channel Super Fun           739000    97590782   0.064253   \n",
       "2       Corridor Crew          4090000   706493568   0.047295   \n",
       "\n",
       "    featuredChannelsCount  degree  in_degree  betweenness_centrality  \\\n",
       "32                      6      11          5                0.000000   \n",
       "17                      6      13          7                0.020559   \n",
       "29                      6      11          5                0.000000   \n",
       "36                      6      12          6                0.000042   \n",
       "43                      6      12          6                0.000042   \n",
       "54                      6      12          6                0.000042   \n",
       "71                      4      10          6                0.000000   \n",
       "2                      12      20          8                0.146542   \n",
       "\n",
       "    in_degree_centrality  \n",
       "32              0.045455  \n",
       "17              0.063636  \n",
       "29              0.045455  \n",
       "36              0.054545  \n",
       "43              0.054545  \n",
       "54              0.054545  \n",
       "71              0.054545  \n",
       "2               0.072727  "
      ]
     },
     "execution_count": 41,
     "metadata": {},
     "output_type": "execute_result"
    }
   ],
   "source": [
    "DF[['title','subscriberCount','viewCount','page_rank','featuredChannelsCount','degree','in_degree','betweenness_centrality','in_degree_centrality']].sort_values(\n",
    "    'page_rank', ascending=False).head(8)"
   ]
  },
  {
   "cell_type": "code",
   "execution_count": 32,
   "metadata": {},
   "outputs": [],
   "source": [
    "betweenness_dict = nx.betweenness_centrality(G)\n",
    "in_degree_dict = nx.in_degree_centrality(G)\n",
    "DF['betweenness_centrality'] = DF['id'].map(lambda x:betweenness_dict[x])\n",
    "DF['in_degree_centrality'] = DF['id'].map(lambda x:in_degree_dict[x])"
   ]
  },
  {
   "cell_type": "markdown",
   "metadata": {},
   "source": [
    "Sort channels by betweenness centrality."
   ]
  },
  {
   "cell_type": "code",
   "execution_count": 42,
   "metadata": {},
   "outputs": [
    {
     "data": {
      "text/html": [
       "<div>\n",
       "<style scoped>\n",
       "    .dataframe tbody tr th:only-of-type {\n",
       "        vertical-align: middle;\n",
       "    }\n",
       "\n",
       "    .dataframe tbody tr th {\n",
       "        vertical-align: top;\n",
       "    }\n",
       "\n",
       "    .dataframe thead th {\n",
       "        text-align: right;\n",
       "    }\n",
       "</style>\n",
       "<table border=\"1\" class=\"dataframe\">\n",
       "  <thead>\n",
       "    <tr style=\"text-align: right;\">\n",
       "      <th></th>\n",
       "      <th>title</th>\n",
       "      <th>subscriberCount</th>\n",
       "      <th>viewCount</th>\n",
       "      <th>page_rank</th>\n",
       "      <th>featuredChannelsCount</th>\n",
       "      <th>degree</th>\n",
       "      <th>in_degree</th>\n",
       "      <th>betweenness_centrality</th>\n",
       "      <th>in_degree_centrality</th>\n",
       "    </tr>\n",
       "  </thead>\n",
       "  <tbody>\n",
       "    <tr>\n",
       "      <th>1</th>\n",
       "      <td>Corridor</td>\n",
       "      <td>8060000</td>\n",
       "      <td>1463250152</td>\n",
       "      <td>0.033504</td>\n",
       "      <td>11</td>\n",
       "      <td>25</td>\n",
       "      <td>14</td>\n",
       "      <td>0.183506</td>\n",
       "      <td>0.127273</td>\n",
       "    </tr>\n",
       "    <tr>\n",
       "      <th>2</th>\n",
       "      <td>Corridor Crew</td>\n",
       "      <td>4090000</td>\n",
       "      <td>706493568</td>\n",
       "      <td>0.047295</td>\n",
       "      <td>12</td>\n",
       "      <td>20</td>\n",
       "      <td>8</td>\n",
       "      <td>0.146542</td>\n",
       "      <td>0.072727</td>\n",
       "    </tr>\n",
       "    <tr>\n",
       "      <th>0</th>\n",
       "      <td>Corridor Cast</td>\n",
       "      <td>110000</td>\n",
       "      <td>4990381</td>\n",
       "      <td>0.023768</td>\n",
       "      <td>10</td>\n",
       "      <td>14</td>\n",
       "      <td>4</td>\n",
       "      <td>0.100167</td>\n",
       "      <td>0.036364</td>\n",
       "    </tr>\n",
       "    <tr>\n",
       "      <th>10</th>\n",
       "      <td>Film Riot</td>\n",
       "      <td>1670000</td>\n",
       "      <td>191532908</td>\n",
       "      <td>0.016631</td>\n",
       "      <td>13</td>\n",
       "      <td>21</td>\n",
       "      <td>8</td>\n",
       "      <td>0.076642</td>\n",
       "      <td>0.072727</td>\n",
       "    </tr>\n",
       "    <tr>\n",
       "      <th>11</th>\n",
       "      <td>devinsupertramp</td>\n",
       "      <td>5920000</td>\n",
       "      <td>1436117980</td>\n",
       "      <td>0.010800</td>\n",
       "      <td>10</td>\n",
       "      <td>17</td>\n",
       "      <td>7</td>\n",
       "      <td>0.069323</td>\n",
       "      <td>0.063636</td>\n",
       "    </tr>\n",
       "    <tr>\n",
       "      <th>19</th>\n",
       "      <td>Shonduras</td>\n",
       "      <td>2440000</td>\n",
       "      <td>1628005096</td>\n",
       "      <td>0.011660</td>\n",
       "      <td>10</td>\n",
       "      <td>15</td>\n",
       "      <td>5</td>\n",
       "      <td>0.059808</td>\n",
       "      <td>0.045455</td>\n",
       "    </tr>\n",
       "    <tr>\n",
       "      <th>22</th>\n",
       "      <td>SoKrispyMedia</td>\n",
       "      <td>1130000</td>\n",
       "      <td>315561825</td>\n",
       "      <td>0.011749</td>\n",
       "      <td>10</td>\n",
       "      <td>17</td>\n",
       "      <td>7</td>\n",
       "      <td>0.055512</td>\n",
       "      <td>0.063636</td>\n",
       "    </tr>\n",
       "    <tr>\n",
       "      <th>23</th>\n",
       "      <td>Mike Diva</td>\n",
       "      <td>650000</td>\n",
       "      <td>142737115</td>\n",
       "      <td>0.009866</td>\n",
       "      <td>7</td>\n",
       "      <td>14</td>\n",
       "      <td>7</td>\n",
       "      <td>0.045655</td>\n",
       "      <td>0.063636</td>\n",
       "    </tr>\n",
       "  </tbody>\n",
       "</table>\n",
       "</div>"
      ],
      "text/plain": [
       "              title  subscriberCount   viewCount  page_rank  \\\n",
       "1          Corridor          8060000  1463250152   0.033504   \n",
       "2     Corridor Crew          4090000   706493568   0.047295   \n",
       "0     Corridor Cast           110000     4990381   0.023768   \n",
       "10        Film Riot          1670000   191532908   0.016631   \n",
       "11  devinsupertramp          5920000  1436117980   0.010800   \n",
       "19        Shonduras          2440000  1628005096   0.011660   \n",
       "22    SoKrispyMedia          1130000   315561825   0.011749   \n",
       "23        Mike Diva           650000   142737115   0.009866   \n",
       "\n",
       "    featuredChannelsCount  degree  in_degree  betweenness_centrality  \\\n",
       "1                      11      25         14                0.183506   \n",
       "2                      12      20          8                0.146542   \n",
       "0                      10      14          4                0.100167   \n",
       "10                     13      21          8                0.076642   \n",
       "11                     10      17          7                0.069323   \n",
       "19                     10      15          5                0.059808   \n",
       "22                     10      17          7                0.055512   \n",
       "23                      7      14          7                0.045655   \n",
       "\n",
       "    in_degree_centrality  \n",
       "1               0.127273  \n",
       "2               0.072727  \n",
       "0               0.036364  \n",
       "10              0.072727  \n",
       "11              0.063636  \n",
       "19              0.045455  \n",
       "22              0.063636  \n",
       "23              0.063636  "
      ]
     },
     "execution_count": 42,
     "metadata": {},
     "output_type": "execute_result"
    }
   ],
   "source": [
    "DF[['title','subscriberCount','viewCount','page_rank','featuredChannelsCount','degree','in_degree','betweenness_centrality','in_degree_centrality']].sort_values(\n",
    "    'betweenness_centrality', ascending=False).head(8)"
   ]
  },
  {
   "cell_type": "markdown",
   "metadata": {},
   "source": [
    "Sort channels by in_degree centrality."
   ]
  },
  {
   "cell_type": "code",
   "execution_count": 43,
   "metadata": {},
   "outputs": [
    {
     "data": {
      "text/html": [
       "<div>\n",
       "<style scoped>\n",
       "    .dataframe tbody tr th:only-of-type {\n",
       "        vertical-align: middle;\n",
       "    }\n",
       "\n",
       "    .dataframe tbody tr th {\n",
       "        vertical-align: top;\n",
       "    }\n",
       "\n",
       "    .dataframe thead th {\n",
       "        text-align: right;\n",
       "    }\n",
       "</style>\n",
       "<table border=\"1\" class=\"dataframe\">\n",
       "  <thead>\n",
       "    <tr style=\"text-align: right;\">\n",
       "      <th></th>\n",
       "      <th>title</th>\n",
       "      <th>subscriberCount</th>\n",
       "      <th>viewCount</th>\n",
       "      <th>page_rank</th>\n",
       "      <th>featuredChannelsCount</th>\n",
       "      <th>degree</th>\n",
       "      <th>in_degree</th>\n",
       "      <th>betweenness_centrality</th>\n",
       "      <th>in_degree_centrality</th>\n",
       "    </tr>\n",
       "  </thead>\n",
       "  <tbody>\n",
       "    <tr>\n",
       "      <th>1</th>\n",
       "      <td>Corridor</td>\n",
       "      <td>8060000</td>\n",
       "      <td>1463250152</td>\n",
       "      <td>3.350372e-02</td>\n",
       "      <td>11</td>\n",
       "      <td>25</td>\n",
       "      <td>14</td>\n",
       "      <td>0.183506</td>\n",
       "      <td>0.127273</td>\n",
       "    </tr>\n",
       "    <tr>\n",
       "      <th>90</th>\n",
       "      <td>LetsPlay</td>\n",
       "      <td>3850000</td>\n",
       "      <td>2431520849</td>\n",
       "      <td>6.639924e-17</td>\n",
       "      <td>1</td>\n",
       "      <td>10</td>\n",
       "      <td>9</td>\n",
       "      <td>0.000042</td>\n",
       "      <td>0.081818</td>\n",
       "    </tr>\n",
       "    <tr>\n",
       "      <th>2</th>\n",
       "      <td>Corridor Crew</td>\n",
       "      <td>4090000</td>\n",
       "      <td>706493568</td>\n",
       "      <td>4.729505e-02</td>\n",
       "      <td>12</td>\n",
       "      <td>20</td>\n",
       "      <td>8</td>\n",
       "      <td>0.146542</td>\n",
       "      <td>0.072727</td>\n",
       "    </tr>\n",
       "    <tr>\n",
       "      <th>16</th>\n",
       "      <td>Nukazooka</td>\n",
       "      <td>2250000</td>\n",
       "      <td>669129570</td>\n",
       "      <td>1.790866e-02</td>\n",
       "      <td>8</td>\n",
       "      <td>16</td>\n",
       "      <td>8</td>\n",
       "      <td>0.042045</td>\n",
       "      <td>0.072727</td>\n",
       "    </tr>\n",
       "    <tr>\n",
       "      <th>15</th>\n",
       "      <td>Rooster Teeth</td>\n",
       "      <td>9470000</td>\n",
       "      <td>6077158993</td>\n",
       "      <td>5.619542e-04</td>\n",
       "      <td>12</td>\n",
       "      <td>20</td>\n",
       "      <td>8</td>\n",
       "      <td>0.040979</td>\n",
       "      <td>0.072727</td>\n",
       "    </tr>\n",
       "    <tr>\n",
       "      <th>10</th>\n",
       "      <td>Film Riot</td>\n",
       "      <td>1670000</td>\n",
       "      <td>191532908</td>\n",
       "      <td>1.663137e-02</td>\n",
       "      <td>13</td>\n",
       "      <td>21</td>\n",
       "      <td>8</td>\n",
       "      <td>0.076642</td>\n",
       "      <td>0.072727</td>\n",
       "    </tr>\n",
       "    <tr>\n",
       "      <th>11</th>\n",
       "      <td>devinsupertramp</td>\n",
       "      <td>5920000</td>\n",
       "      <td>1436117980</td>\n",
       "      <td>1.079989e-02</td>\n",
       "      <td>10</td>\n",
       "      <td>17</td>\n",
       "      <td>7</td>\n",
       "      <td>0.069323</td>\n",
       "      <td>0.063636</td>\n",
       "    </tr>\n",
       "    <tr>\n",
       "      <th>28</th>\n",
       "      <td>Achievement Hunter</td>\n",
       "      <td>1640000</td>\n",
       "      <td>900009979</td>\n",
       "      <td>6.639924e-17</td>\n",
       "      <td>1</td>\n",
       "      <td>8</td>\n",
       "      <td>7</td>\n",
       "      <td>0.000000</td>\n",
       "      <td>0.063636</td>\n",
       "    </tr>\n",
       "  </tbody>\n",
       "</table>\n",
       "</div>"
      ],
      "text/plain": [
       "                 title  subscriberCount   viewCount     page_rank  \\\n",
       "1             Corridor          8060000  1463250152  3.350372e-02   \n",
       "90            LetsPlay          3850000  2431520849  6.639924e-17   \n",
       "2        Corridor Crew          4090000   706493568  4.729505e-02   \n",
       "16           Nukazooka          2250000   669129570  1.790866e-02   \n",
       "15       Rooster Teeth          9470000  6077158993  5.619542e-04   \n",
       "10           Film Riot          1670000   191532908  1.663137e-02   \n",
       "11     devinsupertramp          5920000  1436117980  1.079989e-02   \n",
       "28  Achievement Hunter          1640000   900009979  6.639924e-17   \n",
       "\n",
       "    featuredChannelsCount  degree  in_degree  betweenness_centrality  \\\n",
       "1                      11      25         14                0.183506   \n",
       "90                      1      10          9                0.000042   \n",
       "2                      12      20          8                0.146542   \n",
       "16                      8      16          8                0.042045   \n",
       "15                     12      20          8                0.040979   \n",
       "10                     13      21          8                0.076642   \n",
       "11                     10      17          7                0.069323   \n",
       "28                      1       8          7                0.000000   \n",
       "\n",
       "    in_degree_centrality  \n",
       "1               0.127273  \n",
       "90              0.081818  \n",
       "2               0.072727  \n",
       "16              0.072727  \n",
       "15              0.072727  \n",
       "10              0.072727  \n",
       "11              0.063636  \n",
       "28              0.063636  "
      ]
     },
     "execution_count": 43,
     "metadata": {},
     "output_type": "execute_result"
    }
   ],
   "source": [
    "DF[['title','subscriberCount','viewCount','page_rank','featuredChannelsCount','degree','in_degree','betweenness_centrality','in_degree_centrality']].sort_values(\n",
    "    'in_degree_centrality', ascending=False).head(8)"
   ]
  },
  {
   "cell_type": "markdown",
   "metadata": {},
   "source": [
    "## Strongly Connected Components"
   ]
  },
  {
   "cell_type": "code",
   "execution_count": 35,
   "metadata": {},
   "outputs": [],
   "source": [
    "scc_list = [scc for scc in nx.strongly_connected_components(G)]"
   ]
  },
  {
   "cell_type": "code",
   "execution_count": null,
   "metadata": {},
   "outputs": [],
   "source": [
    "scc_list[42]"
   ]
  },
  {
   "cell_type": "code",
   "execution_count": 37,
   "metadata": {},
   "outputs": [],
   "source": [
    "H = G.subgraph(list(scc_list[42]))"
   ]
  },
  {
   "cell_type": "markdown",
   "metadata": {},
   "source": [
    "Plot of our subgraph of strongly connected components"
   ]
  },
  {
   "cell_type": "code",
   "execution_count": 45,
   "metadata": {},
   "outputs": [
    {
     "data": {
      "application/vnd.plotly.v1+json": {
       "config": {
        "plotlyServerURL": "https://plot.ly"
       },
       "data": [
        {
         "hoverinfo": "none",
         "line": {
          "color": "#888",
          "width": 0.5
         },
         "mode": "lines",
         "type": "scatter",
         "x": [
          -0.34808195302937794,
          -0.11637351141844113,
          null,
          -0.34808195302937794,
          -0.25560733848134604,
          null,
          -0.34808195302937794,
          -0.41464511822832284,
          null,
          -1,
          -0.8332174598104676,
          null,
          -0.41464511822832284,
          -0.2168794502591689,
          null,
          -0.41464511822832284,
          -0.11637351141844113,
          null,
          -0.41464511822832284,
          -0.70778618919324,
          null,
          -0.41464511822832284,
          -0.5887682383108283,
          null,
          -0.41464511822832284,
          -0.34808195302937794,
          null,
          -0.41464511822832284,
          -0.46152854922700043,
          null,
          -0.41464511822832284,
          -0.4293955235532882,
          null,
          -0.12346784348291978,
          -0.11637351141844113,
          null,
          -0.12346784348291978,
          -0.06744204758975231,
          null,
          -0.12346784348291978,
          -0.2492289571881962,
          null,
          -0.12346784348291978,
          -0.01582227743198666,
          null,
          -0.5299403034512099,
          -0.2492289571881962,
          null,
          0.7622695707667537,
          0.47999891009270357,
          null,
          0.7622695707667537,
          0.7506538958115757,
          null,
          0.7622695707667537,
          0.7552644210597663,
          null,
          0.3485491267073522,
          0.3328022781580242,
          null,
          0.3485491267073522,
          0.43977583803037523,
          null,
          0.3068058991066413,
          0.5727666122951255,
          null,
          0.3068058991066413,
          0.47999891009270357,
          null,
          0.3068058991066413,
          -0.06744204758975231,
          null,
          -0.20910544554960359,
          -0.25560733848134604,
          null,
          -0.11637351141844113,
          -0.06744204758975231,
          null,
          -0.11637351141844113,
          -0.12346784348291978,
          null,
          -0.11637351141844113,
          -0.2492289571881962,
          null,
          -0.11637351141844113,
          -0.01582227743198666,
          null,
          -0.11637351141844113,
          0.3780430130725315,
          null,
          -0.11637351141844113,
          -0.41464511822832284,
          null,
          -0.11637351141844113,
          -0.25560733848134604,
          null,
          -0.11637351141844113,
          0.3328022781580242,
          null,
          -0.11637351141844113,
          -0.5887682383108283,
          null,
          -0.46152854922700043,
          -0.11637351141844113,
          null,
          -0.46152854922700043,
          -0.70778618919324,
          null,
          -0.46152854922700043,
          -0.41464511822832284,
          null,
          -0.46152854922700043,
          -0.5887682383108283,
          null,
          -0.8332174598104676,
          -1,
          null,
          -0.8332174598104676,
          -0.5887682383108283,
          null,
          0.7552644210597663,
          0.47999891009270357,
          null,
          0.3328022781580242,
          0.43977583803037523,
          null,
          0.3328022781580242,
          0.3485491267073522,
          null,
          0.3328022781580242,
          -0.11637351141844113,
          null,
          0.3328022781580242,
          0.5794342877980675,
          null,
          0.3328022781580242,
          0.2526996756932124,
          null,
          0.3328022781580242,
          0.5477977212116386,
          null,
          0.3328022781580242,
          0.3780430130725315,
          null,
          -0.6273206491993776,
          -0.41464511822832284,
          null,
          -0.6273206491993776,
          -0.5887682383108283,
          null,
          -0.70778618919324,
          -0.41464511822832284,
          null,
          -0.6668667759628782,
          -0.5887682383108283,
          null,
          -0.2492289571881962,
          -0.34020171438462926,
          null,
          -0.2492289571881962,
          -0.11637351141844113,
          null,
          -0.2492289571881962,
          -0.06744204758975231,
          null,
          -0.2492289571881962,
          -0.5299403034512099,
          null,
          -0.2492289571881962,
          -0.12346784348291978,
          null,
          -0.2492289571881962,
          -0.01582227743198666,
          null,
          0.2526996756932124,
          0.3328022781580242,
          null,
          -0.2168794502591689,
          -0.41464511822832284,
          null,
          -0.2168794502591689,
          -0.11637351141844113,
          null,
          -0.2168794502591689,
          -0.06744204758975231,
          null,
          0.5794342877980675,
          0.3328022781580242,
          null,
          0.5794342877980675,
          0.5477977212116386,
          null,
          -0.06744204758975231,
          -0.11637351141844113,
          null,
          -0.06744204758975231,
          -0.12346784348291978,
          null,
          -0.06744204758975231,
          -0.2492289571881962,
          null,
          -0.06744204758975231,
          -0.01582227743198666,
          null,
          -0.06744204758975231,
          0.3780430130725315,
          null,
          -0.06744204758975231,
          -0.22825024346395983,
          null,
          -0.06744204758975231,
          -0.25560733848134604,
          null,
          -0.06744204758975231,
          0.47999891009270357,
          null,
          -0.06744204758975231,
          -0.5887682383108283,
          null,
          0.3780430130725315,
          0.4732972995747886,
          null,
          0.3780430130725315,
          0.6273287027487139,
          null,
          0.3780430130725315,
          0.6005746451641458,
          null,
          0.3780430130725315,
          -0.06744204758975231,
          null,
          0.3780430130725315,
          0.3328022781580242,
          null,
          -0.25560733848134604,
          -0.11637351141844113,
          null,
          -0.25560733848134604,
          -0.22825024346395983,
          null,
          -0.25560733848134604,
          -0.4527874375925464,
          null,
          -0.25560733848134604,
          -0.33913819618121055,
          null,
          -0.25560733848134604,
          -0.20910544554960359,
          null,
          0.6273287027487139,
          0.4732972995747886,
          null,
          -0.22825024346395983,
          -0.11637351141844113,
          null,
          -0.22825024346395983,
          -0.25560733848134604,
          null,
          -0.22825024346395983,
          -0.2492289571881962,
          null,
          -0.33913819618121055,
          -0.25560733848134604,
          null,
          0.4732972995747886,
          0.3780430130725315,
          null,
          0.19244585063554626,
          -0.11637351141844113,
          null,
          0.19244585063554626,
          0.47999891009270357,
          null,
          -0.01582227743198666,
          -0.11637351141844113,
          null,
          -0.01582227743198666,
          -0.06744204758975231,
          null,
          -0.01582227743198666,
          -0.12346784348291978,
          null,
          0.6005746451641458,
          0.3780430130725315,
          null,
          0.5727666122951255,
          0.47999891009270357,
          null,
          0.5727666122951255,
          0.3068058991066413,
          null,
          0.7506538958115757,
          0.47999891009270357,
          null,
          -0.4527874375925464,
          -0.25560733848134604,
          null,
          -0.4293955235532882,
          -0.41464511822832284,
          null,
          0.5477977212116386,
          0.5794342877980675,
          null,
          0.5477977212116386,
          0.3328022781580242,
          null,
          -0.5887682383108283,
          -0.6668667759628782,
          null,
          -0.5887682383108283,
          -1,
          null,
          -0.5887682383108283,
          -0.41464511822832284,
          null,
          -0.5887682383108283,
          -0.8332174598104676,
          null,
          -0.5887682383108283,
          -0.11637351141844113,
          null,
          -0.5887682383108283,
          -0.6273206491993776,
          null,
          0.43977583803037523,
          0.3328022781580242,
          null,
          0.43977583803037523,
          0.3485491267073522,
          null,
          -0.34020171438462926,
          -0.2492289571881962,
          null,
          -0.34020171438462926,
          -0.11637351141844113,
          null,
          0.47999891009270357,
          0.7622695707667537,
          null,
          0.47999891009270357,
          0.7506538958115757,
          null,
          0.47999891009270357,
          0.8213474750627866,
          null,
          0.47999891009270357,
          0.5727666122951255,
          null,
          0.47999891009270357,
          0.3068058991066413,
          null,
          0.47999891009270357,
          -0.06744204758975231,
          null,
          0.47999891009270357,
          0.7552644210597663,
          null,
          0.47999891009270357,
          0.19244585063554626,
          null,
          0.8213474750627866,
          0.47999891009270357,
          null,
          0.8213474750627866,
          0.7622695707667537,
          null
         ],
         "y": [
          -0.14917724758748355,
          -0.005327965557857061,
          null,
          -0.14917724758748355,
          -0.49698999024689683,
          null,
          -0.14917724758748355,
          0.19506603023712552,
          null,
          0.998083341386229,
          0.7998666755684801,
          null,
          0.19506603023712552,
          0.12551808492258565,
          null,
          0.19506603023712552,
          -0.005327965557857061,
          null,
          0.19506603023712552,
          0.20049320585024777,
          null,
          0.19506603023712552,
          0.5267146830275617,
          null,
          0.19506603023712552,
          -0.14917724758748355,
          null,
          0.19506603023712552,
          0.25120733666815703,
          null,
          0.19506603023712552,
          0.4523224502802303,
          null,
          -0.1777554131751803,
          -0.005327965557857061,
          null,
          -0.1777554131751803,
          -0.06320478424836255,
          null,
          -0.1777554131751803,
          -0.15464338719440648,
          null,
          -0.1777554131751803,
          -0.18428376794462697,
          null,
          -0.271186188250785,
          -0.15464338719440648,
          null,
          -0.055475656881272525,
          -0.041957330372876016,
          null,
          -0.055475656881272525,
          -0.19186416806754147,
          null,
          -0.055475656881272525,
          0.11878203810346274,
          null,
          0.45015163638500333,
          0.1556707822537807,
          null,
          0.45015163638500333,
          0.44046861741497173,
          null,
          -0.07093490043221053,
          -0.027928648773271714,
          null,
          -0.07093490043221053,
          -0.041957330372876016,
          null,
          -0.07093490043221053,
          -0.06320478424836255,
          null,
          -0.7775948957509574,
          -0.49698999024689683,
          null,
          -0.005327965557857061,
          -0.06320478424836255,
          null,
          -0.005327965557857061,
          -0.1777554131751803,
          null,
          -0.005327965557857061,
          -0.15464338719440648,
          null,
          -0.005327965557857061,
          -0.18428376794462697,
          null,
          -0.005327965557857061,
          -0.3656564065866343,
          null,
          -0.005327965557857061,
          0.19506603023712552,
          null,
          -0.005327965557857061,
          -0.49698999024689683,
          null,
          -0.005327965557857061,
          0.1556707822537807,
          null,
          -0.005327965557857061,
          0.5267146830275617,
          null,
          0.25120733666815703,
          -0.005327965557857061,
          null,
          0.25120733666815703,
          0.20049320585024777,
          null,
          0.25120733666815703,
          0.19506603023712552,
          null,
          0.25120733666815703,
          0.5267146830275617,
          null,
          0.7998666755684801,
          0.998083341386229,
          null,
          0.7998666755684801,
          0.5267146830275617,
          null,
          0.11878203810346274,
          -0.041957330372876016,
          null,
          0.1556707822537807,
          0.44046861741497173,
          null,
          0.1556707822537807,
          0.45015163638500333,
          null,
          0.1556707822537807,
          -0.005327965557857061,
          null,
          0.1556707822537807,
          0.29938000520437846,
          null,
          0.1556707822537807,
          0.31551424836975683,
          null,
          0.1556707822537807,
          0.3847788262939248,
          null,
          0.1556707822537807,
          -0.3656564065866343,
          null,
          0.38456133620303695,
          0.19506603023712552,
          null,
          0.38456133620303695,
          0.5267146830275617,
          null,
          0.20049320585024777,
          0.19506603023712552,
          null,
          0.7713188539705517,
          0.5267146830275617,
          null,
          -0.15464338719440648,
          -0.024226811758129893,
          null,
          -0.15464338719440648,
          -0.005327965557857061,
          null,
          -0.15464338719440648,
          -0.06320478424836255,
          null,
          -0.15464338719440648,
          -0.271186188250785,
          null,
          -0.15464338719440648,
          -0.1777554131751803,
          null,
          -0.15464338719440648,
          -0.18428376794462697,
          null,
          0.31551424836975683,
          0.1556707822537807,
          null,
          0.12551808492258565,
          0.19506603023712552,
          null,
          0.12551808492258565,
          -0.005327965557857061,
          null,
          0.12551808492258565,
          -0.06320478424836255,
          null,
          0.29938000520437846,
          0.1556707822537807,
          null,
          0.29938000520437846,
          0.3847788262939248,
          null,
          -0.06320478424836255,
          -0.005327965557857061,
          null,
          -0.06320478424836255,
          -0.1777554131751803,
          null,
          -0.06320478424836255,
          -0.15464338719440648,
          null,
          -0.06320478424836255,
          -0.18428376794462697,
          null,
          -0.06320478424836255,
          -0.3656564065866343,
          null,
          -0.06320478424836255,
          -0.2995731885425781,
          null,
          -0.06320478424836255,
          -0.49698999024689683,
          null,
          -0.06320478424836255,
          -0.041957330372876016,
          null,
          -0.06320478424836255,
          0.5267146830275617,
          null,
          -0.3656564065866343,
          -0.6206474225109329,
          null,
          -0.3656564065866343,
          -0.8571708328381921,
          null,
          -0.3656564065866343,
          -0.5417918054019994,
          null,
          -0.3656564065866343,
          -0.06320478424836255,
          null,
          -0.3656564065866343,
          0.1556707822537807,
          null,
          -0.49698999024689683,
          -0.005327965557857061,
          null,
          -0.49698999024689683,
          -0.2995731885425781,
          null,
          -0.49698999024689683,
          -0.7058567563394789,
          null,
          -0.49698999024689683,
          -0.7781065215375439,
          null,
          -0.49698999024689683,
          -0.7775948957509574,
          null,
          -0.8571708328381921,
          -0.6206474225109329,
          null,
          -0.2995731885425781,
          -0.005327965557857061,
          null,
          -0.2995731885425781,
          -0.49698999024689683,
          null,
          -0.2995731885425781,
          -0.15464338719440648,
          null,
          -0.7781065215375439,
          -0.49698999024689683,
          null,
          -0.6206474225109329,
          -0.3656564065866343,
          null,
          -0.016140979084435562,
          -0.005327965557857061,
          null,
          -0.016140979084435562,
          -0.041957330372876016,
          null,
          -0.18428376794462697,
          -0.005327965557857061,
          null,
          -0.18428376794462697,
          -0.06320478424836255,
          null,
          -0.18428376794462697,
          -0.1777554131751803,
          null,
          -0.5417918054019994,
          -0.3656564065866343,
          null,
          -0.027928648773271714,
          -0.041957330372876016,
          null,
          -0.027928648773271714,
          -0.07093490043221053,
          null,
          -0.19186416806754147,
          -0.041957330372876016,
          null,
          -0.7058567563394789,
          -0.49698999024689683,
          null,
          0.4523224502802303,
          0.19506603023712552,
          null,
          0.3847788262939248,
          0.29938000520437846,
          null,
          0.3847788262939248,
          0.1556707822537807,
          null,
          0.5267146830275617,
          0.7713188539705517,
          null,
          0.5267146830275617,
          0.998083341386229,
          null,
          0.5267146830275617,
          0.19506603023712552,
          null,
          0.5267146830275617,
          0.7998666755684801,
          null,
          0.5267146830275617,
          -0.005327965557857061,
          null,
          0.5267146830275617,
          0.38456133620303695,
          null,
          0.44046861741497173,
          0.1556707822537807,
          null,
          0.44046861741497173,
          0.45015163638500333,
          null,
          -0.024226811758129893,
          -0.15464338719440648,
          null,
          -0.024226811758129893,
          -0.005327965557857061,
          null,
          -0.041957330372876016,
          -0.055475656881272525,
          null,
          -0.041957330372876016,
          -0.19186416806754147,
          null,
          -0.041957330372876016,
          0.007596916944169248,
          null,
          -0.041957330372876016,
          -0.027928648773271714,
          null,
          -0.041957330372876016,
          -0.07093490043221053,
          null,
          -0.041957330372876016,
          -0.06320478424836255,
          null,
          -0.041957330372876016,
          0.11878203810346274,
          null,
          -0.041957330372876016,
          -0.016140979084435562,
          null,
          0.007596916944169248,
          -0.041957330372876016,
          null,
          0.007596916944169248,
          -0.055475656881272525,
          null
         ]
        },
        {
         "hoverinfo": "text",
         "marker": {
          "color": [
           3,
           1,
           7,
           4,
           1,
           3,
           2,
           3,
           1,
           9,
           4,
           2,
           1,
           7,
           2,
           1,
           1,
           6,
           1,
           3,
           2,
           9,
           5,
           5,
           1,
           3,
           1,
           1,
           2,
           3,
           1,
           2,
           1,
           1,
           1,
           2,
           6,
           2,
           2,
           8,
           2
          ],
          "colorbar": {
           "thickness": 15,
           "title": {
            "side": "right",
            "text": "Node Connections"
           },
           "xanchor": "left"
          },
          "colorscale": [
           [
            0,
            "rgb(255,255,217)"
           ],
           [
            0.125,
            "rgb(237,248,177)"
           ],
           [
            0.25,
            "rgb(199,233,180)"
           ],
           [
            0.375,
            "rgb(127,205,187)"
           ],
           [
            0.5,
            "rgb(65,182,196)"
           ],
           [
            0.625,
            "rgb(29,145,192)"
           ],
           [
            0.75,
            "rgb(34,94,168)"
           ],
           [
            0.875,
            "rgb(37,52,148)"
           ],
           [
            1,
            "rgb(8,29,88)"
           ]
          ],
          "line": {
           "width": 2
          },
          "reversescale": true,
          "showscale": true,
          "size": [
           13.666334975076676,
           14.638266201800386,
           21.10149421196414,
           16.747157113536595,
           20.133203685010706,
           15.666251746671813,
           19.871172794053823,
           17.609647687893982,
           24.274976462690706,
           22.942348587071827,
           20.582334047354824,
           20.321136482380403,
           17.52803434217006,
           22.497165988876866,
           15.55377926689288,
           22.61414209139059,
           14.54478336030191,
           21.636440976324952,
           18.988154872101415,
           11.56081046872794,
           23.575424874514496,
           21.963669765228328,
           21.218450308380675,
           19.31008241210703,
           15.402112722708882,
           21.364528510931677,
           17.42522410040701,
           21.062500097915333,
           17.848433447125558,
           17.773145647308176,
           16.70726475413145,
           20.2065768091335,
           20.981200034002732,
           15.910666150653569,
           9.411510988012072,
           21.276397634311678,
           20.107892618685348,
           13.154976290625738,
           17.931574340092798,
           20.67141753591249,
           13.598168841844732
          ]
         },
         "mode": "markers",
         "text": [
          "Atomic Punch has 3 connections and 13000 subscribers",
          "Andrew Gerlicher Music has 1 connections and 25500 subscribers",
          "Nukazooka has 7 connections and 2250000 subscribers",
          "Corridor Cast has 4 connections and 110000 subscribers",
          "BrandonJLa has 1 connections and 1150000 subscribers",
          "Film Riot Extras has 3 connections and 52000 subscribers",
          "TEAMSUPERTRAMP has 2 connections and 959000 subscribers",
          "Aputure has 3 connections and 200000 subscribers",
          "JennaMarbles has 1 connections and 20300000 subscribers",
          "Corridor has 9 connections and 8060000 subscribers",
          "Mr.TVCow has 4 connections and 1570000 subscribers",
          "FinalCutKing has 2 connections and 1310000 subscribers",
          "Red Giant has 1 connections and 189000 subscribers",
          "devinsupertramp has 7 connections and 5920000 subscribers",
          "Fury Fingers - GOONS INC - Out Now! has 2 connections and 48100 subscribers",
          "TomSka has 1 connections and 6420000 subscribers",
          "SamWickert has 1 connections and 23900 subscribers",
          "Node has 6 connections and 3260000 subscribers",
          "Jacob + Katie Schwarz has 1 connections and 520000 subscribers",
          "johnyboz has 3 connections and 3020 subscribers",
          "Lindsey Stirling has 2 connections and 12500000 subscribers",
          "Corridor Crew has 9 connections and 4090000 subscribers",
          "Shonduras has 5 connections and 2440000 subscribers",
          "Mike Diva has 5 connections and 650000 subscribers",
          "Dorothy Gee has 1 connections and 43300 subscribers",
          "Anna Akana has 3 connections and 2700000 subscribers",
          "Adi Shankar's BOOTLEG UNIVERSE has 1 connections and 176000 subscribers",
          "A for Adley - Learning & Fun has 1 connections and 2190000 subscribers",
          "FXhome has 2 connections and 236000 subscribers",
          "Guillotine Channel has 3 connections and 224000 subscribers",
          "Spacestation Stuff has 1 connections and 107000 subscribers",
          "Indy Mogul has 2 connections and 1210000 subscribers",
          "Variant Comics has 1 connections and 2070000 subscribers",
          "Megasteakman has 1 connections and 61600 subscribers",
          "Lane Carter has 1 connections and 680 subscribers",
          "Peter Hollens has 2 connections and 2540000 subscribers",
          "SoKrispyMedia has 6 connections and 1130000 subscribers",
          "Visual Escape has 2 connections and 9120 subscribers",
          "Cerberusarms has 2 connections and 250000 subscribers",
          "Film Riot has 8 connections and 1670000 subscribers",
          "VFX Productions has 2 connections and 12400 subscribers"
         ],
         "type": "scatter",
         "x": [
          -0.34808195302937794,
          -1,
          -0.41464511822832284,
          -0.12346784348291978,
          -0.5299403034512099,
          0.7622695707667537,
          0.3485491267073522,
          0.3068058991066413,
          -0.20910544554960359,
          -0.11637351141844113,
          -0.46152854922700043,
          -0.8332174598104676,
          0.7552644210597663,
          0.3328022781580242,
          -0.6273206491993776,
          -0.70778618919324,
          -0.6668667759628782,
          -0.2492289571881962,
          0.2526996756932124,
          -0.2168794502591689,
          0.5794342877980675,
          -0.06744204758975231,
          0.3780430130725315,
          -0.25560733848134604,
          0.6273287027487139,
          -0.22825024346395983,
          -0.33913819618121055,
          0.4732972995747886,
          0.19244585063554626,
          -0.01582227743198666,
          0.6005746451641458,
          0.5727666122951255,
          0.7506538958115757,
          -0.4527874375925464,
          -0.4293955235532882,
          0.5477977212116386,
          -0.5887682383108283,
          0.43977583803037523,
          -0.34020171438462926,
          0.47999891009270357,
          0.8213474750627866
         ],
         "y": [
          -0.14917724758748355,
          0.998083341386229,
          0.19506603023712552,
          -0.1777554131751803,
          -0.271186188250785,
          -0.055475656881272525,
          0.45015163638500333,
          -0.07093490043221053,
          -0.7775948957509574,
          -0.005327965557857061,
          0.25120733666815703,
          0.7998666755684801,
          0.11878203810346274,
          0.1556707822537807,
          0.38456133620303695,
          0.20049320585024777,
          0.7713188539705517,
          -0.15464338719440648,
          0.31551424836975683,
          0.12551808492258565,
          0.29938000520437846,
          -0.06320478424836255,
          -0.3656564065866343,
          -0.49698999024689683,
          -0.8571708328381921,
          -0.2995731885425781,
          -0.7781065215375439,
          -0.6206474225109329,
          -0.016140979084435562,
          -0.18428376794462697,
          -0.5417918054019994,
          -0.027928648773271714,
          -0.19186416806754147,
          -0.7058567563394789,
          0.4523224502802303,
          0.3847788262939248,
          0.5267146830275617,
          0.44046861741497173,
          -0.024226811758129893,
          -0.041957330372876016,
          0.007596916944169248
         ]
        }
       ],
       "layout": {
        "annotations": [
         {
          "showarrow": false,
          "text": "Graph of connected channels",
          "x": 0.005,
          "xref": "paper",
          "y": -0.002,
          "yref": "paper"
         }
        ],
        "autosize": true,
        "hovermode": "closest",
        "margin": {
         "b": 20,
         "l": 5,
         "r": 5,
         "t": 40
        },
        "showlegend": false,
        "template": {
         "data": {
          "bar": [
           {
            "error_x": {
             "color": "#2a3f5f"
            },
            "error_y": {
             "color": "#2a3f5f"
            },
            "marker": {
             "line": {
              "color": "#E5ECF6",
              "width": 0.5
             }
            },
            "type": "bar"
           }
          ],
          "barpolar": [
           {
            "marker": {
             "line": {
              "color": "#E5ECF6",
              "width": 0.5
             }
            },
            "type": "barpolar"
           }
          ],
          "carpet": [
           {
            "aaxis": {
             "endlinecolor": "#2a3f5f",
             "gridcolor": "white",
             "linecolor": "white",
             "minorgridcolor": "white",
             "startlinecolor": "#2a3f5f"
            },
            "baxis": {
             "endlinecolor": "#2a3f5f",
             "gridcolor": "white",
             "linecolor": "white",
             "minorgridcolor": "white",
             "startlinecolor": "#2a3f5f"
            },
            "type": "carpet"
           }
          ],
          "choropleth": [
           {
            "colorbar": {
             "outlinewidth": 0,
             "ticks": ""
            },
            "type": "choropleth"
           }
          ],
          "contour": [
           {
            "colorbar": {
             "outlinewidth": 0,
             "ticks": ""
            },
            "colorscale": [
             [
              0,
              "#0d0887"
             ],
             [
              0.1111111111111111,
              "#46039f"
             ],
             [
              0.2222222222222222,
              "#7201a8"
             ],
             [
              0.3333333333333333,
              "#9c179e"
             ],
             [
              0.4444444444444444,
              "#bd3786"
             ],
             [
              0.5555555555555556,
              "#d8576b"
             ],
             [
              0.6666666666666666,
              "#ed7953"
             ],
             [
              0.7777777777777778,
              "#fb9f3a"
             ],
             [
              0.8888888888888888,
              "#fdca26"
             ],
             [
              1,
              "#f0f921"
             ]
            ],
            "type": "contour"
           }
          ],
          "contourcarpet": [
           {
            "colorbar": {
             "outlinewidth": 0,
             "ticks": ""
            },
            "type": "contourcarpet"
           }
          ],
          "heatmap": [
           {
            "colorbar": {
             "outlinewidth": 0,
             "ticks": ""
            },
            "colorscale": [
             [
              0,
              "#0d0887"
             ],
             [
              0.1111111111111111,
              "#46039f"
             ],
             [
              0.2222222222222222,
              "#7201a8"
             ],
             [
              0.3333333333333333,
              "#9c179e"
             ],
             [
              0.4444444444444444,
              "#bd3786"
             ],
             [
              0.5555555555555556,
              "#d8576b"
             ],
             [
              0.6666666666666666,
              "#ed7953"
             ],
             [
              0.7777777777777778,
              "#fb9f3a"
             ],
             [
              0.8888888888888888,
              "#fdca26"
             ],
             [
              1,
              "#f0f921"
             ]
            ],
            "type": "heatmap"
           }
          ],
          "heatmapgl": [
           {
            "colorbar": {
             "outlinewidth": 0,
             "ticks": ""
            },
            "colorscale": [
             [
              0,
              "#0d0887"
             ],
             [
              0.1111111111111111,
              "#46039f"
             ],
             [
              0.2222222222222222,
              "#7201a8"
             ],
             [
              0.3333333333333333,
              "#9c179e"
             ],
             [
              0.4444444444444444,
              "#bd3786"
             ],
             [
              0.5555555555555556,
              "#d8576b"
             ],
             [
              0.6666666666666666,
              "#ed7953"
             ],
             [
              0.7777777777777778,
              "#fb9f3a"
             ],
             [
              0.8888888888888888,
              "#fdca26"
             ],
             [
              1,
              "#f0f921"
             ]
            ],
            "type": "heatmapgl"
           }
          ],
          "histogram": [
           {
            "marker": {
             "colorbar": {
              "outlinewidth": 0,
              "ticks": ""
             }
            },
            "type": "histogram"
           }
          ],
          "histogram2d": [
           {
            "colorbar": {
             "outlinewidth": 0,
             "ticks": ""
            },
            "colorscale": [
             [
              0,
              "#0d0887"
             ],
             [
              0.1111111111111111,
              "#46039f"
             ],
             [
              0.2222222222222222,
              "#7201a8"
             ],
             [
              0.3333333333333333,
              "#9c179e"
             ],
             [
              0.4444444444444444,
              "#bd3786"
             ],
             [
              0.5555555555555556,
              "#d8576b"
             ],
             [
              0.6666666666666666,
              "#ed7953"
             ],
             [
              0.7777777777777778,
              "#fb9f3a"
             ],
             [
              0.8888888888888888,
              "#fdca26"
             ],
             [
              1,
              "#f0f921"
             ]
            ],
            "type": "histogram2d"
           }
          ],
          "histogram2dcontour": [
           {
            "colorbar": {
             "outlinewidth": 0,
             "ticks": ""
            },
            "colorscale": [
             [
              0,
              "#0d0887"
             ],
             [
              0.1111111111111111,
              "#46039f"
             ],
             [
              0.2222222222222222,
              "#7201a8"
             ],
             [
              0.3333333333333333,
              "#9c179e"
             ],
             [
              0.4444444444444444,
              "#bd3786"
             ],
             [
              0.5555555555555556,
              "#d8576b"
             ],
             [
              0.6666666666666666,
              "#ed7953"
             ],
             [
              0.7777777777777778,
              "#fb9f3a"
             ],
             [
              0.8888888888888888,
              "#fdca26"
             ],
             [
              1,
              "#f0f921"
             ]
            ],
            "type": "histogram2dcontour"
           }
          ],
          "mesh3d": [
           {
            "colorbar": {
             "outlinewidth": 0,
             "ticks": ""
            },
            "type": "mesh3d"
           }
          ],
          "parcoords": [
           {
            "line": {
             "colorbar": {
              "outlinewidth": 0,
              "ticks": ""
             }
            },
            "type": "parcoords"
           }
          ],
          "pie": [
           {
            "automargin": true,
            "type": "pie"
           }
          ],
          "scatter": [
           {
            "marker": {
             "colorbar": {
              "outlinewidth": 0,
              "ticks": ""
             }
            },
            "type": "scatter"
           }
          ],
          "scatter3d": [
           {
            "line": {
             "colorbar": {
              "outlinewidth": 0,
              "ticks": ""
             }
            },
            "marker": {
             "colorbar": {
              "outlinewidth": 0,
              "ticks": ""
             }
            },
            "type": "scatter3d"
           }
          ],
          "scattercarpet": [
           {
            "marker": {
             "colorbar": {
              "outlinewidth": 0,
              "ticks": ""
             }
            },
            "type": "scattercarpet"
           }
          ],
          "scattergeo": [
           {
            "marker": {
             "colorbar": {
              "outlinewidth": 0,
              "ticks": ""
             }
            },
            "type": "scattergeo"
           }
          ],
          "scattergl": [
           {
            "marker": {
             "colorbar": {
              "outlinewidth": 0,
              "ticks": ""
             }
            },
            "type": "scattergl"
           }
          ],
          "scattermapbox": [
           {
            "marker": {
             "colorbar": {
              "outlinewidth": 0,
              "ticks": ""
             }
            },
            "type": "scattermapbox"
           }
          ],
          "scatterpolar": [
           {
            "marker": {
             "colorbar": {
              "outlinewidth": 0,
              "ticks": ""
             }
            },
            "type": "scatterpolar"
           }
          ],
          "scatterpolargl": [
           {
            "marker": {
             "colorbar": {
              "outlinewidth": 0,
              "ticks": ""
             }
            },
            "type": "scatterpolargl"
           }
          ],
          "scatterternary": [
           {
            "marker": {
             "colorbar": {
              "outlinewidth": 0,
              "ticks": ""
             }
            },
            "type": "scatterternary"
           }
          ],
          "surface": [
           {
            "colorbar": {
             "outlinewidth": 0,
             "ticks": ""
            },
            "colorscale": [
             [
              0,
              "#0d0887"
             ],
             [
              0.1111111111111111,
              "#46039f"
             ],
             [
              0.2222222222222222,
              "#7201a8"
             ],
             [
              0.3333333333333333,
              "#9c179e"
             ],
             [
              0.4444444444444444,
              "#bd3786"
             ],
             [
              0.5555555555555556,
              "#d8576b"
             ],
             [
              0.6666666666666666,
              "#ed7953"
             ],
             [
              0.7777777777777778,
              "#fb9f3a"
             ],
             [
              0.8888888888888888,
              "#fdca26"
             ],
             [
              1,
              "#f0f921"
             ]
            ],
            "type": "surface"
           }
          ],
          "table": [
           {
            "cells": {
             "fill": {
              "color": "#EBF0F8"
             },
             "line": {
              "color": "white"
             }
            },
            "header": {
             "fill": {
              "color": "#C8D4E3"
             },
             "line": {
              "color": "white"
             }
            },
            "type": "table"
           }
          ]
         },
         "layout": {
          "annotationdefaults": {
           "arrowcolor": "#2a3f5f",
           "arrowhead": 0,
           "arrowwidth": 1
          },
          "coloraxis": {
           "colorbar": {
            "outlinewidth": 0,
            "ticks": ""
           }
          },
          "colorscale": {
           "diverging": [
            [
             0,
             "#8e0152"
            ],
            [
             0.1,
             "#c51b7d"
            ],
            [
             0.2,
             "#de77ae"
            ],
            [
             0.3,
             "#f1b6da"
            ],
            [
             0.4,
             "#fde0ef"
            ],
            [
             0.5,
             "#f7f7f7"
            ],
            [
             0.6,
             "#e6f5d0"
            ],
            [
             0.7,
             "#b8e186"
            ],
            [
             0.8,
             "#7fbc41"
            ],
            [
             0.9,
             "#4d9221"
            ],
            [
             1,
             "#276419"
            ]
           ],
           "sequential": [
            [
             0,
             "#0d0887"
            ],
            [
             0.1111111111111111,
             "#46039f"
            ],
            [
             0.2222222222222222,
             "#7201a8"
            ],
            [
             0.3333333333333333,
             "#9c179e"
            ],
            [
             0.4444444444444444,
             "#bd3786"
            ],
            [
             0.5555555555555556,
             "#d8576b"
            ],
            [
             0.6666666666666666,
             "#ed7953"
            ],
            [
             0.7777777777777778,
             "#fb9f3a"
            ],
            [
             0.8888888888888888,
             "#fdca26"
            ],
            [
             1,
             "#f0f921"
            ]
           ],
           "sequentialminus": [
            [
             0,
             "#0d0887"
            ],
            [
             0.1111111111111111,
             "#46039f"
            ],
            [
             0.2222222222222222,
             "#7201a8"
            ],
            [
             0.3333333333333333,
             "#9c179e"
            ],
            [
             0.4444444444444444,
             "#bd3786"
            ],
            [
             0.5555555555555556,
             "#d8576b"
            ],
            [
             0.6666666666666666,
             "#ed7953"
            ],
            [
             0.7777777777777778,
             "#fb9f3a"
            ],
            [
             0.8888888888888888,
             "#fdca26"
            ],
            [
             1,
             "#f0f921"
            ]
           ]
          },
          "colorway": [
           "#636efa",
           "#EF553B",
           "#00cc96",
           "#ab63fa",
           "#FFA15A",
           "#19d3f3",
           "#FF6692",
           "#B6E880",
           "#FF97FF",
           "#FECB52"
          ],
          "font": {
           "color": "#2a3f5f"
          },
          "geo": {
           "bgcolor": "white",
           "lakecolor": "white",
           "landcolor": "#E5ECF6",
           "showlakes": true,
           "showland": true,
           "subunitcolor": "white"
          },
          "hoverlabel": {
           "align": "left"
          },
          "hovermode": "closest",
          "mapbox": {
           "style": "light"
          },
          "paper_bgcolor": "white",
          "plot_bgcolor": "#E5ECF6",
          "polar": {
           "angularaxis": {
            "gridcolor": "white",
            "linecolor": "white",
            "ticks": ""
           },
           "bgcolor": "#E5ECF6",
           "radialaxis": {
            "gridcolor": "white",
            "linecolor": "white",
            "ticks": ""
           }
          },
          "scene": {
           "xaxis": {
            "backgroundcolor": "#E5ECF6",
            "gridcolor": "white",
            "gridwidth": 2,
            "linecolor": "white",
            "showbackground": true,
            "ticks": "",
            "zerolinecolor": "white"
           },
           "yaxis": {
            "backgroundcolor": "#E5ECF6",
            "gridcolor": "white",
            "gridwidth": 2,
            "linecolor": "white",
            "showbackground": true,
            "ticks": "",
            "zerolinecolor": "white"
           },
           "zaxis": {
            "backgroundcolor": "#E5ECF6",
            "gridcolor": "white",
            "gridwidth": 2,
            "linecolor": "white",
            "showbackground": true,
            "ticks": "",
            "zerolinecolor": "white"
           }
          },
          "shapedefaults": {
           "line": {
            "color": "#2a3f5f"
           }
          },
          "ternary": {
           "aaxis": {
            "gridcolor": "white",
            "linecolor": "white",
            "ticks": ""
           },
           "baxis": {
            "gridcolor": "white",
            "linecolor": "white",
            "ticks": ""
           },
           "bgcolor": "#E5ECF6",
           "caxis": {
            "gridcolor": "white",
            "linecolor": "white",
            "ticks": ""
           }
          },
          "title": {
           "x": 0.05
          },
          "xaxis": {
           "automargin": true,
           "gridcolor": "white",
           "linecolor": "white",
           "ticks": "",
           "title": {
            "standoff": 15
           },
           "zerolinecolor": "white",
           "zerolinewidth": 2
          },
          "yaxis": {
           "automargin": true,
           "gridcolor": "white",
           "linecolor": "white",
           "ticks": "",
           "title": {
            "standoff": 15
           },
           "zerolinecolor": "white",
           "zerolinewidth": 2
          }
         }
        },
        "title": {
         "font": {
          "size": 16
         },
         "text": "<br>Network graph made with Python"
        },
        "xaxis": {
         "autorange": true,
         "range": [
          -1.1583831037881576,
          0.9760598967579485
         ],
         "showgrid": false,
         "showticklabels": false,
         "type": "linear",
         "zeroline": false
        },
        "yaxis": {
         "autorange": true,
         "range": [
          -1.0390322195776776,
          1.1764191763735494
         ],
         "showgrid": false,
         "showticklabels": false,
         "type": "linear",
         "zeroline": false
        }
       }
      },
      "image/png": "[encoded data removed]",
      "text/html": [
       "<div>\n",
       "        \n",
       "        \n",
       "            <div id=\"f35135c3-f7a2-4697-a610-83dfe599a1e2\" class=\"plotly-graph-div\" style=\"height:525px; width:100%;\"></div>\n",
       "            <script type=\"text/javascript\">\n",
       "                require([\"plotly\"], function(Plotly) {\n",
       "                    window.PLOTLYENV=window.PLOTLYENV || {};\n",
       "                    \n",
       "                if (document.getElementById(\"f35135c3-f7a2-4697-a610-83dfe599a1e2\")) {\n",
       "                    Plotly.newPlot(\n",
       "                        'f35135c3-f7a2-4697-a610-83dfe599a1e2',\n",
       "                        [{\"hoverinfo\": \"none\", \"line\": {\"color\": \"#888\", \"width\": 0.5}, \"mode\": \"lines\", \"type\": \"scatter\", \"x\": [-0.34808195302937794, -0.11637351141844113, null, -0.34808195302937794, -0.25560733848134604, null, -0.34808195302937794, -0.41464511822832284, null, -1.0, -0.8332174598104676, null, -0.41464511822832284, -0.2168794502591689, null, -0.41464511822832284, -0.11637351141844113, null, -0.41464511822832284, -0.70778618919324, null, -0.41464511822832284, -0.5887682383108283, null, -0.41464511822832284, -0.34808195302937794, null, -0.41464511822832284, -0.46152854922700043, null, -0.41464511822832284, -0.4293955235532882, null, -0.12346784348291978, -0.11637351141844113, null, -0.12346784348291978, -0.06744204758975231, null, -0.12346784348291978, -0.2492289571881962, null, -0.12346784348291978, -0.01582227743198666, null, -0.5299403034512099, -0.2492289571881962, null, 0.7622695707667537, 0.47999891009270357, null, 0.7622695707667537, 0.7506538958115757, null, 0.7622695707667537, 0.7552644210597663, null, 0.3485491267073522, 0.3328022781580242, null, 0.3485491267073522, 0.43977583803037523, null, 0.3068058991066413, 0.5727666122951255, null, 0.3068058991066413, 0.47999891009270357, null, 0.3068058991066413, -0.06744204758975231, null, -0.20910544554960359, -0.25560733848134604, null, -0.11637351141844113, -0.06744204758975231, null, -0.11637351141844113, -0.12346784348291978, null, -0.11637351141844113, -0.2492289571881962, null, -0.11637351141844113, -0.01582227743198666, null, -0.11637351141844113, 0.3780430130725315, null, -0.11637351141844113, -0.41464511822832284, null, -0.11637351141844113, -0.25560733848134604, null, -0.11637351141844113, 0.3328022781580242, null, -0.11637351141844113, -0.5887682383108283, null, -0.46152854922700043, -0.11637351141844113, null, -0.46152854922700043, -0.70778618919324, null, -0.46152854922700043, -0.41464511822832284, null, -0.46152854922700043, -0.5887682383108283, null, -0.8332174598104676, -1.0, null, -0.8332174598104676, -0.5887682383108283, null, 0.7552644210597663, 0.47999891009270357, null, 0.3328022781580242, 0.43977583803037523, null, 0.3328022781580242, 0.3485491267073522, null, 0.3328022781580242, -0.11637351141844113, null, 0.3328022781580242, 0.5794342877980675, null, 0.3328022781580242, 0.2526996756932124, null, 0.3328022781580242, 0.5477977212116386, null, 0.3328022781580242, 0.3780430130725315, null, -0.6273206491993776, -0.41464511822832284, null, -0.6273206491993776, -0.5887682383108283, null, -0.70778618919324, -0.41464511822832284, null, -0.6668667759628782, -0.5887682383108283, null, -0.2492289571881962, -0.34020171438462926, null, -0.2492289571881962, -0.11637351141844113, null, -0.2492289571881962, -0.06744204758975231, null, -0.2492289571881962, -0.5299403034512099, null, -0.2492289571881962, -0.12346784348291978, null, -0.2492289571881962, -0.01582227743198666, null, 0.2526996756932124, 0.3328022781580242, null, -0.2168794502591689, -0.41464511822832284, null, -0.2168794502591689, -0.11637351141844113, null, -0.2168794502591689, -0.06744204758975231, null, 0.5794342877980675, 0.3328022781580242, null, 0.5794342877980675, 0.5477977212116386, null, -0.06744204758975231, -0.11637351141844113, null, -0.06744204758975231, -0.12346784348291978, null, -0.06744204758975231, -0.2492289571881962, null, -0.06744204758975231, -0.01582227743198666, null, -0.06744204758975231, 0.3780430130725315, null, -0.06744204758975231, -0.22825024346395983, null, -0.06744204758975231, -0.25560733848134604, null, -0.06744204758975231, 0.47999891009270357, null, -0.06744204758975231, -0.5887682383108283, null, 0.3780430130725315, 0.4732972995747886, null, 0.3780430130725315, 0.6273287027487139, null, 0.3780430130725315, 0.6005746451641458, null, 0.3780430130725315, -0.06744204758975231, null, 0.3780430130725315, 0.3328022781580242, null, -0.25560733848134604, -0.11637351141844113, null, -0.25560733848134604, -0.22825024346395983, null, -0.25560733848134604, -0.4527874375925464, null, -0.25560733848134604, -0.33913819618121055, null, -0.25560733848134604, -0.20910544554960359, null, 0.6273287027487139, 0.4732972995747886, null, -0.22825024346395983, -0.11637351141844113, null, -0.22825024346395983, -0.25560733848134604, null, -0.22825024346395983, -0.2492289571881962, null, -0.33913819618121055, -0.25560733848134604, null, 0.4732972995747886, 0.3780430130725315, null, 0.19244585063554626, -0.11637351141844113, null, 0.19244585063554626, 0.47999891009270357, null, -0.01582227743198666, -0.11637351141844113, null, -0.01582227743198666, -0.06744204758975231, null, -0.01582227743198666, -0.12346784348291978, null, 0.6005746451641458, 0.3780430130725315, null, 0.5727666122951255, 0.47999891009270357, null, 0.5727666122951255, 0.3068058991066413, null, 0.7506538958115757, 0.47999891009270357, null, -0.4527874375925464, -0.25560733848134604, null, -0.4293955235532882, -0.41464511822832284, null, 0.5477977212116386, 0.5794342877980675, null, 0.5477977212116386, 0.3328022781580242, null, -0.5887682383108283, -0.6668667759628782, null, -0.5887682383108283, -1.0, null, -0.5887682383108283, -0.41464511822832284, null, -0.5887682383108283, -0.8332174598104676, null, -0.5887682383108283, -0.11637351141844113, null, -0.5887682383108283, -0.6273206491993776, null, 0.43977583803037523, 0.3328022781580242, null, 0.43977583803037523, 0.3485491267073522, null, -0.34020171438462926, -0.2492289571881962, null, -0.34020171438462926, -0.11637351141844113, null, 0.47999891009270357, 0.7622695707667537, null, 0.47999891009270357, 0.7506538958115757, null, 0.47999891009270357, 0.8213474750627866, null, 0.47999891009270357, 0.5727666122951255, null, 0.47999891009270357, 0.3068058991066413, null, 0.47999891009270357, -0.06744204758975231, null, 0.47999891009270357, 0.7552644210597663, null, 0.47999891009270357, 0.19244585063554626, null, 0.8213474750627866, 0.47999891009270357, null, 0.8213474750627866, 0.7622695707667537, null], \"y\": [-0.14917724758748355, -0.005327965557857061, null, -0.14917724758748355, -0.49698999024689683, null, -0.14917724758748355, 0.19506603023712552, null, 0.998083341386229, 0.7998666755684801, null, 0.19506603023712552, 0.12551808492258565, null, 0.19506603023712552, -0.005327965557857061, null, 0.19506603023712552, 0.20049320585024777, null, 0.19506603023712552, 0.5267146830275617, null, 0.19506603023712552, -0.14917724758748355, null, 0.19506603023712552, 0.25120733666815703, null, 0.19506603023712552, 0.4523224502802303, null, -0.1777554131751803, -0.005327965557857061, null, -0.1777554131751803, -0.06320478424836255, null, -0.1777554131751803, -0.15464338719440648, null, -0.1777554131751803, -0.18428376794462697, null, -0.271186188250785, -0.15464338719440648, null, -0.055475656881272525, -0.041957330372876016, null, -0.055475656881272525, -0.19186416806754147, null, -0.055475656881272525, 0.11878203810346274, null, 0.45015163638500333, 0.1556707822537807, null, 0.45015163638500333, 0.44046861741497173, null, -0.07093490043221053, -0.027928648773271714, null, -0.07093490043221053, -0.041957330372876016, null, -0.07093490043221053, -0.06320478424836255, null, -0.7775948957509574, -0.49698999024689683, null, -0.005327965557857061, -0.06320478424836255, null, -0.005327965557857061, -0.1777554131751803, null, -0.005327965557857061, -0.15464338719440648, null, -0.005327965557857061, -0.18428376794462697, null, -0.005327965557857061, -0.3656564065866343, null, -0.005327965557857061, 0.19506603023712552, null, -0.005327965557857061, -0.49698999024689683, null, -0.005327965557857061, 0.1556707822537807, null, -0.005327965557857061, 0.5267146830275617, null, 0.25120733666815703, -0.005327965557857061, null, 0.25120733666815703, 0.20049320585024777, null, 0.25120733666815703, 0.19506603023712552, null, 0.25120733666815703, 0.5267146830275617, null, 0.7998666755684801, 0.998083341386229, null, 0.7998666755684801, 0.5267146830275617, null, 0.11878203810346274, -0.041957330372876016, null, 0.1556707822537807, 0.44046861741497173, null, 0.1556707822537807, 0.45015163638500333, null, 0.1556707822537807, -0.005327965557857061, null, 0.1556707822537807, 0.29938000520437846, null, 0.1556707822537807, 0.31551424836975683, null, 0.1556707822537807, 0.3847788262939248, null, 0.1556707822537807, -0.3656564065866343, null, 0.38456133620303695, 0.19506603023712552, null, 0.38456133620303695, 0.5267146830275617, null, 0.20049320585024777, 0.19506603023712552, null, 0.7713188539705517, 0.5267146830275617, null, -0.15464338719440648, -0.024226811758129893, null, -0.15464338719440648, -0.005327965557857061, null, -0.15464338719440648, -0.06320478424836255, null, -0.15464338719440648, -0.271186188250785, null, -0.15464338719440648, -0.1777554131751803, null, -0.15464338719440648, -0.18428376794462697, null, 0.31551424836975683, 0.1556707822537807, null, 0.12551808492258565, 0.19506603023712552, null, 0.12551808492258565, -0.005327965557857061, null, 0.12551808492258565, -0.06320478424836255, null, 0.29938000520437846, 0.1556707822537807, null, 0.29938000520437846, 0.3847788262939248, null, -0.06320478424836255, -0.005327965557857061, null, -0.06320478424836255, -0.1777554131751803, null, -0.06320478424836255, -0.15464338719440648, null, -0.06320478424836255, -0.18428376794462697, null, -0.06320478424836255, -0.3656564065866343, null, -0.06320478424836255, -0.2995731885425781, null, -0.06320478424836255, -0.49698999024689683, null, -0.06320478424836255, -0.041957330372876016, null, -0.06320478424836255, 0.5267146830275617, null, -0.3656564065866343, -0.6206474225109329, null, -0.3656564065866343, -0.8571708328381921, null, -0.3656564065866343, -0.5417918054019994, null, -0.3656564065866343, -0.06320478424836255, null, -0.3656564065866343, 0.1556707822537807, null, -0.49698999024689683, -0.005327965557857061, null, -0.49698999024689683, -0.2995731885425781, null, -0.49698999024689683, -0.7058567563394789, null, -0.49698999024689683, -0.7781065215375439, null, -0.49698999024689683, -0.7775948957509574, null, -0.8571708328381921, -0.6206474225109329, null, -0.2995731885425781, -0.005327965557857061, null, -0.2995731885425781, -0.49698999024689683, null, -0.2995731885425781, -0.15464338719440648, null, -0.7781065215375439, -0.49698999024689683, null, -0.6206474225109329, -0.3656564065866343, null, -0.016140979084435562, -0.005327965557857061, null, -0.016140979084435562, -0.041957330372876016, null, -0.18428376794462697, -0.005327965557857061, null, -0.18428376794462697, -0.06320478424836255, null, -0.18428376794462697, -0.1777554131751803, null, -0.5417918054019994, -0.3656564065866343, null, -0.027928648773271714, -0.041957330372876016, null, -0.027928648773271714, -0.07093490043221053, null, -0.19186416806754147, -0.041957330372876016, null, -0.7058567563394789, -0.49698999024689683, null, 0.4523224502802303, 0.19506603023712552, null, 0.3847788262939248, 0.29938000520437846, null, 0.3847788262939248, 0.1556707822537807, null, 0.5267146830275617, 0.7713188539705517, null, 0.5267146830275617, 0.998083341386229, null, 0.5267146830275617, 0.19506603023712552, null, 0.5267146830275617, 0.7998666755684801, null, 0.5267146830275617, -0.005327965557857061, null, 0.5267146830275617, 0.38456133620303695, null, 0.44046861741497173, 0.1556707822537807, null, 0.44046861741497173, 0.45015163638500333, null, -0.024226811758129893, -0.15464338719440648, null, -0.024226811758129893, -0.005327965557857061, null, -0.041957330372876016, -0.055475656881272525, null, -0.041957330372876016, -0.19186416806754147, null, -0.041957330372876016, 0.007596916944169248, null, -0.041957330372876016, -0.027928648773271714, null, -0.041957330372876016, -0.07093490043221053, null, -0.041957330372876016, -0.06320478424836255, null, -0.041957330372876016, 0.11878203810346274, null, -0.041957330372876016, -0.016140979084435562, null, 0.007596916944169248, -0.041957330372876016, null, 0.007596916944169248, -0.055475656881272525, null]}, {\"hoverinfo\": \"text\", \"marker\": {\"color\": [3, 1, 7, 4, 1, 3, 2, 3, 1, 9, 4, 2, 1, 7, 2, 1, 1, 6, 1, 3, 2, 9, 5, 5, 1, 3, 1, 1, 2, 3, 1, 2, 1, 1, 1, 2, 6, 2, 2, 8, 2], \"colorbar\": {\"thickness\": 15, \"title\": {\"side\": \"right\", \"text\": \"Node Connections\"}, \"xanchor\": \"left\"}, \"colorscale\": [[0.0, \"rgb(255,255,217)\"], [0.125, \"rgb(237,248,177)\"], [0.25, \"rgb(199,233,180)\"], [0.375, \"rgb(127,205,187)\"], [0.5, \"rgb(65,182,196)\"], [0.625, \"rgb(29,145,192)\"], [0.75, \"rgb(34,94,168)\"], [0.875, \"rgb(37,52,148)\"], [1.0, \"rgb(8,29,88)\"]], \"line\": {\"width\": 2}, \"reversescale\": true, \"showscale\": true, \"size\": [13.666334975076676, 14.638266201800386, 21.10149421196414, 16.747157113536595, 20.133203685010706, 15.666251746671813, 19.871172794053823, 17.609647687893982, 24.274976462690706, 22.942348587071827, 20.582334047354824, 20.321136482380403, 17.52803434217006, 22.497165988876866, 15.55377926689288, 22.61414209139059, 14.54478336030191, 21.636440976324952, 18.988154872101415, 11.56081046872794, 23.575424874514496, 21.963669765228328, 21.218450308380675, 19.31008241210703, 15.402112722708882, 21.364528510931677, 17.42522410040701, 21.062500097915333, 17.848433447125558, 17.773145647308176, 16.70726475413145, 20.2065768091335, 20.981200034002732, 15.910666150653569, 9.411510988012072, 21.276397634311678, 20.107892618685348, 13.154976290625738, 17.931574340092798, 20.67141753591249, 13.598168841844732]}, \"mode\": \"markers\", \"text\": [\"Atomic Punch has 3 connections and 13000 subscribers\", \"Andrew Gerlicher Music has 1 connections and 25500 subscribers\", \"Nukazooka has 7 connections and 2250000 subscribers\", \"Corridor Cast has 4 connections and 110000 subscribers\", \"BrandonJLa has 1 connections and 1150000 subscribers\", \"Film Riot Extras has 3 connections and 52000 subscribers\", \"TEAMSUPERTRAMP has 2 connections and 959000 subscribers\", \"Aputure has 3 connections and 200000 subscribers\", \"JennaMarbles has 1 connections and 20300000 subscribers\", \"Corridor has 9 connections and 8060000 subscribers\", \"Mr.TVCow has 4 connections and 1570000 subscribers\", \"FinalCutKing has 2 connections and 1310000 subscribers\", \"Red Giant has 1 connections and 189000 subscribers\", \"devinsupertramp has 7 connections and 5920000 subscribers\", \"Fury Fingers - GOONS INC - Out Now! has 2 connections and 48100 subscribers\", \"TomSka has 1 connections and 6420000 subscribers\", \"SamWickert has 1 connections and 23900 subscribers\", \"Node has 6 connections and 3260000 subscribers\", \"Jacob + Katie Schwarz has 1 connections and 520000 subscribers\", \"johnyboz has 3 connections and 3020 subscribers\", \"Lindsey Stirling has 2 connections and 12500000 subscribers\", \"Corridor Crew has 9 connections and 4090000 subscribers\", \"Shonduras has 5 connections and 2440000 subscribers\", \"Mike Diva has 5 connections and 650000 subscribers\", \"Dorothy Gee has 1 connections and 43300 subscribers\", \"Anna Akana has 3 connections and 2700000 subscribers\", \"Adi Shankar's BOOTLEG UNIVERSE has 1 connections and 176000 subscribers\", \"A for Adley - Learning & Fun has 1 connections and 2190000 subscribers\", \"FXhome has 2 connections and 236000 subscribers\", \"Guillotine Channel has 3 connections and 224000 subscribers\", \"Spacestation Stuff has 1 connections and 107000 subscribers\", \"Indy Mogul has 2 connections and 1210000 subscribers\", \"Variant Comics has 1 connections and 2070000 subscribers\", \"Megasteakman has 1 connections and 61600 subscribers\", \"Lane Carter has 1 connections and 680 subscribers\", \"Peter Hollens has 2 connections and 2540000 subscribers\", \"SoKrispyMedia has 6 connections and 1130000 subscribers\", \"Visual Escape has 2 connections and 9120 subscribers\", \"Cerberusarms has 2 connections and 250000 subscribers\", \"Film Riot has 8 connections and 1670000 subscribers\", \"VFX Productions has 2 connections and 12400 subscribers\"], \"type\": \"scatter\", \"x\": [-0.34808195302937794, -1.0, -0.41464511822832284, -0.12346784348291978, -0.5299403034512099, 0.7622695707667537, 0.3485491267073522, 0.3068058991066413, -0.20910544554960359, -0.11637351141844113, -0.46152854922700043, -0.8332174598104676, 0.7552644210597663, 0.3328022781580242, -0.6273206491993776, -0.70778618919324, -0.6668667759628782, -0.2492289571881962, 0.2526996756932124, -0.2168794502591689, 0.5794342877980675, -0.06744204758975231, 0.3780430130725315, -0.25560733848134604, 0.6273287027487139, -0.22825024346395983, -0.33913819618121055, 0.4732972995747886, 0.19244585063554626, -0.01582227743198666, 0.6005746451641458, 0.5727666122951255, 0.7506538958115757, -0.4527874375925464, -0.4293955235532882, 0.5477977212116386, -0.5887682383108283, 0.43977583803037523, -0.34020171438462926, 0.47999891009270357, 0.8213474750627866], \"y\": [-0.14917724758748355, 0.998083341386229, 0.19506603023712552, -0.1777554131751803, -0.271186188250785, -0.055475656881272525, 0.45015163638500333, -0.07093490043221053, -0.7775948957509574, -0.005327965557857061, 0.25120733666815703, 0.7998666755684801, 0.11878203810346274, 0.1556707822537807, 0.38456133620303695, 0.20049320585024777, 0.7713188539705517, -0.15464338719440648, 0.31551424836975683, 0.12551808492258565, 0.29938000520437846, -0.06320478424836255, -0.3656564065866343, -0.49698999024689683, -0.8571708328381921, -0.2995731885425781, -0.7781065215375439, -0.6206474225109329, -0.016140979084435562, -0.18428376794462697, -0.5417918054019994, -0.027928648773271714, -0.19186416806754147, -0.7058567563394789, 0.4523224502802303, 0.3847788262939248, 0.5267146830275617, 0.44046861741497173, -0.024226811758129893, -0.041957330372876016, 0.007596916944169248]}],\n",
       "                        {\"annotations\": [{\"showarrow\": false, \"text\": \"Graph of connected channels\", \"x\": 0.005, \"xref\": \"paper\", \"y\": -0.002, \"yref\": \"paper\"}], \"hovermode\": \"closest\", \"margin\": {\"b\": 20, \"l\": 5, \"r\": 5, \"t\": 40}, \"showlegend\": false, \"template\": {\"data\": {\"bar\": [{\"error_x\": {\"color\": \"#2a3f5f\"}, \"error_y\": {\"color\": \"#2a3f5f\"}, \"marker\": {\"line\": {\"color\": \"#E5ECF6\", \"width\": 0.5}}, \"type\": \"bar\"}], \"barpolar\": [{\"marker\": {\"line\": {\"color\": \"#E5ECF6\", \"width\": 0.5}}, \"type\": \"barpolar\"}], \"carpet\": [{\"aaxis\": {\"endlinecolor\": \"#2a3f5f\", \"gridcolor\": \"white\", \"linecolor\": \"white\", \"minorgridcolor\": \"white\", \"startlinecolor\": \"#2a3f5f\"}, \"baxis\": {\"endlinecolor\": \"#2a3f5f\", \"gridcolor\": \"white\", \"linecolor\": \"white\", \"minorgridcolor\": \"white\", \"startlinecolor\": \"#2a3f5f\"}, \"type\": \"carpet\"}], \"choropleth\": [{\"colorbar\": {\"outlinewidth\": 0, \"ticks\": \"\"}, \"type\": \"choropleth\"}], \"contour\": [{\"colorbar\": {\"outlinewidth\": 0, \"ticks\": \"\"}, \"colorscale\": [[0.0, \"#0d0887\"], [0.1111111111111111, \"#46039f\"], [0.2222222222222222, \"#7201a8\"], [0.3333333333333333, \"#9c179e\"], [0.4444444444444444, \"#bd3786\"], [0.5555555555555556, \"#d8576b\"], [0.6666666666666666, \"#ed7953\"], [0.7777777777777778, \"#fb9f3a\"], [0.8888888888888888, \"#fdca26\"], [1.0, \"#f0f921\"]], \"type\": \"contour\"}], \"contourcarpet\": [{\"colorbar\": {\"outlinewidth\": 0, \"ticks\": \"\"}, \"type\": \"contourcarpet\"}], \"heatmap\": [{\"colorbar\": {\"outlinewidth\": 0, \"ticks\": \"\"}, \"colorscale\": [[0.0, \"#0d0887\"], [0.1111111111111111, \"#46039f\"], [0.2222222222222222, \"#7201a8\"], [0.3333333333333333, \"#9c179e\"], [0.4444444444444444, \"#bd3786\"], [0.5555555555555556, \"#d8576b\"], [0.6666666666666666, \"#ed7953\"], [0.7777777777777778, \"#fb9f3a\"], [0.8888888888888888, \"#fdca26\"], [1.0, \"#f0f921\"]], \"type\": \"heatmap\"}], \"heatmapgl\": [{\"colorbar\": {\"outlinewidth\": 0, \"ticks\": \"\"}, \"colorscale\": [[0.0, \"#0d0887\"], [0.1111111111111111, \"#46039f\"], [0.2222222222222222, \"#7201a8\"], [0.3333333333333333, \"#9c179e\"], [0.4444444444444444, \"#bd3786\"], [0.5555555555555556, \"#d8576b\"], [0.6666666666666666, \"#ed7953\"], [0.7777777777777778, \"#fb9f3a\"], [0.8888888888888888, \"#fdca26\"], [1.0, \"#f0f921\"]], \"type\": \"heatmapgl\"}], \"histogram\": [{\"marker\": {\"colorbar\": {\"outlinewidth\": 0, \"ticks\": \"\"}}, \"type\": \"histogram\"}], \"histogram2d\": [{\"colorbar\": {\"outlinewidth\": 0, \"ticks\": \"\"}, \"colorscale\": [[0.0, \"#0d0887\"], [0.1111111111111111, \"#46039f\"], [0.2222222222222222, \"#7201a8\"], [0.3333333333333333, \"#9c179e\"], [0.4444444444444444, \"#bd3786\"], [0.5555555555555556, \"#d8576b\"], [0.6666666666666666, \"#ed7953\"], [0.7777777777777778, \"#fb9f3a\"], [0.8888888888888888, \"#fdca26\"], [1.0, \"#f0f921\"]], \"type\": \"histogram2d\"}], \"histogram2dcontour\": [{\"colorbar\": {\"outlinewidth\": 0, \"ticks\": \"\"}, \"colorscale\": [[0.0, \"#0d0887\"], [0.1111111111111111, \"#46039f\"], [0.2222222222222222, \"#7201a8\"], [0.3333333333333333, \"#9c179e\"], [0.4444444444444444, \"#bd3786\"], [0.5555555555555556, \"#d8576b\"], [0.6666666666666666, \"#ed7953\"], [0.7777777777777778, \"#fb9f3a\"], [0.8888888888888888, \"#fdca26\"], [1.0, \"#f0f921\"]], \"type\": \"histogram2dcontour\"}], \"mesh3d\": [{\"colorbar\": {\"outlinewidth\": 0, \"ticks\": \"\"}, \"type\": \"mesh3d\"}], \"parcoords\": [{\"line\": {\"colorbar\": {\"outlinewidth\": 0, \"ticks\": \"\"}}, \"type\": \"parcoords\"}], \"pie\": [{\"automargin\": true, \"type\": \"pie\"}], \"scatter\": [{\"marker\": {\"colorbar\": {\"outlinewidth\": 0, \"ticks\": \"\"}}, \"type\": \"scatter\"}], \"scatter3d\": [{\"line\": {\"colorbar\": {\"outlinewidth\": 0, \"ticks\": \"\"}}, \"marker\": {\"colorbar\": {\"outlinewidth\": 0, \"ticks\": \"\"}}, \"type\": \"scatter3d\"}], \"scattercarpet\": [{\"marker\": {\"colorbar\": {\"outlinewidth\": 0, \"ticks\": \"\"}}, \"type\": \"scattercarpet\"}], \"scattergeo\": [{\"marker\": {\"colorbar\": {\"outlinewidth\": 0, \"ticks\": \"\"}}, \"type\": \"scattergeo\"}], \"scattergl\": [{\"marker\": {\"colorbar\": {\"outlinewidth\": 0, \"ticks\": \"\"}}, \"type\": \"scattergl\"}], \"scattermapbox\": [{\"marker\": {\"colorbar\": {\"outlinewidth\": 0, \"ticks\": \"\"}}, \"type\": \"scattermapbox\"}], \"scatterpolar\": [{\"marker\": {\"colorbar\": {\"outlinewidth\": 0, \"ticks\": \"\"}}, \"type\": \"scatterpolar\"}], \"scatterpolargl\": [{\"marker\": {\"colorbar\": {\"outlinewidth\": 0, \"ticks\": \"\"}}, \"type\": \"scatterpolargl\"}], \"scatterternary\": [{\"marker\": {\"colorbar\": {\"outlinewidth\": 0, \"ticks\": \"\"}}, \"type\": \"scatterternary\"}], \"surface\": [{\"colorbar\": {\"outlinewidth\": 0, \"ticks\": \"\"}, \"colorscale\": [[0.0, \"#0d0887\"], [0.1111111111111111, \"#46039f\"], [0.2222222222222222, \"#7201a8\"], [0.3333333333333333, \"#9c179e\"], [0.4444444444444444, \"#bd3786\"], [0.5555555555555556, \"#d8576b\"], [0.6666666666666666, \"#ed7953\"], [0.7777777777777778, \"#fb9f3a\"], [0.8888888888888888, \"#fdca26\"], [1.0, \"#f0f921\"]], \"type\": \"surface\"}], \"table\": [{\"cells\": {\"fill\": {\"color\": \"#EBF0F8\"}, \"line\": {\"color\": \"white\"}}, \"header\": {\"fill\": {\"color\": \"#C8D4E3\"}, \"line\": {\"color\": \"white\"}}, \"type\": \"table\"}]}, \"layout\": {\"annotationdefaults\": {\"arrowcolor\": \"#2a3f5f\", \"arrowhead\": 0, \"arrowwidth\": 1}, \"coloraxis\": {\"colorbar\": {\"outlinewidth\": 0, \"ticks\": \"\"}}, \"colorscale\": {\"diverging\": [[0, \"#8e0152\"], [0.1, \"#c51b7d\"], [0.2, \"#de77ae\"], [0.3, \"#f1b6da\"], [0.4, \"#fde0ef\"], [0.5, \"#f7f7f7\"], [0.6, \"#e6f5d0\"], [0.7, \"#b8e186\"], [0.8, \"#7fbc41\"], [0.9, \"#4d9221\"], [1, \"#276419\"]], \"sequential\": [[0.0, \"#0d0887\"], [0.1111111111111111, \"#46039f\"], [0.2222222222222222, \"#7201a8\"], [0.3333333333333333, \"#9c179e\"], [0.4444444444444444, \"#bd3786\"], [0.5555555555555556, \"#d8576b\"], [0.6666666666666666, \"#ed7953\"], [0.7777777777777778, \"#fb9f3a\"], [0.8888888888888888, \"#fdca26\"], [1.0, \"#f0f921\"]], \"sequentialminus\": [[0.0, \"#0d0887\"], [0.1111111111111111, \"#46039f\"], [0.2222222222222222, \"#7201a8\"], [0.3333333333333333, \"#9c179e\"], [0.4444444444444444, \"#bd3786\"], [0.5555555555555556, \"#d8576b\"], [0.6666666666666666, \"#ed7953\"], [0.7777777777777778, \"#fb9f3a\"], [0.8888888888888888, \"#fdca26\"], [1.0, \"#f0f921\"]]}, \"colorway\": [\"#636efa\", \"#EF553B\", \"#00cc96\", \"#ab63fa\", \"#FFA15A\", \"#19d3f3\", \"#FF6692\", \"#B6E880\", \"#FF97FF\", \"#FECB52\"], \"font\": {\"color\": \"#2a3f5f\"}, \"geo\": {\"bgcolor\": \"white\", \"lakecolor\": \"white\", \"landcolor\": \"#E5ECF6\", \"showlakes\": true, \"showland\": true, \"subunitcolor\": \"white\"}, \"hoverlabel\": {\"align\": \"left\"}, \"hovermode\": \"closest\", \"mapbox\": {\"style\": \"light\"}, \"paper_bgcolor\": \"white\", \"plot_bgcolor\": \"#E5ECF6\", \"polar\": {\"angularaxis\": {\"gridcolor\": \"white\", \"linecolor\": \"white\", \"ticks\": \"\"}, \"bgcolor\": \"#E5ECF6\", \"radialaxis\": {\"gridcolor\": \"white\", \"linecolor\": \"white\", \"ticks\": \"\"}}, \"scene\": {\"xaxis\": {\"backgroundcolor\": \"#E5ECF6\", \"gridcolor\": \"white\", \"gridwidth\": 2, \"linecolor\": \"white\", \"showbackground\": true, \"ticks\": \"\", \"zerolinecolor\": \"white\"}, \"yaxis\": {\"backgroundcolor\": \"#E5ECF6\", \"gridcolor\": \"white\", \"gridwidth\": 2, \"linecolor\": \"white\", \"showbackground\": true, \"ticks\": \"\", \"zerolinecolor\": \"white\"}, \"zaxis\": {\"backgroundcolor\": \"#E5ECF6\", \"gridcolor\": \"white\", \"gridwidth\": 2, \"linecolor\": \"white\", \"showbackground\": true, \"ticks\": \"\", \"zerolinecolor\": \"white\"}}, \"shapedefaults\": {\"line\": {\"color\": \"#2a3f5f\"}}, \"ternary\": {\"aaxis\": {\"gridcolor\": \"white\", \"linecolor\": \"white\", \"ticks\": \"\"}, \"baxis\": {\"gridcolor\": \"white\", \"linecolor\": \"white\", \"ticks\": \"\"}, \"bgcolor\": \"#E5ECF6\", \"caxis\": {\"gridcolor\": \"white\", \"linecolor\": \"white\", \"ticks\": \"\"}}, \"title\": {\"x\": 0.05}, \"xaxis\": {\"automargin\": true, \"gridcolor\": \"white\", \"linecolor\": \"white\", \"ticks\": \"\", \"title\": {\"standoff\": 15}, \"zerolinecolor\": \"white\", \"zerolinewidth\": 2}, \"yaxis\": {\"automargin\": true, \"gridcolor\": \"white\", \"linecolor\": \"white\", \"ticks\": \"\", \"title\": {\"standoff\": 15}, \"zerolinecolor\": \"white\", \"zerolinewidth\": 2}}}, \"title\": {\"font\": {\"size\": 16}, \"text\": \"<br>Network graph made with Python\"}, \"xaxis\": {\"showgrid\": false, \"showticklabels\": false, \"zeroline\": false}, \"yaxis\": {\"showgrid\": false, \"showticklabels\": false, \"zeroline\": false}},\n",
       "                        {\"responsive\": true}\n",
       "                    ).then(function(){\n",
       "                            \n",
       "var gd = document.getElementById('f35135c3-f7a2-4697-a610-83dfe599a1e2');\n",
       "var x = new MutationObserver(function (mutations, observer) {{\n",
       "        var display = window.getComputedStyle(gd).display;\n",
       "        if (!display || display === 'none') {{\n",
       "            console.log([gd, 'removed!']);\n",
       "            Plotly.purge(gd);\n",
       "            observer.disconnect();\n",
       "        }}\n",
       "}});\n",
       "\n",
       "// Listen for the removal of the full notebook cells\n",
       "var notebookContainer = gd.closest('#notebook-container');\n",
       "if (notebookContainer) {{\n",
       "    x.observe(notebookContainer, {childList: true});\n",
       "}}\n",
       "\n",
       "// Listen for the clearing of the current output cell\n",
       "var outputEl = gd.closest('.output');\n",
       "if (outputEl) {{\n",
       "    x.observe(outputEl, {childList: true});\n",
       "}}\n",
       "\n",
       "                        })\n",
       "                };\n",
       "                });\n",
       "            </script>\n",
       "        </div>"
      ]
     },
     "metadata": {},
     "output_type": "display_data"
    },
    {
     "data": {
      "image/png": "[encoded data removed]",
      "text/plain": [
       "<Figure size 864x864 with 1 Axes>"
      ]
     },
     "metadata": {},
     "output_type": "display_data"
    }
   ],
   "source": [
    "network_graphs.graph_nx_graph(H)\n",
    "network_graphs.plotly_network_graph(H)"
   ]
  },
  {
   "cell_type": "code",
   "execution_count": null,
   "metadata": {},
   "outputs": [],
   "source": []
  }
 ],
 "metadata": {
  "kernelspec": {
   "display_name": "Python 3",
   "language": "python",
   "name": "python3"
  },
  "language_info": {
   "codemirror_mode": {
    "name": "ipython",
    "version": 3
   },
   "file_extension": ".py",
   "mimetype": "text/x-python",
   "name": "python",
   "nbconvert_exporter": "python",
   "pygments_lexer": "ipython3",
   "version": "3.7.7"
  }
 },
 "nbformat": 4,
 "nbformat_minor": 4
}
