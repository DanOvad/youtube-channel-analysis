{
 "cells": [
  {
   "cell_type": "markdown",
   "metadata": {},
   "source": [
    "# YouTube Data API v3"
   ]
  },
  {
   "cell_type": "markdown",
   "metadata": {},
   "source": [
    "### Python Libraries"
   ]
  },
  {
   "cell_type": "code",
   "execution_count": 1,
   "metadata": {},
   "outputs": [],
   "source": [
    "import requests\n",
    "import json\n",
    "\n",
    "import pandas as pd\n",
    "import numpy as np\n",
    "import matplotlib.pyplot as plt\n",
    "import seaborn as sns\n",
    "\n",
    "import networkx as nx\n",
    "\n",
    "import collections"
   ]
  },
  {
   "cell_type": "markdown",
   "metadata": {},
   "source": [
    "### Imported Scripts"
   ]
  },
  {
   "cell_type": "code",
   "execution_count": null,
   "metadata": {},
   "outputs": [],
   "source": [
    "    # api_key is stored in config.py\n",
    "import config\n",
    "\n",
    "    # Functions for making youtube_requests\n",
    "import youtube_requests\n",
    "\n",
    "    # Functions for data processing\n",
    "import data_processing\n",
    "\n",
    "    # Functions for creating a network graph    \n",
    "import network_graphs\n",
    "\n",
    "import importlib\n",
    "#importlib.reload(network_graphs)"
   ]
  },
  {
   "cell_type": "code",
   "execution_count": 3,
   "metadata": {},
   "outputs": [],
   "source": [
    "%load_ext autoreload"
   ]
  },
  {
   "cell_type": "code",
   "execution_count": 4,
   "metadata": {},
   "outputs": [],
   "source": [
    "%autoreload 1"
   ]
  },
  {
   "cell_type": "code",
   "execution_count": 5,
   "metadata": {},
   "outputs": [],
   "source": [
    "%aimport network_graphs\n",
    "%aimport youtube_requests"
   ]
  },
  {
   "cell_type": "markdown",
   "metadata": {},
   "source": [
    "# YouTube Channel Details by Search\n",
    "\n",
    "Returns a details list of channels for a specific search query and number of requested results."
   ]
  },
  {
   "cell_type": "code",
   "execution_count": 288,
   "metadata": {},
   "outputs": [
    {
     "name": "stdout",
     "output_type": "stream",
     "text": [
      "Already seen this query\n"
     ]
    }
   ],
   "source": [
    "# Get a list of dictionaries, where each dictionary represents details for a specific channel\n",
    "CHANNELS_DETAILS_ITEMS_LIST = youtube_requests.youtube_channel_details_by_search('corridor crew',10)\n",
    "\n",
    "# Graph the network of channels\n",
    "#G= network_graphs.create_nx_graph(CHANNELS_DETAILS_ITEMS_LIST, directed=True)\n",
    "\n",
    "# Extract a columnar list of channel details\n",
    "#CHANNELS_DETAILS_LIST = data_processing.extract_channel_details(CHANNELS_DETAILS_ITEMS_LIST)\n",
    "\n",
    "# Create a dataframe\n",
    "#DF = data_processing.create_df_from_details_list(CHANNELS_DETAILS_LIST)\n",
    "\n",
    "# Graph G\n",
    "#fig = network_graphs.graph_nx_graph(G)\n",
    "#plt.close()"
   ]
  },
  {
   "cell_type": "markdown",
   "metadata": {},
   "source": [
    "# Youtube Channel Details by Network"
   ]
  },
  {
   "cell_type": "markdown",
   "metadata": {},
   "source": [
    "-------"
   ]
  },
  {
   "cell_type": "code",
   "execution_count": 308,
   "metadata": {},
   "outputs": [],
   "source": [
    "TEMP = [channel['id'] for channel in CORRIDOR_FIVE]"
   ]
  },
  {
   "cell_type": "code",
   "execution_count": null,
   "metadata": {},
   "outputs": [],
   "source": [
    "youtube_requests.youtube_channel_details_by_network(a, 1)"
   ]
  },
  {
   "cell_type": "code",
   "execution_count": null,
   "metadata": {},
   "outputs": [],
   "source": [
    "CORRIDOR_FIVE"
   ]
  },
  {
   "cell_type": "code",
   "execution_count": 313,
   "metadata": {},
   "outputs": [
    {
     "name": "stdout",
     "output_type": "stream",
     "text": [
      "Havent seen this list, request and cache\n",
      "10 total neighbors; 0 out of 1 channels do not feature channels\n"
     ]
    },
    {
     "data": {
      "image/png": "[encoded data removed]",
      "text/plain": [
       "<Figure size 432x288 with 1 Axes>"
      ]
     },
     "execution_count": 313,
     "metadata": {},
     "output_type": "execute_result"
    }
   ],
   "source": [
    "# Get a list of dictionaries, where each dictionary represents details for a specific channel\n",
    "CHANNELS_DETAILS_ITEMS_LIST = youtube_requests.youtube_channel_details_by_network([TEMP[1]], 1)\n",
    "\n",
    "# Graph the network of channels\n",
    "G = network_graphs.create_nx_graph(CHANNELS_DETAILS_ITEMS_LIST, True)\n",
    "\n",
    "# Extract a columnar list of channel details\n",
    "CHANNELS_DETAILS_LIST = data_processing.extract_channel_details(CHANNELS_DETAILS_ITEMS_LIST)\n",
    "\n",
    "# Create a dataframe\n",
    "DF = data_processing.create_df_from_details_list(CHANNELS_DETAILS_LIST)\n",
    "\n",
    "# Graph G\n",
    "network_graphs.graph_nx_graph(G)"
   ]
  },
  {
   "cell_type": "code",
   "execution_count": 223,
   "metadata": {},
   "outputs": [],
   "source": [
    "fig = network_graphs.plotly_network_graph(G)"
   ]
  },
  {
   "cell_type": "code",
   "execution_count": 224,
   "metadata": {},
   "outputs": [
    {
     "data": {
      "application/vnd.plotly.v1+json": {
       "config": {
        "plotlyServerURL": "https://plot.ly"
       },
       "data": [
        {
         "hoverinfo": "none",
         "line": {
          "color": "#888",
          "width": 0.5
         },
         "mode": "lines",
         "type": "scatter",
         "x": [
          0.15420247975609722,
          0.2946038517121893,
          null,
          0.15420247975609722,
          0.08742815878537379,
          null,
          0.15420247975609722,
          0.416017157340112,
          null,
          0.15420247975609722,
          0.25020475533171277,
          null,
          0.15420247975609722,
          -0.016622161351012816,
          null,
          0.15420247975609722,
          -0.013895123129203598,
          null,
          0.15420247975609722,
          -0.018340964042716856,
          null,
          0.15420247975609722,
          -0.011189736092715627,
          null,
          0.15420247975609722,
          -0.05707394984895194,
          null,
          0.15420247975609722,
          -0.0184487229383067,
          null,
          0.7192666479120692,
          0.2946038517121893,
          null,
          0.7192666479120692,
          0.5183049313419315,
          null,
          0.8307075374343107,
          0.416017157340112,
          null,
          0.2946038517121893,
          0.08742815878537379,
          null,
          0.2946038517121893,
          0.15420247975609722,
          null,
          0.2946038517121893,
          0.416017157340112,
          null,
          0.2946038517121893,
          0.25020475533171277,
          null,
          0.2946038517121893,
          -0.17623573108712576,
          null,
          0.2946038517121893,
          0.7192666479120692,
          null,
          0.2946038517121893,
          0.41338295480067344,
          null,
          0.2946038517121893,
          0.3770368389233077,
          null,
          0.2946038517121893,
          0.22654938607803898,
          null,
          0.2946038517121893,
          -0.050782118997638,
          null,
          0.2946038517121893,
          0.5183049313419315,
          null,
          -0.050782118997638,
          0.2946038517121893,
          null,
          -0.050782118997638,
          -0.17623573108712576,
          null,
          0.416017157340112,
          0.6734313250582957,
          null,
          0.416017157340112,
          0.2946038517121893,
          null,
          0.416017157340112,
          0.08742815878537379,
          null,
          0.416017157340112,
          0.8307075374343107,
          null,
          0.416017157340112,
          0.15420247975609722,
          null,
          0.416017157340112,
          0.25020475533171277,
          null,
          0.08742815878537379,
          0.2946038517121893,
          null,
          0.08742815878537379,
          0.15420247975609722,
          null,
          0.08742815878537379,
          0.416017157340112,
          null,
          0.08742815878537379,
          0.25020475533171277,
          null,
          0.08742815878537379,
          -0.17623573108712576,
          null,
          0.08742815878537379,
          0.5347241737483149,
          null,
          0.08742815878537379,
          0.3770368389233077,
          null,
          0.08742815878537379,
          -0.10180346733727166,
          null,
          0.08742815878537379,
          0.5183049313419315,
          null,
          0.08742815878537379,
          -0.24775374496664218,
          null,
          0.08742815878537379,
          -0.2995175138767078,
          null,
          0.08742815878537379,
          -0.2842863132156616,
          null,
          -0.17623573108712576,
          0.08742815878537379,
          null,
          -0.17623573108712576,
          -0.050782118997638,
          null,
          0.3770368389233077,
          0.2946038517121893,
          null,
          0.3770368389233077,
          0.5347241737483149,
          null,
          0.5347241737483149,
          0.2946038517121893,
          null,
          0.5347241737483149,
          0.3770368389233077,
          null,
          0.5347241737483149,
          0.416017157340112,
          null,
          -0.05707394984895194,
          -0.24775374496664218,
          null,
          0.25020475533171277,
          0.2946038517121893,
          null,
          0.25020475533171277,
          0.08742815878537379,
          null,
          0.25020475533171277,
          0.15420247975609722,
          null,
          0.5183049313419315,
          0.7192666479120692,
          null,
          0.5183049313419315,
          0.2946038517121893,
          null,
          0.5183049313419315,
          0.41338295480067344,
          null,
          0.6734313250582957,
          0.416017157340112,
          null,
          0.6734313250582957,
          0.2946038517121893,
          null,
          0.6734313250582957,
          0.41338295480067344,
          null,
          -0.10180346733727166,
          0.08742815878537379,
          null
         ],
         "y": [
          0.011702124675686189,
          0.1498012094322394,
          null,
          0.011702124675686189,
          0.33542372240376556,
          null,
          0.011702124675686189,
          0.2555464719136939,
          null,
          0.011702124675686189,
          0.3039317040745675,
          null,
          0.011702124675686189,
          -0.3296672650912054,
          null,
          0.011702124675686189,
          -0.3273520469172776,
          null,
          0.011702124675686189,
          -0.33163561174659606,
          null,
          0.011702124675686189,
          -0.316617175271471,
          null,
          0.011702124675686189,
          -0.3191148014165888,
          null,
          0.011702124675686189,
          -0.3315910396888833,
          null,
          -0.036140730367148925,
          0.1498012094322394,
          null,
          -0.036140730367148925,
          -0.04475702944525907,
          null,
          0.3482130830726605,
          0.2555464719136939,
          null,
          0.1498012094322394,
          0.33542372240376556,
          null,
          0.1498012094322394,
          0.011702124675686189,
          null,
          0.1498012094322394,
          0.2555464719136939,
          null,
          0.1498012094322394,
          0.3039317040745675,
          null,
          0.1498012094322394,
          0.40831797478764115,
          null,
          0.1498012094322394,
          -0.036140730367148925,
          null,
          0.1498012094322394,
          -0.22836115869502588,
          null,
          0.1498012094322394,
          0.5544570001609468,
          null,
          0.1498012094322394,
          -0.2675801920162035,
          null,
          0.1498012094322394,
          0.18615732186200654,
          null,
          0.1498012094322394,
          -0.04475702944525907,
          null,
          0.18615732186200654,
          0.1498012094322394,
          null,
          0.18615732186200654,
          0.40831797478764115,
          null,
          0.2555464719136939,
          0.17647299334259783,
          null,
          0.2555464719136939,
          0.1498012094322394,
          null,
          0.2555464719136939,
          0.33542372240376556,
          null,
          0.2555464719136939,
          0.3482130830726605,
          null,
          0.2555464719136939,
          0.011702124675686189,
          null,
          0.2555464719136939,
          0.3039317040745675,
          null,
          0.33542372240376556,
          0.1498012094322394,
          null,
          0.33542372240376556,
          0.011702124675686189,
          null,
          0.33542372240376556,
          0.2555464719136939,
          null,
          0.33542372240376556,
          0.3039317040745675,
          null,
          0.33542372240376556,
          0.40831797478764115,
          null,
          0.33542372240376556,
          0.5408055817977828,
          null,
          0.33542372240376556,
          0.5544570001609468,
          null,
          0.33542372240376556,
          0.7014737457302868,
          null,
          0.33542372240376556,
          -0.04475702944525907,
          null,
          0.33542372240376556,
          -0.01569888117197362,
          null,
          0.33542372240376556,
          0.030582327484271674,
          null,
          0.33542372240376556,
          0.06887492530647166,
          null,
          0.40831797478764115,
          0.33542372240376556,
          null,
          0.40831797478764115,
          0.18615732186200654,
          null,
          0.5544570001609468,
          0.1498012094322394,
          null,
          0.5544570001609468,
          0.5408055817977828,
          null,
          0.5408055817977828,
          0.1498012094322394,
          null,
          0.5408055817977828,
          0.5544570001609468,
          null,
          0.5408055817977828,
          0.2555464719136939,
          null,
          -0.3191148014165888,
          -0.01569888117197362,
          null,
          0.3039317040745675,
          0.1498012094322394,
          null,
          0.3039317040745675,
          0.33542372240376556,
          null,
          0.3039317040745675,
          0.011702124675686189,
          null,
          -0.04475702944525907,
          -0.036140730367148925,
          null,
          -0.04475702944525907,
          0.1498012094322394,
          null,
          -0.04475702944525907,
          -0.22836115869502588,
          null,
          0.17647299334259783,
          0.2555464719136939,
          null,
          0.17647299334259783,
          0.1498012094322394,
          null,
          0.17647299334259783,
          -0.22836115869502588,
          null,
          0.7014737457302868,
          0.33542372240376556,
          null
         ]
        },
        {
         "hoverinfo": "text",
         "marker": {
          "color": [
           0,
           10,
           2,
           0,
           1,
           0,
           0,
           11,
           0,
           0,
           2,
           6,
           0,
           12,
           0,
           2,
           2,
           3,
           0,
           1,
           0,
           3,
           3,
           3,
           1
          ],
          "colorbar": {
           "thickness": 15,
           "title": {
            "side": "right",
            "text": "Node Connections"
           },
           "xanchor": "left"
          },
          "colorscale": [
           [
            0,
            "rgb(255,255,217)"
           ],
           [
            0.125,
            "rgb(237,248,177)"
           ],
           [
            0.25,
            "rgb(199,233,180)"
           ],
           [
            0.375,
            "rgb(127,205,187)"
           ],
           [
            0.5,
            "rgb(65,182,196)"
           ],
           [
            0.625,
            "rgb(29,145,192)"
           ],
           [
            0.75,
            "rgb(34,94,168)"
           ],
           [
            0.875,
            "rgb(37,52,148)"
           ],
           [
            1,
            "rgb(8,29,88)"
           ]
          ],
          "line": {
           "width": 2
          },
          "reversescale": true,
          "showscale": true,
          "size": [
           19.325536040865607,
           16.747157113536595,
           21.10149421196414,
           23.97596277611869,
           20.133203685010706,
           23.455130650832924,
           22.57311482961281,
           22.944137421599837,
           15.595170049801665,
           21.035905900159705,
           22.497165988876866,
           21.636440976324952,
           23.728581650951327,
           21.963669765228328,
           15.707278237073663,
           21.218450308380675,
           19.31008241210703,
           21.364528510931677,
           23.099889845541647,
           23.174933147361546,
           23.141022090920146,
           17.773145647308176,
           20.107892618685348,
           17.931574340092798,
           20.67141753591249
          ]
         },
         "mode": "markers",
         "text": [
          "Bill Burr has 0 connections and 657000 subscribers",
          "Corridor Cast has 10 connections and 110000 subscribers",
          "Nukazooka has 2 connections and 2250000 subscribers",
          "Good Mythical Morning has 0 connections and 16500000 subscribers",
          "BrandonJLa has 1 connections and 1150000 subscribers",
          "Linus Tech Tips has 0 connections and 11500000 subscribers",
          "RackaRacka has 0 connections and 6240000 subscribers",
          "Corridor has 11 connections and 8070000 subscribers",
          "The Film Look has 0 connections and 49500 subscribers",
          "H3 Podcast has 0 connections and 2150000 subscribers",
          "devinsupertramp has 2 connections and 5920000 subscribers",
          "Node has 6 connections and 3260000 subscribers",
          "The Slow Mo Guys has 0 connections and 13900000 subscribers",
          "Corridor Crew has 12 connections and 4090000 subscribers",
          "Drinkin' Bros Podcast has 0 connections and 53500 subscribers",
          "Shonduras has 2 connections and 2440000 subscribers",
          "Mike Diva has 2 connections and 650000 subscribers",
          "Anna Akana has 3 connections and 2700000 subscribers",
          "RocketJump has 0 connections and 8990000 subscribers",
          "Rooster Teeth has 1 connections and 9470000 subscribers",
          "PowerfulJRE has 0 connections and 9250000 subscribers",
          "Guillotine Channel has 3 connections and 224000 subscribers",
          "SoKrispyMedia has 3 connections and 1130000 subscribers",
          "Cerberusarms has 3 connections and 250000 subscribers",
          "Film Riot has 1 connections and 1670000 subscribers"
         ],
         "type": "scatter",
         "x": [
          -0.011189736092715627,
          0.15420247975609722,
          0.7192666479120692,
          -0.0184487229383067,
          0.8307075374343107,
          -0.2995175138767078,
          0.22654938607803898,
          0.2946038517121893,
          -0.2842863132156616,
          -0.016622161351012816,
          -0.050782118997638,
          0.416017157340112,
          -0.24775374496664218,
          0.08742815878537379,
          -0.018340964042716856,
          -0.17623573108712576,
          0.3770368389233077,
          0.5347241737483149,
          0.41338295480067344,
          -0.05707394984895194,
          -0.013895123129203598,
          0.25020475533171277,
          0.5183049313419315,
          0.6734313250582957,
          -0.10180346733727166
         ],
         "y": [
          -0.316617175271471,
          0.011702124675686189,
          -0.036140730367148925,
          -0.3315910396888833,
          0.3482130830726605,
          0.030582327484271674,
          -0.2675801920162035,
          0.1498012094322394,
          0.06887492530647166,
          -0.3296672650912054,
          0.18615732186200654,
          0.2555464719136939,
          -0.01569888117197362,
          0.33542372240376556,
          -0.33163561174659606,
          0.40831797478764115,
          0.5544570001609468,
          0.5408055817977828,
          -0.22836115869502588,
          -0.3191148014165888,
          -0.3273520469172776,
          0.3039317040745675,
          -0.04475702944525907,
          0.17647299334259783,
          0.7014737457302868
         ]
        }
       ],
       "layout": {
        "annotations": [
         {
          "showarrow": false,
          "text": "Graph of connected channels",
          "x": 0.005,
          "xref": "paper",
          "y": -0.002,
          "yref": "paper"
         }
        ],
        "autosize": true,
        "hovermode": "closest",
        "margin": {
         "b": 20,
         "l": 5,
         "r": 5,
         "t": 40
        },
        "scene": {
         "aspectmode": "data"
        },
        "showlegend": false,
        "template": {
         "data": {
          "bar": [
           {
            "error_x": {
             "color": "#2a3f5f"
            },
            "error_y": {
             "color": "#2a3f5f"
            },
            "marker": {
             "line": {
              "color": "#E5ECF6",
              "width": 0.5
             }
            },
            "type": "bar"
           }
          ],
          "barpolar": [
           {
            "marker": {
             "line": {
              "color": "#E5ECF6",
              "width": 0.5
             }
            },
            "type": "barpolar"
           }
          ],
          "carpet": [
           {
            "aaxis": {
             "endlinecolor": "#2a3f5f",
             "gridcolor": "white",
             "linecolor": "white",
             "minorgridcolor": "white",
             "startlinecolor": "#2a3f5f"
            },
            "baxis": {
             "endlinecolor": "#2a3f5f",
             "gridcolor": "white",
             "linecolor": "white",
             "minorgridcolor": "white",
             "startlinecolor": "#2a3f5f"
            },
            "type": "carpet"
           }
          ],
          "choropleth": [
           {
            "colorbar": {
             "outlinewidth": 0,
             "ticks": ""
            },
            "type": "choropleth"
           }
          ],
          "contour": [
           {
            "colorbar": {
             "outlinewidth": 0,
             "ticks": ""
            },
            "colorscale": [
             [
              0,
              "#0d0887"
             ],
             [
              0.1111111111111111,
              "#46039f"
             ],
             [
              0.2222222222222222,
              "#7201a8"
             ],
             [
              0.3333333333333333,
              "#9c179e"
             ],
             [
              0.4444444444444444,
              "#bd3786"
             ],
             [
              0.5555555555555556,
              "#d8576b"
             ],
             [
              0.6666666666666666,
              "#ed7953"
             ],
             [
              0.7777777777777778,
              "#fb9f3a"
             ],
             [
              0.8888888888888888,
              "#fdca26"
             ],
             [
              1,
              "#f0f921"
             ]
            ],
            "type": "contour"
           }
          ],
          "contourcarpet": [
           {
            "colorbar": {
             "outlinewidth": 0,
             "ticks": ""
            },
            "type": "contourcarpet"
           }
          ],
          "heatmap": [
           {
            "colorbar": {
             "outlinewidth": 0,
             "ticks": ""
            },
            "colorscale": [
             [
              0,
              "#0d0887"
             ],
             [
              0.1111111111111111,
              "#46039f"
             ],
             [
              0.2222222222222222,
              "#7201a8"
             ],
             [
              0.3333333333333333,
              "#9c179e"
             ],
             [
              0.4444444444444444,
              "#bd3786"
             ],
             [
              0.5555555555555556,
              "#d8576b"
             ],
             [
              0.6666666666666666,
              "#ed7953"
             ],
             [
              0.7777777777777778,
              "#fb9f3a"
             ],
             [
              0.8888888888888888,
              "#fdca26"
             ],
             [
              1,
              "#f0f921"
             ]
            ],
            "type": "heatmap"
           }
          ],
          "heatmapgl": [
           {
            "colorbar": {
             "outlinewidth": 0,
             "ticks": ""
            },
            "colorscale": [
             [
              0,
              "#0d0887"
             ],
             [
              0.1111111111111111,
              "#46039f"
             ],
             [
              0.2222222222222222,
              "#7201a8"
             ],
             [
              0.3333333333333333,
              "#9c179e"
             ],
             [
              0.4444444444444444,
              "#bd3786"
             ],
             [
              0.5555555555555556,
              "#d8576b"
             ],
             [
              0.6666666666666666,
              "#ed7953"
             ],
             [
              0.7777777777777778,
              "#fb9f3a"
             ],
             [
              0.8888888888888888,
              "#fdca26"
             ],
             [
              1,
              "#f0f921"
             ]
            ],
            "type": "heatmapgl"
           }
          ],
          "histogram": [
           {
            "marker": {
             "colorbar": {
              "outlinewidth": 0,
              "ticks": ""
             }
            },
            "type": "histogram"
           }
          ],
          "histogram2d": [
           {
            "colorbar": {
             "outlinewidth": 0,
             "ticks": ""
            },
            "colorscale": [
             [
              0,
              "#0d0887"
             ],
             [
              0.1111111111111111,
              "#46039f"
             ],
             [
              0.2222222222222222,
              "#7201a8"
             ],
             [
              0.3333333333333333,
              "#9c179e"
             ],
             [
              0.4444444444444444,
              "#bd3786"
             ],
             [
              0.5555555555555556,
              "#d8576b"
             ],
             [
              0.6666666666666666,
              "#ed7953"
             ],
             [
              0.7777777777777778,
              "#fb9f3a"
             ],
             [
              0.8888888888888888,
              "#fdca26"
             ],
             [
              1,
              "#f0f921"
             ]
            ],
            "type": "histogram2d"
           }
          ],
          "histogram2dcontour": [
           {
            "colorbar": {
             "outlinewidth": 0,
             "ticks": ""
            },
            "colorscale": [
             [
              0,
              "#0d0887"
             ],
             [
              0.1111111111111111,
              "#46039f"
             ],
             [
              0.2222222222222222,
              "#7201a8"
             ],
             [
              0.3333333333333333,
              "#9c179e"
             ],
             [
              0.4444444444444444,
              "#bd3786"
             ],
             [
              0.5555555555555556,
              "#d8576b"
             ],
             [
              0.6666666666666666,
              "#ed7953"
             ],
             [
              0.7777777777777778,
              "#fb9f3a"
             ],
             [
              0.8888888888888888,
              "#fdca26"
             ],
             [
              1,
              "#f0f921"
             ]
            ],
            "type": "histogram2dcontour"
           }
          ],
          "mesh3d": [
           {
            "colorbar": {
             "outlinewidth": 0,
             "ticks": ""
            },
            "type": "mesh3d"
           }
          ],
          "parcoords": [
           {
            "line": {
             "colorbar": {
              "outlinewidth": 0,
              "ticks": ""
             }
            },
            "type": "parcoords"
           }
          ],
          "pie": [
           {
            "automargin": true,
            "type": "pie"
           }
          ],
          "scatter": [
           {
            "marker": {
             "colorbar": {
              "outlinewidth": 0,
              "ticks": ""
             }
            },
            "type": "scatter"
           }
          ],
          "scatter3d": [
           {
            "line": {
             "colorbar": {
              "outlinewidth": 0,
              "ticks": ""
             }
            },
            "marker": {
             "colorbar": {
              "outlinewidth": 0,
              "ticks": ""
             }
            },
            "type": "scatter3d"
           }
          ],
          "scattercarpet": [
           {
            "marker": {
             "colorbar": {
              "outlinewidth": 0,
              "ticks": ""
             }
            },
            "type": "scattercarpet"
           }
          ],
          "scattergeo": [
           {
            "marker": {
             "colorbar": {
              "outlinewidth": 0,
              "ticks": ""
             }
            },
            "type": "scattergeo"
           }
          ],
          "scattergl": [
           {
            "marker": {
             "colorbar": {
              "outlinewidth": 0,
              "ticks": ""
             }
            },
            "type": "scattergl"
           }
          ],
          "scattermapbox": [
           {
            "marker": {
             "colorbar": {
              "outlinewidth": 0,
              "ticks": ""
             }
            },
            "type": "scattermapbox"
           }
          ],
          "scatterpolar": [
           {
            "marker": {
             "colorbar": {
              "outlinewidth": 0,
              "ticks": ""
             }
            },
            "type": "scatterpolar"
           }
          ],
          "scatterpolargl": [
           {
            "marker": {
             "colorbar": {
              "outlinewidth": 0,
              "ticks": ""
             }
            },
            "type": "scatterpolargl"
           }
          ],
          "scatterternary": [
           {
            "marker": {
             "colorbar": {
              "outlinewidth": 0,
              "ticks": ""
             }
            },
            "type": "scatterternary"
           }
          ],
          "surface": [
           {
            "colorbar": {
             "outlinewidth": 0,
             "ticks": ""
            },
            "colorscale": [
             [
              0,
              "#0d0887"
             ],
             [
              0.1111111111111111,
              "#46039f"
             ],
             [
              0.2222222222222222,
              "#7201a8"
             ],
             [
              0.3333333333333333,
              "#9c179e"
             ],
             [
              0.4444444444444444,
              "#bd3786"
             ],
             [
              0.5555555555555556,
              "#d8576b"
             ],
             [
              0.6666666666666666,
              "#ed7953"
             ],
             [
              0.7777777777777778,
              "#fb9f3a"
             ],
             [
              0.8888888888888888,
              "#fdca26"
             ],
             [
              1,
              "#f0f921"
             ]
            ],
            "type": "surface"
           }
          ],
          "table": [
           {
            "cells": {
             "fill": {
              "color": "#EBF0F8"
             },
             "line": {
              "color": "white"
             }
            },
            "header": {
             "fill": {
              "color": "#C8D4E3"
             },
             "line": {
              "color": "white"
             }
            },
            "type": "table"
           }
          ]
         },
         "layout": {
          "annotationdefaults": {
           "arrowcolor": "#2a3f5f",
           "arrowhead": 0,
           "arrowwidth": 1
          },
          "coloraxis": {
           "colorbar": {
            "outlinewidth": 0,
            "ticks": ""
           }
          },
          "colorscale": {
           "diverging": [
            [
             0,
             "#8e0152"
            ],
            [
             0.1,
             "#c51b7d"
            ],
            [
             0.2,
             "#de77ae"
            ],
            [
             0.3,
             "#f1b6da"
            ],
            [
             0.4,
             "#fde0ef"
            ],
            [
             0.5,
             "#f7f7f7"
            ],
            [
             0.6,
             "#e6f5d0"
            ],
            [
             0.7,
             "#b8e186"
            ],
            [
             0.8,
             "#7fbc41"
            ],
            [
             0.9,
             "#4d9221"
            ],
            [
             1,
             "#276419"
            ]
           ],
           "sequential": [
            [
             0,
             "#0d0887"
            ],
            [
             0.1111111111111111,
             "#46039f"
            ],
            [
             0.2222222222222222,
             "#7201a8"
            ],
            [
             0.3333333333333333,
             "#9c179e"
            ],
            [
             0.4444444444444444,
             "#bd3786"
            ],
            [
             0.5555555555555556,
             "#d8576b"
            ],
            [
             0.6666666666666666,
             "#ed7953"
            ],
            [
             0.7777777777777778,
             "#fb9f3a"
            ],
            [
             0.8888888888888888,
             "#fdca26"
            ],
            [
             1,
             "#f0f921"
            ]
           ],
           "sequentialminus": [
            [
             0,
             "#0d0887"
            ],
            [
             0.1111111111111111,
             "#46039f"
            ],
            [
             0.2222222222222222,
             "#7201a8"
            ],
            [
             0.3333333333333333,
             "#9c179e"
            ],
            [
             0.4444444444444444,
             "#bd3786"
            ],
            [
             0.5555555555555556,
             "#d8576b"
            ],
            [
             0.6666666666666666,
             "#ed7953"
            ],
            [
             0.7777777777777778,
             "#fb9f3a"
            ],
            [
             0.8888888888888888,
             "#fdca26"
            ],
            [
             1,
             "#f0f921"
            ]
           ]
          },
          "colorway": [
           "#636efa",
           "#EF553B",
           "#00cc96",
           "#ab63fa",
           "#FFA15A",
           "#19d3f3",
           "#FF6692",
           "#B6E880",
           "#FF97FF",
           "#FECB52"
          ],
          "font": {
           "color": "#2a3f5f"
          },
          "geo": {
           "bgcolor": "white",
           "lakecolor": "white",
           "landcolor": "#E5ECF6",
           "showlakes": true,
           "showland": true,
           "subunitcolor": "white"
          },
          "hoverlabel": {
           "align": "left"
          },
          "hovermode": "closest",
          "mapbox": {
           "style": "light"
          },
          "paper_bgcolor": "white",
          "plot_bgcolor": "#E5ECF6",
          "polar": {
           "angularaxis": {
            "gridcolor": "white",
            "linecolor": "white",
            "ticks": ""
           },
           "bgcolor": "#E5ECF6",
           "radialaxis": {
            "gridcolor": "white",
            "linecolor": "white",
            "ticks": ""
           }
          },
          "scene": {
           "xaxis": {
            "backgroundcolor": "#E5ECF6",
            "gridcolor": "white",
            "gridwidth": 2,
            "linecolor": "white",
            "showbackground": true,
            "ticks": "",
            "zerolinecolor": "white"
           },
           "yaxis": {
            "backgroundcolor": "#E5ECF6",
            "gridcolor": "white",
            "gridwidth": 2,
            "linecolor": "white",
            "showbackground": true,
            "ticks": "",
            "zerolinecolor": "white"
           },
           "zaxis": {
            "backgroundcolor": "#E5ECF6",
            "gridcolor": "white",
            "gridwidth": 2,
            "linecolor": "white",
            "showbackground": true,
            "ticks": "",
            "zerolinecolor": "white"
           }
          },
          "shapedefaults": {
           "line": {
            "color": "#2a3f5f"
           }
          },
          "ternary": {
           "aaxis": {
            "gridcolor": "white",
            "linecolor": "white",
            "ticks": ""
           },
           "baxis": {
            "gridcolor": "white",
            "linecolor": "white",
            "ticks": ""
           },
           "bgcolor": "#E5ECF6",
           "caxis": {
            "gridcolor": "white",
            "linecolor": "white",
            "ticks": ""
           }
          },
          "title": {
           "x": 0.05
          },
          "xaxis": {
           "automargin": true,
           "gridcolor": "white",
           "linecolor": "white",
           "ticks": "",
           "title": {
            "standoff": 15
           },
           "zerolinecolor": "white",
           "zerolinewidth": 2
          },
          "yaxis": {
           "automargin": true,
           "gridcolor": "white",
           "linecolor": "white",
           "ticks": "",
           "title": {
            "standoff": 15
           },
           "zerolinecolor": "white",
           "zerolinewidth": 2
          }
         }
        },
        "title": {
         "font": {
          "size": 16
         },
         "text": "Graph of Featured Channels"
        },
        "xaxis": {
         "autorange": true,
         "range": [
          -0.4170917389403574,
          0.9412488630675034
         ],
         "showgrid": false,
         "showticklabels": false,
         "type": "linear",
         "zeroline": false
        },
        "yaxis": {
         "autorange": true,
         "range": [
          -0.441853260973326,
          0.8051322490153079
         ],
         "showgrid": false,
         "showticklabels": false,
         "type": "linear",
         "zeroline": false
        }
       }
      },
      "image/png": "[encoded data removed]",
      "text/html": [
       "<div>\n",
       "        \n",
       "        \n",
       "            <div id=\"fc955680-aa11-4d83-b4bf-b8b480828a5b\" class=\"plotly-graph-div\" style=\"height:525px; width:100%;\"></div>\n",
       "            <script type=\"text/javascript\">\n",
       "                require([\"plotly\"], function(Plotly) {\n",
       "                    window.PLOTLYENV=window.PLOTLYENV || {};\n",
       "                    \n",
       "                if (document.getElementById(\"fc955680-aa11-4d83-b4bf-b8b480828a5b\")) {\n",
       "                    Plotly.newPlot(\n",
       "                        'fc955680-aa11-4d83-b4bf-b8b480828a5b',\n",
       "                        [{\"hoverinfo\": \"none\", \"line\": {\"color\": \"#888\", \"width\": 0.5}, \"mode\": \"lines\", \"type\": \"scatter\", \"x\": [0.15420247975609722, 0.2946038517121893, null, 0.15420247975609722, 0.08742815878537379, null, 0.15420247975609722, 0.416017157340112, null, 0.15420247975609722, 0.25020475533171277, null, 0.15420247975609722, -0.016622161351012816, null, 0.15420247975609722, -0.013895123129203598, null, 0.15420247975609722, -0.018340964042716856, null, 0.15420247975609722, -0.011189736092715627, null, 0.15420247975609722, -0.05707394984895194, null, 0.15420247975609722, -0.0184487229383067, null, 0.7192666479120692, 0.2946038517121893, null, 0.7192666479120692, 0.5183049313419315, null, 0.8307075374343107, 0.416017157340112, null, 0.2946038517121893, 0.08742815878537379, null, 0.2946038517121893, 0.15420247975609722, null, 0.2946038517121893, 0.416017157340112, null, 0.2946038517121893, 0.25020475533171277, null, 0.2946038517121893, -0.17623573108712576, null, 0.2946038517121893, 0.7192666479120692, null, 0.2946038517121893, 0.41338295480067344, null, 0.2946038517121893, 0.3770368389233077, null, 0.2946038517121893, 0.22654938607803898, null, 0.2946038517121893, -0.050782118997638, null, 0.2946038517121893, 0.5183049313419315, null, -0.050782118997638, 0.2946038517121893, null, -0.050782118997638, -0.17623573108712576, null, 0.416017157340112, 0.6734313250582957, null, 0.416017157340112, 0.2946038517121893, null, 0.416017157340112, 0.08742815878537379, null, 0.416017157340112, 0.8307075374343107, null, 0.416017157340112, 0.15420247975609722, null, 0.416017157340112, 0.25020475533171277, null, 0.08742815878537379, 0.2946038517121893, null, 0.08742815878537379, 0.15420247975609722, null, 0.08742815878537379, 0.416017157340112, null, 0.08742815878537379, 0.25020475533171277, null, 0.08742815878537379, -0.17623573108712576, null, 0.08742815878537379, 0.5347241737483149, null, 0.08742815878537379, 0.3770368389233077, null, 0.08742815878537379, -0.10180346733727166, null, 0.08742815878537379, 0.5183049313419315, null, 0.08742815878537379, -0.24775374496664218, null, 0.08742815878537379, -0.2995175138767078, null, 0.08742815878537379, -0.2842863132156616, null, -0.17623573108712576, 0.08742815878537379, null, -0.17623573108712576, -0.050782118997638, null, 0.3770368389233077, 0.2946038517121893, null, 0.3770368389233077, 0.5347241737483149, null, 0.5347241737483149, 0.2946038517121893, null, 0.5347241737483149, 0.3770368389233077, null, 0.5347241737483149, 0.416017157340112, null, -0.05707394984895194, -0.24775374496664218, null, 0.25020475533171277, 0.2946038517121893, null, 0.25020475533171277, 0.08742815878537379, null, 0.25020475533171277, 0.15420247975609722, null, 0.5183049313419315, 0.7192666479120692, null, 0.5183049313419315, 0.2946038517121893, null, 0.5183049313419315, 0.41338295480067344, null, 0.6734313250582957, 0.416017157340112, null, 0.6734313250582957, 0.2946038517121893, null, 0.6734313250582957, 0.41338295480067344, null, -0.10180346733727166, 0.08742815878537379, null], \"y\": [0.011702124675686189, 0.1498012094322394, null, 0.011702124675686189, 0.33542372240376556, null, 0.011702124675686189, 0.2555464719136939, null, 0.011702124675686189, 0.3039317040745675, null, 0.011702124675686189, -0.3296672650912054, null, 0.011702124675686189, -0.3273520469172776, null, 0.011702124675686189, -0.33163561174659606, null, 0.011702124675686189, -0.316617175271471, null, 0.011702124675686189, -0.3191148014165888, null, 0.011702124675686189, -0.3315910396888833, null, -0.036140730367148925, 0.1498012094322394, null, -0.036140730367148925, -0.04475702944525907, null, 0.3482130830726605, 0.2555464719136939, null, 0.1498012094322394, 0.33542372240376556, null, 0.1498012094322394, 0.011702124675686189, null, 0.1498012094322394, 0.2555464719136939, null, 0.1498012094322394, 0.3039317040745675, null, 0.1498012094322394, 0.40831797478764115, null, 0.1498012094322394, -0.036140730367148925, null, 0.1498012094322394, -0.22836115869502588, null, 0.1498012094322394, 0.5544570001609468, null, 0.1498012094322394, -0.2675801920162035, null, 0.1498012094322394, 0.18615732186200654, null, 0.1498012094322394, -0.04475702944525907, null, 0.18615732186200654, 0.1498012094322394, null, 0.18615732186200654, 0.40831797478764115, null, 0.2555464719136939, 0.17647299334259783, null, 0.2555464719136939, 0.1498012094322394, null, 0.2555464719136939, 0.33542372240376556, null, 0.2555464719136939, 0.3482130830726605, null, 0.2555464719136939, 0.011702124675686189, null, 0.2555464719136939, 0.3039317040745675, null, 0.33542372240376556, 0.1498012094322394, null, 0.33542372240376556, 0.011702124675686189, null, 0.33542372240376556, 0.2555464719136939, null, 0.33542372240376556, 0.3039317040745675, null, 0.33542372240376556, 0.40831797478764115, null, 0.33542372240376556, 0.5408055817977828, null, 0.33542372240376556, 0.5544570001609468, null, 0.33542372240376556, 0.7014737457302868, null, 0.33542372240376556, -0.04475702944525907, null, 0.33542372240376556, -0.01569888117197362, null, 0.33542372240376556, 0.030582327484271674, null, 0.33542372240376556, 0.06887492530647166, null, 0.40831797478764115, 0.33542372240376556, null, 0.40831797478764115, 0.18615732186200654, null, 0.5544570001609468, 0.1498012094322394, null, 0.5544570001609468, 0.5408055817977828, null, 0.5408055817977828, 0.1498012094322394, null, 0.5408055817977828, 0.5544570001609468, null, 0.5408055817977828, 0.2555464719136939, null, -0.3191148014165888, -0.01569888117197362, null, 0.3039317040745675, 0.1498012094322394, null, 0.3039317040745675, 0.33542372240376556, null, 0.3039317040745675, 0.011702124675686189, null, -0.04475702944525907, -0.036140730367148925, null, -0.04475702944525907, 0.1498012094322394, null, -0.04475702944525907, -0.22836115869502588, null, 0.17647299334259783, 0.2555464719136939, null, 0.17647299334259783, 0.1498012094322394, null, 0.17647299334259783, -0.22836115869502588, null, 0.7014737457302868, 0.33542372240376556, null]}, {\"hoverinfo\": \"text\", \"marker\": {\"color\": [0, 10, 2, 0, 1, 0, 0, 11, 0, 0, 2, 6, 0, 12, 0, 2, 2, 3, 0, 1, 0, 3, 3, 3, 1], \"colorbar\": {\"thickness\": 15, \"title\": {\"side\": \"right\", \"text\": \"Node Connections\"}, \"xanchor\": \"left\"}, \"colorscale\": [[0.0, \"rgb(255,255,217)\"], [0.125, \"rgb(237,248,177)\"], [0.25, \"rgb(199,233,180)\"], [0.375, \"rgb(127,205,187)\"], [0.5, \"rgb(65,182,196)\"], [0.625, \"rgb(29,145,192)\"], [0.75, \"rgb(34,94,168)\"], [0.875, \"rgb(37,52,148)\"], [1.0, \"rgb(8,29,88)\"]], \"line\": {\"width\": 2}, \"reversescale\": true, \"showscale\": true, \"size\": [19.325536040865607, 16.747157113536595, 21.10149421196414, 23.97596277611869, 20.133203685010706, 23.455130650832924, 22.57311482961281, 22.944137421599837, 15.595170049801665, 21.035905900159705, 22.497165988876866, 21.636440976324952, 23.728581650951327, 21.963669765228328, 15.707278237073663, 21.218450308380675, 19.31008241210703, 21.364528510931677, 23.099889845541647, 23.174933147361546, 23.141022090920146, 17.773145647308176, 20.107892618685348, 17.931574340092798, 20.67141753591249]}, \"mode\": \"markers\", \"text\": [\"Bill Burr has 0 connections and 657000 subscribers\", \"Corridor Cast has 10 connections and 110000 subscribers\", \"Nukazooka has 2 connections and 2250000 subscribers\", \"Good Mythical Morning has 0 connections and 16500000 subscribers\", \"BrandonJLa has 1 connections and 1150000 subscribers\", \"Linus Tech Tips has 0 connections and 11500000 subscribers\", \"RackaRacka has 0 connections and 6240000 subscribers\", \"Corridor has 11 connections and 8070000 subscribers\", \"The Film Look has 0 connections and 49500 subscribers\", \"H3 Podcast has 0 connections and 2150000 subscribers\", \"devinsupertramp has 2 connections and 5920000 subscribers\", \"Node has 6 connections and 3260000 subscribers\", \"The Slow Mo Guys has 0 connections and 13900000 subscribers\", \"Corridor Crew has 12 connections and 4090000 subscribers\", \"Drinkin' Bros Podcast has 0 connections and 53500 subscribers\", \"Shonduras has 2 connections and 2440000 subscribers\", \"Mike Diva has 2 connections and 650000 subscribers\", \"Anna Akana has 3 connections and 2700000 subscribers\", \"RocketJump has 0 connections and 8990000 subscribers\", \"Rooster Teeth has 1 connections and 9470000 subscribers\", \"PowerfulJRE has 0 connections and 9250000 subscribers\", \"Guillotine Channel has 3 connections and 224000 subscribers\", \"SoKrispyMedia has 3 connections and 1130000 subscribers\", \"Cerberusarms has 3 connections and 250000 subscribers\", \"Film Riot has 1 connections and 1670000 subscribers\"], \"type\": \"scatter\", \"x\": [-0.011189736092715627, 0.15420247975609722, 0.7192666479120692, -0.0184487229383067, 0.8307075374343107, -0.2995175138767078, 0.22654938607803898, 0.2946038517121893, -0.2842863132156616, -0.016622161351012816, -0.050782118997638, 0.416017157340112, -0.24775374496664218, 0.08742815878537379, -0.018340964042716856, -0.17623573108712576, 0.3770368389233077, 0.5347241737483149, 0.41338295480067344, -0.05707394984895194, -0.013895123129203598, 0.25020475533171277, 0.5183049313419315, 0.6734313250582957, -0.10180346733727166], \"y\": [-0.316617175271471, 0.011702124675686189, -0.036140730367148925, -0.3315910396888833, 0.3482130830726605, 0.030582327484271674, -0.2675801920162035, 0.1498012094322394, 0.06887492530647166, -0.3296672650912054, 0.18615732186200654, 0.2555464719136939, -0.01569888117197362, 0.33542372240376556, -0.33163561174659606, 0.40831797478764115, 0.5544570001609468, 0.5408055817977828, -0.22836115869502588, -0.3191148014165888, -0.3273520469172776, 0.3039317040745675, -0.04475702944525907, 0.17647299334259783, 0.7014737457302868]}],\n",
       "                        {\"annotations\": [{\"showarrow\": false, \"text\": \"Graph of connected channels\", \"x\": 0.005, \"xref\": \"paper\", \"y\": -0.002, \"yref\": \"paper\"}], \"autosize\": true, \"hovermode\": \"closest\", \"margin\": {\"b\": 20, \"l\": 5, \"r\": 5, \"t\": 40}, \"scene\": {\"aspectmode\": \"data\"}, \"showlegend\": false, \"template\": {\"data\": {\"bar\": [{\"error_x\": {\"color\": \"#2a3f5f\"}, \"error_y\": {\"color\": \"#2a3f5f\"}, \"marker\": {\"line\": {\"color\": \"#E5ECF6\", \"width\": 0.5}}, \"type\": \"bar\"}], \"barpolar\": [{\"marker\": {\"line\": {\"color\": \"#E5ECF6\", \"width\": 0.5}}, \"type\": \"barpolar\"}], \"carpet\": [{\"aaxis\": {\"endlinecolor\": \"#2a3f5f\", \"gridcolor\": \"white\", \"linecolor\": \"white\", \"minorgridcolor\": \"white\", \"startlinecolor\": \"#2a3f5f\"}, \"baxis\": {\"endlinecolor\": \"#2a3f5f\", \"gridcolor\": \"white\", \"linecolor\": \"white\", \"minorgridcolor\": \"white\", \"startlinecolor\": \"#2a3f5f\"}, \"type\": \"carpet\"}], \"choropleth\": [{\"colorbar\": {\"outlinewidth\": 0, \"ticks\": \"\"}, \"type\": \"choropleth\"}], \"contour\": [{\"colorbar\": {\"outlinewidth\": 0, \"ticks\": \"\"}, \"colorscale\": [[0.0, \"#0d0887\"], [0.1111111111111111, \"#46039f\"], [0.2222222222222222, \"#7201a8\"], [0.3333333333333333, \"#9c179e\"], [0.4444444444444444, \"#bd3786\"], [0.5555555555555556, \"#d8576b\"], [0.6666666666666666, \"#ed7953\"], [0.7777777777777778, \"#fb9f3a\"], [0.8888888888888888, \"#fdca26\"], [1.0, \"#f0f921\"]], \"type\": \"contour\"}], \"contourcarpet\": [{\"colorbar\": {\"outlinewidth\": 0, \"ticks\": \"\"}, \"type\": \"contourcarpet\"}], \"heatmap\": [{\"colorbar\": {\"outlinewidth\": 0, \"ticks\": \"\"}, \"colorscale\": [[0.0, \"#0d0887\"], [0.1111111111111111, \"#46039f\"], [0.2222222222222222, \"#7201a8\"], [0.3333333333333333, \"#9c179e\"], [0.4444444444444444, \"#bd3786\"], [0.5555555555555556, \"#d8576b\"], [0.6666666666666666, \"#ed7953\"], [0.7777777777777778, \"#fb9f3a\"], [0.8888888888888888, \"#fdca26\"], [1.0, \"#f0f921\"]], \"type\": \"heatmap\"}], \"heatmapgl\": [{\"colorbar\": {\"outlinewidth\": 0, \"ticks\": \"\"}, \"colorscale\": [[0.0, \"#0d0887\"], [0.1111111111111111, \"#46039f\"], [0.2222222222222222, \"#7201a8\"], [0.3333333333333333, \"#9c179e\"], [0.4444444444444444, \"#bd3786\"], [0.5555555555555556, \"#d8576b\"], [0.6666666666666666, \"#ed7953\"], [0.7777777777777778, \"#fb9f3a\"], [0.8888888888888888, \"#fdca26\"], [1.0, \"#f0f921\"]], \"type\": \"heatmapgl\"}], \"histogram\": [{\"marker\": {\"colorbar\": {\"outlinewidth\": 0, \"ticks\": \"\"}}, \"type\": \"histogram\"}], \"histogram2d\": [{\"colorbar\": {\"outlinewidth\": 0, \"ticks\": \"\"}, \"colorscale\": [[0.0, \"#0d0887\"], [0.1111111111111111, \"#46039f\"], [0.2222222222222222, \"#7201a8\"], [0.3333333333333333, \"#9c179e\"], [0.4444444444444444, \"#bd3786\"], [0.5555555555555556, \"#d8576b\"], [0.6666666666666666, \"#ed7953\"], [0.7777777777777778, \"#fb9f3a\"], [0.8888888888888888, \"#fdca26\"], [1.0, \"#f0f921\"]], \"type\": \"histogram2d\"}], \"histogram2dcontour\": [{\"colorbar\": {\"outlinewidth\": 0, \"ticks\": \"\"}, \"colorscale\": [[0.0, \"#0d0887\"], [0.1111111111111111, \"#46039f\"], [0.2222222222222222, \"#7201a8\"], [0.3333333333333333, \"#9c179e\"], [0.4444444444444444, \"#bd3786\"], [0.5555555555555556, \"#d8576b\"], [0.6666666666666666, \"#ed7953\"], [0.7777777777777778, \"#fb9f3a\"], [0.8888888888888888, \"#fdca26\"], [1.0, \"#f0f921\"]], \"type\": \"histogram2dcontour\"}], \"mesh3d\": [{\"colorbar\": {\"outlinewidth\": 0, \"ticks\": \"\"}, \"type\": \"mesh3d\"}], \"parcoords\": [{\"line\": {\"colorbar\": {\"outlinewidth\": 0, \"ticks\": \"\"}}, \"type\": \"parcoords\"}], \"pie\": [{\"automargin\": true, \"type\": \"pie\"}], \"scatter\": [{\"marker\": {\"colorbar\": {\"outlinewidth\": 0, \"ticks\": \"\"}}, \"type\": \"scatter\"}], \"scatter3d\": [{\"line\": {\"colorbar\": {\"outlinewidth\": 0, \"ticks\": \"\"}}, \"marker\": {\"colorbar\": {\"outlinewidth\": 0, \"ticks\": \"\"}}, \"type\": \"scatter3d\"}], \"scattercarpet\": [{\"marker\": {\"colorbar\": {\"outlinewidth\": 0, \"ticks\": \"\"}}, \"type\": \"scattercarpet\"}], \"scattergeo\": [{\"marker\": {\"colorbar\": {\"outlinewidth\": 0, \"ticks\": \"\"}}, \"type\": \"scattergeo\"}], \"scattergl\": [{\"marker\": {\"colorbar\": {\"outlinewidth\": 0, \"ticks\": \"\"}}, \"type\": \"scattergl\"}], \"scattermapbox\": [{\"marker\": {\"colorbar\": {\"outlinewidth\": 0, \"ticks\": \"\"}}, \"type\": \"scattermapbox\"}], \"scatterpolar\": [{\"marker\": {\"colorbar\": {\"outlinewidth\": 0, \"ticks\": \"\"}}, \"type\": \"scatterpolar\"}], \"scatterpolargl\": [{\"marker\": {\"colorbar\": {\"outlinewidth\": 0, \"ticks\": \"\"}}, \"type\": \"scatterpolargl\"}], \"scatterternary\": [{\"marker\": {\"colorbar\": {\"outlinewidth\": 0, \"ticks\": \"\"}}, \"type\": \"scatterternary\"}], \"surface\": [{\"colorbar\": {\"outlinewidth\": 0, \"ticks\": \"\"}, \"colorscale\": [[0.0, \"#0d0887\"], [0.1111111111111111, \"#46039f\"], [0.2222222222222222, \"#7201a8\"], [0.3333333333333333, \"#9c179e\"], [0.4444444444444444, \"#bd3786\"], [0.5555555555555556, \"#d8576b\"], [0.6666666666666666, \"#ed7953\"], [0.7777777777777778, \"#fb9f3a\"], [0.8888888888888888, \"#fdca26\"], [1.0, \"#f0f921\"]], \"type\": \"surface\"}], \"table\": [{\"cells\": {\"fill\": {\"color\": \"#EBF0F8\"}, \"line\": {\"color\": \"white\"}}, \"header\": {\"fill\": {\"color\": \"#C8D4E3\"}, \"line\": {\"color\": \"white\"}}, \"type\": \"table\"}]}, \"layout\": {\"annotationdefaults\": {\"arrowcolor\": \"#2a3f5f\", \"arrowhead\": 0, \"arrowwidth\": 1}, \"coloraxis\": {\"colorbar\": {\"outlinewidth\": 0, \"ticks\": \"\"}}, \"colorscale\": {\"diverging\": [[0, \"#8e0152\"], [0.1, \"#c51b7d\"], [0.2, \"#de77ae\"], [0.3, \"#f1b6da\"], [0.4, \"#fde0ef\"], [0.5, \"#f7f7f7\"], [0.6, \"#e6f5d0\"], [0.7, \"#b8e186\"], [0.8, \"#7fbc41\"], [0.9, \"#4d9221\"], [1, \"#276419\"]], \"sequential\": [[0.0, \"#0d0887\"], [0.1111111111111111, \"#46039f\"], [0.2222222222222222, \"#7201a8\"], [0.3333333333333333, \"#9c179e\"], [0.4444444444444444, \"#bd3786\"], [0.5555555555555556, \"#d8576b\"], [0.6666666666666666, \"#ed7953\"], [0.7777777777777778, \"#fb9f3a\"], [0.8888888888888888, \"#fdca26\"], [1.0, \"#f0f921\"]], \"sequentialminus\": [[0.0, \"#0d0887\"], [0.1111111111111111, \"#46039f\"], [0.2222222222222222, \"#7201a8\"], [0.3333333333333333, \"#9c179e\"], [0.4444444444444444, \"#bd3786\"], [0.5555555555555556, \"#d8576b\"], [0.6666666666666666, \"#ed7953\"], [0.7777777777777778, \"#fb9f3a\"], [0.8888888888888888, \"#fdca26\"], [1.0, \"#f0f921\"]]}, \"colorway\": [\"#636efa\", \"#EF553B\", \"#00cc96\", \"#ab63fa\", \"#FFA15A\", \"#19d3f3\", \"#FF6692\", \"#B6E880\", \"#FF97FF\", \"#FECB52\"], \"font\": {\"color\": \"#2a3f5f\"}, \"geo\": {\"bgcolor\": \"white\", \"lakecolor\": \"white\", \"landcolor\": \"#E5ECF6\", \"showlakes\": true, \"showland\": true, \"subunitcolor\": \"white\"}, \"hoverlabel\": {\"align\": \"left\"}, \"hovermode\": \"closest\", \"mapbox\": {\"style\": \"light\"}, \"paper_bgcolor\": \"white\", \"plot_bgcolor\": \"#E5ECF6\", \"polar\": {\"angularaxis\": {\"gridcolor\": \"white\", \"linecolor\": \"white\", \"ticks\": \"\"}, \"bgcolor\": \"#E5ECF6\", \"radialaxis\": {\"gridcolor\": \"white\", \"linecolor\": \"white\", \"ticks\": \"\"}}, \"scene\": {\"xaxis\": {\"backgroundcolor\": \"#E5ECF6\", \"gridcolor\": \"white\", \"gridwidth\": 2, \"linecolor\": \"white\", \"showbackground\": true, \"ticks\": \"\", \"zerolinecolor\": \"white\"}, \"yaxis\": {\"backgroundcolor\": \"#E5ECF6\", \"gridcolor\": \"white\", \"gridwidth\": 2, \"linecolor\": \"white\", \"showbackground\": true, \"ticks\": \"\", \"zerolinecolor\": \"white\"}, \"zaxis\": {\"backgroundcolor\": \"#E5ECF6\", \"gridcolor\": \"white\", \"gridwidth\": 2, \"linecolor\": \"white\", \"showbackground\": true, \"ticks\": \"\", \"zerolinecolor\": \"white\"}}, \"shapedefaults\": {\"line\": {\"color\": \"#2a3f5f\"}}, \"ternary\": {\"aaxis\": {\"gridcolor\": \"white\", \"linecolor\": \"white\", \"ticks\": \"\"}, \"baxis\": {\"gridcolor\": \"white\", \"linecolor\": \"white\", \"ticks\": \"\"}, \"bgcolor\": \"#E5ECF6\", \"caxis\": {\"gridcolor\": \"white\", \"linecolor\": \"white\", \"ticks\": \"\"}}, \"title\": {\"x\": 0.05}, \"xaxis\": {\"automargin\": true, \"gridcolor\": \"white\", \"linecolor\": \"white\", \"ticks\": \"\", \"title\": {\"standoff\": 15}, \"zerolinecolor\": \"white\", \"zerolinewidth\": 2}, \"yaxis\": {\"automargin\": true, \"gridcolor\": \"white\", \"linecolor\": \"white\", \"ticks\": \"\", \"title\": {\"standoff\": 15}, \"zerolinecolor\": \"white\", \"zerolinewidth\": 2}}}, \"title\": {\"font\": {\"size\": 16}, \"text\": \"Graph of Featured Channels\"}, \"xaxis\": {\"showgrid\": false, \"showticklabels\": false, \"zeroline\": false}, \"yaxis\": {\"showgrid\": false, \"showticklabels\": false, \"zeroline\": false}},\n",
       "                        {\"responsive\": true}\n",
       "                    ).then(function(){\n",
       "                            \n",
       "var gd = document.getElementById('fc955680-aa11-4d83-b4bf-b8b480828a5b');\n",
       "var x = new MutationObserver(function (mutations, observer) {{\n",
       "        var display = window.getComputedStyle(gd).display;\n",
       "        if (!display || display === 'none') {{\n",
       "            console.log([gd, 'removed!']);\n",
       "            Plotly.purge(gd);\n",
       "            observer.disconnect();\n",
       "        }}\n",
       "}});\n",
       "\n",
       "// Listen for the removal of the full notebook cells\n",
       "var notebookContainer = gd.closest('#notebook-container');\n",
       "if (notebookContainer) {{\n",
       "    x.observe(notebookContainer, {childList: true});\n",
       "}}\n",
       "\n",
       "// Listen for the clearing of the current output cell\n",
       "var outputEl = gd.closest('.output');\n",
       "if (outputEl) {{\n",
       "    x.observe(outputEl, {childList: true});\n",
       "}}\n",
       "\n",
       "                        })\n",
       "                };\n",
       "                });\n",
       "            </script>\n",
       "        </div>"
      ]
     },
     "metadata": {},
     "output_type": "display_data"
    }
   ],
   "source": [
    "fig"
   ]
  },
  {
   "cell_type": "markdown",
   "metadata": {},
   "source": [
    "## Page Rank, In-Degree centrality, betweeness centrality, and indegree value"
   ]
  },
  {
   "cell_type": "code",
   "execution_count": 30,
   "metadata": {},
   "outputs": [],
   "source": [
    "page_rank_series = pd.Series(data = network_graphs.simple_page_rank(G), index = list(G.nodes().keys()))\n",
    "DF['page_rank'] = DF['id'].map(lambda x:page_rank_series[x])\n",
    "\n",
    "betweenness_dict = nx.betweenness_centrality(G)\n",
    "DF['betweenness_centrality'] = DF['id'].map(lambda x:betweenness_dict[x])\n",
    "\n",
    "in_degree_centrality_dict = nx.in_degree_centrality(G)\n",
    "DF['in_degree_centrality'] = DF['id'].map(lambda x:in_degree_centrality_dict[x])\n",
    "\n",
    "in_degree_dict = {node:G.in_degree()[node] for node in G.nodes()}\n",
    "DF['in_degree'] = DF['id'].map(lambda x:in_degree_dict[x])\n",
    "\n",
    "degree_dict = {node:G.degree()[node] for node in G.nodes()}\n",
    "DF['degree'] = DF['id'].map(lambda x:degree_dict[x])"
   ]
  },
  {
   "cell_type": "markdown",
   "metadata": {},
   "source": [
    "Sort channels by page rank"
   ]
  },
  {
   "cell_type": "code",
   "execution_count": null,
   "metadata": {},
   "outputs": [],
   "source": []
  },
  {
   "cell_type": "code",
   "execution_count": 145,
   "metadata": {},
   "outputs": [],
   "source": [
    "features = ['title','subscriberCount','viewCount','page_rank','featuredChannelsCount','degree','in_degree','betweenness_centrality','in_degree_centrality']"
   ]
  },
  {
   "cell_type": "code",
   "execution_count": 41,
   "metadata": {},
   "outputs": [
    {
     "data": {
      "text/html": [
       "<div>\n",
       "<style scoped>\n",
       "    .dataframe tbody tr th:only-of-type {\n",
       "        vertical-align: middle;\n",
       "    }\n",
       "\n",
       "    .dataframe tbody tr th {\n",
       "        vertical-align: top;\n",
       "    }\n",
       "\n",
       "    .dataframe thead th {\n",
       "        text-align: right;\n",
       "    }\n",
       "</style>\n",
       "<table border=\"1\" class=\"dataframe\">\n",
       "  <thead>\n",
       "    <tr style=\"text-align: right;\">\n",
       "      <th></th>\n",
       "      <th>title</th>\n",
       "      <th>subscriberCount</th>\n",
       "      <th>viewCount</th>\n",
       "      <th>page_rank</th>\n",
       "      <th>featuredChannelsCount</th>\n",
       "      <th>degree</th>\n",
       "      <th>in_degree</th>\n",
       "      <th>betweenness_centrality</th>\n",
       "      <th>in_degree_centrality</th>\n",
       "    </tr>\n",
       "  </thead>\n",
       "  <tbody>\n",
       "    <tr>\n",
       "      <th>32</th>\n",
       "      <td>Carpool Critics</td>\n",
       "      <td>41200</td>\n",
       "      <td>400367</td>\n",
       "      <td>0.091585</td>\n",
       "      <td>6</td>\n",
       "      <td>11</td>\n",
       "      <td>5</td>\n",
       "      <td>0.000000</td>\n",
       "      <td>0.045455</td>\n",
       "    </tr>\n",
       "    <tr>\n",
       "      <th>17</th>\n",
       "      <td>Linus Tech Tips</td>\n",
       "      <td>11500000</td>\n",
       "      <td>3899734482</td>\n",
       "      <td>0.091585</td>\n",
       "      <td>6</td>\n",
       "      <td>13</td>\n",
       "      <td>7</td>\n",
       "      <td>0.020559</td>\n",
       "      <td>0.063636</td>\n",
       "    </tr>\n",
       "    <tr>\n",
       "      <th>29</th>\n",
       "      <td>ShortCircuit</td>\n",
       "      <td>936000</td>\n",
       "      <td>54203278</td>\n",
       "      <td>0.091585</td>\n",
       "      <td>6</td>\n",
       "      <td>11</td>\n",
       "      <td>5</td>\n",
       "      <td>0.000000</td>\n",
       "      <td>0.045455</td>\n",
       "    </tr>\n",
       "    <tr>\n",
       "      <th>36</th>\n",
       "      <td>TechLinked</td>\n",
       "      <td>1250000</td>\n",
       "      <td>181059678</td>\n",
       "      <td>0.091585</td>\n",
       "      <td>6</td>\n",
       "      <td>12</td>\n",
       "      <td>6</td>\n",
       "      <td>0.000042</td>\n",
       "      <td>0.054545</td>\n",
       "    </tr>\n",
       "    <tr>\n",
       "      <th>43</th>\n",
       "      <td>Techquickie</td>\n",
       "      <td>3520000</td>\n",
       "      <td>524324015</td>\n",
       "      <td>0.091585</td>\n",
       "      <td>6</td>\n",
       "      <td>12</td>\n",
       "      <td>6</td>\n",
       "      <td>0.000042</td>\n",
       "      <td>0.054545</td>\n",
       "    </tr>\n",
       "    <tr>\n",
       "      <th>54</th>\n",
       "      <td>LMG Clips</td>\n",
       "      <td>176000</td>\n",
       "      <td>19612357</td>\n",
       "      <td>0.091585</td>\n",
       "      <td>6</td>\n",
       "      <td>12</td>\n",
       "      <td>6</td>\n",
       "      <td>0.000042</td>\n",
       "      <td>0.054545</td>\n",
       "    </tr>\n",
       "    <tr>\n",
       "      <th>71</th>\n",
       "      <td>Channel Super Fun</td>\n",
       "      <td>739000</td>\n",
       "      <td>97590782</td>\n",
       "      <td>0.064253</td>\n",
       "      <td>4</td>\n",
       "      <td>10</td>\n",
       "      <td>6</td>\n",
       "      <td>0.000000</td>\n",
       "      <td>0.054545</td>\n",
       "    </tr>\n",
       "    <tr>\n",
       "      <th>2</th>\n",
       "      <td>Corridor Crew</td>\n",
       "      <td>4090000</td>\n",
       "      <td>706493568</td>\n",
       "      <td>0.047295</td>\n",
       "      <td>12</td>\n",
       "      <td>20</td>\n",
       "      <td>8</td>\n",
       "      <td>0.146542</td>\n",
       "      <td>0.072727</td>\n",
       "    </tr>\n",
       "  </tbody>\n",
       "</table>\n",
       "</div>"
      ],
      "text/plain": [
       "                title  subscriberCount   viewCount  page_rank  \\\n",
       "32    Carpool Critics            41200      400367   0.091585   \n",
       "17    Linus Tech Tips         11500000  3899734482   0.091585   \n",
       "29       ShortCircuit           936000    54203278   0.091585   \n",
       "36         TechLinked          1250000   181059678   0.091585   \n",
       "43        Techquickie          3520000   524324015   0.091585   \n",
       "54          LMG Clips           176000    19612357   0.091585   \n",
       "71  Channel Super Fun           739000    97590782   0.064253   \n",
       "2       Corridor Crew          4090000   706493568   0.047295   \n",
       "\n",
       "    featuredChannelsCount  degree  in_degree  betweenness_centrality  \\\n",
       "32                      6      11          5                0.000000   \n",
       "17                      6      13          7                0.020559   \n",
       "29                      6      11          5                0.000000   \n",
       "36                      6      12          6                0.000042   \n",
       "43                      6      12          6                0.000042   \n",
       "54                      6      12          6                0.000042   \n",
       "71                      4      10          6                0.000000   \n",
       "2                      12      20          8                0.146542   \n",
       "\n",
       "    in_degree_centrality  \n",
       "32              0.045455  \n",
       "17              0.063636  \n",
       "29              0.045455  \n",
       "36              0.054545  \n",
       "43              0.054545  \n",
       "54              0.054545  \n",
       "71              0.054545  \n",
       "2               0.072727  "
      ]
     },
     "execution_count": 41,
     "metadata": {},
     "output_type": "execute_result"
    }
   ],
   "source": [
    "DF[['title','subscriberCount','viewCount','page_rank','featuredChannelsCount','degree','in_degree','betweenness_centrality','in_degree_centrality']].sort_values(\n",
    "    'page_rank', ascending=False).head(8)"
   ]
  },
  {
   "cell_type": "code",
   "execution_count": 32,
   "metadata": {},
   "outputs": [],
   "source": [
    "betweenness_dict = nx.betweenness_centrality(G)\n",
    "in_degree_dict = nx.in_degree_centrality(G)\n",
    "DF['betweenness_centrality'] = DF['id'].map(lambda x:betweenness_dict[x])\n",
    "DF['in_degree_centrality'] = DF['id'].map(lambda x:in_degree_dict[x])"
   ]
  },
  {
   "cell_type": "markdown",
   "metadata": {},
   "source": [
    "Sort channels by betweenness centrality."
   ]
  },
  {
   "cell_type": "code",
   "execution_count": 42,
   "metadata": {},
   "outputs": [
    {
     "data": {
      "text/html": [
       "<div>\n",
       "<style scoped>\n",
       "    .dataframe tbody tr th:only-of-type {\n",
       "        vertical-align: middle;\n",
       "    }\n",
       "\n",
       "    .dataframe tbody tr th {\n",
       "        vertical-align: top;\n",
       "    }\n",
       "\n",
       "    .dataframe thead th {\n",
       "        text-align: right;\n",
       "    }\n",
       "</style>\n",
       "<table border=\"1\" class=\"dataframe\">\n",
       "  <thead>\n",
       "    <tr style=\"text-align: right;\">\n",
       "      <th></th>\n",
       "      <th>title</th>\n",
       "      <th>subscriberCount</th>\n",
       "      <th>viewCount</th>\n",
       "      <th>page_rank</th>\n",
       "      <th>featuredChannelsCount</th>\n",
       "      <th>degree</th>\n",
       "      <th>in_degree</th>\n",
       "      <th>betweenness_centrality</th>\n",
       "      <th>in_degree_centrality</th>\n",
       "    </tr>\n",
       "  </thead>\n",
       "  <tbody>\n",
       "    <tr>\n",
       "      <th>1</th>\n",
       "      <td>Corridor</td>\n",
       "      <td>8060000</td>\n",
       "      <td>1463250152</td>\n",
       "      <td>0.033504</td>\n",
       "      <td>11</td>\n",
       "      <td>25</td>\n",
       "      <td>14</td>\n",
       "      <td>0.183506</td>\n",
       "      <td>0.127273</td>\n",
       "    </tr>\n",
       "    <tr>\n",
       "      <th>2</th>\n",
       "      <td>Corridor Crew</td>\n",
       "      <td>4090000</td>\n",
       "      <td>706493568</td>\n",
       "      <td>0.047295</td>\n",
       "      <td>12</td>\n",
       "      <td>20</td>\n",
       "      <td>8</td>\n",
       "      <td>0.146542</td>\n",
       "      <td>0.072727</td>\n",
       "    </tr>\n",
       "    <tr>\n",
       "      <th>0</th>\n",
       "      <td>Corridor Cast</td>\n",
       "      <td>110000</td>\n",
       "      <td>4990381</td>\n",
       "      <td>0.023768</td>\n",
       "      <td>10</td>\n",
       "      <td>14</td>\n",
       "      <td>4</td>\n",
       "      <td>0.100167</td>\n",
       "      <td>0.036364</td>\n",
       "    </tr>\n",
       "    <tr>\n",
       "      <th>10</th>\n",
       "      <td>Film Riot</td>\n",
       "      <td>1670000</td>\n",
       "      <td>191532908</td>\n",
       "      <td>0.016631</td>\n",
       "      <td>13</td>\n",
       "      <td>21</td>\n",
       "      <td>8</td>\n",
       "      <td>0.076642</td>\n",
       "      <td>0.072727</td>\n",
       "    </tr>\n",
       "    <tr>\n",
       "      <th>11</th>\n",
       "      <td>devinsupertramp</td>\n",
       "      <td>5920000</td>\n",
       "      <td>1436117980</td>\n",
       "      <td>0.010800</td>\n",
       "      <td>10</td>\n",
       "      <td>17</td>\n",
       "      <td>7</td>\n",
       "      <td>0.069323</td>\n",
       "      <td>0.063636</td>\n",
       "    </tr>\n",
       "    <tr>\n",
       "      <th>19</th>\n",
       "      <td>Shonduras</td>\n",
       "      <td>2440000</td>\n",
       "      <td>1628005096</td>\n",
       "      <td>0.011660</td>\n",
       "      <td>10</td>\n",
       "      <td>15</td>\n",
       "      <td>5</td>\n",
       "      <td>0.059808</td>\n",
       "      <td>0.045455</td>\n",
       "    </tr>\n",
       "    <tr>\n",
       "      <th>22</th>\n",
       "      <td>SoKrispyMedia</td>\n",
       "      <td>1130000</td>\n",
       "      <td>315561825</td>\n",
       "      <td>0.011749</td>\n",
       "      <td>10</td>\n",
       "      <td>17</td>\n",
       "      <td>7</td>\n",
       "      <td>0.055512</td>\n",
       "      <td>0.063636</td>\n",
       "    </tr>\n",
       "    <tr>\n",
       "      <th>23</th>\n",
       "      <td>Mike Diva</td>\n",
       "      <td>650000</td>\n",
       "      <td>142737115</td>\n",
       "      <td>0.009866</td>\n",
       "      <td>7</td>\n",
       "      <td>14</td>\n",
       "      <td>7</td>\n",
       "      <td>0.045655</td>\n",
       "      <td>0.063636</td>\n",
       "    </tr>\n",
       "  </tbody>\n",
       "</table>\n",
       "</div>"
      ],
      "text/plain": [
       "              title  subscriberCount   viewCount  page_rank  \\\n",
       "1          Corridor          8060000  1463250152   0.033504   \n",
       "2     Corridor Crew          4090000   706493568   0.047295   \n",
       "0     Corridor Cast           110000     4990381   0.023768   \n",
       "10        Film Riot          1670000   191532908   0.016631   \n",
       "11  devinsupertramp          5920000  1436117980   0.010800   \n",
       "19        Shonduras          2440000  1628005096   0.011660   \n",
       "22    SoKrispyMedia          1130000   315561825   0.011749   \n",
       "23        Mike Diva           650000   142737115   0.009866   \n",
       "\n",
       "    featuredChannelsCount  degree  in_degree  betweenness_centrality  \\\n",
       "1                      11      25         14                0.183506   \n",
       "2                      12      20          8                0.146542   \n",
       "0                      10      14          4                0.100167   \n",
       "10                     13      21          8                0.076642   \n",
       "11                     10      17          7                0.069323   \n",
       "19                     10      15          5                0.059808   \n",
       "22                     10      17          7                0.055512   \n",
       "23                      7      14          7                0.045655   \n",
       "\n",
       "    in_degree_centrality  \n",
       "1               0.127273  \n",
       "2               0.072727  \n",
       "0               0.036364  \n",
       "10              0.072727  \n",
       "11              0.063636  \n",
       "19              0.045455  \n",
       "22              0.063636  \n",
       "23              0.063636  "
      ]
     },
     "execution_count": 42,
     "metadata": {},
     "output_type": "execute_result"
    }
   ],
   "source": [
    "DF[['title','subscriberCount','viewCount','page_rank','featuredChannelsCount','degree','in_degree','betweenness_centrality','in_degree_centrality']].sort_values(\n",
    "    'betweenness_centrality', ascending=False).head(8)"
   ]
  },
  {
   "cell_type": "markdown",
   "metadata": {},
   "source": [
    "Sort channels by in_degree centrality."
   ]
  },
  {
   "cell_type": "code",
   "execution_count": 43,
   "metadata": {},
   "outputs": [
    {
     "data": {
      "text/html": [
       "<div>\n",
       "<style scoped>\n",
       "    .dataframe tbody tr th:only-of-type {\n",
       "        vertical-align: middle;\n",
       "    }\n",
       "\n",
       "    .dataframe tbody tr th {\n",
       "        vertical-align: top;\n",
       "    }\n",
       "\n",
       "    .dataframe thead th {\n",
       "        text-align: right;\n",
       "    }\n",
       "</style>\n",
       "<table border=\"1\" class=\"dataframe\">\n",
       "  <thead>\n",
       "    <tr style=\"text-align: right;\">\n",
       "      <th></th>\n",
       "      <th>title</th>\n",
       "      <th>subscriberCount</th>\n",
       "      <th>viewCount</th>\n",
       "      <th>page_rank</th>\n",
       "      <th>featuredChannelsCount</th>\n",
       "      <th>degree</th>\n",
       "      <th>in_degree</th>\n",
       "      <th>betweenness_centrality</th>\n",
       "      <th>in_degree_centrality</th>\n",
       "    </tr>\n",
       "  </thead>\n",
       "  <tbody>\n",
       "    <tr>\n",
       "      <th>1</th>\n",
       "      <td>Corridor</td>\n",
       "      <td>8060000</td>\n",
       "      <td>1463250152</td>\n",
       "      <td>3.350372e-02</td>\n",
       "      <td>11</td>\n",
       "      <td>25</td>\n",
       "      <td>14</td>\n",
       "      <td>0.183506</td>\n",
       "      <td>0.127273</td>\n",
       "    </tr>\n",
       "    <tr>\n",
       "      <th>90</th>\n",
       "      <td>LetsPlay</td>\n",
       "      <td>3850000</td>\n",
       "      <td>2431520849</td>\n",
       "      <td>6.639924e-17</td>\n",
       "      <td>1</td>\n",
       "      <td>10</td>\n",
       "      <td>9</td>\n",
       "      <td>0.000042</td>\n",
       "      <td>0.081818</td>\n",
       "    </tr>\n",
       "    <tr>\n",
       "      <th>2</th>\n",
       "      <td>Corridor Crew</td>\n",
       "      <td>4090000</td>\n",
       "      <td>706493568</td>\n",
       "      <td>4.729505e-02</td>\n",
       "      <td>12</td>\n",
       "      <td>20</td>\n",
       "      <td>8</td>\n",
       "      <td>0.146542</td>\n",
       "      <td>0.072727</td>\n",
       "    </tr>\n",
       "    <tr>\n",
       "      <th>16</th>\n",
       "      <td>Nukazooka</td>\n",
       "      <td>2250000</td>\n",
       "      <td>669129570</td>\n",
       "      <td>1.790866e-02</td>\n",
       "      <td>8</td>\n",
       "      <td>16</td>\n",
       "      <td>8</td>\n",
       "      <td>0.042045</td>\n",
       "      <td>0.072727</td>\n",
       "    </tr>\n",
       "    <tr>\n",
       "      <th>15</th>\n",
       "      <td>Rooster Teeth</td>\n",
       "      <td>9470000</td>\n",
       "      <td>6077158993</td>\n",
       "      <td>5.619542e-04</td>\n",
       "      <td>12</td>\n",
       "      <td>20</td>\n",
       "      <td>8</td>\n",
       "      <td>0.040979</td>\n",
       "      <td>0.072727</td>\n",
       "    </tr>\n",
       "    <tr>\n",
       "      <th>10</th>\n",
       "      <td>Film Riot</td>\n",
       "      <td>1670000</td>\n",
       "      <td>191532908</td>\n",
       "      <td>1.663137e-02</td>\n",
       "      <td>13</td>\n",
       "      <td>21</td>\n",
       "      <td>8</td>\n",
       "      <td>0.076642</td>\n",
       "      <td>0.072727</td>\n",
       "    </tr>\n",
       "    <tr>\n",
       "      <th>11</th>\n",
       "      <td>devinsupertramp</td>\n",
       "      <td>5920000</td>\n",
       "      <td>1436117980</td>\n",
       "      <td>1.079989e-02</td>\n",
       "      <td>10</td>\n",
       "      <td>17</td>\n",
       "      <td>7</td>\n",
       "      <td>0.069323</td>\n",
       "      <td>0.063636</td>\n",
       "    </tr>\n",
       "    <tr>\n",
       "      <th>28</th>\n",
       "      <td>Achievement Hunter</td>\n",
       "      <td>1640000</td>\n",
       "      <td>900009979</td>\n",
       "      <td>6.639924e-17</td>\n",
       "      <td>1</td>\n",
       "      <td>8</td>\n",
       "      <td>7</td>\n",
       "      <td>0.000000</td>\n",
       "      <td>0.063636</td>\n",
       "    </tr>\n",
       "  </tbody>\n",
       "</table>\n",
       "</div>"
      ],
      "text/plain": [
       "                 title  subscriberCount   viewCount     page_rank  \\\n",
       "1             Corridor          8060000  1463250152  3.350372e-02   \n",
       "90            LetsPlay          3850000  2431520849  6.639924e-17   \n",
       "2        Corridor Crew          4090000   706493568  4.729505e-02   \n",
       "16           Nukazooka          2250000   669129570  1.790866e-02   \n",
       "15       Rooster Teeth          9470000  6077158993  5.619542e-04   \n",
       "10           Film Riot          1670000   191532908  1.663137e-02   \n",
       "11     devinsupertramp          5920000  1436117980  1.079989e-02   \n",
       "28  Achievement Hunter          1640000   900009979  6.639924e-17   \n",
       "\n",
       "    featuredChannelsCount  degree  in_degree  betweenness_centrality  \\\n",
       "1                      11      25         14                0.183506   \n",
       "90                      1      10          9                0.000042   \n",
       "2                      12      20          8                0.146542   \n",
       "16                      8      16          8                0.042045   \n",
       "15                     12      20          8                0.040979   \n",
       "10                     13      21          8                0.076642   \n",
       "11                     10      17          7                0.069323   \n",
       "28                      1       8          7                0.000000   \n",
       "\n",
       "    in_degree_centrality  \n",
       "1               0.127273  \n",
       "90              0.081818  \n",
       "2               0.072727  \n",
       "16              0.072727  \n",
       "15              0.072727  \n",
       "10              0.072727  \n",
       "11              0.063636  \n",
       "28              0.063636  "
      ]
     },
     "execution_count": 43,
     "metadata": {},
     "output_type": "execute_result"
    }
   ],
   "source": [
    "DF[['title','subscriberCount','viewCount','page_rank','featuredChannelsCount','degree','in_degree','betweenness_centrality','in_degree_centrality']].sort_values(\n",
    "    'in_degree_centrality', ascending=False).head(8)"
   ]
  },
  {
   "cell_type": "markdown",
   "metadata": {},
   "source": [
    "## Strongly Connected Components"
   ]
  },
  {
   "cell_type": "code",
   "execution_count": 35,
   "metadata": {},
   "outputs": [],
   "source": [
    "scc_list = [scc for scc in nx.strongly_connected_components(G)]"
   ]
  },
  {
   "cell_type": "code",
   "execution_count": null,
   "metadata": {},
   "outputs": [],
   "source": [
    "scc_list[42]"
   ]
  },
  {
   "cell_type": "code",
   "execution_count": 37,
   "metadata": {},
   "outputs": [],
   "source": [
    "H = G.subgraph(list(scc_list[42]))"
   ]
  },
  {
   "cell_type": "markdown",
   "metadata": {},
   "source": [
    "Plot of our subgraph of strongly connected components"
   ]
  },
  {
   "cell_type": "code",
   "execution_count": 45,
   "metadata": {},
   "outputs": [
    {
     "data": {
      "application/vnd.plotly.v1+json": {
       "config": {
        "plotlyServerURL": "https://plot.ly"
       },
       "data": [
        {
         "hoverinfo": "none",
         "line": {
          "color": "#888",
          "width": 0.5
         },
         "mode": "lines",
         "type": "scatter",
         "x": [
          -0.34808195302937794,
          -0.11637351141844113,
          null,
          -0.34808195302937794,
          -0.25560733848134604,
          null,
          -0.34808195302937794,
          -0.41464511822832284,
          null,
          -1,
          -0.8332174598104676,
          null,
          -0.41464511822832284,
          -0.2168794502591689,
          null,
          -0.41464511822832284,
          -0.11637351141844113,
          null,
          -0.41464511822832284,
          -0.70778618919324,
          null,
          -0.41464511822832284,
          -0.5887682383108283,
          null,
          -0.41464511822832284,
          -0.34808195302937794,
          null,
          -0.41464511822832284,
          -0.46152854922700043,
          null,
          -0.41464511822832284,
          -0.4293955235532882,
          null,
          -0.12346784348291978,
          -0.11637351141844113,
          null,
          -0.12346784348291978,
          -0.06744204758975231,
          null,
          -0.12346784348291978,
          -0.2492289571881962,
          null,
          -0.12346784348291978,
          -0.01582227743198666,
          null,
          -0.5299403034512099,
          -0.2492289571881962,
          null,
          0.7622695707667537,
          0.47999891009270357,
          null,
          0.7622695707667537,
          0.7506538958115757,
          null,
          0.7622695707667537,
          0.7552644210597663,
          null,
          0.3485491267073522,
          0.3328022781580242,
          null,
          0.3485491267073522,
          0.43977583803037523,
          null,
          0.3068058991066413,
          0.5727666122951255,
          null,
          0.3068058991066413,
          0.47999891009270357,
          null,
          0.3068058991066413,
          -0.06744204758975231,
          null,
          -0.20910544554960359,
          -0.25560733848134604,
          null,
          -0.11637351141844113,
          -0.06744204758975231,
          null,
          -0.11637351141844113,
          -0.12346784348291978,
          null,
          -0.11637351141844113,
          -0.2492289571881962,
          null,
          -0.11637351141844113,
          -0.01582227743198666,
          null,
          -0.11637351141844113,
          0.3780430130725315,
          null,
          -0.11637351141844113,
          -0.41464511822832284,
          null,
          -0.11637351141844113,
          -0.25560733848134604,
          null,
          -0.11637351141844113,
          0.3328022781580242,
          null,
          -0.11637351141844113,
          -0.5887682383108283,
          null,
          -0.46152854922700043,
          -0.11637351141844113,
          null,
          -0.46152854922700043,
          -0.70778618919324,
          null,
          -0.46152854922700043,
          -0.41464511822832284,
          null,
          -0.46152854922700043,
          -0.5887682383108283,
          null,
          -0.8332174598104676,
          -1,
          null,
          -0.8332174598104676,
          -0.5887682383108283,
          null,
          0.7552644210597663,
          0.47999891009270357,
          null,
          0.3328022781580242,
          0.43977583803037523,
          null,
          0.3328022781580242,
          0.3485491267073522,
          null,
          0.3328022781580242,
          -0.11637351141844113,
          null,
          0.3328022781580242,
          0.5794342877980675,
          null,
          0.3328022781580242,
          0.2526996756932124,
          null,
          0.3328022781580242,
          0.5477977212116386,
          null,
          0.3328022781580242,
          0.3780430130725315,
          null,
          -0.6273206491993776,
          -0.41464511822832284,
          null,
          -0.6273206491993776,
          -0.5887682383108283,
          null,
          -0.70778618919324,
          -0.41464511822832284,
          null,
          -0.6668667759628782,
          -0.5887682383108283,
          null,
          -0.2492289571881962,
          -0.34020171438462926,
          null,
          -0.2492289571881962,
          -0.11637351141844113,
          null,
          -0.2492289571881962,
          -0.06744204758975231,
          null,
          -0.2492289571881962,
          -0.5299403034512099,
          null,
          -0.2492289571881962,
          -0.12346784348291978,
          null,
          -0.2492289571881962,
          -0.01582227743198666,
          null,
          0.2526996756932124,
          0.3328022781580242,
          null,
          -0.2168794502591689,
          -0.41464511822832284,
          null,
          -0.2168794502591689,
          -0.11637351141844113,
          null,
          -0.2168794502591689,
          -0.06744204758975231,
          null,
          0.5794342877980675,
          0.3328022781580242,
          null,
          0.5794342877980675,
          0.5477977212116386,
          null,
          -0.06744204758975231,
          -0.11637351141844113,
          null,
          -0.06744204758975231,
          -0.12346784348291978,
          null,
          -0.06744204758975231,
          -0.2492289571881962,
          null,
          -0.06744204758975231,
          -0.01582227743198666,
          null,
          -0.06744204758975231,
          0.3780430130725315,
          null,
          -0.06744204758975231,
          -0.22825024346395983,
          null,
          -0.06744204758975231,
          -0.25560733848134604,
          null,
          -0.06744204758975231,
          0.47999891009270357,
          null,
          -0.06744204758975231,
          -0.5887682383108283,
          null,
          0.3780430130725315,
          0.4732972995747886,
          null,
          0.3780430130725315,
          0.6273287027487139,
          null,
          0.3780430130725315,
          0.6005746451641458,
          null,
          0.3780430130725315,
          -0.06744204758975231,
          null,
          0.3780430130725315,
          0.3328022781580242,
          null,
          -0.25560733848134604,
          -0.11637351141844113,
          null,
          -0.25560733848134604,
          -0.22825024346395983,
          null,
          -0.25560733848134604,
          -0.4527874375925464,
          null,
          -0.25560733848134604,
          -0.33913819618121055,
          null,
          -0.25560733848134604,
          -0.20910544554960359,
          null,
          0.6273287027487139,
          0.4732972995747886,
          null,
          -0.22825024346395983,
          -0.11637351141844113,
          null,
          -0.22825024346395983,
          -0.25560733848134604,
          null,
          -0.22825024346395983,
          -0.2492289571881962,
          null,
          -0.33913819618121055,
          -0.25560733848134604,
          null,
          0.4732972995747886,
          0.3780430130725315,
          null,
          0.19244585063554626,
          -0.11637351141844113,
          null,
          0.19244585063554626,
          0.47999891009270357,
          null,
          -0.01582227743198666,
          -0.11637351141844113,
          null,
          -0.01582227743198666,
          -0.06744204758975231,
          null,
          -0.01582227743198666,
          -0.12346784348291978,
          null,
          0.6005746451641458,
          0.3780430130725315,
          null,
          0.5727666122951255,
          0.47999891009270357,
          null,
          0.5727666122951255,
          0.3068058991066413,
          null,
          0.7506538958115757,
          0.47999891009270357,
          null,
          -0.4527874375925464,
          -0.25560733848134604,
          null,
          -0.4293955235532882,
          -0.41464511822832284,
          null,
          0.5477977212116386,
          0.5794342877980675,
          null,
          0.5477977212116386,
          0.3328022781580242,
          null,
          -0.5887682383108283,
          -0.6668667759628782,
          null,
          -0.5887682383108283,
          -1,
          null,
          -0.5887682383108283,
          -0.41464511822832284,
          null,
          -0.5887682383108283,
          -0.8332174598104676,
          null,
          -0.5887682383108283,
          -0.11637351141844113,
          null,
          -0.5887682383108283,
          -0.6273206491993776,
          null,
          0.43977583803037523,
          0.3328022781580242,
          null,
          0.43977583803037523,
          0.3485491267073522,
          null,
          -0.34020171438462926,
          -0.2492289571881962,
          null,
          -0.34020171438462926,
          -0.11637351141844113,
          null,
          0.47999891009270357,
          0.7622695707667537,
          null,
          0.47999891009270357,
          0.7506538958115757,
          null,
          0.47999891009270357,
          0.8213474750627866,
          null,
          0.47999891009270357,
          0.5727666122951255,
          null,
          0.47999891009270357,
          0.3068058991066413,
          null,
          0.47999891009270357,
          -0.06744204758975231,
          null,
          0.47999891009270357,
          0.7552644210597663,
          null,
          0.47999891009270357,
          0.19244585063554626,
          null,
          0.8213474750627866,
          0.47999891009270357,
          null,
          0.8213474750627866,
          0.7622695707667537,
          null
         ],
         "y": [
          -0.14917724758748355,
          -0.005327965557857061,
          null,
          -0.14917724758748355,
          -0.49698999024689683,
          null,
          -0.14917724758748355,
          0.19506603023712552,
          null,
          0.998083341386229,
          0.7998666755684801,
          null,
          0.19506603023712552,
          0.12551808492258565,
          null,
          0.19506603023712552,
          -0.005327965557857061,
          null,
          0.19506603023712552,
          0.20049320585024777,
          null,
          0.19506603023712552,
          0.5267146830275617,
          null,
          0.19506603023712552,
          -0.14917724758748355,
          null,
          0.19506603023712552,
          0.25120733666815703,
          null,
          0.19506603023712552,
          0.4523224502802303,
          null,
          -0.1777554131751803,
          -0.005327965557857061,
          null,
          -0.1777554131751803,
          -0.06320478424836255,
          null,
          -0.1777554131751803,
          -0.15464338719440648,
          null,
          -0.1777554131751803,
          -0.18428376794462697,
          null,
          -0.271186188250785,
          -0.15464338719440648,
          null,
          -0.055475656881272525,
          -0.041957330372876016,
          null,
          -0.055475656881272525,
          -0.19186416806754147,
          null,
          -0.055475656881272525,
          0.11878203810346274,
          null,
          0.45015163638500333,
          0.1556707822537807,
          null,
          0.45015163638500333,
          0.44046861741497173,
          null,
          -0.07093490043221053,
          -0.027928648773271714,
          null,
          -0.07093490043221053,
          -0.041957330372876016,
          null,
          -0.07093490043221053,
          -0.06320478424836255,
          null,
          -0.7775948957509574,
          -0.49698999024689683,
          null,
          -0.005327965557857061,
          -0.06320478424836255,
          null,
          -0.005327965557857061,
          -0.1777554131751803,
          null,
          -0.005327965557857061,
          -0.15464338719440648,
          null,
          -0.005327965557857061,
          -0.18428376794462697,
          null,
          -0.005327965557857061,
          -0.3656564065866343,
          null,
          -0.005327965557857061,
          0.19506603023712552,
          null,
          -0.005327965557857061,
          -0.49698999024689683,
          null,
          -0.005327965557857061,
          0.1556707822537807,
          null,
          -0.005327965557857061,
          0.5267146830275617,
          null,
          0.25120733666815703,
          -0.005327965557857061,
          null,
          0.25120733666815703,
          0.20049320585024777,
          null,
          0.25120733666815703,
          0.19506603023712552,
          null,
          0.25120733666815703,
          0.5267146830275617,
          null,
          0.7998666755684801,
          0.998083341386229,
          null,
          0.7998666755684801,
          0.5267146830275617,
          null,
          0.11878203810346274,
          -0.041957330372876016,
          null,
          0.1556707822537807,
          0.44046861741497173,
          null,
          0.1556707822537807,
          0.45015163638500333,
          null,
          0.1556707822537807,
          -0.005327965557857061,
          null,
          0.1556707822537807,
          0.29938000520437846,
          null,
          0.1556707822537807,
          0.31551424836975683,
          null,
          0.1556707822537807,
          0.3847788262939248,
          null,
          0.1556707822537807,
          -0.3656564065866343,
          null,
          0.38456133620303695,
          0.19506603023712552,
          null,
          0.38456133620303695,
          0.5267146830275617,
          null,
          0.20049320585024777,
          0.19506603023712552,
          null,
          0.7713188539705517,
          0.5267146830275617,
          null,
          -0.15464338719440648,
          -0.024226811758129893,
          null,
          -0.15464338719440648,
          -0.005327965557857061,
          null,
          -0.15464338719440648,
          -0.06320478424836255,
          null,
          -0.15464338719440648,
          -0.271186188250785,
          null,
          -0.15464338719440648,
          -0.1777554131751803,
          null,
          -0.15464338719440648,
          -0.18428376794462697,
          null,
          0.31551424836975683,
          0.1556707822537807,
          null,
          0.12551808492258565,
          0.19506603023712552,
          null,
          0.12551808492258565,
          -0.005327965557857061,
          null,
          0.12551808492258565,
          -0.06320478424836255,
          null,
          0.29938000520437846,
          0.1556707822537807,
          null,
          0.29938000520437846,
          0.3847788262939248,
          null,
          -0.06320478424836255,
          -0.005327965557857061,
          null,
          -0.06320478424836255,
          -0.1777554131751803,
          null,
          -0.06320478424836255,
          -0.15464338719440648,
          null,
          -0.06320478424836255,
          -0.18428376794462697,
          null,
          -0.06320478424836255,
          -0.3656564065866343,
          null,
          -0.06320478424836255,
          -0.2995731885425781,
          null,
          -0.06320478424836255,
          -0.49698999024689683,
          null,
          -0.06320478424836255,
          -0.041957330372876016,
          null,
          -0.06320478424836255,
          0.5267146830275617,
          null,
          -0.3656564065866343,
          -0.6206474225109329,
          null,
          -0.3656564065866343,
          -0.8571708328381921,
          null,
          -0.3656564065866343,
          -0.5417918054019994,
          null,
          -0.3656564065866343,
          -0.06320478424836255,
          null,
          -0.3656564065866343,
          0.1556707822537807,
          null,
          -0.49698999024689683,
          -0.005327965557857061,
          null,
          -0.49698999024689683,
          -0.2995731885425781,
          null,
          -0.49698999024689683,
          -0.7058567563394789,
          null,
          -0.49698999024689683,
          -0.7781065215375439,
          null,
          -0.49698999024689683,
          -0.7775948957509574,
          null,
          -0.8571708328381921,
          -0.6206474225109329,
          null,
          -0.2995731885425781,
          -0.005327965557857061,
          null,
          -0.2995731885425781,
          -0.49698999024689683,
          null,
          -0.2995731885425781,
          -0.15464338719440648,
          null,
          -0.7781065215375439,
          -0.49698999024689683,
          null,
          -0.6206474225109329,
          -0.3656564065866343,
          null,
          -0.016140979084435562,
          -0.005327965557857061,
          null,
          -0.016140979084435562,
          -0.041957330372876016,
          null,
          -0.18428376794462697,
          -0.005327965557857061,
          null,
          -0.18428376794462697,
          -0.06320478424836255,
          null,
          -0.18428376794462697,
          -0.1777554131751803,
          null,
          -0.5417918054019994,
          -0.3656564065866343,
          null,
          -0.027928648773271714,
          -0.041957330372876016,
          null,
          -0.027928648773271714,
          -0.07093490043221053,
          null,
          -0.19186416806754147,
          -0.041957330372876016,
          null,
          -0.7058567563394789,
          -0.49698999024689683,
          null,
          0.4523224502802303,
          0.19506603023712552,
          null,
          0.3847788262939248,
          0.29938000520437846,
          null,
          0.3847788262939248,
          0.1556707822537807,
          null,
          0.5267146830275617,
          0.7713188539705517,
          null,
          0.5267146830275617,
          0.998083341386229,
          null,
          0.5267146830275617,
          0.19506603023712552,
          null,
          0.5267146830275617,
          0.7998666755684801,
          null,
          0.5267146830275617,
          -0.005327965557857061,
          null,
          0.5267146830275617,
          0.38456133620303695,
          null,
          0.44046861741497173,
          0.1556707822537807,
          null,
          0.44046861741497173,
          0.45015163638500333,
          null,
          -0.024226811758129893,
          -0.15464338719440648,
          null,
          -0.024226811758129893,
          -0.005327965557857061,
          null,
          -0.041957330372876016,
          -0.055475656881272525,
          null,
          -0.041957330372876016,
          -0.19186416806754147,
          null,
          -0.041957330372876016,
          0.007596916944169248,
          null,
          -0.041957330372876016,
          -0.027928648773271714,
          null,
          -0.041957330372876016,
          -0.07093490043221053,
          null,
          -0.041957330372876016,
          -0.06320478424836255,
          null,
          -0.041957330372876016,
          0.11878203810346274,
          null,
          -0.041957330372876016,
          -0.016140979084435562,
          null,
          0.007596916944169248,
          -0.041957330372876016,
          null,
          0.007596916944169248,
          -0.055475656881272525,
          null
         ]
        },
        {
         "hoverinfo": "text",
         "marker": {
          "color": [
           3,
           1,
           7,
           4,
           1,
           3,
           2,
           3,
           1,
           9,
           4,
           2,
           1,
           7,
           2,
           1,
           1,
           6,
           1,
           3,
           2,
           9,
           5,
           5,
           1,
           3,
           1,
           1,
           2,
           3,
           1,
           2,
           1,
           1,
           1,
           2,
           6,
           2,
           2,
           8,
           2
          ],
          "colorbar": {
           "thickness": 15,
           "title": {
            "side": "right",
            "text": "Node Connections"
           },
           "xanchor": "left"
          },
          "colorscale": [
           [
            0,
            "rgb(255,255,217)"
           ],
           [
            0.125,
            "rgb(237,248,177)"
           ],
           [
            0.25,
            "rgb(199,233,180)"
           ],
           [
            0.375,
            "rgb(127,205,187)"
           ],
           [
            0.5,
            "rgb(65,182,196)"
           ],
           [
            0.625,
            "rgb(29,145,192)"
           ],
           [
            0.75,
            "rgb(34,94,168)"
           ],
           [
            0.875,
            "rgb(37,52,148)"
           ],
           [
            1,
            "rgb(8,29,88)"
           ]
          ],
          "line": {
           "width": 2
          },
          "reversescale": true,
          "showscale": true,
          "size": [
           13.666334975076676,
           14.638266201800386,
           21.10149421196414,
           16.747157113536595,
           20.133203685010706,
           15.666251746671813,
           19.871172794053823,
           17.609647687893982,
           24.274976462690706,
           22.942348587071827,
           20.582334047354824,
           20.321136482380403,
           17.52803434217006,
           22.497165988876866,
           15.55377926689288,
           22.61414209139059,
           14.54478336030191,
           21.636440976324952,
           18.988154872101415,
           11.56081046872794,
           23.575424874514496,
           21.963669765228328,
           21.218450308380675,
           19.31008241210703,
           15.402112722708882,
           21.364528510931677,
           17.42522410040701,
           21.062500097915333,
           17.848433447125558,
           17.773145647308176,
           16.70726475413145,
           20.2065768091335,
           20.981200034002732,
           15.910666150653569,
           9.411510988012072,
           21.276397634311678,
           20.107892618685348,
           13.154976290625738,
           17.931574340092798,
           20.67141753591249,
           13.598168841844732
          ]
         },
         "mode": "markers",
         "text": [
          "Atomic Punch has 3 connections and 13000 subscribers",
          "Andrew Gerlicher Music has 1 connections and 25500 subscribers",
          "Nukazooka has 7 connections and 2250000 subscribers",
          "Corridor Cast has 4 connections and 110000 subscribers",
          "BrandonJLa has 1 connections and 1150000 subscribers",
          "Film Riot Extras has 3 connections and 52000 subscribers",
          "TEAMSUPERTRAMP has 2 connections and 959000 subscribers",
          "Aputure has 3 connections and 200000 subscribers",
          "JennaMarbles has 1 connections and 20300000 subscribers",
          "Corridor has 9 connections and 8060000 subscribers",
          "Mr.TVCow has 4 connections and 1570000 subscribers",
          "FinalCutKing has 2 connections and 1310000 subscribers",
          "Red Giant has 1 connections and 189000 subscribers",
          "devinsupertramp has 7 connections and 5920000 subscribers",
          "Fury Fingers - GOONS INC - Out Now! has 2 connections and 48100 subscribers",
          "TomSka has 1 connections and 6420000 subscribers",
          "SamWickert has 1 connections and 23900 subscribers",
          "Node has 6 connections and 3260000 subscribers",
          "Jacob + Katie Schwarz has 1 connections and 520000 subscribers",
          "johnyboz has 3 connections and 3020 subscribers",
          "Lindsey Stirling has 2 connections and 12500000 subscribers",
          "Corridor Crew has 9 connections and 4090000 subscribers",
          "Shonduras has 5 connections and 2440000 subscribers",
          "Mike Diva has 5 connections and 650000 subscribers",
          "Dorothy Gee has 1 connections and 43300 subscribers",
          "Anna Akana has 3 connections and 2700000 subscribers",
          "Adi Shankar's BOOTLEG UNIVERSE has 1 connections and 176000 subscribers",
          "A for Adley - Learning & Fun has 1 connections and 2190000 subscribers",
          "FXhome has 2 connections and 236000 subscribers",
          "Guillotine Channel has 3 connections and 224000 subscribers",
          "Spacestation Stuff has 1 connections and 107000 subscribers",
          "Indy Mogul has 2 connections and 1210000 subscribers",
          "Variant Comics has 1 connections and 2070000 subscribers",
          "Megasteakman has 1 connections and 61600 subscribers",
          "Lane Carter has 1 connections and 680 subscribers",
          "Peter Hollens has 2 connections and 2540000 subscribers",
          "SoKrispyMedia has 6 connections and 1130000 subscribers",
          "Visual Escape has 2 connections and 9120 subscribers",
          "Cerberusarms has 2 connections and 250000 subscribers",
          "Film Riot has 8 connections and 1670000 subscribers",
          "VFX Productions has 2 connections and 12400 subscribers"
         ],
         "type": "scatter",
         "x": [
          -0.34808195302937794,
          -1,
          -0.41464511822832284,
          -0.12346784348291978,
          -0.5299403034512099,
          0.7622695707667537,
          0.3485491267073522,
          0.3068058991066413,
          -0.20910544554960359,
          -0.11637351141844113,
          -0.46152854922700043,
          -0.8332174598104676,
          0.7552644210597663,
          0.3328022781580242,
          -0.6273206491993776,
          -0.70778618919324,
          -0.6668667759628782,
          -0.2492289571881962,
          0.2526996756932124,
          -0.2168794502591689,
          0.5794342877980675,
          -0.06744204758975231,
          0.3780430130725315,
          -0.25560733848134604,
          0.6273287027487139,
          -0.22825024346395983,
          -0.33913819618121055,
          0.4732972995747886,
          0.19244585063554626,
          -0.01582227743198666,
          0.6005746451641458,
          0.5727666122951255,
          0.7506538958115757,
          -0.4527874375925464,
          -0.4293955235532882,
          0.5477977212116386,
          -0.5887682383108283,
          0.43977583803037523,
          -0.34020171438462926,
          0.47999891009270357,
          0.8213474750627866
         ],
         "y": [
          -0.14917724758748355,
          0.998083341386229,
          0.19506603023712552,
          -0.1777554131751803,
          -0.271186188250785,
          -0.055475656881272525,
          0.45015163638500333,
          -0.07093490043221053,
          -0.7775948957509574,
          -0.005327965557857061,
          0.25120733666815703,
          0.7998666755684801,
          0.11878203810346274,
          0.1556707822537807,
          0.38456133620303695,
          0.20049320585024777,
          0.7713188539705517,
          -0.15464338719440648,
          0.31551424836975683,
          0.12551808492258565,
          0.29938000520437846,
          -0.06320478424836255,
          -0.3656564065866343,
          -0.49698999024689683,
          -0.8571708328381921,
          -0.2995731885425781,
          -0.7781065215375439,
          -0.6206474225109329,
          -0.016140979084435562,
          -0.18428376794462697,
          -0.5417918054019994,
          -0.027928648773271714,
          -0.19186416806754147,
          -0.7058567563394789,
          0.4523224502802303,
          0.3847788262939248,
          0.5267146830275617,
          0.44046861741497173,
          -0.024226811758129893,
          -0.041957330372876016,
          0.007596916944169248
         ]
        }
       ],
       "layout": {
        "annotations": [
         {
          "showarrow": false,
          "text": "Graph of connected channels",
          "x": 0.005,
          "xref": "paper",
          "y": -0.002,
          "yref": "paper"
         }
        ],
        "autosize": true,
        "hovermode": "closest",
        "margin": {
         "b": 20,
         "l": 5,
         "r": 5,
         "t": 40
        },
        "showlegend": false,
        "template": {
         "data": {
          "bar": [
           {
            "error_x": {
             "color": "#2a3f5f"
            },
            "error_y": {
             "color": "#2a3f5f"
            },
            "marker": {
             "line": {
              "color": "#E5ECF6",
              "width": 0.5
             }
            },
            "type": "bar"
           }
          ],
          "barpolar": [
           {
            "marker": {
             "line": {
              "color": "#E5ECF6",
              "width": 0.5
             }
            },
            "type": "barpolar"
           }
          ],
          "carpet": [
           {
            "aaxis": {
             "endlinecolor": "#2a3f5f",
             "gridcolor": "white",
             "linecolor": "white",
             "minorgridcolor": "white",
             "startlinecolor": "#2a3f5f"
            },
            "baxis": {
             "endlinecolor": "#2a3f5f",
             "gridcolor": "white",
             "linecolor": "white",
             "minorgridcolor": "white",
             "startlinecolor": "#2a3f5f"
            },
            "type": "carpet"
           }
          ],
          "choropleth": [
           {
            "colorbar": {
             "outlinewidth": 0,
             "ticks": ""
            },
            "type": "choropleth"
           }
          ],
          "contour": [
           {
            "colorbar": {
             "outlinewidth": 0,
             "ticks": ""
            },
            "colorscale": [
             [
              0,
              "#0d0887"
             ],
             [
              0.1111111111111111,
              "#46039f"
             ],
             [
              0.2222222222222222,
              "#7201a8"
             ],
             [
              0.3333333333333333,
              "#9c179e"
             ],
             [
              0.4444444444444444,
              "#bd3786"
             ],
             [
              0.5555555555555556,
              "#d8576b"
             ],
             [
              0.6666666666666666,
              "#ed7953"
             ],
             [
              0.7777777777777778,
              "#fb9f3a"
             ],
             [
              0.8888888888888888,
              "#fdca26"
             ],
             [
              1,
              "#f0f921"
             ]
            ],
            "type": "contour"
           }
          ],
          "contourcarpet": [
           {
            "colorbar": {
             "outlinewidth": 0,
             "ticks": ""
            },
            "type": "contourcarpet"
           }
          ],
          "heatmap": [
           {
            "colorbar": {
             "outlinewidth": 0,
             "ticks": ""
            },
            "colorscale": [
             [
              0,
              "#0d0887"
             ],
             [
              0.1111111111111111,
              "#46039f"
             ],
             [
              0.2222222222222222,
              "#7201a8"
             ],
             [
              0.3333333333333333,
              "#9c179e"
             ],
             [
              0.4444444444444444,
              "#bd3786"
             ],
             [
              0.5555555555555556,
              "#d8576b"
             ],
             [
              0.6666666666666666,
              "#ed7953"
             ],
             [
              0.7777777777777778,
              "#fb9f3a"
             ],
             [
              0.8888888888888888,
              "#fdca26"
             ],
             [
              1,
              "#f0f921"
             ]
            ],
            "type": "heatmap"
           }
          ],
          "heatmapgl": [
           {
            "colorbar": {
             "outlinewidth": 0,
             "ticks": ""
            },
            "colorscale": [
             [
              0,
              "#0d0887"
             ],
             [
              0.1111111111111111,
              "#46039f"
             ],
             [
              0.2222222222222222,
              "#7201a8"
             ],
             [
              0.3333333333333333,
              "#9c179e"
             ],
             [
              0.4444444444444444,
              "#bd3786"
             ],
             [
              0.5555555555555556,
              "#d8576b"
             ],
             [
              0.6666666666666666,
              "#ed7953"
             ],
             [
              0.7777777777777778,
              "#fb9f3a"
             ],
             [
              0.8888888888888888,
              "#fdca26"
             ],
             [
              1,
              "#f0f921"
             ]
            ],
            "type": "heatmapgl"
           }
          ],
          "histogram": [
           {
            "marker": {
             "colorbar": {
              "outlinewidth": 0,
              "ticks": ""
             }
            },
            "type": "histogram"
           }
          ],
          "histogram2d": [
           {
            "colorbar": {
             "outlinewidth": 0,
             "ticks": ""
            },
            "colorscale": [
             [
              0,
              "#0d0887"
             ],
             [
              0.1111111111111111,
              "#46039f"
             ],
             [
              0.2222222222222222,
              "#7201a8"
             ],
             [
              0.3333333333333333,
              "#9c179e"
             ],
             [
              0.4444444444444444,
              "#bd3786"
             ],
             [
              0.5555555555555556,
              "#d8576b"
             ],
             [
              0.6666666666666666,
              "#ed7953"
             ],
             [
              0.7777777777777778,
              "#fb9f3a"
             ],
             [
              0.8888888888888888,
              "#fdca26"
             ],
             [
              1,
              "#f0f921"
             ]
            ],
            "type": "histogram2d"
           }
          ],
          "histogram2dcontour": [
           {
            "colorbar": {
             "outlinewidth": 0,
             "ticks": ""
            },
            "colorscale": [
             [
              0,
              "#0d0887"
             ],
             [
              0.1111111111111111,
              "#46039f"
             ],
             [
              0.2222222222222222,
              "#7201a8"
             ],
             [
              0.3333333333333333,
              "#9c179e"
             ],
             [
              0.4444444444444444,
              "#bd3786"
             ],
             [
              0.5555555555555556,
              "#d8576b"
             ],
             [
              0.6666666666666666,
              "#ed7953"
             ],
             [
              0.7777777777777778,
              "#fb9f3a"
             ],
             [
              0.8888888888888888,
              "#fdca26"
             ],
             [
              1,
              "#f0f921"
             ]
            ],
            "type": "histogram2dcontour"
           }
          ],
          "mesh3d": [
           {
            "colorbar": {
             "outlinewidth": 0,
             "ticks": ""
            },
            "type": "mesh3d"
           }
          ],
          "parcoords": [
           {
            "line": {
             "colorbar": {
              "outlinewidth": 0,
              "ticks": ""
             }
            },
            "type": "parcoords"
           }
          ],
          "pie": [
           {
            "automargin": true,
            "type": "pie"
           }
          ],
          "scatter": [
           {
            "marker": {
             "colorbar": {
              "outlinewidth": 0,
              "ticks": ""
             }
            },
            "type": "scatter"
           }
          ],
          "scatter3d": [
           {
            "line": {
             "colorbar": {
              "outlinewidth": 0,
              "ticks": ""
             }
            },
            "marker": {
             "colorbar": {
              "outlinewidth": 0,
              "ticks": ""
             }
            },
            "type": "scatter3d"
           }
          ],
          "scattercarpet": [
           {
            "marker": {
             "colorbar": {
              "outlinewidth": 0,
              "ticks": ""
             }
            },
            "type": "scattercarpet"
           }
          ],
          "scattergeo": [
           {
            "marker": {
             "colorbar": {
              "outlinewidth": 0,
              "ticks": ""
             }
            },
            "type": "scattergeo"
           }
          ],
          "scattergl": [
           {
            "marker": {
             "colorbar": {
              "outlinewidth": 0,
              "ticks": ""
             }
            },
            "type": "scattergl"
           }
          ],
          "scattermapbox": [
           {
            "marker": {
             "colorbar": {
              "outlinewidth": 0,
              "ticks": ""
             }
            },
            "type": "scattermapbox"
           }
          ],
          "scatterpolar": [
           {
            "marker": {
             "colorbar": {
              "outlinewidth": 0,
              "ticks": ""
             }
            },
            "type": "scatterpolar"
           }
          ],
          "scatterpolargl": [
           {
            "marker": {
             "colorbar": {
              "outlinewidth": 0,
              "ticks": ""
             }
            },
            "type": "scatterpolargl"
           }
          ],
          "scatterternary": [
           {
            "marker": {
             "colorbar": {
              "outlinewidth": 0,
              "ticks": ""
             }
            },
            "type": "scatterternary"
           }
          ],
          "surface": [
           {
            "colorbar": {
             "outlinewidth": 0,
             "ticks": ""
            },
            "colorscale": [
             [
              0,
              "#0d0887"
             ],
             [
              0.1111111111111111,
              "#46039f"
             ],
             [
              0.2222222222222222,
              "#7201a8"
             ],
             [
              0.3333333333333333,
              "#9c179e"
             ],
             [
              0.4444444444444444,
              "#bd3786"
             ],
             [
              0.5555555555555556,
              "#d8576b"
             ],
             [
              0.6666666666666666,
              "#ed7953"
             ],
             [
              0.7777777777777778,
              "#fb9f3a"
             ],
             [
              0.8888888888888888,
              "#fdca26"
             ],
             [
              1,
              "#f0f921"
             ]
            ],
            "type": "surface"
           }
          ],
          "table": [
           {
            "cells": {
             "fill": {
              "color": "#EBF0F8"
             },
             "line": {
              "color": "white"
             }
            },
            "header": {
             "fill": {
              "color": "#C8D4E3"
             },
             "line": {
              "color": "white"
             }
            },
            "type": "table"
           }
          ]
         },
         "layout": {
          "annotationdefaults": {
           "arrowcolor": "#2a3f5f",
           "arrowhead": 0,
           "arrowwidth": 1
          },
          "coloraxis": {
           "colorbar": {
            "outlinewidth": 0,
            "ticks": ""
           }
          },
          "colorscale": {
           "diverging": [
            [
             0,
             "#8e0152"
            ],
            [
             0.1,
             "#c51b7d"
            ],
            [
             0.2,
             "#de77ae"
            ],
            [
             0.3,
             "#f1b6da"
            ],
            [
             0.4,
             "#fde0ef"
            ],
            [
             0.5,
             "#f7f7f7"
            ],
            [
             0.6,
             "#e6f5d0"
            ],
            [
             0.7,
             "#b8e186"
            ],
            [
             0.8,
             "#7fbc41"
            ],
            [
             0.9,
             "#4d9221"
            ],
            [
             1,
             "#276419"
            ]
           ],
           "sequential": [
            [
             0,
             "#0d0887"
            ],
            [
             0.1111111111111111,
             "#46039f"
            ],
            [
             0.2222222222222222,
             "#7201a8"
            ],
            [
             0.3333333333333333,
             "#9c179e"
            ],
            [
             0.4444444444444444,
             "#bd3786"
            ],
            [
             0.5555555555555556,
             "#d8576b"
            ],
            [
             0.6666666666666666,
             "#ed7953"
            ],
            [
             0.7777777777777778,
             "#fb9f3a"
            ],
            [
             0.8888888888888888,
             "#fdca26"
            ],
            [
             1,
             "#f0f921"
            ]
           ],
           "sequentialminus": [
            [
             0,
             "#0d0887"
            ],
            [
             0.1111111111111111,
             "#46039f"
            ],
            [
             0.2222222222222222,
             "#7201a8"
            ],
            [
             0.3333333333333333,
             "#9c179e"
            ],
            [
             0.4444444444444444,
             "#bd3786"
            ],
            [
             0.5555555555555556,
             "#d8576b"
            ],
            [
             0.6666666666666666,
             "#ed7953"
            ],
            [
             0.7777777777777778,
             "#fb9f3a"
            ],
            [
             0.8888888888888888,
             "#fdca26"
            ],
            [
             1,
             "#f0f921"
            ]
           ]
          },
          "colorway": [
           "#636efa",
           "#EF553B",
           "#00cc96",
           "#ab63fa",
           "#FFA15A",
           "#19d3f3",
           "#FF6692",
           "#B6E880",
           "#FF97FF",
           "#FECB52"
          ],
          "font": {
           "color": "#2a3f5f"
          },
          "geo": {
           "bgcolor": "white",
           "lakecolor": "white",
           "landcolor": "#E5ECF6",
           "showlakes": true,
           "showland": true,
           "subunitcolor": "white"
          },
          "hoverlabel": {
           "align": "left"
          },
          "hovermode": "closest",
          "mapbox": {
           "style": "light"
          },
          "paper_bgcolor": "white",
          "plot_bgcolor": "#E5ECF6",
          "polar": {
           "angularaxis": {
            "gridcolor": "white",
            "linecolor": "white",
            "ticks": ""
           },
           "bgcolor": "#E5ECF6",
           "radialaxis": {
            "gridcolor": "white",
            "linecolor": "white",
            "ticks": ""
           }
          },
          "scene": {
           "xaxis": {
            "backgroundcolor": "#E5ECF6",
            "gridcolor": "white",
            "gridwidth": 2,
            "linecolor": "white",
            "showbackground": true,
            "ticks": "",
            "zerolinecolor": "white"
           },
           "yaxis": {
            "backgroundcolor": "#E5ECF6",
            "gridcolor": "white",
            "gridwidth": 2,
            "linecolor": "white",
            "showbackground": true,
            "ticks": "",
            "zerolinecolor": "white"
           },
           "zaxis": {
            "backgroundcolor": "#E5ECF6",
            "gridcolor": "white",
            "gridwidth": 2,
            "linecolor": "white",
            "showbackground": true,
            "ticks": "",
            "zerolinecolor": "white"
           }
          },
          "shapedefaults": {
           "line": {
            "color": "#2a3f5f"
           }
          },
          "ternary": {
           "aaxis": {
            "gridcolor": "white",
            "linecolor": "white",
            "ticks": ""
           },
           "baxis": {
            "gridcolor": "white",
            "linecolor": "white",
            "ticks": ""
           },
           "bgcolor": "#E5ECF6",
           "caxis": {
            "gridcolor": "white",
            "linecolor": "white",
            "ticks": ""
           }
          },
          "title": {
           "x": 0.05
          },
          "xaxis": {
           "automargin": true,
           "gridcolor": "white",
           "linecolor": "white",
           "ticks": "",
           "title": {
            "standoff": 15
           },
           "zerolinecolor": "white",
           "zerolinewidth": 2
          },
          "yaxis": {
           "automargin": true,
           "gridcolor": "white",
           "linecolor": "white",
           "ticks": "",
           "title": {
            "standoff": 15
           },
           "zerolinecolor": "white",
           "zerolinewidth": 2
          }
         }
        },
        "title": {
         "font": {
          "size": 16
         },
         "text": "<br>Network graph made with Python"
        },
        "xaxis": {
         "autorange": true,
         "range": [
          -1.1549338016273116,
          0.9728319569455601
         ],
         "showgrid": false,
         "showticklabels": false,
         "type": "linear",
         "zeroline": false
        },
        "yaxis": {
         "autorange": true,
         "range": [
          -1.0390322195776776,
          1.1764191763735494
         ],
         "showgrid": false,
         "showticklabels": false,
         "type": "linear",
         "zeroline": false
        }
       }
      },
      "image/png": "[encoded data removed]",
      "text/html": [
       "<div>\n",
       "        \n",
       "        \n",
       "            <div id=\"f35135c3-f7a2-4697-a610-83dfe599a1e2\" class=\"plotly-graph-div\" style=\"height:525px; width:100%;\"></div>\n",
       "            <script type=\"text/javascript\">\n",
       "                require([\"plotly\"], function(Plotly) {\n",
       "                    window.PLOTLYENV=window.PLOTLYENV || {};\n",
       "                    \n",
       "                if (document.getElementById(\"f35135c3-f7a2-4697-a610-83dfe599a1e2\")) {\n",
       "                    Plotly.newPlot(\n",
       "                        'f35135c3-f7a2-4697-a610-83dfe599a1e2',\n",
       "                        [{\"hoverinfo\": \"none\", \"line\": {\"color\": \"#888\", \"width\": 0.5}, \"mode\": \"lines\", \"type\": \"scatter\", \"x\": [-0.34808195302937794, -0.11637351141844113, null, -0.34808195302937794, -0.25560733848134604, null, -0.34808195302937794, -0.41464511822832284, null, -1.0, -0.8332174598104676, null, -0.41464511822832284, -0.2168794502591689, null, -0.41464511822832284, -0.11637351141844113, null, -0.41464511822832284, -0.70778618919324, null, -0.41464511822832284, -0.5887682383108283, null, -0.41464511822832284, -0.34808195302937794, null, -0.41464511822832284, -0.46152854922700043, null, -0.41464511822832284, -0.4293955235532882, null, -0.12346784348291978, -0.11637351141844113, null, -0.12346784348291978, -0.06744204758975231, null, -0.12346784348291978, -0.2492289571881962, null, -0.12346784348291978, -0.01582227743198666, null, -0.5299403034512099, -0.2492289571881962, null, 0.7622695707667537, 0.47999891009270357, null, 0.7622695707667537, 0.7506538958115757, null, 0.7622695707667537, 0.7552644210597663, null, 0.3485491267073522, 0.3328022781580242, null, 0.3485491267073522, 0.43977583803037523, null, 0.3068058991066413, 0.5727666122951255, null, 0.3068058991066413, 0.47999891009270357, null, 0.3068058991066413, -0.06744204758975231, null, -0.20910544554960359, -0.25560733848134604, null, -0.11637351141844113, -0.06744204758975231, null, -0.11637351141844113, -0.12346784348291978, null, -0.11637351141844113, -0.2492289571881962, null, -0.11637351141844113, -0.01582227743198666, null, -0.11637351141844113, 0.3780430130725315, null, -0.11637351141844113, -0.41464511822832284, null, -0.11637351141844113, -0.25560733848134604, null, -0.11637351141844113, 0.3328022781580242, null, -0.11637351141844113, -0.5887682383108283, null, -0.46152854922700043, -0.11637351141844113, null, -0.46152854922700043, -0.70778618919324, null, -0.46152854922700043, -0.41464511822832284, null, -0.46152854922700043, -0.5887682383108283, null, -0.8332174598104676, -1.0, null, -0.8332174598104676, -0.5887682383108283, null, 0.7552644210597663, 0.47999891009270357, null, 0.3328022781580242, 0.43977583803037523, null, 0.3328022781580242, 0.3485491267073522, null, 0.3328022781580242, -0.11637351141844113, null, 0.3328022781580242, 0.5794342877980675, null, 0.3328022781580242, 0.2526996756932124, null, 0.3328022781580242, 0.5477977212116386, null, 0.3328022781580242, 0.3780430130725315, null, -0.6273206491993776, -0.41464511822832284, null, -0.6273206491993776, -0.5887682383108283, null, -0.70778618919324, -0.41464511822832284, null, -0.6668667759628782, -0.5887682383108283, null, -0.2492289571881962, -0.34020171438462926, null, -0.2492289571881962, -0.11637351141844113, null, -0.2492289571881962, -0.06744204758975231, null, -0.2492289571881962, -0.5299403034512099, null, -0.2492289571881962, -0.12346784348291978, null, -0.2492289571881962, -0.01582227743198666, null, 0.2526996756932124, 0.3328022781580242, null, -0.2168794502591689, -0.41464511822832284, null, -0.2168794502591689, -0.11637351141844113, null, -0.2168794502591689, -0.06744204758975231, null, 0.5794342877980675, 0.3328022781580242, null, 0.5794342877980675, 0.5477977212116386, null, -0.06744204758975231, -0.11637351141844113, null, -0.06744204758975231, -0.12346784348291978, null, -0.06744204758975231, -0.2492289571881962, null, -0.06744204758975231, -0.01582227743198666, null, -0.06744204758975231, 0.3780430130725315, null, -0.06744204758975231, -0.22825024346395983, null, -0.06744204758975231, -0.25560733848134604, null, -0.06744204758975231, 0.47999891009270357, null, -0.06744204758975231, -0.5887682383108283, null, 0.3780430130725315, 0.4732972995747886, null, 0.3780430130725315, 0.6273287027487139, null, 0.3780430130725315, 0.6005746451641458, null, 0.3780430130725315, -0.06744204758975231, null, 0.3780430130725315, 0.3328022781580242, null, -0.25560733848134604, -0.11637351141844113, null, -0.25560733848134604, -0.22825024346395983, null, -0.25560733848134604, -0.4527874375925464, null, -0.25560733848134604, -0.33913819618121055, null, -0.25560733848134604, -0.20910544554960359, null, 0.6273287027487139, 0.4732972995747886, null, -0.22825024346395983, -0.11637351141844113, null, -0.22825024346395983, -0.25560733848134604, null, -0.22825024346395983, -0.2492289571881962, null, -0.33913819618121055, -0.25560733848134604, null, 0.4732972995747886, 0.3780430130725315, null, 0.19244585063554626, -0.11637351141844113, null, 0.19244585063554626, 0.47999891009270357, null, -0.01582227743198666, -0.11637351141844113, null, -0.01582227743198666, -0.06744204758975231, null, -0.01582227743198666, -0.12346784348291978, null, 0.6005746451641458, 0.3780430130725315, null, 0.5727666122951255, 0.47999891009270357, null, 0.5727666122951255, 0.3068058991066413, null, 0.7506538958115757, 0.47999891009270357, null, -0.4527874375925464, -0.25560733848134604, null, -0.4293955235532882, -0.41464511822832284, null, 0.5477977212116386, 0.5794342877980675, null, 0.5477977212116386, 0.3328022781580242, null, -0.5887682383108283, -0.6668667759628782, null, -0.5887682383108283, -1.0, null, -0.5887682383108283, -0.41464511822832284, null, -0.5887682383108283, -0.8332174598104676, null, -0.5887682383108283, -0.11637351141844113, null, -0.5887682383108283, -0.6273206491993776, null, 0.43977583803037523, 0.3328022781580242, null, 0.43977583803037523, 0.3485491267073522, null, -0.34020171438462926, -0.2492289571881962, null, -0.34020171438462926, -0.11637351141844113, null, 0.47999891009270357, 0.7622695707667537, null, 0.47999891009270357, 0.7506538958115757, null, 0.47999891009270357, 0.8213474750627866, null, 0.47999891009270357, 0.5727666122951255, null, 0.47999891009270357, 0.3068058991066413, null, 0.47999891009270357, -0.06744204758975231, null, 0.47999891009270357, 0.7552644210597663, null, 0.47999891009270357, 0.19244585063554626, null, 0.8213474750627866, 0.47999891009270357, null, 0.8213474750627866, 0.7622695707667537, null], \"y\": [-0.14917724758748355, -0.005327965557857061, null, -0.14917724758748355, -0.49698999024689683, null, -0.14917724758748355, 0.19506603023712552, null, 0.998083341386229, 0.7998666755684801, null, 0.19506603023712552, 0.12551808492258565, null, 0.19506603023712552, -0.005327965557857061, null, 0.19506603023712552, 0.20049320585024777, null, 0.19506603023712552, 0.5267146830275617, null, 0.19506603023712552, -0.14917724758748355, null, 0.19506603023712552, 0.25120733666815703, null, 0.19506603023712552, 0.4523224502802303, null, -0.1777554131751803, -0.005327965557857061, null, -0.1777554131751803, -0.06320478424836255, null, -0.1777554131751803, -0.15464338719440648, null, -0.1777554131751803, -0.18428376794462697, null, -0.271186188250785, -0.15464338719440648, null, -0.055475656881272525, -0.041957330372876016, null, -0.055475656881272525, -0.19186416806754147, null, -0.055475656881272525, 0.11878203810346274, null, 0.45015163638500333, 0.1556707822537807, null, 0.45015163638500333, 0.44046861741497173, null, -0.07093490043221053, -0.027928648773271714, null, -0.07093490043221053, -0.041957330372876016, null, -0.07093490043221053, -0.06320478424836255, null, -0.7775948957509574, -0.49698999024689683, null, -0.005327965557857061, -0.06320478424836255, null, -0.005327965557857061, -0.1777554131751803, null, -0.005327965557857061, -0.15464338719440648, null, -0.005327965557857061, -0.18428376794462697, null, -0.005327965557857061, -0.3656564065866343, null, -0.005327965557857061, 0.19506603023712552, null, -0.005327965557857061, -0.49698999024689683, null, -0.005327965557857061, 0.1556707822537807, null, -0.005327965557857061, 0.5267146830275617, null, 0.25120733666815703, -0.005327965557857061, null, 0.25120733666815703, 0.20049320585024777, null, 0.25120733666815703, 0.19506603023712552, null, 0.25120733666815703, 0.5267146830275617, null, 0.7998666755684801, 0.998083341386229, null, 0.7998666755684801, 0.5267146830275617, null, 0.11878203810346274, -0.041957330372876016, null, 0.1556707822537807, 0.44046861741497173, null, 0.1556707822537807, 0.45015163638500333, null, 0.1556707822537807, -0.005327965557857061, null, 0.1556707822537807, 0.29938000520437846, null, 0.1556707822537807, 0.31551424836975683, null, 0.1556707822537807, 0.3847788262939248, null, 0.1556707822537807, -0.3656564065866343, null, 0.38456133620303695, 0.19506603023712552, null, 0.38456133620303695, 0.5267146830275617, null, 0.20049320585024777, 0.19506603023712552, null, 0.7713188539705517, 0.5267146830275617, null, -0.15464338719440648, -0.024226811758129893, null, -0.15464338719440648, -0.005327965557857061, null, -0.15464338719440648, -0.06320478424836255, null, -0.15464338719440648, -0.271186188250785, null, -0.15464338719440648, -0.1777554131751803, null, -0.15464338719440648, -0.18428376794462697, null, 0.31551424836975683, 0.1556707822537807, null, 0.12551808492258565, 0.19506603023712552, null, 0.12551808492258565, -0.005327965557857061, null, 0.12551808492258565, -0.06320478424836255, null, 0.29938000520437846, 0.1556707822537807, null, 0.29938000520437846, 0.3847788262939248, null, -0.06320478424836255, -0.005327965557857061, null, -0.06320478424836255, -0.1777554131751803, null, -0.06320478424836255, -0.15464338719440648, null, -0.06320478424836255, -0.18428376794462697, null, -0.06320478424836255, -0.3656564065866343, null, -0.06320478424836255, -0.2995731885425781, null, -0.06320478424836255, -0.49698999024689683, null, -0.06320478424836255, -0.041957330372876016, null, -0.06320478424836255, 0.5267146830275617, null, -0.3656564065866343, -0.6206474225109329, null, -0.3656564065866343, -0.8571708328381921, null, -0.3656564065866343, -0.5417918054019994, null, -0.3656564065866343, -0.06320478424836255, null, -0.3656564065866343, 0.1556707822537807, null, -0.49698999024689683, -0.005327965557857061, null, -0.49698999024689683, -0.2995731885425781, null, -0.49698999024689683, -0.7058567563394789, null, -0.49698999024689683, -0.7781065215375439, null, -0.49698999024689683, -0.7775948957509574, null, -0.8571708328381921, -0.6206474225109329, null, -0.2995731885425781, -0.005327965557857061, null, -0.2995731885425781, -0.49698999024689683, null, -0.2995731885425781, -0.15464338719440648, null, -0.7781065215375439, -0.49698999024689683, null, -0.6206474225109329, -0.3656564065866343, null, -0.016140979084435562, -0.005327965557857061, null, -0.016140979084435562, -0.041957330372876016, null, -0.18428376794462697, -0.005327965557857061, null, -0.18428376794462697, -0.06320478424836255, null, -0.18428376794462697, -0.1777554131751803, null, -0.5417918054019994, -0.3656564065866343, null, -0.027928648773271714, -0.041957330372876016, null, -0.027928648773271714, -0.07093490043221053, null, -0.19186416806754147, -0.041957330372876016, null, -0.7058567563394789, -0.49698999024689683, null, 0.4523224502802303, 0.19506603023712552, null, 0.3847788262939248, 0.29938000520437846, null, 0.3847788262939248, 0.1556707822537807, null, 0.5267146830275617, 0.7713188539705517, null, 0.5267146830275617, 0.998083341386229, null, 0.5267146830275617, 0.19506603023712552, null, 0.5267146830275617, 0.7998666755684801, null, 0.5267146830275617, -0.005327965557857061, null, 0.5267146830275617, 0.38456133620303695, null, 0.44046861741497173, 0.1556707822537807, null, 0.44046861741497173, 0.45015163638500333, null, -0.024226811758129893, -0.15464338719440648, null, -0.024226811758129893, -0.005327965557857061, null, -0.041957330372876016, -0.055475656881272525, null, -0.041957330372876016, -0.19186416806754147, null, -0.041957330372876016, 0.007596916944169248, null, -0.041957330372876016, -0.027928648773271714, null, -0.041957330372876016, -0.07093490043221053, null, -0.041957330372876016, -0.06320478424836255, null, -0.041957330372876016, 0.11878203810346274, null, -0.041957330372876016, -0.016140979084435562, null, 0.007596916944169248, -0.041957330372876016, null, 0.007596916944169248, -0.055475656881272525, null]}, {\"hoverinfo\": \"text\", \"marker\": {\"color\": [3, 1, 7, 4, 1, 3, 2, 3, 1, 9, 4, 2, 1, 7, 2, 1, 1, 6, 1, 3, 2, 9, 5, 5, 1, 3, 1, 1, 2, 3, 1, 2, 1, 1, 1, 2, 6, 2, 2, 8, 2], \"colorbar\": {\"thickness\": 15, \"title\": {\"side\": \"right\", \"text\": \"Node Connections\"}, \"xanchor\": \"left\"}, \"colorscale\": [[0.0, \"rgb(255,255,217)\"], [0.125, \"rgb(237,248,177)\"], [0.25, \"rgb(199,233,180)\"], [0.375, \"rgb(127,205,187)\"], [0.5, \"rgb(65,182,196)\"], [0.625, \"rgb(29,145,192)\"], [0.75, \"rgb(34,94,168)\"], [0.875, \"rgb(37,52,148)\"], [1.0, \"rgb(8,29,88)\"]], \"line\": {\"width\": 2}, \"reversescale\": true, \"showscale\": true, \"size\": [13.666334975076676, 14.638266201800386, 21.10149421196414, 16.747157113536595, 20.133203685010706, 15.666251746671813, 19.871172794053823, 17.609647687893982, 24.274976462690706, 22.942348587071827, 20.582334047354824, 20.321136482380403, 17.52803434217006, 22.497165988876866, 15.55377926689288, 22.61414209139059, 14.54478336030191, 21.636440976324952, 18.988154872101415, 11.56081046872794, 23.575424874514496, 21.963669765228328, 21.218450308380675, 19.31008241210703, 15.402112722708882, 21.364528510931677, 17.42522410040701, 21.062500097915333, 17.848433447125558, 17.773145647308176, 16.70726475413145, 20.2065768091335, 20.981200034002732, 15.910666150653569, 9.411510988012072, 21.276397634311678, 20.107892618685348, 13.154976290625738, 17.931574340092798, 20.67141753591249, 13.598168841844732]}, \"mode\": \"markers\", \"text\": [\"Atomic Punch has 3 connections and 13000 subscribers\", \"Andrew Gerlicher Music has 1 connections and 25500 subscribers\", \"Nukazooka has 7 connections and 2250000 subscribers\", \"Corridor Cast has 4 connections and 110000 subscribers\", \"BrandonJLa has 1 connections and 1150000 subscribers\", \"Film Riot Extras has 3 connections and 52000 subscribers\", \"TEAMSUPERTRAMP has 2 connections and 959000 subscribers\", \"Aputure has 3 connections and 200000 subscribers\", \"JennaMarbles has 1 connections and 20300000 subscribers\", \"Corridor has 9 connections and 8060000 subscribers\", \"Mr.TVCow has 4 connections and 1570000 subscribers\", \"FinalCutKing has 2 connections and 1310000 subscribers\", \"Red Giant has 1 connections and 189000 subscribers\", \"devinsupertramp has 7 connections and 5920000 subscribers\", \"Fury Fingers - GOONS INC - Out Now! has 2 connections and 48100 subscribers\", \"TomSka has 1 connections and 6420000 subscribers\", \"SamWickert has 1 connections and 23900 subscribers\", \"Node has 6 connections and 3260000 subscribers\", \"Jacob + Katie Schwarz has 1 connections and 520000 subscribers\", \"johnyboz has 3 connections and 3020 subscribers\", \"Lindsey Stirling has 2 connections and 12500000 subscribers\", \"Corridor Crew has 9 connections and 4090000 subscribers\", \"Shonduras has 5 connections and 2440000 subscribers\", \"Mike Diva has 5 connections and 650000 subscribers\", \"Dorothy Gee has 1 connections and 43300 subscribers\", \"Anna Akana has 3 connections and 2700000 subscribers\", \"Adi Shankar's BOOTLEG UNIVERSE has 1 connections and 176000 subscribers\", \"A for Adley - Learning & Fun has 1 connections and 2190000 subscribers\", \"FXhome has 2 connections and 236000 subscribers\", \"Guillotine Channel has 3 connections and 224000 subscribers\", \"Spacestation Stuff has 1 connections and 107000 subscribers\", \"Indy Mogul has 2 connections and 1210000 subscribers\", \"Variant Comics has 1 connections and 2070000 subscribers\", \"Megasteakman has 1 connections and 61600 subscribers\", \"Lane Carter has 1 connections and 680 subscribers\", \"Peter Hollens has 2 connections and 2540000 subscribers\", \"SoKrispyMedia has 6 connections and 1130000 subscribers\", \"Visual Escape has 2 connections and 9120 subscribers\", \"Cerberusarms has 2 connections and 250000 subscribers\", \"Film Riot has 8 connections and 1670000 subscribers\", \"VFX Productions has 2 connections and 12400 subscribers\"], \"type\": \"scatter\", \"x\": [-0.34808195302937794, -1.0, -0.41464511822832284, -0.12346784348291978, -0.5299403034512099, 0.7622695707667537, 0.3485491267073522, 0.3068058991066413, -0.20910544554960359, -0.11637351141844113, -0.46152854922700043, -0.8332174598104676, 0.7552644210597663, 0.3328022781580242, -0.6273206491993776, -0.70778618919324, -0.6668667759628782, -0.2492289571881962, 0.2526996756932124, -0.2168794502591689, 0.5794342877980675, -0.06744204758975231, 0.3780430130725315, -0.25560733848134604, 0.6273287027487139, -0.22825024346395983, -0.33913819618121055, 0.4732972995747886, 0.19244585063554626, -0.01582227743198666, 0.6005746451641458, 0.5727666122951255, 0.7506538958115757, -0.4527874375925464, -0.4293955235532882, 0.5477977212116386, -0.5887682383108283, 0.43977583803037523, -0.34020171438462926, 0.47999891009270357, 0.8213474750627866], \"y\": [-0.14917724758748355, 0.998083341386229, 0.19506603023712552, -0.1777554131751803, -0.271186188250785, -0.055475656881272525, 0.45015163638500333, -0.07093490043221053, -0.7775948957509574, -0.005327965557857061, 0.25120733666815703, 0.7998666755684801, 0.11878203810346274, 0.1556707822537807, 0.38456133620303695, 0.20049320585024777, 0.7713188539705517, -0.15464338719440648, 0.31551424836975683, 0.12551808492258565, 0.29938000520437846, -0.06320478424836255, -0.3656564065866343, -0.49698999024689683, -0.8571708328381921, -0.2995731885425781, -0.7781065215375439, -0.6206474225109329, -0.016140979084435562, -0.18428376794462697, -0.5417918054019994, -0.027928648773271714, -0.19186416806754147, -0.7058567563394789, 0.4523224502802303, 0.3847788262939248, 0.5267146830275617, 0.44046861741497173, -0.024226811758129893, -0.041957330372876016, 0.007596916944169248]}],\n",
       "                        {\"annotations\": [{\"showarrow\": false, \"text\": \"Graph of connected channels\", \"x\": 0.005, \"xref\": \"paper\", \"y\": -0.002, \"yref\": \"paper\"}], \"hovermode\": \"closest\", \"margin\": {\"b\": 20, \"l\": 5, \"r\": 5, \"t\": 40}, \"showlegend\": false, \"template\": {\"data\": {\"bar\": [{\"error_x\": {\"color\": \"#2a3f5f\"}, \"error_y\": {\"color\": \"#2a3f5f\"}, \"marker\": {\"line\": {\"color\": \"#E5ECF6\", \"width\": 0.5}}, \"type\": \"bar\"}], \"barpolar\": [{\"marker\": {\"line\": {\"color\": \"#E5ECF6\", \"width\": 0.5}}, \"type\": \"barpolar\"}], \"carpet\": [{\"aaxis\": {\"endlinecolor\": \"#2a3f5f\", \"gridcolor\": \"white\", \"linecolor\": \"white\", \"minorgridcolor\": \"white\", \"startlinecolor\": \"#2a3f5f\"}, \"baxis\": {\"endlinecolor\": \"#2a3f5f\", \"gridcolor\": \"white\", \"linecolor\": \"white\", \"minorgridcolor\": \"white\", \"startlinecolor\": \"#2a3f5f\"}, \"type\": \"carpet\"}], \"choropleth\": [{\"colorbar\": {\"outlinewidth\": 0, \"ticks\": \"\"}, \"type\": \"choropleth\"}], \"contour\": [{\"colorbar\": {\"outlinewidth\": 0, \"ticks\": \"\"}, \"colorscale\": [[0.0, \"#0d0887\"], [0.1111111111111111, \"#46039f\"], [0.2222222222222222, \"#7201a8\"], [0.3333333333333333, \"#9c179e\"], [0.4444444444444444, \"#bd3786\"], [0.5555555555555556, \"#d8576b\"], [0.6666666666666666, \"#ed7953\"], [0.7777777777777778, \"#fb9f3a\"], [0.8888888888888888, \"#fdca26\"], [1.0, \"#f0f921\"]], \"type\": \"contour\"}], \"contourcarpet\": [{\"colorbar\": {\"outlinewidth\": 0, \"ticks\": \"\"}, \"type\": \"contourcarpet\"}], \"heatmap\": [{\"colorbar\": {\"outlinewidth\": 0, \"ticks\": \"\"}, \"colorscale\": [[0.0, \"#0d0887\"], [0.1111111111111111, \"#46039f\"], [0.2222222222222222, \"#7201a8\"], [0.3333333333333333, \"#9c179e\"], [0.4444444444444444, \"#bd3786\"], [0.5555555555555556, \"#d8576b\"], [0.6666666666666666, \"#ed7953\"], [0.7777777777777778, \"#fb9f3a\"], [0.8888888888888888, \"#fdca26\"], [1.0, \"#f0f921\"]], \"type\": \"heatmap\"}], \"heatmapgl\": [{\"colorbar\": {\"outlinewidth\": 0, \"ticks\": \"\"}, \"colorscale\": [[0.0, \"#0d0887\"], [0.1111111111111111, \"#46039f\"], [0.2222222222222222, \"#7201a8\"], [0.3333333333333333, \"#9c179e\"], [0.4444444444444444, \"#bd3786\"], [0.5555555555555556, \"#d8576b\"], [0.6666666666666666, \"#ed7953\"], [0.7777777777777778, \"#fb9f3a\"], [0.8888888888888888, \"#fdca26\"], [1.0, \"#f0f921\"]], \"type\": \"heatmapgl\"}], \"histogram\": [{\"marker\": {\"colorbar\": {\"outlinewidth\": 0, \"ticks\": \"\"}}, \"type\": \"histogram\"}], \"histogram2d\": [{\"colorbar\": {\"outlinewidth\": 0, \"ticks\": \"\"}, \"colorscale\": [[0.0, \"#0d0887\"], [0.1111111111111111, \"#46039f\"], [0.2222222222222222, \"#7201a8\"], [0.3333333333333333, \"#9c179e\"], [0.4444444444444444, \"#bd3786\"], [0.5555555555555556, \"#d8576b\"], [0.6666666666666666, \"#ed7953\"], [0.7777777777777778, \"#fb9f3a\"], [0.8888888888888888, \"#fdca26\"], [1.0, \"#f0f921\"]], \"type\": \"histogram2d\"}], \"histogram2dcontour\": [{\"colorbar\": {\"outlinewidth\": 0, \"ticks\": \"\"}, \"colorscale\": [[0.0, \"#0d0887\"], [0.1111111111111111, \"#46039f\"], [0.2222222222222222, \"#7201a8\"], [0.3333333333333333, \"#9c179e\"], [0.4444444444444444, \"#bd3786\"], [0.5555555555555556, \"#d8576b\"], [0.6666666666666666, \"#ed7953\"], [0.7777777777777778, \"#fb9f3a\"], [0.8888888888888888, \"#fdca26\"], [1.0, \"#f0f921\"]], \"type\": \"histogram2dcontour\"}], \"mesh3d\": [{\"colorbar\": {\"outlinewidth\": 0, \"ticks\": \"\"}, \"type\": \"mesh3d\"}], \"parcoords\": [{\"line\": {\"colorbar\": {\"outlinewidth\": 0, \"ticks\": \"\"}}, \"type\": \"parcoords\"}], \"pie\": [{\"automargin\": true, \"type\": \"pie\"}], \"scatter\": [{\"marker\": {\"colorbar\": {\"outlinewidth\": 0, \"ticks\": \"\"}}, \"type\": \"scatter\"}], \"scatter3d\": [{\"line\": {\"colorbar\": {\"outlinewidth\": 0, \"ticks\": \"\"}}, \"marker\": {\"colorbar\": {\"outlinewidth\": 0, \"ticks\": \"\"}}, \"type\": \"scatter3d\"}], \"scattercarpet\": [{\"marker\": {\"colorbar\": {\"outlinewidth\": 0, \"ticks\": \"\"}}, \"type\": \"scattercarpet\"}], \"scattergeo\": [{\"marker\": {\"colorbar\": {\"outlinewidth\": 0, \"ticks\": \"\"}}, \"type\": \"scattergeo\"}], \"scattergl\": [{\"marker\": {\"colorbar\": {\"outlinewidth\": 0, \"ticks\": \"\"}}, \"type\": \"scattergl\"}], \"scattermapbox\": [{\"marker\": {\"colorbar\": {\"outlinewidth\": 0, \"ticks\": \"\"}}, \"type\": \"scattermapbox\"}], \"scatterpolar\": [{\"marker\": {\"colorbar\": {\"outlinewidth\": 0, \"ticks\": \"\"}}, \"type\": \"scatterpolar\"}], \"scatterpolargl\": [{\"marker\": {\"colorbar\": {\"outlinewidth\": 0, \"ticks\": \"\"}}, \"type\": \"scatterpolargl\"}], \"scatterternary\": [{\"marker\": {\"colorbar\": {\"outlinewidth\": 0, \"ticks\": \"\"}}, \"type\": \"scatterternary\"}], \"surface\": [{\"colorbar\": {\"outlinewidth\": 0, \"ticks\": \"\"}, \"colorscale\": [[0.0, \"#0d0887\"], [0.1111111111111111, \"#46039f\"], [0.2222222222222222, \"#7201a8\"], [0.3333333333333333, \"#9c179e\"], [0.4444444444444444, \"#bd3786\"], [0.5555555555555556, \"#d8576b\"], [0.6666666666666666, \"#ed7953\"], [0.7777777777777778, \"#fb9f3a\"], [0.8888888888888888, \"#fdca26\"], [1.0, \"#f0f921\"]], \"type\": \"surface\"}], \"table\": [{\"cells\": {\"fill\": {\"color\": \"#EBF0F8\"}, \"line\": {\"color\": \"white\"}}, \"header\": {\"fill\": {\"color\": \"#C8D4E3\"}, \"line\": {\"color\": \"white\"}}, \"type\": \"table\"}]}, \"layout\": {\"annotationdefaults\": {\"arrowcolor\": \"#2a3f5f\", \"arrowhead\": 0, \"arrowwidth\": 1}, \"coloraxis\": {\"colorbar\": {\"outlinewidth\": 0, \"ticks\": \"\"}}, \"colorscale\": {\"diverging\": [[0, \"#8e0152\"], [0.1, \"#c51b7d\"], [0.2, \"#de77ae\"], [0.3, \"#f1b6da\"], [0.4, \"#fde0ef\"], [0.5, \"#f7f7f7\"], [0.6, \"#e6f5d0\"], [0.7, \"#b8e186\"], [0.8, \"#7fbc41\"], [0.9, \"#4d9221\"], [1, \"#276419\"]], \"sequential\": [[0.0, \"#0d0887\"], [0.1111111111111111, \"#46039f\"], [0.2222222222222222, \"#7201a8\"], [0.3333333333333333, \"#9c179e\"], [0.4444444444444444, \"#bd3786\"], [0.5555555555555556, \"#d8576b\"], [0.6666666666666666, \"#ed7953\"], [0.7777777777777778, \"#fb9f3a\"], [0.8888888888888888, \"#fdca26\"], [1.0, \"#f0f921\"]], \"sequentialminus\": [[0.0, \"#0d0887\"], [0.1111111111111111, \"#46039f\"], [0.2222222222222222, \"#7201a8\"], [0.3333333333333333, \"#9c179e\"], [0.4444444444444444, \"#bd3786\"], [0.5555555555555556, \"#d8576b\"], [0.6666666666666666, \"#ed7953\"], [0.7777777777777778, \"#fb9f3a\"], [0.8888888888888888, \"#fdca26\"], [1.0, \"#f0f921\"]]}, \"colorway\": [\"#636efa\", \"#EF553B\", \"#00cc96\", \"#ab63fa\", \"#FFA15A\", \"#19d3f3\", \"#FF6692\", \"#B6E880\", \"#FF97FF\", \"#FECB52\"], \"font\": {\"color\": \"#2a3f5f\"}, \"geo\": {\"bgcolor\": \"white\", \"lakecolor\": \"white\", \"landcolor\": \"#E5ECF6\", \"showlakes\": true, \"showland\": true, \"subunitcolor\": \"white\"}, \"hoverlabel\": {\"align\": \"left\"}, \"hovermode\": \"closest\", \"mapbox\": {\"style\": \"light\"}, \"paper_bgcolor\": \"white\", \"plot_bgcolor\": \"#E5ECF6\", \"polar\": {\"angularaxis\": {\"gridcolor\": \"white\", \"linecolor\": \"white\", \"ticks\": \"\"}, \"bgcolor\": \"#E5ECF6\", \"radialaxis\": {\"gridcolor\": \"white\", \"linecolor\": \"white\", \"ticks\": \"\"}}, \"scene\": {\"xaxis\": {\"backgroundcolor\": \"#E5ECF6\", \"gridcolor\": \"white\", \"gridwidth\": 2, \"linecolor\": \"white\", \"showbackground\": true, \"ticks\": \"\", \"zerolinecolor\": \"white\"}, \"yaxis\": {\"backgroundcolor\": \"#E5ECF6\", \"gridcolor\": \"white\", \"gridwidth\": 2, \"linecolor\": \"white\", \"showbackground\": true, \"ticks\": \"\", \"zerolinecolor\": \"white\"}, \"zaxis\": {\"backgroundcolor\": \"#E5ECF6\", \"gridcolor\": \"white\", \"gridwidth\": 2, \"linecolor\": \"white\", \"showbackground\": true, \"ticks\": \"\", \"zerolinecolor\": \"white\"}}, \"shapedefaults\": {\"line\": {\"color\": \"#2a3f5f\"}}, \"ternary\": {\"aaxis\": {\"gridcolor\": \"white\", \"linecolor\": \"white\", \"ticks\": \"\"}, \"baxis\": {\"gridcolor\": \"white\", \"linecolor\": \"white\", \"ticks\": \"\"}, \"bgcolor\": \"#E5ECF6\", \"caxis\": {\"gridcolor\": \"white\", \"linecolor\": \"white\", \"ticks\": \"\"}}, \"title\": {\"x\": 0.05}, \"xaxis\": {\"automargin\": true, \"gridcolor\": \"white\", \"linecolor\": \"white\", \"ticks\": \"\", \"title\": {\"standoff\": 15}, \"zerolinecolor\": \"white\", \"zerolinewidth\": 2}, \"yaxis\": {\"automargin\": true, \"gridcolor\": \"white\", \"linecolor\": \"white\", \"ticks\": \"\", \"title\": {\"standoff\": 15}, \"zerolinecolor\": \"white\", \"zerolinewidth\": 2}}}, \"title\": {\"font\": {\"size\": 16}, \"text\": \"<br>Network graph made with Python\"}, \"xaxis\": {\"showgrid\": false, \"showticklabels\": false, \"zeroline\": false}, \"yaxis\": {\"showgrid\": false, \"showticklabels\": false, \"zeroline\": false}},\n",
       "                        {\"responsive\": true}\n",
       "                    ).then(function(){\n",
       "                            \n",
       "var gd = document.getElementById('f35135c3-f7a2-4697-a610-83dfe599a1e2');\n",
       "var x = new MutationObserver(function (mutations, observer) {{\n",
       "        var display = window.getComputedStyle(gd).display;\n",
       "        if (!display || display === 'none') {{\n",
       "            console.log([gd, 'removed!']);\n",
       "            Plotly.purge(gd);\n",
       "            observer.disconnect();\n",
       "        }}\n",
       "}});\n",
       "\n",
       "// Listen for the removal of the full notebook cells\n",
       "var notebookContainer = gd.closest('#notebook-container');\n",
       "if (notebookContainer) {{\n",
       "    x.observe(notebookContainer, {childList: true});\n",
       "}}\n",
       "\n",
       "// Listen for the clearing of the current output cell\n",
       "var outputEl = gd.closest('.output');\n",
       "if (outputEl) {{\n",
       "    x.observe(outputEl, {childList: true});\n",
       "}}\n",
       "\n",
       "                        })\n",
       "                };\n",
       "                });\n",
       "            </script>\n",
       "        </div>"
      ]
     },
     "metadata": {},
     "output_type": "display_data"
    },
    {
     "data": {
      "image/png": "[encoded data removed]",
      "text/plain": [
       "<Figure size 864x864 with 1 Axes>"
      ]
     },
     "metadata": {},
     "output_type": "display_data"
    }
   ],
   "source": [
    "network_graphs.graph_nx_graph(H)\n",
    "network_graphs.plotly_network_graph(H)"
   ]
  },
  {
   "cell_type": "code",
   "execution_count": null,
   "metadata": {},
   "outputs": [],
   "source": []
  },
  {
   "cell_type": "markdown",
   "metadata": {},
   "source": [
    "## Instantiate a cache for both queries and networks"
   ]
  },
  {
   "cell_type": "markdown",
   "metadata": {},
   "source": [
    "### Queries"
   ]
  },
  {
   "cell_type": "markdown",
   "metadata": {},
   "source": [
    "### Networks"
   ]
  },
  {
   "cell_type": "code",
   "execution_count": 314,
   "metadata": {},
   "outputs": [],
   "source": [
    "with open('data/corridor_search.json','r') as json_file:\n",
    "    CORRIDOR_SEARCH_10 = json.load(json_file)"
   ]
  },
  {
   "cell_type": "code",
   "execution_count": 317,
   "metadata": {},
   "outputs": [],
   "source": [
    "QUERY_CACHE = {'corridor':CORRIDOR_SEARCH_10}\n",
    "\n",
    "with open('data/query_cache.json','w') as fout:\n",
    "    json.dump(QUERY_CACHE, fout)"
   ]
  }
 ],
 "metadata": {
  "kernelspec": {
   "display_name": "Python 3",
   "language": "python",
   "name": "python3"
  },
  "language_info": {
   "codemirror_mode": {
    "name": "ipython",
    "version": 3
   },
   "file_extension": ".py",
   "mimetype": "text/x-python",
   "name": "python",
   "nbconvert_exporter": "python",
   "pygments_lexer": "ipython3",
   "version": "3.7.7"
  }
 },
 "nbformat": 4,
 "nbformat_minor": 4
}
