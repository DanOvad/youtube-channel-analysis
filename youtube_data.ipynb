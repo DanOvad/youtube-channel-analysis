{
 "cells": [
  {
   "cell_type": "markdown",
   "metadata": {},
   "source": [
    "# YouTube Data API v3"
   ]
  },
  {
   "cell_type": "code",
   "execution_count": 2,
   "metadata": {},
   "outputs": [],
   "source": [
    "import requests\n",
    "import json\n",
    "\n",
    "import pandas as pd\n",
    "\n",
    "# api_key is stored in config.py\n",
    "import config"
   ]
  },
  {
   "cell_type": "markdown",
   "metadata": {},
   "source": [
    "Function using search method to return a response and nextPageToken"
   ]
  },
  {
   "cell_type": "code",
   "execution_count": null,
   "metadata": {},
   "outputs": [],
   "source": [
    "def request_youtube_search(query):\n",
    "    '''Search for channels using a specific query; \n",
    "    In future add order, and potentially the ability to input tokens? Or perhaps request \n",
    "    a certain number of records. '''\n",
    "    \n",
    "    # Create request object\n",
    "    resp = requests.get(\n",
    "        'https://www.googleapis.com/youtube/v3/search',\n",
    "        params=dict(part='snippet',\n",
    "                    type='channel',\n",
    "                    maxResults=50,\n",
    "                    q=query,\n",
    "                    key=config.api_key)\n",
    "    )\n",
    "    \n",
    "    nextPageToken = json.loads(RESP.content)['nextPageToken']\n",
    "    \n",
    "    return resp, nextPageToken\n",
    "\n",
    "RESP, PAGETOKEN = request_youtube_search('Corridor')\n",
    "json.loads(RESP.content)['items'][0]#['snippet']['publishedAt']"
   ]
  },
  {
   "cell_type": "markdown",
   "metadata": {},
   "source": [
    "Search method iterating using tokens to get more than 50 results"
   ]
  },
  {
   "cell_type": "code",
   "execution_count": 40,
   "metadata": {},
   "outputs": [
    {
     "name": "stdout",
     "output_type": "stream",
     "text": [
      "0\n",
      "50\n"
     ]
    }
   ],
   "source": [
    "# Search for channels by a specific query\n",
    "def request_youtube_search(query, n):\n",
    "    '''Search for channels using a specific query; \n",
    "    In future add order, and potentially the ability to input tokens? Or perhaps request \n",
    "    a certain number of records. '''\n",
    "    \n",
    "    # Empty list to store 50 items from each response\n",
    "    resp_list = list()\n",
    "    \n",
    "    nextPageToken = ''\n",
    "\n",
    "    while len(resp_list)<n:\n",
    "        print(len(resp_list))\n",
    "        # Create request object\n",
    "        resp = requests.get(\n",
    "            'https://www.googleapis.com/youtube/v3/search',\n",
    "            params=dict(part='snippet', \n",
    "                        type='channel',\n",
    "                        maxResults=50,\n",
    "                        pageToken=nextPageToken,\n",
    "                        q=query,\n",
    "                        key=config.api_key)\n",
    "        )\n",
    "        nextPageToken = json.loads(RESP.content)['nextPageToken']\n",
    "        resp_list.extend(json.loads(resp.content)['items'])\n",
    "        \n",
    "    return resp_list\n",
    "\n",
    "RESP_LIST = request_youtube_search('Corridor',100)\n",
    "#json.loads(RESP.content)['items'][0]#['snippet']['publishedAt']"
   ]
  },
  {
   "cell_type": "code",
   "execution_count": null,
   "metadata": {},
   "outputs": [],
   "source": [
    "def extract_youtube_search():\n",
    "\n",
    "    # Select keys to use from searchResult object\n",
    "    keys_list = ['publishedAt','channelId','title','description','channelTitle','publishTime']\n",
    "    \n",
    "    # empty channel list\n",
    "    channel_list = list()\n",
    "    \n",
    "    # loop over the list of dictionaries and extract \n",
    "    for entry in range(0,len(json.loads(RESP.content)['items'])):\n",
    "        channel_list.append({key:json.loads(RESP.content)['items'][entry]['snippet'][key] for key in keys_list})\n",
    "    # create a dataframe of each snippet\n",
    "    df = pd.DataFrame(channel_list)\n",
    "    return df\n",
    "\n",
    "CHANNEL_DF = extract_youtube_search()\n",
    "CHANNEL_DF"
   ]
  },
  {
   "cell_type": "code",
   "execution_count": null,
   "metadata": {
    "scrolled": true
   },
   "outputs": [],
   "source": [
    "def extract_youtube_search():\n",
    "\n",
    "    # Select keys to use from searchResult object\n",
    "    keys_list = ['publishedAt','channelId','title','description','channelTitle','publishTime']\n",
    "    \n",
    "    # empty channel list\n",
    "    channel_list = list()\n",
    "    \n",
    "    # loop over the list of dictionaries and extract \n",
    "    for entry in range(0,len(json.loads(RESP.content)['items'])):\n",
    "        channel_list.append({key:json.loads(RESP.content)['items'][entry]['snippet'][key] for key in keys_list})\n",
    "    # create a dataframe of each snippet\n",
    "    df = pd.DataFrame(channel_list)\n",
    "    return df\n",
    "\n",
    "CHANNEL_DF = extract_youtube_search()\n",
    "CHANNEL_DF"
   ]
  },
  {
   "cell_type": "code",
   "execution_count": null,
   "metadata": {},
   "outputs": [],
   "source": [
    "# Get channel details and snippet\n",
    "def run_channel_list(channelId):\n",
    "    resp = requests.get(\n",
    "        'https://www.googleapis.com/youtube/v3/channels',\n",
    "        params=dict(part='contentDetails, snippet, statistics, brandingSettings, topicDetails, status, id, contentOwnerDetails',\n",
    "                id=channelId,\n",
    "                key=config.api_key),\n",
    "    )\n",
    "    return resp\n",
    "RESP = run_channel_list('UCsn6cjffsvyOZCZxvGoJxGg') # spaceX UCtI0Hodo5o5dUb67FeUjDeA # James Hoffman UCMb0O2CdPBNi-QqPk5T3gsQ"
   ]
  },
  {
   "cell_type": "code",
   "execution_count": null,
   "metadata": {},
   "outputs": [],
   "source": [
    "RESP = run_channel_list('UCsn6cjffsvyOZCZxvGoJxGg')\n",
    "json.loads(RESP.content)['items'][0]['brandingSettings']['channel']['featuredChannelsUrls']"
   ]
  },
  {
   "cell_type": "code",
   "execution_count": null,
   "metadata": {},
   "outputs": [],
   "source": [
    "# Get back featured Channels list (might be empty/non-existent)\n",
    "json.loads(RESP.content)['items'][0]['brandingSettings']['channel']['featuredChannelsUrls']"
   ]
  },
  {
   "cell_type": "code",
   "execution_count": null,
   "metadata": {},
   "outputs": [],
   "source": [
    "search_keys = ['title', 'description', 'publishedAt', 'country']\n",
    "{key:json.loads(RESP.content)['items'][0]['snippet'][key] for key in search_keys}"
   ]
  },
  {
   "cell_type": "code",
   "execution_count": null,
   "metadata": {},
   "outputs": [],
   "source": [
    "assert RESP.ok\n",
    "RESP.status_code\n"
   ]
  }
 ],
 "metadata": {
  "kernelspec": {
   "display_name": "Python 3",
   "language": "python",
   "name": "python3"
  },
  "language_info": {
   "codemirror_mode": {
    "name": "ipython",
    "version": 3
   },
   "file_extension": ".py",
   "mimetype": "text/x-python",
   "name": "python",
   "nbconvert_exporter": "python",
   "pygments_lexer": "ipython3",
   "version": "3.7.7"
  }
 },
 "nbformat": 4,
 "nbformat_minor": 4
}
