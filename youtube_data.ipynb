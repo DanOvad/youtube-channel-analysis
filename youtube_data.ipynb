{
 "cells": [
  {
   "cell_type": "markdown",
   "metadata": {},
   "source": [
    "# YouTube Data API v3"
   ]
  },
  {
   "cell_type": "code",
   "execution_count": 2,
   "metadata": {},
   "outputs": [],
   "source": [
    "import requests\n",
    "import json\n",
    "\n",
    "import pandas as pd\n",
    "\n",
    "# api_key is stored in config.py\n",
    "import config"
   ]
  },
  {
   "cell_type": "markdown",
   "metadata": {},
   "source": [
    "### 1 - Youtube Search (query, n)\n",
    "    Returns list of channel dictionaries\n",
    "### 2 - Youtube Channel List\n",
    "    Returns details on a specific channel\n",
    "#### A - Request channel details (channelId)\n",
    "    Returns a json dictionary for a specific channel Id\n",
    "#### B - Run Channel List (list of channelIds)\n",
    "    Returns a list of dictionaries per channel"
   ]
  },
  {
   "cell_type": "markdown",
   "metadata": {},
   "source": [
    "Search method iterating using tokens to get more than 50 results. \n",
    "\n",
    "Uses requests to grab type=channel, part=snippet, order=?;\n",
    "\n",
    "Creates an empty list, extends the list with the json's reponse items (50 at a time)."
   ]
  },
  {
   "cell_type": "code",
   "execution_count": 43,
   "metadata": {},
   "outputs": [
    {
     "name": "stdout",
     "output_type": "stream",
     "text": [
      "0 20\n"
     ]
    }
   ],
   "source": [
    "# Search for channels by a specific query\n",
    "def request_youtube_search_channels(query, n):\n",
    "    '''Returns a list of n channels that match the query.\\n\n",
    "    Uses /youtube/v3/search'''\n",
    "    \n",
    "    # Logic to determine maxResults parameter\n",
    "    \n",
    "    # Empty list to store 50 items from each response\n",
    "    channel_list = list()\n",
    "    \n",
    "    nextPageToken = ''\n",
    "\n",
    "    while len(channel_list)<n:\n",
    "        # Debugging\n",
    "        print(len(channel_list), n)\n",
    "        \n",
    "        # Logic for determining maxResults\n",
    "        \n",
    "        # Create request object\n",
    "        resp = requests.get(\n",
    "            'https://www.googleapis.com/youtube/v3/search',\n",
    "            params=dict(part='snippet', \n",
    "                        type='channel',\n",
    "                        maxResults=20,\n",
    "                        pageToken=nextPageToken,\n",
    "                        q=query,\n",
    "                        key=config.api_key)\n",
    "        )\n",
    "        nextPageToken = json.loads(resp.content)['nextPageToken']\n",
    "        channel_list.extend(json.loads(resp.content)['items'])\n",
    "        \n",
    "    return channel_list\n",
    "\n",
    "CHANNEL_LIST = request_youtube_search_channels('Corridor',20)\n",
    "\n",
    "# Extract Channel Ids from the list of dictionaries\n",
    "CHANNELID_LIST = [channel['snippet']['channelId'] for channel in CHANNEL_LIST]"
   ]
  },
  {
   "cell_type": "markdown",
   "metadata": {},
   "source": [
    "Function to retrieve channel details by channelId. Returns the entire dictionary from the json response object."
   ]
  },
  {
   "cell_type": "code",
   "execution_count": 23,
   "metadata": {},
   "outputs": [],
   "source": [
    "# Get channel details and snippet\n",
    "def request_channel_list(channelId):\n",
    "    resp = requests.get(\n",
    "        'https://www.googleapis.com/youtube/v3/channels',\n",
    "        params=dict(part='contentDetails, snippet, statistics, brandingSettings, topicDetails, status, id, contentOwnerDetails',\n",
    "                id=channelId,\n",
    "                key=config.api_key),\n",
    "    )\n",
    "    return json.loads(resp.content)\n",
    "# Debug\n",
    "# a = request_channel_list('UCsn6cjffsvyOZCZxvGoJxGg') # spaceX UCtI0Hodo5o5dUb67FeUjDeA # James Hoffman UCMb0O2CdPBNi-QqPk5T3gsQ"
   ]
  },
  {
   "cell_type": "code",
   "execution_count": 31,
   "metadata": {},
   "outputs": [],
   "source": [
    "# Returns a list of json dictionaries for a given list of channelIds\n",
    "# Iteratively runs requests for channel details and retrieves detail items\n",
    "\n",
    "def run_channel_list(channelId_list):\n",
    "    \n",
    "    # Instantiate empty channel details list\n",
    "    channel_details_list = list()\n",
    "    \n",
    "    # Loop over each channelId in channelId_list\n",
    "    for channelId in channelId_list:\n",
    "        \n",
    "        # Extend channel details list with each channels json dictionary\n",
    "        channel_details_list.extend(request_channel_list(channelId)['items'])\n",
    "        \n",
    "    return channel_details_list\n",
    "\n",
    "CHANNEL_DETAILS_LIST = run_channel_list(CHANNELID_LIST)"
   ]
  },
  {
   "cell_type": "code",
   "execution_count": 95,
   "metadata": {},
   "outputs": [],
   "source": [
    "# Returns a list of dictionaries ready to be loaded into a dataframe\n",
    "# Transforms a list of json dictionaries into workable dictionaries for dataframe\n",
    "\n",
    "def extract_channel_details(details_list):\n",
    "    # Instantite empty channels details list for new dictionary format\n",
    "    channel_details_list = list()\n",
    "    \n",
    "    # Loop over each channel's json dictionary in details_list\n",
    "    for channel in details_list:\n",
    "        # Instantiate new details dictionary; in series update the dictionary to include relevant details\n",
    "        channel_details_dict = {}\n",
    "        channel_details_dict.update(channel['snippet'])\n",
    "        channel_details_dict.update(channel['contentDetails'])\n",
    "        channel_details_dict.update(channel['topicDetails'])\n",
    "        channel_details_dict.update(channel['status'])\n",
    "        channel_details_dict.update(channel['statistics'])\n",
    "        channel_details_dict.update(channel['brandingSettings']['channel'])\n",
    "        \n",
    "        # Append the added channel's new dictionary format to channel details list\n",
    "        channel_details_list.append(channel_details_dict)\n",
    "    return channel_details_list\n",
    "\n",
    "extract_channel_details(CHANNEL_DETAILS_LIST)"
   ]
  },
  {
   "cell_type": "markdown",
   "metadata": {},
   "source": [
    "Need to change this to extract from a list of more than 50 dictionaries rather than a response object\n",
    "\n",
    "Everything below this is antiquated"
   ]
  },
  {
   "cell_type": "code",
   "execution_count": null,
   "metadata": {},
   "outputs": [],
   "source": [
    "# Function to return a dataframe from a response object\n",
    "def extract_youtube_search():\n",
    "\n",
    "    # Select keys to use from searchResult object\n",
    "    keys_list = ['publishedAt','channelId','title','description','channelTitle','publishTime']\n",
    "    \n",
    "    # empty channel list\n",
    "    channel_list = list()\n",
    "    \n",
    "    # loop over the list of dictionaries and extract \n",
    "    for entry in range(0,len(json.loads(RESP.content)['items'])):\n",
    "        channel_list.append({key:json.loads(RESP.content)['items'][entry]['snippet'][key] for key in keys_list})\n",
    "    # create a dataframe of each snippet\n",
    "    df = pd.DataFrame(channel_list)\n",
    "    return df\n",
    "\n",
    "CHANNEL_DF = extract_youtube_search()\n",
    "CHANNEL_DF"
   ]
  }
 ],
 "metadata": {
  "kernelspec": {
   "display_name": "Python 3",
   "language": "python",
   "name": "python3"
  },
  "language_info": {
   "codemirror_mode": {
    "name": "ipython",
    "version": 3
   },
   "file_extension": ".py",
   "mimetype": "text/x-python",
   "name": "python",
   "nbconvert_exporter": "python",
   "pygments_lexer": "ipython3",
   "version": "3.7.7"
  }
 },
 "nbformat": 4,
 "nbformat_minor": 4
}
