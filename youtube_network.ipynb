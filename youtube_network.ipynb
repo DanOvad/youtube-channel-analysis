{
 "cells": [
  {
   "cell_type": "markdown",
   "metadata": {},
   "source": [
    "# YouTube Data API v3"
   ]
  },
  {
   "cell_type": "markdown",
   "metadata": {},
   "source": [
    "### Python Libraries"
   ]
  },
  {
   "cell_type": "code",
   "execution_count": 1,
   "metadata": {},
   "outputs": [],
   "source": [
    "import requests\n",
    "import json\n",
    "\n",
    "import pandas as pd\n",
    "import numpy as np\n",
    "import matplotlib.pyplot as plt\n",
    "import seaborn as sns\n",
    "\n",
    "import networkx as nx\n",
    "\n",
    "import collections"
   ]
  },
  {
   "cell_type": "markdown",
   "metadata": {},
   "source": [
    "### Imported Scripts"
   ]
  },
  {
   "cell_type": "code",
   "execution_count": 2,
   "metadata": {},
   "outputs": [],
   "source": [
    "    # api_key is stored in config.py\n",
    "import config\n",
    "\n",
    "    # Functions for making youtube_requests\n",
    "import youtube_requests\n",
    "\n",
    "    # Functions for data processing\n",
    "import data_processing\n",
    "\n",
    "    # Functions for creating a network graph    \n",
    "import network_graphs\n",
    "\n",
    "import importlib\n",
    "#importlib.reload(network_graphs)"
   ]
  },
  {
   "cell_type": "code",
   "execution_count": 3,
   "metadata": {},
   "outputs": [],
   "source": [
    "%load_ext autoreload"
   ]
  },
  {
   "cell_type": "code",
   "execution_count": 4,
   "metadata": {},
   "outputs": [],
   "source": [
    "%autoreload 1"
   ]
  },
  {
   "cell_type": "code",
   "execution_count": 7,
   "metadata": {},
   "outputs": [],
   "source": [
    "%aimport network_graphs\n",
    "%aimport youtube_requests\n",
    "%aimport data_processing"
   ]
  },
  {
   "cell_type": "markdown",
   "metadata": {},
   "source": [
    "# YouTube Channel Details by Search\n",
    "\n",
    "Returns a details list of channels for a specific search query and number of requested results."
   ]
  },
  {
   "cell_type": "code",
   "execution_count": 9,
   "metadata": {},
   "outputs": [
    {
     "name": "stdout",
     "output_type": "stream",
     "text": [
      "Already seen this query\n"
     ]
    },
    {
     "data": {
      "text/plain": [
       "[('UCNSeDrWRGxx5p2l3tj7RWQw', 'Corridor Cast'),\n",
       " ('UCsn6cjffsvyOZCZxvGoJxGg', 'Corridor'),\n",
       " ('UCSpFnDQr88xCZ80N-X7t0nQ', 'Corridor Crew'),\n",
       " ('UC4LhdXVO_dzaqFb4h4HA98g', 'Knowledge Corridor'),\n",
       " ('UC16o6_AliZq7MmDV3dDtBqg', 'UPSC PSC Corridor'),\n",
       " ('UC2tg-G5YhVlrpt5fyH32-AA', 'Corridor 6 Films'),\n",
       " ('UCI4Wh0EQPjGx2jJLjmTsFBQ', 'Node'),\n",
       " ('UCb8ewylk7d2M_1dLGEiFmuQ', 'Guillotine Channel'),\n",
       " ('UCtpHXH-3ZbgWz8JEkanQ8kQ', 'Corridor Band'),\n",
       " ('UClswq1QEA4x6u0zQ2wjvCuA', 'Corridor - Topic')]"
      ]
     },
     "execution_count": 9,
     "metadata": {},
     "output_type": "execute_result"
    }
   ],
   "source": [
    "# Get a list of dictionaries, where each dictionary represents details for a specific channel\n",
    "CHANNELS_DETAILS_ITEMS_LIST = youtube_requests.youtube_channel_details_by_search('Corridor',10)\n",
    "\n",
    "# Graph the network of channels\n",
    "G= network_graphs.create_nx_graph(CHANNELS_DETAILS_ITEMS_LIST, directed=True)\n",
    "\n",
    "# Extract a columnar list of channel details\n",
    "#CHANNELS_DETAILS_LIST = data_processing.extract_channel_details(CHANNELS_DETAILS_ITEMS_LIST)\n",
    "\n",
    "# Create a dataframe\n",
    "#DF = data_processing.create_df_from_details_list(CHANNELS_DETAILS_LIST)\n",
    "\n",
    "# Graph G\n",
    "#fig = network_graphs.graph_nx_graph(G)\n",
    "#plt.close()\n",
    "\n",
    "[(channel['id'], channel['snippet']['title']) for channel in CHANNELS_DETAILS_ITEMS_LIST]"
   ]
  },
  {
   "cell_type": "code",
   "execution_count": 10,
   "metadata": {},
   "outputs": [],
   "source": [
    "CORRIDOR_FIVE = ['UCNSeDrWRGxx5p2l3tj7RWQw',\n",
    "                'UCsn6cjffsvyOZCZxvGoJxGg',\n",
    "                'UCSpFnDQr88xCZ80N-X7t0nQ',\n",
    "                'UCI4Wh0EQPjGx2jJLjmTsFBQ',\n",
    "                'UCb8ewylk7d2M_1dLGEiFmuQ']"
   ]
  },
  {
   "cell_type": "code",
   "execution_count": 11,
   "metadata": {},
   "outputs": [
    {
     "data": {
      "text/plain": [
       "'UCI4Wh0EQPjGx2jJLjmTsFBQUCNSeDrWRGxx5p2l3tj7RWQwUCSpFnDQr88xCZ80N-X7t0nQUCb8ewylk7d2M_1dLGEiFmuQUCsn6cjffsvyOZCZxvGoJxGg'"
      ]
     },
     "execution_count": 11,
     "metadata": {},
     "output_type": "execute_result"
    }
   ],
   "source": [
    "CORRIDOR_FIVE.sort()\n",
    "''.join(CORRIDOR_FIVE)"
   ]
  },
  {
   "cell_type": "code",
   "execution_count": null,
   "metadata": {},
   "outputs": [],
   "source": [
    "with open('data/network_cache.json','w') as json_file:\n",
    "            json.dump(CHANNEL_NETWORK_CACHE, json_file)"
   ]
  },
  {
   "cell_type": "code",
   "execution_count": null,
   "metadata": {},
   "outputs": [],
   "source": [
    "with open('data/network_cache.json','r') as json_file:\n",
    "        CHANNEL_NETWORK_CACHE = json.load(json_file)"
   ]
  },
  {
   "cell_type": "code",
   "execution_count": null,
   "metadata": {},
   "outputs": [],
   "source": [
    "CORRIDOR_FIVE"
   ]
  },
  {
   "cell_type": "code",
   "execution_count": null,
   "metadata": {},
   "outputs": [],
   "source": [
    "#CORRIDOR = {channel['id']:channel['snippet']['title'] for channel in CHANNELS_DETAILS_ITEMS_LIST}\n",
    "CORRIDOR_FIVE = ['UCNSeDrWRGxx5p2l3tj7RWQw',\n",
    "                'UCsn6cjffsvyOZCZxvGoJxGg',\n",
    "                'UCSpFnDQr88xCZ80N-X7t0nQ',\n",
    "                'UCI4Wh0EQPjGx2jJLjmTsFBQ',\n",
    "                'UCb8ewylk7d2M_1dLGEiFmuQ']"
   ]
  },
  {
   "cell_type": "markdown",
   "metadata": {},
   "source": [
    "# Youtube Channel Details by Network"
   ]
  },
  {
   "cell_type": "markdown",
   "metadata": {},
   "source": [
    "-------"
   ]
  },
  {
   "cell_type": "code",
   "execution_count": null,
   "metadata": {},
   "outputs": [],
   "source": [
    "%%time\n",
    "# Get a list of dictionaries, where each dictionary represents details for a specific channel\n",
    "CHANNELS_DETAILS_ITEMS_LIST = youtube_requests.youtube_channel_details_by_network(CORRIDOR_FIVE, 2)\n",
    "\n",
    "# Graph the network of channels\n",
    "G = network_graphs.create_nx_graph(CHANNELS_DETAILS_ITEMS_LIST, True)\n",
    "\n",
    "# Extract a columnar list of channel details\n",
    "CHANNELS_DETAILS_LIST = data_processing.extract_channel_details(CHANNELS_DETAILS_ITEMS_LIST)\n",
    "\n",
    "# Create a dataframe\n",
    "DF = data_processing.create_df_from_details_list(CHANNELS_DETAILS_LIST)\n",
    "\n",
    "# Graph G\n",
    "network_graphs.graph_nx_graph(G)"
   ]
  },
  {
   "cell_type": "code",
   "execution_count": null,
   "metadata": {},
   "outputs": [],
   "source": [
    "[channel['title'] for channel in [G.nodes[node] for node in G.nodes()] if channel['distance'] == 0]"
   ]
  },
  {
   "cell_type": "code",
   "execution_count": null,
   "metadata": {},
   "outputs": [],
   "source": [
    "fig = network_graphs.plotly_network_graph(G,'Connections')\n",
    "fig"
   ]
  },
  {
   "cell_type": "markdown",
   "metadata": {},
   "source": [
    "## Page Rank, In-Degree centrality, betweeness centrality, and indegree value"
   ]
  },
  {
   "cell_type": "code",
   "execution_count": null,
   "metadata": {},
   "outputs": [],
   "source": [
    "page_rank_series = pd.Series(data = network_graphs.simple_page_rank(G), index = list(G.nodes().keys()))\n",
    "DF['page_rank'] = DF['id'].map(lambda x:page_rank_series[x])\n",
    "\n",
    "betweenness_dict = nx.betweenness_centrality(G)\n",
    "DF['betweenness_centrality'] = DF['id'].map(lambda x:betweenness_dict[x])\n",
    "\n",
    "in_degree_centrality_dict = nx.in_degree_centrality(G)\n",
    "DF['in_degree_centrality'] = DF['id'].map(lambda x:in_degree_centrality_dict[x])\n",
    "\n",
    "in_degree_dict = {node:G.in_degree()[node] for node in G.nodes()}\n",
    "DF['in_degree'] = DF['id'].map(lambda x:in_degree_dict[x])\n",
    "\n",
    "degree_dict = {node:G.degree()[node] for node in G.nodes()}\n",
    "DF['degree'] = DF['id'].map(lambda x:degree_dict[x])"
   ]
  },
  {
   "cell_type": "markdown",
   "metadata": {},
   "source": [
    "Sort channels by page rank"
   ]
  },
  {
   "cell_type": "code",
   "execution_count": null,
   "metadata": {},
   "outputs": [],
   "source": []
  },
  {
   "cell_type": "code",
   "execution_count": null,
   "metadata": {},
   "outputs": [],
   "source": [
    "features = ['title','subscriberCount','viewCount','page_rank','featuredChannelsCount','degree','in_degree','betweenness_centrality','in_degree_centrality']"
   ]
  },
  {
   "cell_type": "code",
   "execution_count": null,
   "metadata": {},
   "outputs": [],
   "source": [
    "DF[['title','subscriberCount','viewCount','page_rank','featuredChannelsCount','degree','in_degree','betweenness_centrality','in_degree_centrality']].sort_values(\n",
    "    'page_rank', ascending=False).head(8)"
   ]
  },
  {
   "cell_type": "markdown",
   "metadata": {},
   "source": [
    "Sort channels by betweenness centrality."
   ]
  },
  {
   "cell_type": "code",
   "execution_count": null,
   "metadata": {},
   "outputs": [],
   "source": [
    "DF[['title','subscriberCount','viewCount','page_rank','featuredChannelsCount','degree','in_degree','betweenness_centrality','in_degree_centrality']].sort_values(\n",
    "    'betweenness_centrality', ascending=False).head(8)"
   ]
  },
  {
   "cell_type": "markdown",
   "metadata": {},
   "source": [
    "Sort channels by in_degree centrality."
   ]
  },
  {
   "cell_type": "code",
   "execution_count": null,
   "metadata": {},
   "outputs": [],
   "source": [
    "DF[['title','subscriberCount','viewCount','page_rank','featuredChannelsCount','degree','in_degree','betweenness_centrality','in_degree_centrality']].sort_values(\n",
    "    'in_degree_centrality', ascending=False).head(8)"
   ]
  },
  {
   "cell_type": "markdown",
   "metadata": {},
   "source": [
    "## Strongly Connected Components"
   ]
  },
  {
   "cell_type": "code",
   "execution_count": null,
   "metadata": {},
   "outputs": [],
   "source": [
    "scc_list = [scc for scc in nx.strongly_connected_components(G)]"
   ]
  },
  {
   "cell_type": "code",
   "execution_count": null,
   "metadata": {},
   "outputs": [],
   "source": [
    "scc_list[42]"
   ]
  },
  {
   "cell_type": "code",
   "execution_count": null,
   "metadata": {},
   "outputs": [],
   "source": [
    "H = G.subgraph(list(scc_list[42]))"
   ]
  },
  {
   "cell_type": "markdown",
   "metadata": {},
   "source": [
    "Plot of our subgraph of strongly connected components"
   ]
  },
  {
   "cell_type": "code",
   "execution_count": null,
   "metadata": {},
   "outputs": [],
   "source": [
    "network_graphs.graph_nx_graph(H)\n",
    "network_graphs.plotly_network_graph(H)"
   ]
  },
  {
   "cell_type": "code",
   "execution_count": null,
   "metadata": {},
   "outputs": [],
   "source": []
  },
  {
   "cell_type": "markdown",
   "metadata": {},
   "source": [
    "## Instantiate a cache for both queries and networks"
   ]
  },
  {
   "cell_type": "markdown",
   "metadata": {},
   "source": [
    "### Queries"
   ]
  },
  {
   "cell_type": "markdown",
   "metadata": {},
   "source": [
    "### Networks"
   ]
  },
  {
   "cell_type": "code",
   "execution_count": null,
   "metadata": {},
   "outputs": [],
   "source": [
    "with open('data/corridor_search.json','r') as json_file:\n",
    "    CORRIDOR_SEARCH_10 = json.load(json_file)"
   ]
  },
  {
   "cell_type": "code",
   "execution_count": null,
   "metadata": {},
   "outputs": [],
   "source": [
    "QUERY_CACHE = {'corridor':CORRIDOR_SEARCH_10}\n",
    "\n",
    "with open('data/query_cache.json','w') as fout:\n",
    "    json.dump(QUERY_CACHE, fout)"
   ]
  }
 ],
 "metadata": {
  "kernelspec": {
   "display_name": "Python 3",
   "language": "python",
   "name": "python3"
  },
  "language_info": {
   "codemirror_mode": {
    "name": "ipython",
    "version": 3
   },
   "file_extension": ".py",
   "mimetype": "text/x-python",
   "name": "python",
   "nbconvert_exporter": "python",
   "pygments_lexer": "ipython3",
   "version": "3.7.7"
  }
 },
 "nbformat": 4,
 "nbformat_minor": 4
}
